{
 "cells": [
  {
   "cell_type": "code",
   "execution_count": 1,
   "metadata": {},
   "outputs": [
    {
     "name": "stdout",
     "output_type": "stream",
     "text": [
      "apple\n",
      "pune\n"
     ]
    }
   ],
   "source": [
    "my_dict = {'fruit':'apple', 'city':'pune'}\n",
    "print(my_dict['fruit'])\n",
    "print(my_dict['city'])\n",
    "\n",
    "\n",
    "#A dictionary in Python is a collection of key-value pairs. Each key is connected to a value, and you can use a key to access the value associated with that key. A key’s value can be a number, a string, a list, or even another dictionary.\n",
    "\n",
    "# Key == fruit and city\n",
    "# Value == apple and pune"
   ]
  },
  {
   "cell_type": "code",
   "execution_count": 4,
   "metadata": {},
   "outputs": [
    {
     "name": "stdout",
     "output_type": "stream",
     "text": [
      " I ate today apple.\n"
     ]
    }
   ],
   "source": [
    "eating = my_dict['fruit']\n",
    "print(\" I ate today\" + \" \" + eating + \".\")"
   ]
  },
  {
   "cell_type": "code",
   "execution_count": 10,
   "metadata": {},
   "outputs": [
    {
     "name": "stdout",
     "output_type": "stream",
     "text": [
      "{'fruit': 'apple', 'city': 'pune'}\n",
      "{'fruit': 'apple', 'city': 'pune', 'new_fruit': 'banana', 'new_city': 'bombay'}\n"
     ]
    }
   ],
   "source": [
    "my_dict = {'fruit':'apple', 'city':'pune'}\n",
    "print(my_dict)\n",
    "\n",
    "my_dict['new_fruit']='banana'\n",
    "my_dict['new_city'] ='bombay'\n",
    "\n",
    "print(my_dict)"
   ]
  },
  {
   "cell_type": "code",
   "execution_count": 12,
   "metadata": {},
   "outputs": [
    {
     "name": "stdout",
     "output_type": "stream",
     "text": [
      "{'fruit': 'orange', 'city': 'jammu'}\n"
     ]
    }
   ],
   "source": [
    "my_dict = {} # dict has {} and not []\n",
    "\n",
    "# here create empty dict and go on and add values.\n",
    "\n",
    "my_dict['fruit'] = 'orange'\n",
    "my_dict['city'] = 'jammu'\n",
    "\n",
    "print(my_dict)"
   ]
  },
  {
   "cell_type": "code",
   "execution_count": 15,
   "metadata": {},
   "outputs": [
    {
     "name": "stdout",
     "output_type": "stream",
     "text": [
      " I eat today apple.\n",
      " Now I eat  banana.\n",
      "{}\n"
     ]
    }
   ],
   "source": [
    "# modifying dict.\n",
    "\n",
    "my_dict = {'fruit' : 'apple'}\n",
    "print(\" I eat today\" + \" \" + my_dict['fruit'] + \".\")\n",
    "\n",
    "# now change key-value pair\n",
    "\n",
    "my_dict['fruit'] = 'banana'\n",
    "print(\" Now I eat \" + \" \" + my_dict['fruit'] + \".\")\n",
    "\n",
    "# now delete key-value pair\n",
    "\n",
    "del my_dict['fruit']\n",
    "print(my_dict)\n",
    "\n",
    "# after deleting it gives me empty dict.\n"
   ]
  },
  {
   "cell_type": "code",
   "execution_count": 16,
   "metadata": {},
   "outputs": [
    {
     "name": "stdout",
     "output_type": "stream",
     "text": [
      " Following are fruits:\n",
      "apple\n",
      "banana\n",
      "mango\n",
      "orange\n"
     ]
    }
   ],
   "source": [
    "# looping inside the dictionary\n",
    "\n",
    "favorite_fruits = {\n",
    "    'a': 'apple',\n",
    "    'b': 'banana',\n",
    "    'm':'mango',\n",
    "    'o':'orange'\n",
    "}\n",
    "\n",
    "print(\" Following are fruits:\")\n",
    "for fruit in favorite_fruits.values():\n",
    "    print(fruit)"
   ]
  },
  {
   "cell_type": "code",
   "execution_count": 17,
   "metadata": {},
   "outputs": [
    {
     "name": "stdout",
     "output_type": "stream",
     "text": [
      "{'a': 'apple', 'b': 'banana'}\n",
      "{'m': 'mango', 'o': 'orange'}\n"
     ]
    }
   ],
   "source": [
    "# dict inside dict\n",
    "\n",
    "fruit1 = {'a':'apple','b':'banana'} # dict 1\n",
    "fruit2 = {'m': 'mango','o':'orange'} # dict 2\n",
    "\n",
    "fruits = [fruit1,fruit2] # dict 3 ( dict 3 = dict 1 , dict 2 )\n",
    "\n",
    "for fruit in fruits:\n",
    "    print(fruit)"
   ]
  },
  {
   "cell_type": "code",
   "execution_count": 26,
   "metadata": {
    "scrolled": true
   },
   "outputs": [
    {
     "name": "stdout",
     "output_type": "stream",
     "text": [
      "{'a': 'apple', 'b': 'banana'}\n",
      "{'a': 'apple', 'b': 'banana'}\n",
      "{'a': 'apple', 'b': 'banana'}\n",
      "{'a': 'apple', 'b': 'banana'}\n",
      "{'a': 'apple', 'b': 'banana'}\n",
      "{'a': 'apple', 'b': 'banana'}\n",
      "{'a': 'apple', 'b': 'banana'}\n",
      "{'a': 'apple', 'b': 'banana'}\n",
      "{'a': 'apple', 'b': 'banana'}\n",
      "{'a': 'apple', 'b': 'banana'}\n",
      "...\n"
     ]
    }
   ],
   "source": [
    "# create number of apples for for everyone.\n",
    "\n",
    "fruits = []\n",
    "\n",
    "# make 20 apples for everyone\n",
    "\n",
    "for fruit in range(20):\n",
    "    fruit_1 = {'a':'apple'}\n",
    "    fruits.append(fruit1)\n",
    "    \n",
    "# now print them\n",
    "\n",
    "for fruit in fruits[:10]:\n",
    "    print(fruit)\n",
    "print(\"...\")\n",
    "\n",
    "\n",
    "    "
   ]
  },
  {
   "cell_type": "code",
   "execution_count": 32,
   "metadata": {},
   "outputs": [
    {
     "name": "stdout",
     "output_type": "stream",
     "text": [
      "\n",
      "a  favorite languages are:\n",
      "python\n",
      "perl\n",
      "\n",
      "b  favorite languages are:\n",
      "java\n",
      "C\n",
      "\n",
      "c  favorite languages are:\n",
      "C++\n",
      "Go\n",
      "\n",
      "d  favorite languages are:\n",
      "Julia\n",
      "Rust\n"
     ]
    }
   ],
   "source": [
    "favorite_languages = {\n",
    "    'a':['python', 'perl'],\n",
    "    'b': ['java', 'C'],\n",
    "    'c': ['C++', 'Go'],\n",
    "    'd': ['Julia','Rust'],\n",
    "}\n",
    "\n",
    "for letter,languages in favorite_languages.items():\n",
    "    print(\"\\n\" + letter + \" \" + \" favorite languages are:\")\n",
    "    for language in languages:\n",
    "        print(language)\n",
    "\n"
   ]
  },
  {
   "cell_type": "code",
   "execution_count": null,
   "metadata": {},
   "outputs": [],
   "source": []
  }
 ],
 "metadata": {
  "kernelspec": {
   "display_name": "Python 3",
   "language": "python",
   "name": "python3"
  },
  "language_info": {
   "codemirror_mode": {
    "name": "ipython",
    "version": 3
   },
   "file_extension": ".py",
   "mimetype": "text/x-python",
   "name": "python",
   "nbconvert_exporter": "python",
   "pygments_lexer": "ipython3",
   "version": "3.7.4"
  }
 },
 "nbformat": 4,
 "nbformat_minor": 2
}
