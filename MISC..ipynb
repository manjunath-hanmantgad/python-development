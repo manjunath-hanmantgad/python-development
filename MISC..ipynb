{
 "cells": [
  {
   "cell_type": "code",
   "execution_count": 15,
   "metadata": {
    "scrolled": false
   },
   "outputs": [
    {
     "name": "stdout",
     "output_type": "stream",
     "text": [
      "My dog name is :Kutta.\n",
      "Whaaat ? my dog's age is: 100!\n",
      "Kutta is now sitting and looking at me.\n",
      "Kutta is rolling over to other side .\n",
      "------\n",
      "\n",
      "My dog name is :Kutta.\n",
      "\n",
      "Whaaat ? my dog's age is: 100!\n",
      "Kutta is now sitting and looking at me.\n",
      "----\n",
      "\n",
      "Your dog: Kutti is so hideous.\n",
      "\n",
      "Your dog's age is : 200 wait are you kidding me? \n",
      "Kutti is now sitting and looking at me.\n"
     ]
    }
   ],
   "source": [
    "# classes\n",
    "\n",
    "class Dog():\n",
    "    def __init__(self,name, age):\n",
    "        self.name = name \n",
    "        self.age = age \n",
    "    def sit(self): \n",
    "        \"\"\"characteristic of dog which sits and rolls over.\"\"\"\n",
    "        print(self.name + \" is now sitting and looking at me.\")\n",
    "    def roll_over(self):\n",
    "        \"\"\"the dog is rolling over\"\"\"\n",
    "        print(self.name + \" \" + \"is rolling over to other side .\")\n",
    "        \n",
    "#function which is part of class is called method. __init__ is python method which is run automatically whenever we create a new instance.\n",
    "#self : when python calls the __init__method , this method will automatically pass the self.which is reference to instance itself.\n",
    "#self gives individual instance access to elements in class like attributes and methods.\n",
    "#self makes the element available to whole class. \n",
    "\n",
    "# now passing name and age to the DOg class.\n",
    "\n",
    "\n",
    "my_dog = Dog('Kutta' , 100)\n",
    "\n",
    "print(\"My dog name is :\" + my_dog.name + \".\")\n",
    "print(\"Whaaat ? my dog's age is: \" + str(my_dog.age) + \"!\")\n",
    "\n",
    "# calling functions / actions : dog sitting and rolling.\n",
    "\n",
    "my_dog.sit()\n",
    "my_dog.roll_over()\n",
    "\n",
    "\n",
    "# creating multiple classes\n",
    "\n",
    "your_dog = Dog('Kutti' , 200)\n",
    "\n",
    "print(\"------\")\n",
    "print(\"\\nMy dog name is :\" + my_dog.name + \".\")\n",
    "print(\"\\nWhaaat ? my dog's age is: \" + str(my_dog.age) + \"!\")\n",
    "my_dog.sit()\n",
    "\n",
    "print(\"----\")\n",
    "\n",
    "print(\"\\nYour dog: \" + your_dog.name + \" \" + \"is so hideous.\" )\n",
    "print(\"\\nYour dog's age is : \" + str(your_dog.age) + \" \" + \"wait are you kidding me? \")\n",
    "your_dog.sit()"
   ]
  },
  {
   "cell_type": "code",
   "execution_count": 36,
   "metadata": {},
   "outputs": [
    {
     "name": "stdout",
     "output_type": "stream",
     "text": [
      "3.1415926535\n",
      "  8979323846\n",
      "  2643383279  \n"
     ]
    }
   ],
   "source": [
    "# reading data from file.\n",
    "# created a file clled pi_digits.txt in which stored valu of pi upto 30 decimal places in 3 lines.\n",
    "# read the value and display value of pi here from the file stored in local drive.\n",
    "\n",
    "with open('pi_digits.txt') as file_object:\n",
    "    contents = file_object.read()\n",
    "    print(contents)\n",
    "    \n",
    "# line - by - line explanation\n",
    "# to work with file , open read etc use open() function.It needs the name of the file to begin.\n",
    "# 'with' will close the file once its task is done.\n",
    "# '.read' method in contents line will help python read contents of file."
   ]
  },
  {
   "cell_type": "code",
   "execution_count": 37,
   "metadata": {},
   "outputs": [],
   "source": [
    "# now what if pi_digits.txt is in some other folder but inside your parent folder ?\n",
    "# linking of folder path..\n",
    "\n",
    "# with open('parent folder name/filename.txt') as file_object :\n",
    "# this is how to link parent folder and our folder or file."
   ]
  },
  {
   "cell_type": "code",
   "execution_count": 38,
   "metadata": {},
   "outputs": [],
   "source": [
    "# also we can define an absolute file path , which when our program can be stored anywhere in our pc.\n",
    "# file_path is the variable used.\n",
    "\n",
    "# lines : \n",
    "# file_path = '/home/xxyyzz/others/our_file/filename.txt'\n",
    "# with open(file_path) as file_object: \n",
    "\n",
    "# above lines show how to link folders."
   ]
  },
  {
   "cell_type": "code",
   "execution_count": 39,
   "metadata": {},
   "outputs": [
    {
     "name": "stdout",
     "output_type": "stream",
     "text": [
      "3.1415926535\n",
      "\n",
      "  8979323846\n",
      "\n",
      "  2643383279  \n"
     ]
    }
   ],
   "source": [
    "# reading file line by line\n",
    "\n",
    "filename = 'pi_digits.txt'\n",
    "with open(filename) as file_object:\n",
    "    for line in file_object:\n",
    "        print(line)"
   ]
  },
  {
   "cell_type": "code",
   "execution_count": 41,
   "metadata": {},
   "outputs": [
    {
     "name": "stdout",
     "output_type": "stream",
     "text": [
      "3.141592653589793238462643383279\n",
      "32\n"
     ]
    }
   ],
   "source": [
    "# working with contents inside the file.\n",
    "# there are 3 lines in text file ; now change this to a string which has single line.\n",
    "\n",
    "filename = 'pi_digits.txt'\n",
    "with open(filename) as file_object:\n",
    "    lines = file_object.readlines()\n",
    "pi_string = ''\n",
    "for line in lines:\n",
    "    pi_string += line.strip()\n",
    "print(pi_string)\n",
    "print(len(pi_string))\n",
    "\n",
    "# this prints value of pi in 1 line.\n",
    "\n",
    "# lines = file_object.readlines() : this will read content of file line bu line and stores it in list.\n",
    "# line.rstrip() is used to cut the whitespaces.\n",
    "# pi_string variable is created to hold the value of digits of pi.\n",
    "# pi_string+= :: this will add each line of digit to pi_string and remove newline character from each line."
   ]
  },
  {
   "cell_type": "code",
   "execution_count": 42,
   "metadata": {},
   "outputs": [],
   "source": [
    "# writing lines in file.\n",
    "# when file is open in 'w' then it will first erase the existing content of file and then enable for write mode.\n",
    "\n",
    "filename = 'newfile.txt'\n",
    "with open(filename , 'w') as file_object:\n",
    "    file_object.write(\"Thanos and Joker.\")\n",
    "    file_object.write(\"Are my fav. characters\")"
   ]
  },
  {
   "cell_type": "code",
   "execution_count": 44,
   "metadata": {},
   "outputs": [],
   "source": [
    "# to keep the same file but to add lines in the file. use append.\n",
    "\n",
    "filename = 'newfile.txt'\n",
    "with open(filename ,'a')  as file_object:\n",
    "    file_object.write(\"Tony and Thor are okk.\\n\")\n",
    "    file_object.write(\"Still Thanos and Joker forever.\\n\")"
   ]
  },
  {
   "cell_type": "code",
   "execution_count": 48,
   "metadata": {},
   "outputs": [
    {
     "name": "stdout",
     "output_type": "stream",
     "text": [
      "Get your math basics right!!\n"
     ]
    }
   ],
   "source": [
    "# exceptions are handled using try-exception blocks.\n",
    "\n",
    "# zerodvision error\n",
    "\n",
    "# print(5/0)\n",
    "\n",
    "# here \"ZeroDivisionError: division by zero\" is exception.\n",
    "\n",
    "# now try-except block.\n",
    "\n",
    "try:\n",
    "    print(10/0)\n",
    "except ZeroDivisionError:\n",
    "    print(\"Get your math basics right!!\")"
   ]
  },
  {
   "cell_type": "code",
   "execution_count": 50,
   "metadata": {},
   "outputs": [
    {
     "name": "stdout",
     "output_type": "stream",
     "text": [
      "Tell me your 2 numbers and I will divide them\n",
      "Enter q to quit.\n",
      "\n",
      "First Number : 5\n",
      "\n",
      "Second number : 9\n",
      "0.5555555555555556\n",
      "\n",
      "First Number : q\n"
     ]
    }
   ],
   "source": [
    "print(\"Tell me your 2 numbers and I will divide them\")\n",
    "print(\"Enter q to quit.\")\n",
    "\n",
    "while True:\n",
    "    first_number = input(\"\\nFirst Number : \")\n",
    "    if first_number == 'q':\n",
    "        break\n",
    "    second_number = input(\"\\nSecond number : \")\n",
    "    try:\n",
    "        answer = int(first_number) / int(second_number)\n",
    "    except ZeroDivisionError:\n",
    "        print(\"Come on dont be so **** , give me another number \")\n",
    "    else:\n",
    "        print(answer)"
   ]
  },
  {
   "cell_type": "code",
   "execution_count": null,
   "metadata": {},
   "outputs": [],
   "source": []
  }
 ],
 "metadata": {
  "kernelspec": {
   "display_name": "Python 3",
   "language": "python",
   "name": "python3"
  },
  "language_info": {
   "codemirror_mode": {
    "name": "ipython",
    "version": 3
   },
   "file_extension": ".py",
   "mimetype": "text/x-python",
   "name": "python",
   "nbconvert_exporter": "python",
   "pygments_lexer": "ipython3",
   "version": "3.7.4"
  }
 },
 "nbformat": 4,
 "nbformat_minor": 2
}
