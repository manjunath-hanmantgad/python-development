{
 "cells": [
  {
   "cell_type": "markdown",
   "id": "affa54a3",
   "metadata": {},
   "source": [
    "## Python workbook"
   ]
  },
  {
   "cell_type": "code",
   "execution_count": 4,
   "id": "71e76e5d",
   "metadata": {},
   "outputs": [
    {
     "name": "stdout",
     "output_type": "stream",
     "text": [
      "I'm a guy\n"
     ]
    }
   ],
   "source": [
    "# syntax errata\n",
    "\n",
    "message = \"I'm a guy\"\n",
    "print(message)"
   ]
  },
  {
   "cell_type": "code",
   "execution_count": 5,
   "id": "3312b496",
   "metadata": {},
   "outputs": [
    {
     "ename": "SyntaxError",
     "evalue": "invalid syntax (<ipython-input-5-61064749f2fa>, line 1)",
     "output_type": "error",
     "traceback": [
      "\u001b[1;36m  File \u001b[1;32m\"<ipython-input-5-61064749f2fa>\"\u001b[1;36m, line \u001b[1;32m1\u001b[0m\n\u001b[1;33m    message = 'I'm a guy'\u001b[0m\n\u001b[1;37m                 ^\u001b[0m\n\u001b[1;31mSyntaxError\u001b[0m\u001b[1;31m:\u001b[0m invalid syntax\n"
     ]
    }
   ],
   "source": [
    "message = 'I'm a guy'\n",
    "print(message)"
   ]
  },
  {
   "cell_type": "markdown",
   "id": "18e0c8af",
   "metadata": {},
   "source": [
    "### Lists"
   ]
  },
  {
   "cell_type": "code",
   "execution_count": 6,
   "id": "2d1b40b9",
   "metadata": {},
   "outputs": [
    {
     "name": "stdout",
     "output_type": "stream",
     "text": [
      "['a', 'b', 'c']\n"
     ]
    }
   ],
   "source": [
    "list1 = ['a','b','c']\n",
    "print(list1)"
   ]
  },
  {
   "cell_type": "code",
   "execution_count": 7,
   "id": "33cfbb0c",
   "metadata": {},
   "outputs": [
    {
     "name": "stdout",
     "output_type": "stream",
     "text": [
      "b\n"
     ]
    }
   ],
   "source": [
    "print(list1[1])"
   ]
  },
  {
   "cell_type": "code",
   "execution_count": 8,
   "id": "45829cb5",
   "metadata": {},
   "outputs": [
    {
     "name": "stdout",
     "output_type": "stream",
     "text": [
      "c\n"
     ]
    }
   ],
   "source": [
    "print(list1[-1])"
   ]
  },
  {
   "cell_type": "code",
   "execution_count": 9,
   "id": "0fe71bad",
   "metadata": {},
   "outputs": [
    {
     "name": "stdout",
     "output_type": "stream",
     "text": [
      "['a', 'b', 'c']\n"
     ]
    }
   ],
   "source": [
    "print(list1[0:])"
   ]
  },
  {
   "cell_type": "code",
   "execution_count": 10,
   "id": "8a0e9c30",
   "metadata": {},
   "outputs": [
    {
     "name": "stdout",
     "output_type": "stream",
     "text": [
      "['a', 'b']\n"
     ]
    }
   ],
   "source": [
    "print(list1[:2])"
   ]
  },
  {
   "cell_type": "code",
   "execution_count": 11,
   "id": "8ec94654",
   "metadata": {},
   "outputs": [
    {
     "name": "stdout",
     "output_type": "stream",
     "text": [
      "['b', 'c']\n"
     ]
    }
   ],
   "source": [
    "print(list1[1:])"
   ]
  },
  {
   "cell_type": "code",
   "execution_count": 12,
   "id": "96a40230",
   "metadata": {},
   "outputs": [
    {
     "name": "stdout",
     "output_type": "stream",
     "text": [
      "['a', 'b', 'c']\n"
     ]
    }
   ],
   "source": [
    "print(list1[:])"
   ]
  },
  {
   "cell_type": "code",
   "execution_count": 13,
   "id": "1f58a565",
   "metadata": {},
   "outputs": [
    {
     "name": "stdout",
     "output_type": "stream",
     "text": [
      "my name starts with b.\n"
     ]
    }
   ],
   "source": [
    "message = f\"my name starts with {list1[1]}.\"\n",
    "print(message)"
   ]
  },
  {
   "cell_type": "code",
   "execution_count": 15,
   "id": "d03ec1b7",
   "metadata": {},
   "outputs": [
    {
     "name": "stdout",
     "output_type": "stream",
     "text": [
      "my name starts with \n",
      "a.\n"
     ]
    }
   ],
   "source": [
    "message = f\"my name starts with \\n{list1[0]}.\"\n",
    "print(message)"
   ]
  },
  {
   "cell_type": "code",
   "execution_count": 16,
   "id": "4b77fae3",
   "metadata": {},
   "outputs": [
    {
     "name": "stdout",
     "output_type": "stream",
     "text": [
      "\tmy name starts with \n",
      "a.\n"
     ]
    }
   ],
   "source": [
    "message = f\"\\tmy name starts with \\n{list1[0]}.\"\n",
    "print(message)"
   ]
  },
  {
   "cell_type": "code",
   "execution_count": 17,
   "id": "5cf6d2a8",
   "metadata": {},
   "outputs": [
    {
     "name": "stdout",
     "output_type": "stream",
     "text": [
      "['qwerty', '12345', 'asdfg']\n"
     ]
    }
   ],
   "source": [
    "friends = ['qwerty','12345','asdfg']\n",
    "print(friends)"
   ]
  },
  {
   "cell_type": "code",
   "execution_count": 18,
   "id": "938743ec",
   "metadata": {},
   "outputs": [
    {
     "name": "stdout",
     "output_type": "stream",
     "text": [
      "Hello, qwerty how are you doing today ? \n"
     ]
    }
   ],
   "source": [
    "message = f\"Hello, {friends[0]} how are you doing today ? \"\n",
    "print(message)"
   ]
  },
  {
   "cell_type": "code",
   "execution_count": 19,
   "id": "580210dd",
   "metadata": {},
   "outputs": [
    {
     "name": "stdout",
     "output_type": "stream",
     "text": [
      "Hey, are you doing ok 12345 ?\n"
     ]
    }
   ],
   "source": [
    "message = f\"Hey, are you doing ok {friends[1]} ?\"\n",
    "print(message)"
   ]
  },
  {
   "cell_type": "code",
   "execution_count": 20,
   "id": "8c430140",
   "metadata": {},
   "outputs": [
    {
     "name": "stdout",
     "output_type": "stream",
     "text": [
      "['qwerty', '12345', 'asdfg', 'amazon']\n"
     ]
    }
   ],
   "source": [
    "friends = ['qwerty','12345','asdfg','amazon']\n",
    "print(friends)"
   ]
  },
  {
   "cell_type": "code",
   "execution_count": 21,
   "id": "9264878f",
   "metadata": {},
   "outputs": [
    {
     "name": "stdout",
     "output_type": "stream",
     "text": [
      "['qwerty', 'zxcvb', 'asdfg', 'amazon']\n"
     ]
    }
   ],
   "source": [
    "friends[1] = 'zxcvb'\n",
    "print(friends)"
   ]
  },
  {
   "cell_type": "code",
   "execution_count": 22,
   "id": "6f85757c",
   "metadata": {},
   "outputs": [
    {
     "name": "stdout",
     "output_type": "stream",
     "text": [
      "['qwerty', 'zxcvb', 'asdfg', 'amazon']\n"
     ]
    }
   ],
   "source": [
    "print(friends)"
   ]
  },
  {
   "cell_type": "code",
   "execution_count": 23,
   "id": "bbe4db9d",
   "metadata": {},
   "outputs": [
    {
     "name": "stdout",
     "output_type": "stream",
     "text": [
      "['qwerty', 'zxcvb', 'asdfg', 'amazon', '12345']\n"
     ]
    }
   ],
   "source": [
    "friends.append('12345')\n",
    "print(friends)"
   ]
  },
  {
   "cell_type": "code",
   "execution_count": 24,
   "id": "8a27e9d0",
   "metadata": {},
   "outputs": [
    {
     "name": "stdout",
     "output_type": "stream",
     "text": [
      "['qwerty', 'zxcvb', 'asdfg', 'amazon', '56789', '12345']\n"
     ]
    }
   ],
   "source": [
    "friends.insert(4,'56789')\n",
    "print(friends)"
   ]
  },
  {
   "cell_type": "code",
   "execution_count": 25,
   "id": "a86e01b6",
   "metadata": {},
   "outputs": [
    {
     "name": "stdout",
     "output_type": "stream",
     "text": [
      "['qwerty', 'zxcvb', 'asdfg', 'amazon', '12345']\n"
     ]
    }
   ],
   "source": [
    "del friends[4]\n",
    "print(friends)"
   ]
  },
  {
   "cell_type": "code",
   "execution_count": 26,
   "id": "ef73ab89",
   "metadata": {},
   "outputs": [
    {
     "name": "stdout",
     "output_type": "stream",
     "text": [
      "['qwerty', 'zxcvb', 'asdfg', 'amazon']\n"
     ]
    }
   ],
   "source": [
    "friends.remove('12345')\n",
    "print(friends)"
   ]
  },
  {
   "cell_type": "markdown",
   "id": "283cc497",
   "metadata": {},
   "source": [
    "### Sorting"
   ]
  },
  {
   "cell_type": "code",
   "execution_count": 27,
   "id": "36e58738",
   "metadata": {},
   "outputs": [
    {
     "name": "stdout",
     "output_type": "stream",
     "text": [
      "['amazon', 'asdfg', 'qwerty', 'zxcvb']\n"
     ]
    }
   ],
   "source": [
    "friends.sort()\n",
    "print(friends)"
   ]
  },
  {
   "cell_type": "code",
   "execution_count": 28,
   "id": "8c7266f4",
   "metadata": {},
   "outputs": [
    {
     "name": "stdout",
     "output_type": "stream",
     "text": [
      "['zxcvb', 'qwerty', 'asdfg', 'amazon']\n"
     ]
    }
   ],
   "source": [
    "friends.sort(reverse=True)\n",
    "print(friends)"
   ]
  },
  {
   "cell_type": "code",
   "execution_count": 29,
   "id": "ce175db6",
   "metadata": {},
   "outputs": [
    {
     "name": "stdout",
     "output_type": "stream",
     "text": [
      "['zxcvb', 'qwerty', 'asdfg', 'amazon']\n"
     ]
    }
   ],
   "source": [
    "print(friends)"
   ]
  },
  {
   "cell_type": "code",
   "execution_count": 30,
   "id": "d5977020",
   "metadata": {},
   "outputs": [
    {
     "name": "stdout",
     "output_type": "stream",
     "text": [
      "['amazon', 'asdfg', 'qwerty', 'zxcvb']\n"
     ]
    }
   ],
   "source": [
    "friends.sort()\n",
    "print(friends)"
   ]
  },
  {
   "cell_type": "code",
   "execution_count": 31,
   "id": "e0d9a205",
   "metadata": {},
   "outputs": [
    {
     "name": "stdout",
     "output_type": "stream",
     "text": [
      "['zxcvb', 'qwerty', 'asdfg', 'amazon']\n"
     ]
    }
   ],
   "source": [
    "friends.reverse()\n",
    "print(friends)"
   ]
  },
  {
   "cell_type": "code",
   "execution_count": 32,
   "id": "b6e8a592",
   "metadata": {},
   "outputs": [
    {
     "data": {
      "text/plain": [
       "4"
      ]
     },
     "execution_count": 32,
     "metadata": {},
     "output_type": "execute_result"
    }
   ],
   "source": [
    "len(friends)"
   ]
  },
  {
   "cell_type": "markdown",
   "id": "dfe354f2",
   "metadata": {},
   "source": [
    "## FOR Loop"
   ]
  },
  {
   "cell_type": "markdown",
   "id": "5a4dc402",
   "metadata": {},
   "source": [
    "### When you want to do the same action with every item in a list, you can use Python’s for loop."
   ]
  },
  {
   "cell_type": "code",
   "execution_count": 33,
   "id": "ba71d396",
   "metadata": {},
   "outputs": [
    {
     "name": "stdout",
     "output_type": "stream",
     "text": [
      "['zxcvb', 'qwerty', 'asdfg', 'amazon']\n"
     ]
    }
   ],
   "source": [
    "print(friends)"
   ]
  },
  {
   "cell_type": "code",
   "execution_count": 34,
   "id": "47987747",
   "metadata": {},
   "outputs": [
    {
     "name": "stdout",
     "output_type": "stream",
     "text": [
      "['amazon', 'asdfg', 'qwerty', 'zxcvb']\n"
     ]
    }
   ],
   "source": [
    "friends.sort()\n",
    "print(friends)"
   ]
  },
  {
   "cell_type": "code",
   "execution_count": 35,
   "id": "2a4091d2",
   "metadata": {},
   "outputs": [
    {
     "name": "stdout",
     "output_type": "stream",
     "text": [
      "amazon\n",
      "asdfg\n",
      "qwerty\n",
      "zxcvb\n"
     ]
    }
   ],
   "source": [
    "for friend in friends:\n",
    "    print(friend)"
   ]
  },
  {
   "cell_type": "code",
   "execution_count": 36,
   "id": "c7b2eaeb",
   "metadata": {},
   "outputs": [
    {
     "name": "stdout",
     "output_type": "stream",
     "text": [
      "You amazon guys are the best!\n",
      "You asdfg guys are the best!\n",
      "You qwerty guys are the best!\n",
      "You zxcvb guys are the best!\n"
     ]
    }
   ],
   "source": [
    "for friend in friends:\n",
    "    print(f\"You {friend} guys are the best!\")\n",
    "    "
   ]
  },
  {
   "cell_type": "code",
   "execution_count": 37,
   "id": "0b22dab2",
   "metadata": {},
   "outputs": [
    {
     "name": "stdout",
     "output_type": "stream",
     "text": [
      "You a are my buddy bro!! \n",
      "You d are my buddy bro!! \n",
      "You e are my buddy bro!! \n",
      "You c are my buddy bro!! \n"
     ]
    }
   ],
   "source": [
    "for friend in friends:\n",
    "    print(f\"You {friend[2]} are my buddy bro!! \")"
   ]
  },
  {
   "cell_type": "code",
   "execution_count": 39,
   "id": "70140e3a",
   "metadata": {},
   "outputs": [
    {
     "name": "stdout",
     "output_type": "stream",
     "text": [
      "You amazon guys ROCK!!\n",
      "Cant wait to see you amazon all again soon.. \n",
      "You asdfg guys ROCK!!\n",
      "Cant wait to see you asdfg all again soon.. \n",
      "You qwerty guys ROCK!!\n",
      "Cant wait to see you qwerty all again soon.. \n",
      "You zxcvb guys ROCK!!\n",
      "Cant wait to see you zxcvb all again soon.. \n"
     ]
    }
   ],
   "source": [
    "for friend in friends:\n",
    "    print(f\"You {friend} guys ROCK!!\")\n",
    "    print(f\"Cant wait to see you {friend} all again soon.. \")"
   ]
  },
  {
   "cell_type": "code",
   "execution_count": 40,
   "id": "6532f3a0",
   "metadata": {},
   "outputs": [
    {
     "name": "stdout",
     "output_type": "stream",
     "text": [
      "You amazon guys ROCK!!\n",
      "Cant wait to see you amazon all again soon.. \n",
      "You asdfg guys ROCK!!\n",
      "Cant wait to see you asdfg all again soon.. \n",
      "You qwerty guys ROCK!!\n",
      "Cant wait to see you qwerty all again soon.. \n",
      "You zxcvb guys ROCK!!\n",
      "Cant wait to see you zxcvb all again soon.. \n",
      "Thanks guys see you soon\n"
     ]
    }
   ],
   "source": [
    "for friend in friends:\n",
    "    print(f\"You {friend} guys ROCK!!\")\n",
    "    print(f\"Cant wait to see you {friend} all again soon.. \")\n",
    "print(\"Thanks guys see you soon\")"
   ]
  },
  {
   "cell_type": "markdown",
   "id": "4749d974",
   "metadata": {},
   "source": [
    "## Functions"
   ]
  },
  {
   "cell_type": "code",
   "execution_count": 41,
   "id": "06d9a816",
   "metadata": {},
   "outputs": [
    {
     "name": "stdout",
     "output_type": "stream",
     "text": [
      "Hey,buddy!\n"
     ]
    }
   ],
   "source": [
    "def greetings(): # define the function called as greetings\n",
    "    \"\"\"Display greetings\"\"\" # this and below is the body of the function.\n",
    "    print(\"Hey,buddy!\")\n",
    "greetings() # calling out your function to do its job."
   ]
  },
  {
   "cell_type": "code",
   "execution_count": 42,
   "id": "551f4778",
   "metadata": {
    "scrolled": false
   },
   "outputs": [
    {
     "ename": "TypeError",
     "evalue": "greetings() missing 1 required positional argument: 'username'",
     "output_type": "error",
     "traceback": [
      "\u001b[1;31m---------------------------------------------------------------------------\u001b[0m",
      "\u001b[1;31mTypeError\u001b[0m                                 Traceback (most recent call last)",
      "\u001b[1;32m<ipython-input-42-332b82d62de6>\u001b[0m in \u001b[0;36m<module>\u001b[1;34m\u001b[0m\n\u001b[0;32m      2\u001b[0m     \u001b[1;34m\"\"\"Greeting by calling out names\"\"\"\u001b[0m\u001b[1;33m\u001b[0m\u001b[1;33m\u001b[0m\u001b[0m\n\u001b[0;32m      3\u001b[0m     \u001b[0mprint\u001b[0m\u001b[1;33m(\u001b[0m\u001b[1;34mf\"Hello, {username.title()}\"\u001b[0m\u001b[1;33m)\u001b[0m\u001b[1;33m\u001b[0m\u001b[1;33m\u001b[0m\u001b[0m\n\u001b[1;32m----> 4\u001b[1;33m \u001b[0mgreetings\u001b[0m\u001b[1;33m(\u001b[0m\u001b[1;33m)\u001b[0m\u001b[1;33m\u001b[0m\u001b[1;33m\u001b[0m\u001b[0m\n\u001b[0m",
      "\u001b[1;31mTypeError\u001b[0m: greetings() missing 1 required positional argument: 'username'"
     ]
    }
   ],
   "source": [
    "def greetings(username):\n",
    "    \"\"\"Greeting by calling out names\"\"\"\n",
    "    print(f\"Hello, {username.title()}\")\n",
    "greetings()"
   ]
  },
  {
   "cell_type": "code",
   "execution_count": 43,
   "id": "adaac2b1",
   "metadata": {},
   "outputs": [
    {
     "name": "stdout",
     "output_type": "stream",
     "text": [
      "Hello, Qwerty\n"
     ]
    }
   ],
   "source": [
    "def greetings(username): # username is called as the parameter.\n",
    "    \"\"\"Greeting by calling out names\"\"\"\n",
    "    print(f\"Hello, {username.title()}\")\n",
    "greetings('qwerty') # qwerty is called as argument."
   ]
  },
  {
   "cell_type": "markdown",
   "id": "9b8e403c",
   "metadata": {},
   "source": [
    "### Parameters and Arguments\n",
    "argument is passed to function name with parameter"
   ]
  },
  {
   "cell_type": "code",
   "execution_count": 44,
   "id": "18388334",
   "metadata": {},
   "outputs": [
    {
     "name": "stdout",
     "output_type": "stream",
     "text": [
      "Hello, Qwerty\n"
     ]
    }
   ],
   "source": [
    "def greetings(username): # username is called as the parameter.\n",
    "    \"\"\"Greeting by calling out names\"\"\"\n",
    "    print(f\"Hello, {username.title()}\")\n",
    "greetings('qwerty') # qwerty is called as argument."
   ]
  },
  {
   "cell_type": "code",
   "execution_count": 45,
   "id": "911a4756",
   "metadata": {},
   "outputs": [
    {
     "name": "stdout",
     "output_type": "stream",
     "text": [
      "I'm learning python functions\n"
     ]
    }
   ],
   "source": [
    "def display_message():\n",
    "    \"\"\"Tell everyone what Im doing\"\"\"\n",
    "    print(\"I'm learning python functions\")\n",
    "display_message()"
   ]
  },
  {
   "cell_type": "code",
   "execution_count": 46,
   "id": "51b1f166",
   "metadata": {},
   "outputs": [
    {
     "name": "stdout",
     "output_type": "stream",
     "text": [
      "One of my favorite book title is No Fucks Given\n"
     ]
    }
   ],
   "source": [
    "def fav_book(title):\n",
    "    \"\"\"tell my favorite book name\"\"\"\n",
    "    print(f\"One of my favorite book title is {title.title()}\")\n",
    "fav_book(\"No fucks given\")"
   ]
  },
  {
   "cell_type": "markdown",
   "id": "1b003087",
   "metadata": {},
   "source": [
    "### Positional Arguments"
   ]
  },
  {
   "cell_type": "code",
   "execution_count": 48,
   "id": "a02c6843",
   "metadata": {},
   "outputs": [
    {
     "name": "stdout",
     "output_type": "stream",
     "text": [
      "\n",
      "I have a Kutta which is weird.\n",
      "My Kutta's name is Darpok-Kutta\n"
     ]
    }
   ],
   "source": [
    "def animal_name(animal_type,pet_name):\n",
    "    \"\"\"positional arguments types and usages\"\"\"\n",
    "    print(f\"\\nI have a {animal_type} which is weird.\")\n",
    "    print(f\"My {animal_type}'s name is {pet_name.title()}\")\n",
    "animal_name('Kutta' , 'darpok-kutta')"
   ]
  },
  {
   "cell_type": "markdown",
   "id": "2a4fc0ac",
   "metadata": {},
   "source": [
    "### Multiple function calls"
   ]
  },
  {
   "cell_type": "code",
   "execution_count": 1,
   "id": "afd236a2",
   "metadata": {},
   "outputs": [
    {
     "name": "stdout",
     "output_type": "stream",
     "text": [
      "\n",
      "I have a Kutta which is weird.\n",
      "My Kutta's name is Darpok-Kutta\n",
      "\n",
      "I have a Billi which is weird.\n",
      "My Billi's name is Kamini-Billi\n"
     ]
    }
   ],
   "source": [
    "def animal_name(animal_type,pet_name):\n",
    "    \"\"\"Using more than one function calls\"\"\"\n",
    "    print(f\"\\nI have a {animal_type} which is weird.\")\n",
    "    print(f\"My {animal_type}'s name is {pet_name.title()}\")\n",
    "\n",
    "animal_name('Kutta', 'darpok-Kutta')\n",
    "animal_name('Billi' , 'kamini-billi')"
   ]
  },
  {
   "cell_type": "code",
   "execution_count": 2,
   "id": "c067f35c",
   "metadata": {
    "scrolled": true
   },
   "outputs": [
    {
     "name": "stdout",
     "output_type": "stream",
     "text": [
      "\n",
      "I have a suvar which is weird.\n",
      "My suvar's name is Pagal-Suvar\n"
     ]
    }
   ],
   "source": [
    "animal_name('suvar', 'pagal-suvar')"
   ]
  },
  {
   "cell_type": "markdown",
   "id": "847d3e53",
   "metadata": {},
   "source": [
    "### Default value for function"
   ]
  },
  {
   "cell_type": "code",
   "execution_count": 3,
   "id": "246f0dc6",
   "metadata": {},
   "outputs": [
    {
     "name": "stdout",
     "output_type": "stream",
     "text": [
      "\n",
      "I have a kutta.\n",
      "My kutta's name is Pagal.\n"
     ]
    }
   ],
   "source": [
    "def animal_name(pet_name,animal_type='kutta'):\n",
    "    \"\"\"setting default values for function\"\"\"\n",
    "    print(f\"\\nI have a {animal_type}.\")\n",
    "    print(f\"My {animal_type}'s name is {pet_name.title()}.\")\n",
    "\n",
    "animal_name(pet_name='pagal')\n"
   ]
  },
  {
   "cell_type": "code",
   "execution_count": 4,
   "id": "2103ed52",
   "metadata": {},
   "outputs": [
    {
     "name": "stdout",
     "output_type": "stream",
     "text": [
      "\n",
      "I have a kutta.\n",
      "My kutta's name is Chaman.\n"
     ]
    }
   ],
   "source": [
    "animal_name('chaman')"
   ]
  },
  {
   "cell_type": "code",
   "execution_count": 5,
   "id": "dcf9bfb3",
   "metadata": {},
   "outputs": [
    {
     "ename": "TypeError",
     "evalue": "animal_name() missing 1 required positional argument: 'pet_name'",
     "output_type": "error",
     "traceback": [
      "\u001b[1;31m---------------------------------------------------------------------------\u001b[0m",
      "\u001b[1;31mTypeError\u001b[0m                                 Traceback (most recent call last)",
      "\u001b[1;32m<ipython-input-5-ef24b06bc18c>\u001b[0m in \u001b[0;36m<module>\u001b[1;34m\u001b[0m\n\u001b[0;32m      1\u001b[0m \u001b[1;31m# providing no arguments : error\u001b[0m\u001b[1;33m\u001b[0m\u001b[1;33m\u001b[0m\u001b[1;33m\u001b[0m\u001b[0m\n\u001b[1;32m----> 2\u001b[1;33m \u001b[0manimal_name\u001b[0m\u001b[1;33m(\u001b[0m\u001b[1;33m)\u001b[0m\u001b[1;33m\u001b[0m\u001b[1;33m\u001b[0m\u001b[0m\n\u001b[0m",
      "\u001b[1;31mTypeError\u001b[0m: animal_name() missing 1 required positional argument: 'pet_name'"
     ]
    }
   ],
   "source": [
    "# providing no arguments : error\n",
    "animal_name()"
   ]
  },
  {
   "cell_type": "markdown",
   "id": "7a6d6b3c",
   "metadata": {},
   "source": [
    "## Return values "
   ]
  },
  {
   "cell_type": "code",
   "execution_count": 6,
   "id": "a9b62472",
   "metadata": {},
   "outputs": [
    {
     "name": "stdout",
     "output_type": "stream",
     "text": [
      "Rahul Dravid\n"
     ]
    }
   ],
   "source": [
    "def get_name(first_name,last_name):\n",
    "    \"\"\"Function to get full name\"\"\"\n",
    "    full_name = f\"{first_name} {last_name}\"\n",
    "    return full_name.title()\n",
    "person = get_name('rahul' , 'dravid')\n",
    "print(person)"
   ]
  },
  {
   "cell_type": "code",
   "execution_count": 8,
   "id": "10ec9ffd",
   "metadata": {},
   "outputs": [],
   "source": [
    "def get_name(first_name,last_name):\n",
    "    \"\"\"Function to get full name\"\"\"\n",
    "    full_name = f\"{first_name} {last_name}\"\n",
    "    return full_name.title()\n",
    "person = get_name('rahul' , 'dravid')\n",
    "#print(person) \n",
    "# comenting the print will not give you the result as return needs \n",
    "# to have print call."
   ]
  },
  {
   "cell_type": "code",
   "execution_count": 10,
   "id": "ac5f6ed7",
   "metadata": {},
   "outputs": [
    {
     "name": "stdout",
     "output_type": "stream",
     "text": [
      "Rahul Raj Arya\n"
     ]
    }
   ],
   "source": [
    "## expanding the return values\n",
    "\n",
    "def get_name(first_name , middle_name , last_name):\n",
    "    \"\"\"Returns full , middle and last name\"\"\"\n",
    "    full_name = f\"{first_name} {middle_name} {last_name}\"\n",
    "    return full_name.title()\n",
    "person = get_name('rahul' , 'raj' , 'arya')\n",
    "print(person)"
   ]
  },
  {
   "cell_type": "code",
   "execution_count": 14,
   "id": "32f0e216",
   "metadata": {},
   "outputs": [
    {
     "ename": "SyntaxError",
     "evalue": "non-default argument follows default argument (<ipython-input-14-a49dc6c2a749>, line 4)",
     "output_type": "error",
     "traceback": [
      "\u001b[1;36m  File \u001b[1;32m\"<ipython-input-14-a49dc6c2a749>\"\u001b[1;36m, line \u001b[1;32m4\u001b[0m\n\u001b[1;33m    def get_name(first_name , middle_name='' , last_name):\u001b[0m\n\u001b[1;37m                 ^\u001b[0m\n\u001b[1;31mSyntaxError\u001b[0m\u001b[1;31m:\u001b[0m non-default argument follows default argument\n"
     ]
    }
   ],
   "source": [
    "## now we want to make one of the argument as optional.\n",
    "# set the value to empty -> '' which you want to use as optional\n",
    "\n",
    "def get_name(first_name , middle_name='' , last_name):\n",
    "    if middle_name:\n",
    "        full_name = f\"{first_name} {middle_name} {last_name}\"\n",
    "    else:\n",
    "        full_name = f\"{first_name} {last_name}\"\n",
    "    return full_name.title()\n",
    "\n",
    "person = get_name('rahul' , 'dravid')\n",
    "print(person)"
   ]
  },
  {
   "cell_type": "code",
   "execution_count": 15,
   "id": "c874b24d",
   "metadata": {},
   "outputs": [
    {
     "name": "stdout",
     "output_type": "stream",
     "text": [
      "Rahul Dravid\n"
     ]
    }
   ],
   "source": [
    "# line 14 gives error \n",
    "# but running this below :\n",
    "# you need to specify the optional argument in the last \n",
    "# this is because python matches positional arguments!\n",
    "\n",
    "def get_name(first_name,last_name ,middle_name=''):\n",
    "    if middle_name:\n",
    "        full_name = f\"{first_name} {middle_name} {last_name}\"\n",
    "    else:\n",
    "        full_name = f\"{first_name} {last_name}\"\n",
    "    return full_name.title()\n",
    "\n",
    "person = get_name('rahul' , 'dravid')\n",
    "print(person)\n"
   ]
  },
  {
   "cell_type": "code",
   "execution_count": 16,
   "id": "f33ad510",
   "metadata": {},
   "outputs": [
    {
     "name": "stdout",
     "output_type": "stream",
     "text": [
      "{'first': 'rahul', 'last': 'dravid'}\n"
     ]
    }
   ],
   "source": [
    "# return a dictionary : Key-Value\n",
    "\n",
    "def get_name(first_name , last_name):\n",
    "    full_name = {'first':first_name , 'last':last_name}\n",
    "    return full_name\n",
    "person = get_name('rahul' , 'dravid')\n",
    "print(person)"
   ]
  },
  {
   "cell_type": "code",
   "execution_count": 17,
   "id": "eb3f648b",
   "metadata": {},
   "outputs": [
    {
     "name": "stdout",
     "output_type": "stream",
     "text": [
      "{'first': 'Rahul', 'last': 'Dravid'}\n"
     ]
    }
   ],
   "source": [
    "def get_name(first_name , last_name):\n",
    "    full_name = {'first':first_name.title() , 'last':last_name.title()}\n",
    "    return full_name\n",
    "person = get_name('rahul' , 'dravid')\n",
    "print(person)\n",
    "\n",
    "# the output gives us a dictionary!"
   ]
  },
  {
   "cell_type": "code",
   "execution_count": 18,
   "id": "725680dc",
   "metadata": {},
   "outputs": [
    {
     "name": "stdout",
     "output_type": "stream",
     "text": [
      "{'first': 'Rahul', 'last': 'Dravid', 'age': 40}\n"
     ]
    }
   ],
   "source": [
    "# adding additional parameters \n",
    "# here we give None because None will have no special value in the beginning.\n",
    "# it is like placeholder .\n",
    "\n",
    "def get_name(first_name , last_name , age=None):\n",
    "    full_name = {'first':first_name.title() , 'last':last_name.title()}\n",
    "    if age:\n",
    "        full_name['age'] = age\n",
    "    return full_name\n",
    "person = get_name('rahul' , 'dravid' , age=40)\n",
    "print(person)"
   ]
  },
  {
   "cell_type": "markdown",
   "id": "5904dd29",
   "metadata": {},
   "source": [
    "### Functions inside Loops"
   ]
  },
  {
   "cell_type": "code",
   "execution_count": 19,
   "id": "f589c3a9",
   "metadata": {},
   "outputs": [
    {
     "name": "stdout",
     "output_type": "stream",
     "text": [
      "\n",
      "Please enter your name:\n",
      "(enter 'q' at any time to quit and Live a LIFE)\n",
      "first_name:rahul\n",
      "last_name:dravid\n",
      "\n",
      "Hello, Rahul Dravid!\n",
      "\n",
      "Please enter your name:\n",
      "(enter 'q' at any time to quit and Live a LIFE)\n",
      "first_name:cr\n",
      "last_name:7\n",
      "\n",
      "Hello, Cr 7!\n",
      "\n",
      "Please enter your name:\n",
      "(enter 'q' at any time to quit and Live a LIFE)\n",
      "first_name:q\n"
     ]
    }
   ],
   "source": [
    "# DONT FORGET to add BREAK!!\n",
    "\n",
    "def get_name(first_name , last_name):\n",
    "    full_name = f\"{first_name} {last_name}\"\n",
    "    return full_name.title()\n",
    "\n",
    "while True:\n",
    "    print(\"\\nPlease enter your name:\")\n",
    "    print(\"(enter 'q' at any time to quit and Live a LIFE)\")\n",
    "    \n",
    "    f_name = input(\"first_name:\")\n",
    "    if f_name =='q':\n",
    "        break\n",
    "    l_name = input(\"last_name:\")\n",
    "    if l_name =='q':\n",
    "        break\n",
    "    full_name = get_name(f_name , l_name)\n",
    "    print(f\"\\nHello, {full_name}!\")"
   ]
  },
  {
   "cell_type": "markdown",
   "id": "1b8d9a97",
   "metadata": {},
   "source": [
    "## Passing List to Function\n",
    "When you pass a list to a function, the function gets direct access to the contents of the list."
   ]
  },
  {
   "cell_type": "code",
   "execution_count": 20,
   "id": "d3e236a2",
   "metadata": {},
   "outputs": [
    {
     "name": "stdout",
     "output_type": "stream",
     "text": [
      "Hello, Rahul!\n",
      "Hello, Mahi!\n",
      "Hello, Viru!\n"
     ]
    }
   ],
   "source": [
    "def greet_each_person(names):\n",
    "    for name in names:\n",
    "        message = f\"Hello, {name.title()}!\"\n",
    "        print(message)\n",
    "\n",
    "# passing a list\n",
    "users = ['rahul' , 'mahi' , 'viru']\n",
    "greet_each_person(users)"
   ]
  },
  {
   "cell_type": "markdown",
   "id": "6326f07c",
   "metadata": {},
   "source": [
    "### Passing X number of arguments \n",
    "Useful when you dont know how many argments will be required "
   ]
  },
  {
   "cell_type": "code",
   "execution_count": 22,
   "id": "b731ffc8",
   "metadata": {},
   "outputs": [
    {
     "name": "stdout",
     "output_type": "stream",
     "text": [
      "('pepper',)\n",
      "('onion', 'paneer', 'jalapeno', 'cheeze')\n"
     ]
    }
   ],
   "source": [
    "# suppose you are making a pizza and know that you will\n",
    "# add toppings but how many toppings you dont know\n",
    "\n",
    "# **toppings will make an empty tuple\n",
    "def make_pizza(*toppings):\n",
    "    print(toppings)\n",
    "make_pizza('pepper')\n",
    "make_pizza('onion' , 'paneer' , 'jalapeno' , 'cheeze')\n"
   ]
  },
  {
   "cell_type": "code",
   "execution_count": 26,
   "id": "a2e2be5b",
   "metadata": {},
   "outputs": [
    {
     "name": "stdout",
     "output_type": "stream",
     "text": [
      "{'first_name': 'rahul', 'last_name': 'dravid'}\n"
     ]
    }
   ],
   "source": [
    "# now suppose there are multiple unknown argumets\n",
    "\n",
    "def user_profile(first , last , **user_info):\n",
    "    user_info['first_name'] = first\n",
    "    user_info['last_name'] = last\n",
    "    return user_info\n",
    "users = user_profile('rahul' , 'dravid') \n",
    "print(users)"
   ]
  },
  {
   "cell_type": "code",
   "execution_count": 27,
   "id": "6fa3e35f",
   "metadata": {},
   "outputs": [
    {
     "name": "stdout",
     "output_type": "stream",
     "text": [
      "{'location': 'bengluru', 'batting': 'right', 'first_name': 'rahul', 'last_name': 'dravid'}\n"
     ]
    }
   ],
   "source": [
    "def user_profile(first , last , **user_info):\n",
    "    user_info['first_name'] = first\n",
    "    user_info['last_name'] = last\n",
    "    return user_info\n",
    "users = user_profile('rahul' , 'dravid' , location='bengluru', batting='right') \n",
    "print(users)"
   ]
  },
  {
   "cell_type": "markdown",
   "id": "09f6ca6f",
   "metadata": {},
   "source": [
    "## Storing functions in Modules\n",
    "\n",
    "storing your functions in a separate file called a module and then importing that module into your main program. An import statement tells Python to make the code in a module available in the currently running program file."
   ]
  },
  {
   "cell_type": "markdown",
   "id": "d371fa97",
   "metadata": {},
   "source": [
    "### Importing an entire Module"
   ]
  },
  {
   "cell_type": "code",
   "execution_count": 28,
   "id": "d41c2e53",
   "metadata": {},
   "outputs": [],
   "source": [
    "# first create a module\n",
    "\n",
    "def make_pizza(size,*toppings):\n",
    "    print(f\"\\nMaking a {size}-inch pizza with following toppings:\")\n",
    "    for topping in toppings:\n",
    "        print(f\"-{topping}\")\n",
    "    "
   ]
  },
  {
   "cell_type": "code",
   "execution_count": 29,
   "id": "2fb4acdd",
   "metadata": {},
   "outputs": [
    {
     "ename": "ModuleNotFoundError",
     "evalue": "No module named 'pizza'",
     "output_type": "error",
     "traceback": [
      "\u001b[1;31m---------------------------------------------------------------------------\u001b[0m",
      "\u001b[1;31mModuleNotFoundError\u001b[0m                       Traceback (most recent call last)",
      "\u001b[1;32m<ipython-input-29-ec03ca533504>\u001b[0m in \u001b[0;36m<module>\u001b[1;34m\u001b[0m\n\u001b[1;32m----> 1\u001b[1;33m \u001b[1;32mimport\u001b[0m \u001b[0mpizza\u001b[0m\u001b[1;33m\u001b[0m\u001b[1;33m\u001b[0m\u001b[0m\n\u001b[0m\u001b[0;32m      2\u001b[0m \u001b[1;33m\u001b[0m\u001b[0m\n\u001b[0;32m      3\u001b[0m \u001b[0mpizza\u001b[0m\u001b[1;33m.\u001b[0m\u001b[0mmake_pizza\u001b[0m\u001b[1;33m(\u001b[0m\u001b[1;36m10\u001b[0m \u001b[1;33m,\u001b[0m \u001b[1;34m'paneer'\u001b[0m\u001b[1;33m)\u001b[0m\u001b[1;33m\u001b[0m\u001b[1;33m\u001b[0m\u001b[0m\n\u001b[0;32m      4\u001b[0m \u001b[0mpizza\u001b[0m\u001b[1;33m.\u001b[0m\u001b[0mmake_pizza\u001b[0m\u001b[1;33m(\u001b[0m\u001b[1;36m16\u001b[0m \u001b[1;33m,\u001b[0m \u001b[1;34m'cheeze'\u001b[0m \u001b[1;33m,\u001b[0m \u001b[1;34m'paneer'\u001b[0m\u001b[1;33m)\u001b[0m\u001b[1;33m\u001b[0m\u001b[1;33m\u001b[0m\u001b[0m\n",
      "\u001b[1;31mModuleNotFoundError\u001b[0m: No module named 'pizza'"
     ]
    }
   ],
   "source": [
    "import pizza\n",
    "\n",
    "pizza.make_pizza(10 , 'paneer')\n",
    "pizza.make_pizza(16 , 'cheeze' , 'paneer')"
   ]
  },
  {
   "cell_type": "code",
   "execution_count": null,
   "id": "0f1fc5ed",
   "metadata": {},
   "outputs": [],
   "source": []
  }
 ],
 "metadata": {
  "kernelspec": {
   "display_name": "Python 3",
   "language": "python",
   "name": "python3"
  },
  "language_info": {
   "codemirror_mode": {
    "name": "ipython",
    "version": 3
   },
   "file_extension": ".py",
   "mimetype": "text/x-python",
   "name": "python",
   "nbconvert_exporter": "python",
   "pygments_lexer": "ipython3",
   "version": "3.8.8"
  }
 },
 "nbformat": 4,
 "nbformat_minor": 5
}
