{
  "nbformat": 4,
  "nbformat_minor": 0,
  "metadata": {
    "colab": {
      "provenance": [],
      "authorship_tag": "ABX9TyNnwqcbG6KhusOcuzLTrT4P",
      "include_colab_link": true
    },
    "kernelspec": {
      "name": "python3",
      "display_name": "Python 3"
    },
    "language_info": {
      "name": "python"
    }
  },
  "cells": [
    {
      "cell_type": "markdown",
      "metadata": {
        "id": "view-in-github",
        "colab_type": "text"
      },
      "source": [
        "<a href=\"https://colab.research.google.com/github/manjunath-hanmantgad/python-development/blob/development/DSA_Big_O.ipynb\" target=\"_parent\"><img src=\"https://colab.research.google.com/assets/colab-badge.svg\" alt=\"Open In Colab\"/></a>"
      ]
    },
    {
      "cell_type": "code",
      "execution_count": 1,
      "metadata": {
        "id": "oTLzqbTQi_wF"
      },
      "outputs": [],
      "source": [
        "def sum1(n):\n",
        "    '''\n",
        "    Take an input of n and return the sum of the numbers from 0 to n\n",
        "    '''\n",
        "    final_sum = 0\n",
        "    for x in range(n+1): \n",
        "        final_sum += x\n",
        "    \n",
        "    return final_sum"
      ]
    },
    {
      "cell_type": "code",
      "source": [
        "sum1(10)"
      ],
      "metadata": {
        "colab": {
          "base_uri": "https://localhost:8080/"
        },
        "id": "kxqDsOaRk7r5",
        "outputId": "493c4ca7-20e6-46cf-9f83-bd4d69ba759d"
      },
      "execution_count": 2,
      "outputs": [
        {
          "output_type": "execute_result",
          "data": {
            "text/plain": [
              "55"
            ]
          },
          "metadata": {},
          "execution_count": 2
        }
      ]
    },
    {
      "cell_type": "code",
      "source": [
        "def sum2(n):\n",
        "    \"\"\"\n",
        "    Take an input of n and return the sum of the numbers from 0 to n\n",
        "    \"\"\"\n",
        "    return (n*(n+1))/2"
      ],
      "metadata": {
        "id": "24ORq_hik8uH"
      },
      "execution_count": 3,
      "outputs": []
    },
    {
      "cell_type": "code",
      "source": [
        "sum2(10)"
      ],
      "metadata": {
        "colab": {
          "base_uri": "https://localhost:8080/"
        },
        "id": "fob53Keek9x7",
        "outputId": "094a814b-9cd7-4b50-856a-90f0b98b1336"
      },
      "execution_count": 4,
      "outputs": [
        {
          "output_type": "execute_result",
          "data": {
            "text/plain": [
              "55.0"
            ]
          },
          "metadata": {},
          "execution_count": 4
        }
      ]
    },
    {
      "cell_type": "code",
      "source": [
        "%timeit sum1(100)"
      ],
      "metadata": {
        "colab": {
          "base_uri": "https://localhost:8080/"
        },
        "id": "kp4Z3nQ1k-8o",
        "outputId": "cbe760e6-d717-4874-a3bc-7f05a147652d"
      },
      "execution_count": 5,
      "outputs": [
        {
          "output_type": "stream",
          "name": "stdout",
          "text": [
            "4.04 µs ± 234 ns per loop (mean ± std. dev. of 7 runs, 100000 loops each)\n"
          ]
        }
      ]
    },
    {
      "cell_type": "code",
      "source": [
        "%timeit sum2(100)"
      ],
      "metadata": {
        "colab": {
          "base_uri": "https://localhost:8080/"
        },
        "id": "sYhEMMSVlAB_",
        "outputId": "95fbcac7-408d-4955-b136-4aedf392b9b5"
      },
      "execution_count": 6,
      "outputs": [
        {
          "output_type": "stream",
          "name": "stdout",
          "text": [
            "472 ns ± 134 ns per loop (mean ± std. dev. of 7 runs, 1000000 loops each)\n"
          ]
        }
      ]
    },
    {
      "cell_type": "code",
      "source": [],
      "metadata": {
        "id": "sVDZffY2lBCn"
      },
      "execution_count": null,
      "outputs": []
    }
  ]
}