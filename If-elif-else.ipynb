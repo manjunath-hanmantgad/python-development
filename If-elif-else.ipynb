{
 "cells": [
  {
   "cell_type": "code",
   "execution_count": 1,
   "metadata": {},
   "outputs": [
    {
     "name": "stdout",
     "output_type": "stream",
     "text": [
      "Apple a day keeps a doctor away\n",
      "banana\n",
      "orange\n",
      "mango\n"
     ]
    }
   ],
   "source": [
    "fruit_basket = ['apple','banana','orange','mango']\n",
    "for fruit in fruit_basket:\n",
    "    if fruit == 'apple':\n",
    "        print(\"Apple a day keeps a doctor away\")\n",
    "    else:\n",
    "        print(fruit)"
   ]
  },
  {
   "cell_type": "code",
   "execution_count": 2,
   "metadata": {},
   "outputs": [],
   "source": [
    "#At the heart of every if statement is an expression that can be evaluated as True or False and is called a conditional test.\n",
    "\n",
    "#The simplest conditional test checks whether the value of a variable is equal to the value of interest.\n",
    "\n",
    "fruit = 'apple'"
   ]
  },
  {
   "cell_type": "code",
   "execution_count": 3,
   "metadata": {},
   "outputs": [
    {
     "data": {
      "text/plain": [
       "False"
      ]
     },
     "execution_count": 3,
     "metadata": {},
     "output_type": "execute_result"
    }
   ],
   "source": [
    "fruit == 'banana' # == is equality operator which checks for t or f.\n"
   ]
  },
  {
   "cell_type": "code",
   "execution_count": 4,
   "metadata": {},
   "outputs": [
    {
     "data": {
      "text/plain": [
       "True"
      ]
     },
     "execution_count": 4,
     "metadata": {},
     "output_type": "execute_result"
    }
   ],
   "source": [
    "fruit == 'apple'"
   ]
  },
  {
   "cell_type": "code",
   "execution_count": 5,
   "metadata": {},
   "outputs": [],
   "source": [
    "fruit = 'Apple'"
   ]
  },
  {
   "cell_type": "code",
   "execution_count": 6,
   "metadata": {},
   "outputs": [
    {
     "data": {
      "text/plain": [
       "False"
      ]
     },
     "execution_count": 6,
     "metadata": {},
     "output_type": "execute_result"
    }
   ],
   "source": [
    "fruit == 'apple'"
   ]
  },
  {
   "cell_type": "code",
   "execution_count": 7,
   "metadata": {},
   "outputs": [
    {
     "data": {
      "text/plain": [
       "True"
      ]
     },
     "execution_count": 7,
     "metadata": {},
     "output_type": "execute_result"
    }
   ],
   "source": [
    "fruit.lower() == 'apple' # true bcoz I converted Apple to lower case and then comapred it with apple.\n"
   ]
  },
  {
   "cell_type": "code",
   "execution_count": 10,
   "metadata": {
    "scrolled": true
   },
   "outputs": [
    {
     "name": "stdout",
     "output_type": "stream",
     "text": [
      " this is ok\n"
     ]
    }
   ],
   "source": [
    "fruit = 10\n",
    "#if fruit != 10: # this will not.\n",
    "if fruit != 12: # this will execute !\n",
    "    print(\" this is ok\") # this code not executed bcoz of false condition.\n",
    "    \n",
    "    "
   ]
  },
  {
   "cell_type": "code",
   "execution_count": 12,
   "metadata": {},
   "outputs": [
    {
     "data": {
      "text/plain": [
       "True"
      ]
     },
     "execution_count": 12,
     "metadata": {},
     "output_type": "execute_result"
    }
   ],
   "source": [
    "# and operator \n",
    "\n",
    "fruit_1 = 'apple'\n",
    "fruit_2 = 'banana'\n",
    "\n",
    "fruit_1 == 'apple' and fruit_2 == 'banana' # true and true is true"
   ]
  },
  {
   "cell_type": "code",
   "execution_count": 13,
   "metadata": {},
   "outputs": [
    {
     "data": {
      "text/plain": [
       "False"
      ]
     },
     "execution_count": 13,
     "metadata": {},
     "output_type": "execute_result"
    }
   ],
   "source": [
    "fruit_1 == 'apple' and fruit_2 == 'orange' # true and false is false"
   ]
  },
  {
   "cell_type": "code",
   "execution_count": 14,
   "metadata": {},
   "outputs": [
    {
     "data": {
      "text/plain": [
       "True"
      ]
     },
     "execution_count": 14,
     "metadata": {},
     "output_type": "execute_result"
    }
   ],
   "source": [
    "fruit_1 == 'apple' or fruit_2 == 'orange'"
   ]
  },
  {
   "cell_type": "code",
   "execution_count": 15,
   "metadata": {},
   "outputs": [
    {
     "data": {
      "text/plain": [
       "True"
      ]
     },
     "execution_count": 15,
     "metadata": {},
     "output_type": "execute_result"
    }
   ],
   "source": [
    "fruit_1 == 'apple' or fruit_2 == 'banana'"
   ]
  },
  {
   "cell_type": "code",
   "execution_count": 16,
   "metadata": {},
   "outputs": [
    {
     "data": {
      "text/plain": [
       "False"
      ]
     },
     "execution_count": 16,
     "metadata": {},
     "output_type": "execute_result"
    }
   ],
   "source": [
    "fruit_1 == 'appppple' or fruit_2 == 'orange' # true or anything is true\n",
    "\n",
    "# false or false is false"
   ]
  },
  {
   "cell_type": "code",
   "execution_count": 17,
   "metadata": {},
   "outputs": [
    {
     "data": {
      "text/plain": [
       "True"
      ]
     },
     "execution_count": 17,
     "metadata": {},
     "output_type": "execute_result"
    }
   ],
   "source": [
    "fruit_1 == 'apppple' or fruit_2 == 'banana'"
   ]
  },
  {
   "cell_type": "code",
   "execution_count": 18,
   "metadata": {},
   "outputs": [
    {
     "data": {
      "text/plain": [
       "True"
      ]
     },
     "execution_count": 18,
     "metadata": {},
     "output_type": "execute_result"
    }
   ],
   "source": [
    "# check whether value there in list\n",
    "\n",
    "fruit_basket = ['apple','banana','orange']\n",
    "'apple' in fruit_basket"
   ]
  },
  {
   "cell_type": "code",
   "execution_count": 19,
   "metadata": {},
   "outputs": [
    {
     "data": {
      "text/plain": [
       "True"
      ]
     },
     "execution_count": 19,
     "metadata": {},
     "output_type": "execute_result"
    }
   ],
   "source": [
    "'banana' in fruit_basket"
   ]
  },
  {
   "cell_type": "code",
   "execution_count": 20,
   "metadata": {},
   "outputs": [
    {
     "data": {
      "text/plain": [
       "False"
      ]
     },
     "execution_count": 20,
     "metadata": {},
     "output_type": "execute_result"
    }
   ],
   "source": [
    "'mango' in fruit_basket"
   ]
  },
  {
   "cell_type": "code",
   "execution_count": 25,
   "metadata": {},
   "outputs": [
    {
     "name": "stdout",
     "output_type": "stream",
     "text": [
      " You can eat the fruit\n"
     ]
    }
   ],
   "source": [
    "# value not in list\n",
    "\n",
    "bad_fruit = ['guava','chickoo']\n",
    "fruit = 'apple'\n",
    "#fruit = 'guava'\n",
    "if fruit not in bad_fruit:\n",
    "    print(\" You can eat the fruit\")"
   ]
  },
  {
   "cell_type": "code",
   "execution_count": 34,
   "metadata": {},
   "outputs": [
    {
     "name": "stdout",
     "output_type": "stream",
     "text": [
      " you can marry\n",
      " who is the girl?\n"
     ]
    }
   ],
   "source": [
    "man_age = 22\n",
    "#man_age = 19\n",
    "if man_age >=20:\n",
    "    print(\" you can marry\")\n",
    "    print(\" who is the girl?\")\n",
    "else:\n",
    "    print(\"Sorry wait for some time\")\n",
    "    print(\"what is so urgent?\")"
   ]
  },
  {
   "cell_type": "code",
   "execution_count": 38,
   "metadata": {},
   "outputs": [
    {
     "name": "stdout",
     "output_type": "stream",
     "text": [
      " Wow man what a age!\n"
     ]
    }
   ],
   "source": [
    "#man_age = 22\n",
    "#man_age = 18\n",
    "man_age = 20\n",
    "if man_age >20:\n",
    "    print(\"yes you can marry\")\n",
    "elif man_age == 20:\n",
    "    print(\" Wow man what a age!\")\n",
    "else:\n",
    "    print(\" Sorry wait for some time!\")\n",
    "    \n",
    "# The else block is a catchall statement. It matches any condition that wasn’t matched by a specific if or elif test, and that can sometimes include invalid or even malicious data. If you have a specific final condition you are testing for, consider using a final elif block and omit the else block.\n",
    "\n"
   ]
  },
  {
   "cell_type": "code",
   "execution_count": 39,
   "metadata": {},
   "outputs": [],
   "source": [
    "# multiple conditions need to be evaluated then in such cases\n",
    "# DO NOT use elif. Only use if statements.\n",
    "\n"
   ]
  },
  {
   "cell_type": "code",
   "execution_count": 40,
   "metadata": {},
   "outputs": [
    {
     "name": "stdout",
     "output_type": "stream",
     "text": [
      "eating apple \n",
      "eating banana \n",
      "eating orange \n"
     ]
    }
   ],
   "source": [
    "fruit_basket = ['apple','banana','orange']\n",
    "for fruit in fruit_basket:\n",
    "    print(\"eating\" + \" \" + fruit + \" \")"
   ]
  },
  {
   "cell_type": "code",
   "execution_count": 45,
   "metadata": {
    "scrolled": true
   },
   "outputs": [
    {
     "name": "stdout",
     "output_type": "stream",
     "text": [
      " wow it is my favorite fruit\n",
      " do I have to eat this ?\n",
      "eating orange \n"
     ]
    }
   ],
   "source": [
    "fruit_basket = ['apple','banana','orange']\n",
    "for fruit in fruit_basket:\n",
    "    if fruit == 'apple':\n",
    "        print(\" wow it is my favorite fruit\")\n",
    "    elif fruit == 'banana':\n",
    "        print(\" do I have to eat this ?\")\n",
    "    elif fruit == 'grape':\n",
    "        print(\" what is going on ?\")\n",
    "print(\"eating\" + \" \" + fruit + \" \")"
   ]
  },
  {
   "cell_type": "code",
   "execution_count": null,
   "metadata": {
    "scrolled": false
   },
   "outputs": [],
   "source": [
    "IF"
   ]
  },
  {
   "cell_type": "code",
   "execution_count": null,
   "metadata": {},
   "outputs": [],
   "source": []
  }
 ],
 "metadata": {
  "kernelspec": {
   "display_name": "Python 3",
   "language": "python",
   "name": "python3"
  },
  "language_info": {
   "codemirror_mode": {
    "name": "ipython",
    "version": 3
   },
   "file_extension": ".py",
   "mimetype": "text/x-python",
   "name": "python",
   "nbconvert_exporter": "python",
   "pygments_lexer": "ipython3",
   "version": "3.7.4"
  }
 },
 "nbformat": 4,
 "nbformat_minor": 2
}
