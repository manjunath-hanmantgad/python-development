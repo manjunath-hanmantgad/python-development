{
 "cells": [
  {
   "cell_type": "code",
   "execution_count": 1,
   "metadata": {},
   "outputs": [
    {
     "name": "stdout",
     "output_type": "stream",
     "text": [
      "How are you today? : Fine\n",
      "Fine\n"
     ]
    }
   ],
   "source": [
    "message = input(\"How are you today? : \")\n",
    "print(message)"
   ]
  },
  {
   "cell_type": "code",
   "execution_count": 2,
   "metadata": {},
   "outputs": [
    {
     "name": "stdout",
     "output_type": "stream",
     "text": [
      "How are you today? : Not fine\n",
      "Not fine\n"
     ]
    }
   ],
   "source": [
    "message = input(\"How are you today? : \")\n",
    "print(message)"
   ]
  },
  {
   "cell_type": "code",
   "execution_count": 5,
   "metadata": {},
   "outputs": [
    {
     "name": "stdout",
     "output_type": "stream",
     "text": [
      " Tell me your name: Joker\n",
      "Hello Joker\n"
     ]
    }
   ],
   "source": [
    "message = input(\" Tell me your name: \")\n",
    "print(\"Hello\" + \" \" + message)"
   ]
  },
  {
   "cell_type": "code",
   "execution_count": 7,
   "metadata": {},
   "outputs": [
    {
     "name": "stdout",
     "output_type": "stream",
     "text": [
      "Tell me your name and I will greet you.\n",
      "What is your name?Joker\n",
      "\n",
      "Hello Joker\n"
     ]
    }
   ],
   "source": [
    "# simple greeting \n",
    "\n",
    "message = \"Tell me your name and I will greet you.\"\n",
    "message += \"\\nWhat is your name?\"\n",
    "\n",
    "# this is to tell the user what Im looking for in case user doesnt know why Im asking the question.\n",
    "\n",
    "name = input(message)\n",
    "print(\"\\nHello\" + \" \" + name)"
   ]
  },
  {
   "cell_type": "code",
   "execution_count": 10,
   "metadata": {},
   "outputs": [
    {
     "name": "stdout",
     "output_type": "stream",
     "text": [
      "Tell me your age 28\n"
     ]
    },
    {
     "data": {
      "text/plain": [
       "True"
      ]
     },
     "execution_count": 10,
     "metadata": {},
     "output_type": "execute_result"
    }
   ],
   "source": [
    "# using int()\n",
    "\n",
    "age = input(\"Tell me your age \")\n",
    "age = int(age)\n",
    "age >=20\n",
    "\n",
    "# asks user age and then equates with condition.Returns true if condition is true."
   ]
  },
  {
   "cell_type": "code",
   "execution_count": 11,
   "metadata": {},
   "outputs": [
    {
     "name": "stdout",
     "output_type": "stream",
     "text": [
      "Tell me your age 19\n"
     ]
    },
    {
     "data": {
      "text/plain": [
       "False"
      ]
     },
     "execution_count": 11,
     "metadata": {},
     "output_type": "execute_result"
    }
   ],
   "source": [
    "age = input(\"Tell me your age \")\n",
    "age = int(age)\n",
    "age >=20"
   ]
  },
  {
   "cell_type": "code",
   "execution_count": 18,
   "metadata": {},
   "outputs": [
    {
     "name": "stdout",
     "output_type": "stream",
     "text": [
      "What is your umar? 28\n",
      "\n",
      "You can vote.\n"
     ]
    }
   ],
   "source": [
    "# vote or no vote\n",
    "\n",
    "umar = input(\"What is your umar? \")\n",
    "umar = int(umar)\n",
    "\n",
    "if umar >= 20:\n",
    "    print(\"\\nYou can vote.\")\n",
    "else:\n",
    "    print(\"\\nGrow up dude!\")"
   ]
  },
  {
   "cell_type": "code",
   "execution_count": 21,
   "metadata": {},
   "outputs": [
    {
     "name": "stdout",
     "output_type": "stream",
     "text": [
      "What is your umar? 0\n",
      "\n",
      "What ? How did you crawl out of your bed?\n"
     ]
    }
   ],
   "source": [
    "umar = input(\"What is your umar? \")\n",
    "umar = int(umar)\n",
    "\n",
    "if umar >= 20:\n",
    "    print(\"\\nYou can vote.\")\n",
    "elif umar == 0:\n",
    "    print(\"\\nWhat ? How did you crawl out of your bed?\")\n",
    "else:\n",
    "    print(\"\\nGrow up dude!\")"
   ]
  },
  {
   "cell_type": "code",
   "execution_count": 22,
   "metadata": {},
   "outputs": [
    {
     "name": "stdout",
     "output_type": "stream",
     "text": [
      "What is your umar? 28\n",
      "\n",
      "You can vote.\n"
     ]
    }
   ],
   "source": [
    "umar = input(\"What is your umar? \")\n",
    "umar = int(umar)\n",
    "\n",
    "if umar >= 20:\n",
    "    print(\"\\nYou can vote.\")\n",
    "elif umar == 0:\n",
    "    print(\"\\nWhat ? How did you crawl out of your bed?\")\n",
    "else:\n",
    "    print(\"\\nGrow up dude!\")"
   ]
  },
  {
   "cell_type": "code",
   "execution_count": 23,
   "metadata": {},
   "outputs": [
    {
     "name": "stdout",
     "output_type": "stream",
     "text": [
      "What is your umar? 10\n",
      "\n",
      "Grow up dude!\n"
     ]
    }
   ],
   "source": [
    "umar = input(\"What is your umar? \")\n",
    "umar = int(umar) # int() because age is integer and not a string.\n",
    "\n",
    "if umar >= 20:\n",
    "    print(\"\\nYou can vote.\")\n",
    "elif umar == 0:\n",
    "    print(\"\\nWhat ? How did you crawl out of your bed?\")\n",
    "else:\n",
    "    print(\"\\nGrow up dude!\")"
   ]
  },
  {
   "cell_type": "code",
   "execution_count": 25,
   "metadata": {},
   "outputs": [
    {
     "name": "stdout",
     "output_type": "stream",
     "text": [
      "Enter a number : 5\n",
      "\n",
      "Your number is divisible by 5\n"
     ]
    }
   ],
   "source": [
    "number = input(\"Enter a number : \")\n",
    "number = int(number)\n",
    "\n",
    "if number % 5 == 0:\n",
    "    print(\"\\nYour number is divisible by 5\")\n",
    "else:\n",
    "    print(\"\\nGive me better number\")"
   ]
  },
  {
   "cell_type": "code",
   "execution_count": 26,
   "metadata": {},
   "outputs": [
    {
     "name": "stdout",
     "output_type": "stream",
     "text": [
      "Enter a number : 6\n",
      "\n",
      "Give me better number\n"
     ]
    }
   ],
   "source": [
    "number = input(\"Enter a number : \")\n",
    "number = int(number)\n",
    "\n",
    "if number % 5 == 0:\n",
    "    print(\"\\nYour number is divisible by 5\")\n",
    "else:\n",
    "    print(\"\\nGive me better number\")"
   ]
  },
  {
   "cell_type": "code",
   "execution_count": 28,
   "metadata": {},
   "outputs": [
    {
     "name": "stdout",
     "output_type": "stream",
     "text": [
      "1\n",
      "3\n",
      "5\n",
      "7\n",
      "9\n"
     ]
    }
   ],
   "source": [
    "number = 1\n",
    "while number <=10:\n",
    "    print(number)\n",
    "    number += 2"
   ]
  },
  {
   "cell_type": "code",
   "execution_count": 30,
   "metadata": {},
   "outputs": [
    {
     "name": "stdout",
     "output_type": "stream",
     "text": [
      "1\n",
      "2\n",
      "3\n",
      "4\n",
      "5\n",
      "6\n",
      "7\n",
      "8\n",
      "9\n",
      "10\n"
     ]
    }
   ],
   "source": [
    "number = 1\n",
    "while number <=10:\n",
    "    print(number)\n",
    "    number += 1 # number + 1 upto 10."
   ]
  },
  {
   "cell_type": "code",
   "execution_count": 33,
   "metadata": {
    "scrolled": true
   },
   "outputs": [
    {
     "name": "stdout",
     "output_type": "stream",
     "text": [
      "Enter a number: 1\n",
      "1\n",
      "Enter quit to exit2\n",
      "2\n",
      "1\n",
      "Enter quit to exit3\n",
      "3\n",
      "1\n",
      "Enter quit to exit5\n",
      "5\n",
      "1\n",
      "Enter quit to exitquit\n",
      "quit\n"
     ]
    }
   ],
   "source": [
    "# bore the user with repetition \n",
    "\n",
    "number = input(\"Enter a number: \")\n",
    "number += \"\\nEnter quit to exit\"\n",
    "\n",
    "message = \" \" # this is to accept whatever number user enters. # it has to be there bcoz to compare for python.\n",
    "# since it is empty , so python enters the loop.\n",
    "while message !='quit':\n",
    "    message= input(number)\n",
    "    print(message)"
   ]
  },
  {
   "cell_type": "code",
   "execution_count": 34,
   "metadata": {},
   "outputs": [
    {
     "name": "stdout",
     "output_type": "stream",
     "text": [
      "\n",
      "Tell me your name: \n",
      "Enter quit to exitJoker\n",
      "Joker\n",
      "\n",
      "Tell me your name: \n",
      "Enter quit to exitJoker1\n",
      "Joker1\n",
      "\n",
      "Tell me your name: \n",
      "Enter quit to exitJoker2\n",
      "Joker2\n",
      "\n",
      "Tell me your name: \n",
      "Enter quit to exitquit\n"
     ]
    }
   ],
   "source": [
    "# flag : determine when program should end. Program can end due to various factors so all these factors must be taken into account.\n",
    "# flag acts as a signal to program.\n",
    "# so run program till flag = true and exit when flag returns false.\n",
    "# so while loop needs to check if flag is true or false. if true then run the while loop.\n",
    "# with this we can club all the events which can potentially kill the program.\n",
    "\n",
    "prompt = \"\\nTell me your name: \"\n",
    "prompt += \"\\nEnter quit to exit\"\n",
    "\n",
    "flag_active = True\n",
    "while flag_active:\n",
    "    message = input(prompt)\n",
    "    \n",
    "    if message == 'quit':\n",
    "        flag_active = False # this sets flag to false so kill program\n",
    "    else:\n",
    "        print(message)\n",
    "        \n",
    "# below till quit was not eneterd the flag was positive , only when I enter quit the flag become false and it kill program.\n",
    "\n",
    "\n",
    "# here elif can be added which would tell which cases would cause flag_Active to be false."
   ]
  },
  {
   "cell_type": "code",
   "execution_count": 36,
   "metadata": {},
   "outputs": [
    {
     "name": "stdout",
     "output_type": "stream",
     "text": [
      "\n",
      "Enter your country name: \n",
      "Enter quit to run away India\n",
      "\n",
      "I will visit India.\n",
      "\n",
      "Enter your country name: \n",
      "Enter quit to run away America\n",
      "\n",
      "I will visit America.\n",
      "\n",
      "Enter your country name: \n",
      "Enter quit to run away quit\n"
     ]
    }
   ],
   "source": [
    "# use of BREAK\n",
    "\n",
    "prompt = \"\\nEnter your country name: \"\n",
    "prompt += \"\\nEnter quit to run away \"\n",
    "\n",
    "while True:\n",
    "    country = input(prompt)\n",
    "    \n",
    "    if country == 'quit':\n",
    "        break\n",
    "    else:\n",
    "        print(\"\\nI will visit \" + country.title() + \".\")"
   ]
  },
  {
   "cell_type": "code",
   "execution_count": 40,
   "metadata": {},
   "outputs": [
    {
     "name": "stdout",
     "output_type": "stream",
     "text": [
      "['Joker', 'Batman', 'Gotham']\n",
      "['Joker', 'Gotham']\n"
     ]
    }
   ],
   "source": [
    "# remove from one list to another\n",
    "\n",
    "# move batman away from Gotham and let Joker take control . LOL!\n",
    "\n",
    "people = ['Joker','Batman','Gotham']\n",
    "print(people)\n",
    "\n",
    "\n",
    "while 'Batman' in people:\n",
    "    people.remove('Batman')\n",
    "\n",
    "print(people)\n",
    "\n"
   ]
  },
  {
   "cell_type": "code",
   "execution_count": 41,
   "metadata": {},
   "outputs": [
    {
     "name": "stdout",
     "output_type": "stream",
     "text": [
      "\n",
      "What is your name ?Human\n",
      "Do you want the Joker to stay?y\n",
      "\n",
      "Anymore users? (y/n) y\n",
      "\n",
      "What is your name ?two\n",
      "Do you want the Joker to stay?No\n",
      "\n",
      "Anymore users? (y/n) n\n",
      "n\\Results are.... \n",
      "Human wants Joker to stay y.\n",
      "two wants Joker to stay No.\n"
     ]
    }
   ],
   "source": [
    "# who wants to do what ?\n",
    "\n",
    "responses = {}\n",
    "\n",
    "polling_active = True # flag\n",
    "\n",
    "while polling_active:\n",
    "    name = input(\"\\nWhat is your name ?\")\n",
    "    response = input(\"Do you want the Joker to stay?\")\n",
    "    \n",
    "    # now store the responses of these names or users\n",
    "    responses[name] = response\n",
    "    \n",
    "    # anymore Joker fans ?\n",
    "    repeat = input(\"\\nAnymore users? (y/n) \")\n",
    "    if repeat == 'n':\n",
    "        polling_active = False\n",
    "        \n",
    "# now print results\n",
    "\n",
    "print(\"n\\Results are.... \")\n",
    "for name, response in responses.items():\n",
    "    print(name + \" \" + \"wants Joker to stay \" + response + \".\")"
   ]
  },
  {
   "cell_type": "code",
   "execution_count": null,
   "metadata": {},
   "outputs": [],
   "source": []
  }
 ],
 "metadata": {
  "kernelspec": {
   "display_name": "Python 3",
   "language": "python",
   "name": "python3"
  },
  "language_info": {
   "codemirror_mode": {
    "name": "ipython",
    "version": 3
   },
   "file_extension": ".py",
   "mimetype": "text/x-python",
   "name": "python",
   "nbconvert_exporter": "python",
   "pygments_lexer": "ipython3",
   "version": "3.7.4"
  }
 },
 "nbformat": 4,
 "nbformat_minor": 2
}
