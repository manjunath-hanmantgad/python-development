{
  "nbformat": 4,
  "nbformat_minor": 0,
  "metadata": {
    "colab": {
      "provenance": [],
      "authorship_tag": "ABX9TyOcVeq3Gh/87x/8SYiZ5iZj",
      "include_colab_link": true
    },
    "kernelspec": {
      "name": "python3",
      "display_name": "Python 3"
    },
    "language_info": {
      "name": "python"
    }
  },
  "cells": [
    {
      "cell_type": "markdown",
      "metadata": {
        "id": "view-in-github",
        "colab_type": "text"
      },
      "source": [
        "<a href=\"https://colab.research.google.com/github/manjunath-hanmantgad/python-development/blob/master/Arrays.ipynb\" target=\"_parent\"><img src=\"https://colab.research.google.com/assets/colab-badge.svg\" alt=\"Open In Colab\"/></a>"
      ]
    },
    {
      "cell_type": "code",
      "execution_count": 1,
      "metadata": {
        "id": "RbKhw4VRM67B"
      },
      "outputs": [],
      "source": [
        "# Referential Arrays\n",
        "# Lists are immutable \n",
        "# we are just changing the existing reference\n",
        "# we are not changing integer object but rather pointing to another object\n",
        "# shallow copy - references all elements in the original list\n",
        "# deep copy - to get a new list with new elements \n",
        "# use deep copy module ()\n",
        "# mostly we use shallow copy\n",
        "\n",
        "# counters = [0] * 8 \n",
        "# // this means that all 8 cells refernce the same object \n",
        "# // we are not making 8 objects just referncing the above cells \n",
        "\n",
        "# counters[2] +=1 \n",
        "# // does not change value of existing integer \n",
        "# // just computes a new integer \n",
        "# // referencing the objects here.\n",
        "\n",
        "# extend command - extended list receives references to the original elements\n",
        "# adding the refernces for the index.\n",
        "\n"
      ]
    },
    {
      "cell_type": "code",
      "source": [
        "# Dynamic arrays \n",
        "\n",
        "# dont need to specify the length of list\n",
        "# we can call -> list = []\n",
        "# thus here we are initialising a empty list \n",
        "\n",
        "\n",
        "import sys \n",
        "\n",
        "n = 10 \n",
        "\n",
        "data = []\n",
        "\n",
        "for i in range(n):\n",
        "  a = len(data) # number of elements \n",
        "  b = sys.getsizeof(data) # actual size in Bytes \n",
        "\n",
        "  print(f\"Length: {0:3d}; Size in Bytes: {1:4d}\".format(a,b))\n",
        "\n",
        "# now append \n",
        "  data.append(n)"
      ],
      "metadata": {
        "colab": {
          "base_uri": "https://localhost:8080/"
        },
        "id": "HI-5JCJFPeQL",
        "outputId": "9f200539-b481-4fcb-bc15-d080a554be32"
      },
      "execution_count": 7,
      "outputs": [
        {
          "output_type": "stream",
          "name": "stdout",
          "text": [
            "Length:   0; Size in Bytes:    1\n",
            "Length:   0; Size in Bytes:    1\n",
            "Length:   0; Size in Bytes:    1\n",
            "Length:   0; Size in Bytes:    1\n",
            "Length:   0; Size in Bytes:    1\n",
            "Length:   0; Size in Bytes:    1\n",
            "Length:   0; Size in Bytes:    1\n",
            "Length:   0; Size in Bytes:    1\n",
            "Length:   0; Size in Bytes:    1\n",
            "Length:   0; Size in Bytes:    1\n"
          ]
        }
      ]
    },
    {
      "cell_type": "code",
      "source": [],
      "metadata": {
        "id": "gGH-TRGLQvio"
      },
      "execution_count": null,
      "outputs": []
    }
  ]
}