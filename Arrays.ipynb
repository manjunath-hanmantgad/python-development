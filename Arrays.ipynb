{
  "nbformat": 4,
  "nbformat_minor": 0,
  "metadata": {
    "colab": {
      "provenance": [],
      "authorship_tag": "ABX9TyMl2p2slJqlTwejCn0N28Uh",
      "include_colab_link": true
    },
    "kernelspec": {
      "name": "python3",
      "display_name": "Python 3"
    },
    "language_info": {
      "name": "python"
    }
  },
  "cells": [
    {
      "cell_type": "markdown",
      "metadata": {
        "id": "view-in-github",
        "colab_type": "text"
      },
      "source": [
        "<a href=\"https://colab.research.google.com/github/manjunath-hanmantgad/python-development/blob/master/Arrays.ipynb\" target=\"_parent\"><img src=\"https://colab.research.google.com/assets/colab-badge.svg\" alt=\"Open In Colab\"/></a>"
      ]
    },
    {
      "cell_type": "code",
      "execution_count": 1,
      "metadata": {
        "id": "RbKhw4VRM67B"
      },
      "outputs": [],
      "source": [
        "# Referential Arrays\n",
        "# Lists are immutable \n",
        "# we are just changing the existing reference\n",
        "# we are not changing integer object but rather pointing to another object\n",
        "# shallow copy - references all elements in the original list\n",
        "# deep copy - to get a new list with new elements \n",
        "# use deep copy module ()\n",
        "# mostly we use shallow copy\n",
        "\n",
        "# counters = [0] * 8 \n",
        "# // this means that all 8 cells refernce the same object \n",
        "# // we are not making 8 objects just referncing the above cells \n",
        "\n",
        "# counters[2] +=1 \n",
        "# // does not change value of existing integer \n",
        "# // just computes a new integer \n",
        "# // referencing the objects here.\n",
        "\n",
        "# extend command - extended list receives references to the original elements\n",
        "# adding the refernces for the index.\n",
        "\n"
      ]
    },
    {
      "cell_type": "code",
      "source": [
        "# Dynamic arrays \n",
        "\n",
        "# dont need to specify the length of list\n",
        "# we can call -> list = []\n",
        "# thus here we are initialising a empty list \n",
        "\n",
        "\n",
        "import sys \n",
        "\n",
        "n = 10 \n",
        "\n",
        "data = []\n",
        "\n",
        "for i in range(n):\n",
        "  a = len(data) # number of elements \n",
        "  b = sys.getsizeof(data) # actual size in Bytes \n",
        "\n",
        "  print(f\"Length: {0:3d}; Size in Bytes: {1:4d}\".format(a,b))\n",
        "\n",
        "# now append \n",
        "  data.append(n)"
      ],
      "metadata": {
        "colab": {
          "base_uri": "https://localhost:8080/"
        },
        "id": "HI-5JCJFPeQL",
        "outputId": "9f200539-b481-4fcb-bc15-d080a554be32"
      },
      "execution_count": 7,
      "outputs": [
        {
          "output_type": "stream",
          "name": "stdout",
          "text": [
            "Length:   0; Size in Bytes:    1\n",
            "Length:   0; Size in Bytes:    1\n",
            "Length:   0; Size in Bytes:    1\n",
            "Length:   0; Size in Bytes:    1\n",
            "Length:   0; Size in Bytes:    1\n",
            "Length:   0; Size in Bytes:    1\n",
            "Length:   0; Size in Bytes:    1\n",
            "Length:   0; Size in Bytes:    1\n",
            "Length:   0; Size in Bytes:    1\n",
            "Length:   0; Size in Bytes:    1\n"
          ]
        }
      ]
    },
    {
      "cell_type": "code",
      "source": [
        "# when array becomes full \n",
        "# then set this 'A' array to new array 'B'\n",
        "# now start using this 'B' array."
      ],
      "metadata": {
        "id": "gGH-TRGLQvio"
      },
      "execution_count": null,
      "outputs": []
    },
    {
      "cell_type": "code",
      "source": [
        "import ctypes\n",
        "\n",
        "class DynamicArray(object):\n",
        "    '''\n",
        "    DYNAMIC ARRAY CLASS (Similar to Python List)\n",
        "    '''\n",
        "    \n",
        "    def __init__(self):\n",
        "        self.n = 0 # Count actual elements (Default is 0)\n",
        "        self.capacity = 1 # Default Capacity\n",
        "        self.A = self.make_array(self.capacity) # makes the list\n",
        "        \n",
        "    def __len__(self):\n",
        "        \"\"\"\n",
        "        Return number of elements sorted in array\n",
        "        \"\"\"\n",
        "        return self.n # returns len(n)\n",
        "    \n",
        "    def __getitem__(self,k):\n",
        "        \"\"\"\n",
        "        Return element at index k\n",
        "        \"\"\"\n",
        "        if not 0 <= k <self.n:\n",
        "            return IndexError('K is out of bounds!') # Check it k index is in bounds of array\n",
        "        \n",
        "        return self.A[k] #Retrieve from array at index k\n",
        "    def append(self, ele):\n",
        "        \"\"\"\n",
        "        Add element to end of the array\n",
        "        \"\"\"\n",
        "        if self.n == self.capacity:\n",
        "            self._resize(2*self.capacity) #Double capacity if not enough room\n",
        "        \n",
        "        self.A[self.n] = ele #Set self.n index to element\n",
        "        self.n += 1\n",
        "        \n",
        "    def _resize(self,new_cap):\n",
        "        \"\"\"\n",
        "        Resize internal array to capacity new_cap\n",
        "        \"\"\"\n",
        "        \n",
        "        B = self.make_array(new_cap) # New bigger array\n",
        "        \n",
        "        for k in range(self.n): # Reference all existing values\n",
        "            B[k] = self.A[k]\n",
        "            \n",
        "        self.A = B # Call A the new bigger array\n",
        "        self.capacity = new_cap # Reset the capacity\n",
        "        \n",
        "    def make_array(self,new_cap):\n",
        "        \"\"\"\n",
        "        Returns a new array with new_cap capacity\n",
        "        \"\"\"\n",
        "        return (new_cap * ctypes.py_object)()"
      ],
      "metadata": {
        "id": "zig9i-EOX4dS"
      },
      "execution_count": 8,
      "outputs": []
    },
    {
      "cell_type": "code",
      "source": [
        "# Instantiate\n",
        "arr = DynamicArray()\n",
        "\n",
        "# Append new element\n",
        "arr.append(1)\n",
        "\n",
        "# Check length\n",
        "print(len(arr))\n",
        "\n",
        "# Append new element\n",
        "arr.append(2)\n",
        "\n",
        "# Check length\n",
        "print(len(arr))\n",
        "\n",
        "# Index\n",
        "print(arr[0])\n",
        "\n",
        "print(arr[1])"
      ],
      "metadata": {
        "colab": {
          "base_uri": "https://localhost:8080/"
        },
        "id": "K0WcqfUAYxcB",
        "outputId": "339db58d-f7fe-4281-92fe-fbe9afc9993e"
      },
      "execution_count": 10,
      "outputs": [
        {
          "output_type": "stream",
          "name": "stdout",
          "text": [
            "1\n",
            "2\n",
            "1\n",
            "2\n"
          ]
        }
      ]
    },
    {
      "cell_type": "code",
      "source": [
        "# Amortization\n",
        "\n",
        "# append operation is O(n) complexity\n",
        "# means breaking down -- makes complexity = O(1)"
      ],
      "metadata": {
        "id": "jBNJYHQpZYpL"
      },
      "execution_count": 11,
      "outputs": []
    },
    {
      "cell_type": "code",
      "source": [
        "# Anagram problem\n",
        "\n"
      ],
      "metadata": {
        "id": "_Mn8JqFvribJ"
      },
      "execution_count": null,
      "outputs": []
    },
    {
      "cell_type": "markdown",
      "source": [
        "Given two strings, check to see if they are anagrams. An anagram is when the two strings can be written using the exact same letters (so you can just rearrange the letters to get a different phrase or word).\n",
        "\n",
        "For example:\n",
        "\n",
        "\"public relations\" is an anagram of \"crap built on lies.\"\n",
        "\n",
        "\"clint eastwood\" is an anagram of \"old west action\"\n",
        "\n",
        "Note: Ignore spaces and capitalization. So \"d go\" is an anagram of \"God\" and \"dog\" and \"o d g\"."
      ],
      "metadata": {
        "id": "5Krfmt4psonx"
      }
    },
    {
      "cell_type": "code",
      "source": [
        "# appraoches\n",
        "\n",
        "# if two words have same length and same words then they are anagrams\n",
        "# also if they are equal after sorting then they are anagrams\n"
      ],
      "metadata": {
        "id": "GiFAvXJbspSE"
      },
      "execution_count": 12,
      "outputs": []
    },
    {
      "cell_type": "code",
      "source": [
        "def anagram(s1,s2):\n",
        "\n",
        "  s1 = s1.replace(' ' , '').lower() # replace whitespaces\n",
        "  s2 = s2.replace(' ', '').lower()\n",
        "  return sorted(s1) == sorted(s2) # comparing strings after removing whitespace\n",
        "  "
      ],
      "metadata": {
        "id": "yIQ_Wg-7s-M8"
      },
      "execution_count": 13,
      "outputs": []
    },
    {
      "cell_type": "code",
      "source": [
        "# testing \n",
        "\n",
        "anagram('cat', 'tac')"
      ],
      "metadata": {
        "colab": {
          "base_uri": "https://localhost:8080/"
        },
        "id": "GPu7t-4qtUDB",
        "outputId": "36596b9d-2fa5-4554-a5ac-7d0ecb5d89c6"
      },
      "execution_count": 14,
      "outputs": [
        {
          "output_type": "execute_result",
          "data": {
            "text/plain": [
              "True"
            ]
          },
          "metadata": {},
          "execution_count": 14
        }
      ]
    },
    {
      "cell_type": "code",
      "source": [
        "anagram('two', 'three')"
      ],
      "metadata": {
        "colab": {
          "base_uri": "https://localhost:8080/"
        },
        "id": "n0RzLqxqtXY9",
        "outputId": "00e11517-40f9-4788-8c73-32122d2d6fa3"
      },
      "execution_count": 15,
      "outputs": [
        {
          "output_type": "execute_result",
          "data": {
            "text/plain": [
              "False"
            ]
          },
          "metadata": {},
          "execution_count": 15
        }
      ]
    },
    {
      "cell_type": "code",
      "source": [],
      "metadata": {
        "id": "Gukue0qLubs3"
      },
      "execution_count": null,
      "outputs": []
    },
    {
      "cell_type": "code",
      "source": [
        "# solution using counting  [PREFERRED]\n",
        "\n",
        "def anagram(s1,s2):\n",
        "\n",
        "  s1 = s1.replace(' ' , '').lower() # replace whitespaces\n",
        "  s2 = s2.replace(' ', '').lower()\n",
        "  \n",
        "  # edge case check \n",
        "  # if len of s1 and s2 is not same then they are not anagrams\n",
        "  if len(s1) != len(s2):\n",
        "    return False\n",
        "    \n",
        "  # begin here\n",
        "  count = {}\n",
        "\n",
        "  for letter in s1:\n",
        "    if letter in count: # if letter in dict then add 1 to key\n",
        "      count[letter] += 1\n",
        "    else:\n",
        "      count[letter] = 1\n",
        "\n",
        "  for letter in s2:\n",
        "    if letter in count:\n",
        "      count[letter] -= 1\n",
        "    else:\n",
        "      count[letter] = 1\n",
        "\n",
        "  for k in count:\n",
        "    if count[k] != 0:\n",
        "      return False \n",
        "  \n",
        "  return True \n",
        "\n",
        "\n",
        "  \n",
        "  #return sorted(s1) == sorted(s2) # comparing strings after removing whitespace\n",
        "  "
      ],
      "metadata": {
        "id": "wNgeyRF2taTT"
      },
      "execution_count": 16,
      "outputs": []
    },
    {
      "cell_type": "code",
      "source": [
        "anagram('two', 'owt')"
      ],
      "metadata": {
        "colab": {
          "base_uri": "https://localhost:8080/"
        },
        "id": "xmHrvL3-uQ6d",
        "outputId": "1f04102b-46db-4c00-bacf-e749b9a49a04"
      },
      "execution_count": 17,
      "outputs": [
        {
          "output_type": "execute_result",
          "data": {
            "text/plain": [
              "True"
            ]
          },
          "metadata": {},
          "execution_count": 17
        }
      ]
    },
    {
      "cell_type": "code",
      "source": [
        "anagram('two', 'three')"
      ],
      "metadata": {
        "colab": {
          "base_uri": "https://localhost:8080/"
        },
        "id": "SE6agyWKuUqY",
        "outputId": "4b66664a-a258-41ff-af66-56f63ef765da"
      },
      "execution_count": 18,
      "outputs": [
        {
          "output_type": "execute_result",
          "data": {
            "text/plain": [
              "False"
            ]
          },
          "metadata": {},
          "execution_count": 18
        }
      ]
    },
    {
      "cell_type": "code",
      "source": [
        "# Using sorting \n",
        "\n",
        "# NO_OF_CHARS = 256\n",
        "\n",
        "def anagram(s1,s2):\n",
        "  NO_OF_CHARS = 256\n",
        "  count = [0] * NO_OF_CHARS \n",
        "\n",
        "  for i in range(max(len(s1), len(s2))):\n",
        "    if i < len(s1):\n",
        "      count[ord(s1[i])] += 1\n",
        "    if i < len(s2):\n",
        "      count[ord(s2[i])] -= 1\n",
        "\n",
        "  # checking if any non zero values \n",
        "\n",
        "  for i in range(NO_OF_CHARS):\n",
        "    if count[i]:\n",
        "      return False\n",
        "  return True # haha this line is imp.\n",
        "\n",
        "def findanagram(arr, n):\n",
        "    for i in range(n-1):\n",
        "      for j in range(i+1, n):\n",
        "\n",
        "        # print strings if anagrams \n",
        "        if anagram(arr[i], arr[j]):\n",
        "          print(arr[i], \"is anagram of\", arr[j])\n",
        "\n"
      ],
      "metadata": {
        "id": "lg-5cz9DuWxs"
      },
      "execution_count": 26,
      "outputs": []
    },
    {
      "cell_type": "code",
      "source": [
        "if __name__ == \"__main__\":\n",
        "    arr = [\"geeksquiz\", \"geeksforgeeks\", \"abcd\", \"forgeeksgeeks\", \"zuiqkeegs\"]\n",
        "    n = len(arr)\n",
        "    findanagram(arr, n)"
      ],
      "metadata": {
        "colab": {
          "base_uri": "https://localhost:8080/"
        },
        "id": "McvXz5lOwQH2",
        "outputId": "9cdac36e-c795-45ca-cad3-a5f03a6b3046"
      },
      "execution_count": 27,
      "outputs": [
        {
          "output_type": "stream",
          "name": "stdout",
          "text": [
            "geeksquiz is anagram of zuiqkeegs\n",
            "geeksforgeeks is anagram of forgeeksgeeks\n"
          ]
        }
      ]
    },
    {
      "cell_type": "code",
      "source": [],
      "metadata": {
        "id": "OlpYFc9owXkM"
      },
      "execution_count": null,
      "outputs": []
    }
  ]
}