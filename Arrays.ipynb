{
  "nbformat": 4,
  "nbformat_minor": 0,
  "metadata": {
    "colab": {
      "provenance": [],
      "authorship_tag": "ABX9TyMNCcikMA1WhZnMMPyPfqiM",
      "include_colab_link": true
    },
    "kernelspec": {
      "name": "python3",
      "display_name": "Python 3"
    },
    "language_info": {
      "name": "python"
    }
  },
  "cells": [
    {
      "cell_type": "markdown",
      "metadata": {
        "id": "view-in-github",
        "colab_type": "text"
      },
      "source": [
        "<a href=\"https://colab.research.google.com/github/manjunath-hanmantgad/python-development/blob/master/Arrays.ipynb\" target=\"_parent\"><img src=\"https://colab.research.google.com/assets/colab-badge.svg\" alt=\"Open In Colab\"/></a>"
      ]
    },
    {
      "cell_type": "code",
      "execution_count": 1,
      "metadata": {
        "id": "RbKhw4VRM67B"
      },
      "outputs": [],
      "source": [
        "# Referential Arrays\n",
        "# Lists are immutable \n",
        "# we are just changing the existing reference\n",
        "# we are not changing integer object but rather pointing to another object\n",
        "# shallow copy - references all elements in the original list\n",
        "# deep copy - to get a new list with new elements \n",
        "# use deep copy module ()\n",
        "# mostly we use shallow copy\n",
        "\n",
        "# counters = [0] * 8 \n",
        "# // this means that all 8 cells refernce the same object \n",
        "# // we are not making 8 objects just referncing the above cells \n",
        "\n",
        "# counters[2] +=1 \n",
        "# // does not change value of existing integer \n",
        "# // just computes a new integer \n",
        "# // referencing the objects here.\n",
        "\n",
        "# extend command - extended list receives references to the original elements\n",
        "# adding the refernces for the index.\n",
        "\n"
      ]
    },
    {
      "cell_type": "code",
      "source": [
        "# Dynamic arrays \n",
        "\n",
        "# dont need to specify the length of list\n",
        "# we can call -> list = []\n",
        "# thus here we are initialising a empty list \n",
        "\n",
        "\n",
        "import sys \n",
        "\n",
        "n = 10 \n",
        "\n",
        "data = []\n",
        "\n",
        "for i in range(n):\n",
        "  a = len(data) # number of elements \n",
        "  b = sys.getsizeof(data) # actual size in Bytes \n",
        "\n",
        "  print(f\"Length: {0:3d}; Size in Bytes: {1:4d}\".format(a,b))\n",
        "\n",
        "# now append \n",
        "  data.append(n)"
      ],
      "metadata": {
        "colab": {
          "base_uri": "https://localhost:8080/"
        },
        "id": "HI-5JCJFPeQL",
        "outputId": "9f200539-b481-4fcb-bc15-d080a554be32"
      },
      "execution_count": 7,
      "outputs": [
        {
          "output_type": "stream",
          "name": "stdout",
          "text": [
            "Length:   0; Size in Bytes:    1\n",
            "Length:   0; Size in Bytes:    1\n",
            "Length:   0; Size in Bytes:    1\n",
            "Length:   0; Size in Bytes:    1\n",
            "Length:   0; Size in Bytes:    1\n",
            "Length:   0; Size in Bytes:    1\n",
            "Length:   0; Size in Bytes:    1\n",
            "Length:   0; Size in Bytes:    1\n",
            "Length:   0; Size in Bytes:    1\n",
            "Length:   0; Size in Bytes:    1\n"
          ]
        }
      ]
    },
    {
      "cell_type": "code",
      "source": [
        "# when array becomes full \n",
        "# then set this 'A' array to new array 'B'\n",
        "# now start using this 'B' array."
      ],
      "metadata": {
        "id": "gGH-TRGLQvio"
      },
      "execution_count": null,
      "outputs": []
    },
    {
      "cell_type": "code",
      "source": [
        "import ctypes\n",
        "\n",
        "class DynamicArray(object):\n",
        "    '''\n",
        "    DYNAMIC ARRAY CLASS (Similar to Python List)\n",
        "    '''\n",
        "    \n",
        "    def __init__(self):\n",
        "        self.n = 0 # Count actual elements (Default is 0)\n",
        "        self.capacity = 1 # Default Capacity\n",
        "        self.A = self.make_array(self.capacity) # makes the list\n",
        "        \n",
        "    def __len__(self):\n",
        "        \"\"\"\n",
        "        Return number of elements sorted in array\n",
        "        \"\"\"\n",
        "        return self.n # returns len(n)\n",
        "    \n",
        "    def __getitem__(self,k):\n",
        "        \"\"\"\n",
        "        Return element at index k\n",
        "        \"\"\"\n",
        "        if not 0 <= k <self.n:\n",
        "            return IndexError('K is out of bounds!') # Check it k index is in bounds of array\n",
        "        \n",
        "        return self.A[k] #Retrieve from array at index k\n",
        "    def append(self, ele):\n",
        "        \"\"\"\n",
        "        Add element to end of the array\n",
        "        \"\"\"\n",
        "        if self.n == self.capacity:\n",
        "            self._resize(2*self.capacity) #Double capacity if not enough room\n",
        "        \n",
        "        self.A[self.n] = ele #Set self.n index to element\n",
        "        self.n += 1\n",
        "        \n",
        "    def _resize(self,new_cap):\n",
        "        \"\"\"\n",
        "        Resize internal array to capacity new_cap\n",
        "        \"\"\"\n",
        "        \n",
        "        B = self.make_array(new_cap) # New bigger array\n",
        "        \n",
        "        for k in range(self.n): # Reference all existing values\n",
        "            B[k] = self.A[k]\n",
        "            \n",
        "        self.A = B # Call A the new bigger array\n",
        "        self.capacity = new_cap # Reset the capacity\n",
        "        \n",
        "    def make_array(self,new_cap):\n",
        "        \"\"\"\n",
        "        Returns a new array with new_cap capacity\n",
        "        \"\"\"\n",
        "        return (new_cap * ctypes.py_object)()"
      ],
      "metadata": {
        "id": "zig9i-EOX4dS"
      },
      "execution_count": 8,
      "outputs": []
    },
    {
      "cell_type": "code",
      "source": [
        "# Instantiate\n",
        "arr = DynamicArray()\n",
        "\n",
        "# Append new element\n",
        "arr.append(1)\n",
        "\n",
        "# Check length\n",
        "print(len(arr))\n",
        "\n",
        "# Append new element\n",
        "arr.append(2)\n",
        "\n",
        "# Check length\n",
        "print(len(arr))\n",
        "\n",
        "# Index\n",
        "print(arr[0])\n",
        "\n",
        "print(arr[1])"
      ],
      "metadata": {
        "colab": {
          "base_uri": "https://localhost:8080/"
        },
        "id": "K0WcqfUAYxcB",
        "outputId": "339db58d-f7fe-4281-92fe-fbe9afc9993e"
      },
      "execution_count": 10,
      "outputs": [
        {
          "output_type": "stream",
          "name": "stdout",
          "text": [
            "1\n",
            "2\n",
            "1\n",
            "2\n"
          ]
        }
      ]
    },
    {
      "cell_type": "code",
      "source": [],
      "metadata": {
        "id": "jBNJYHQpZYpL"
      },
      "execution_count": null,
      "outputs": []
    }
  ]
}