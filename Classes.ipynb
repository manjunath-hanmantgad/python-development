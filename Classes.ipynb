{
 "cells": [
  {
   "cell_type": "markdown",
   "id": "fb4b22e0",
   "metadata": {},
   "source": [
    "# Classes\n",
    "\n",
    "In object-oriented programming you write classes that represent real-world things and situations, and you create objects based on these classes. When you write a class, you define the general behavior that a whole category of objects can have. When you create individual objects from the class, each object is automatically equipped with the general behavior; you can then give each object whatever unique traits you desire."
   ]
  },
  {
   "cell_type": "markdown",
   "id": "9b365d29",
   "metadata": {},
   "source": [
    "Making an object from a class is called instantiation,"
   ]
  },
  {
   "cell_type": "markdown",
   "id": "daf6b98f",
   "metadata": {},
   "source": [
    "## Creating and using class"
   ]
  },
  {
   "cell_type": "code",
   "execution_count": 5,
   "id": "9dfb752d",
   "metadata": {},
   "outputs": [
    {
     "data": {
      "text/plain": [
       "\" Under the hood\\n\\n#1 created a class called as Dog. ( capital letters for classes)\\nno brackets becuase we are creating this class from scratch.\\n\\n#2 the __init__ method\\nthe function which is part of class i.e __init__self is a fuction , \\nis called as 'method'.\\nthis init() method will run everytime we create a new instance based on Dog class.\\ninit() has 3 parameters - self , age , name.\\n\\n#2 a) the 'SELF' : we use self so that the function can call itself everytime it is run.\\nEvery method call associated with an instance automatically passes self, \\nwhich is a reference to the instance itself; it gives the individual instance \\naccess to the attributes and methods in the class.\\n\\n# 3 : When we make an instance of Dog, Python will call the __init__() method \\nfrom the Dog class. We’ll pass Dog() a name and an age as arguments; \\nself is passed automatically, so we don’t need to pass it. Whenever we want\\nto make an instance from the Dog class, we’ll provide values for only the last \\ntwo parameters, name and age.\\n\\n\\n#4 . whata about 'self.name' and 'self.age' :\\n\\nAny variable prefixed with self is available to every method in the class, \\nand we’ll also be able to access these variables through any instance \\ncreated from the class.\\n\\n\""
      ]
     },
     "execution_count": 5,
     "metadata": {},
     "output_type": "execute_result"
    }
   ],
   "source": [
    "# creating dog class\n",
    "\n",
    "class Dog:\n",
    "    \"\"\"attempt at making a dog\"\"\"\n",
    "    def __init__self(self, name , age):\n",
    "        \"\"\"Initialize name and age attributes\"\"\"\n",
    "        self.name = name\n",
    "        self.age = age\n",
    "    def sit(self):\n",
    "        \"\"\"simulate a dog's sitting position\"\"\"\n",
    "        print(f\"{self.name} is now sitting.\")\n",
    "    def rolling_over(self):\n",
    "        \"\"\"simulate dog's rolling over action\"\"\"\n",
    "        print(f\"{self.name} rolled over.\")\n",
    "        \n",
    "\n",
    "''' Under the hood\n",
    "\n",
    "#1 created a class called as Dog. ( capital letters for classes)\n",
    "no brackets becuase we are creating this class from scratch.\n",
    "\n",
    "#2 the __init__ method\n",
    "the function which is part of class i.e __init__self is a fuction , \n",
    "is called as 'method'.\n",
    "this init() method will run everytime we create a new instance based on Dog class.\n",
    "init() has 3 parameters - self , age , name.\n",
    "\n",
    "#2 a) the 'SELF' : we use self so that the function can call itself everytime it is run.\n",
    "Every method call associated with an instance automatically passes self, \n",
    "which is a reference to the instance itself; it gives the individual instance \n",
    "access to the attributes and methods in the class.\n",
    "\n",
    "# 3 : When we make an instance of Dog, Python will call the __init__() method \n",
    "from the Dog class. We’ll pass Dog() a name and an age as arguments; \n",
    "self is passed automatically, so we don’t need to pass it. Whenever we want\n",
    "to make an instance from the Dog class, we’ll provide values for only the last \n",
    "two parameters, name and age.\n",
    "\n",
    "\n",
    "#4 . whata about 'self.name' and 'self.age' :\n",
    "\n",
    "Any variable prefixed with self is available to every method in the class, \n",
    "and we’ll also be able to access these variables through any instance \n",
    "created from the class.\n",
    "\n",
    "'''"
   ]
  },
  {
   "cell_type": "markdown",
   "id": "6ff32109",
   "metadata": {},
   "source": []
  },
  {
   "cell_type": "code",
   "execution_count": 29,
   "id": "1d2580f1",
   "metadata": {},
   "outputs": [
    {
     "name": "stdout",
     "output_type": "stream",
     "text": [
      "ram\n",
      "test\n",
      "100\n",
      "raja ram\n",
      "test user\n"
     ]
    },
    {
     "data": {
      "text/plain": [
       "'test user'"
      ]
     },
     "execution_count": 29,
     "metadata": {},
     "output_type": "execute_result"
    }
   ],
   "source": [
    "class Employee:\n",
    "    \"\"\" creating a employee class\"\"\"\n",
    "    def __init__(self, first, last , pay):\n",
    "        self.first = first # this is same as emp_1.first = 'first'\n",
    "        self.last = last\n",
    "        self.pay = pay\n",
    "\n",
    "    def full_name(self):\n",
    "        return ('{} {}'.format(self.first, self.last))\n",
    "        \n",
    "emp_1 = Employee('raja' , 'ram' , 100 )\n",
    "emp_2 = Employee('test' ,'user' , 200)\n",
    "\n",
    "print(emp_1.last)\n",
    "print(emp_2.first)\n",
    "print(emp_1.pay)        \n",
    "print(emp_1.full_name()) # you need to give parenthesis after calling full_name \n",
    "# because it is a method and not just a attribute.\n",
    "\n",
    "print(emp_2.full_name())\n",
    "\n",
    "\n",
    "# using classes directly\n",
    "\n",
    "Employee.full_name(emp_1) # using classes directly\n",
    "Employee.full_name(emp_2)\n",
    "\n",
    "\n",
    "# so :\n",
    "\n",
    "# emp_1.full_name is same as Employee.full_name(emp_1)\n",
    "\n",
    "#emp_1 = Employee()\n",
    "#emp_2 = Employee()\n",
    "\n",
    "#print(emp_1)\n",
    "#print(emp_2)\n",
    "\n"
   ]
  },
  {
   "cell_type": "code",
   "execution_count": 10,
   "id": "ae263413",
   "metadata": {},
   "outputs": [
    {
     "name": "stdout",
     "output_type": "stream",
     "text": [
      " 100\n",
      " 200\n"
     ]
    }
   ],
   "source": [
    "emp_1.first = 'raju'\n",
    "emp_1.last = 'ramu'\n",
    "emp_1.pay = ' 100'\n",
    "\n",
    "\n",
    "emp_2.first = 'rahul'\n",
    "emp_2.last = 'dravid'\n",
    "emp_2.pay = ' 200'\n",
    "\n",
    "print(emp_1.pay)\n",
    "print(emp_2.pay)"
   ]
  },
  {
   "cell_type": "markdown",
   "id": "0a532ffb",
   "metadata": {},
   "source": [
    "## Class variables\n",
    "\n",
    "Class variables are variables that are shared with all the instances of the class.\n",
    "They will be same for each instance.\n",
    "e.g common data that can be shared.\n"
   ]
  },
  {
   "cell_type": "code",
   "execution_count": 52,
   "id": "fb82baf3",
   "metadata": {},
   "outputs": [
    {
     "name": "stdout",
     "output_type": "stream",
     "text": [
      "100\n",
      "210\n"
     ]
    }
   ],
   "source": [
    "class Employee:\n",
    "    \"\"\" creating a employee class\"\"\"\n",
    "    def __init__(self, first, last , pay):\n",
    "        self.first = first # this is same as emp_1.first = 'first'\n",
    "        self.last = last\n",
    "        self.pay = pay\n",
    "\n",
    "    def full_name(self):\n",
    "        return ('{} {}'.format(self.first, self.last))\n",
    "    \n",
    "    def appraisal_for_all(self):\n",
    "        self.pay = int(self.pay * 2.10)\n",
    "        \n",
    "emp_1 = Employee('raja' , 'ram' , 100 )\n",
    "emp_2 = Employee('test' ,'user' , 200)\n",
    "\n",
    "\n",
    "print(emp_1.pay)\n",
    "emp_1.appraisal_for_all()\n",
    "print(emp_1.pay)"
   ]
  },
  {
   "cell_type": "markdown",
   "id": "a6a79aa0",
   "metadata": {},
   "source": [
    "### Classes and instances"
   ]
  },
  {
   "cell_type": "code",
   "execution_count": 57,
   "id": "ec5ac9c0",
   "metadata": {},
   "outputs": [
    {
     "name": "stdout",
     "output_type": "stream",
     "text": [
      "2021 Merc A-Class\n"
     ]
    }
   ],
   "source": [
    "class Car:\n",
    "    \"\"\" represent a car\"\"\"\n",
    "    \n",
    "    def __init__(self, make , model , year):\n",
    "        \"\"\"initialize the attributes to describe car\"\"\"\n",
    "        self.make = make\n",
    "        self.model = model\n",
    "        self.year = year\n",
    "        \n",
    "    def get_description(self):\n",
    "        \"\"\"return a cool name\"\"\"\n",
    "        long_name = f\"{self.year} {self.make} {self.model}\"\n",
    "        return long_name.title()\n",
    "    \n",
    "my_car = Car('merc' , 'a-class' , 2021) # my_car is instance I created from the class Car\n",
    "print(my_car.get_description())"
   ]
  },
  {
   "cell_type": "markdown",
   "id": "8aed101f",
   "metadata": {},
   "source": []
  },
  {
   "cell_type": "markdown",
   "id": "97bcaf47",
   "metadata": {},
   "source": [
    "### setting default value"
   ]
  },
  {
   "cell_type": "code",
   "execution_count": 60,
   "id": "e3518b8f",
   "metadata": {},
   "outputs": [
    {
     "name": "stdout",
     "output_type": "stream",
     "text": [
      "2021 Merc A-Class\n",
      "This car has 20 mileage.\n"
     ]
    }
   ],
   "source": [
    "class Car:\n",
    "    \"\"\" represent a car\"\"\"\n",
    "    \n",
    "    def __init__(self, make , model , year):\n",
    "        \"\"\"initialize the attributes to describe car\"\"\"\n",
    "        self.make = make\n",
    "        self.model = model\n",
    "        self.year = year\n",
    "        #self.odometer = 0\n",
    "        self.odometer = 20\n",
    "        \n",
    "    def get_description(self):\n",
    "        \"\"\"return a cool name\"\"\"\n",
    "        long_name = f\"{self.year} {self.make} {self.model}\"\n",
    "        return long_name.title()\n",
    "    \n",
    "    def read_mileage(self):\n",
    "        \"\"\" show the car's mileag\"\"\"\n",
    "        print(f\"This car has {self.odometer} mileage.\")\n",
    "\n",
    "\n",
    "my_car = Car('merc' , 'a-class' , 2021) # my_car is instance I created from the class Car\n",
    "print(my_car.get_description())\n",
    "\n",
    "my_car.read_mileage()\n",
    "\n"
   ]
  },
  {
   "cell_type": "markdown",
   "id": "8d37e61d",
   "metadata": {},
   "source": [
    "### modify attribute value\n",
    "\n",
    "you can change the value directly through an instance, set the value through a method, or increment the value (add a certain amount to it) through a method."
   ]
  },
  {
   "cell_type": "markdown",
   "id": "7477270c",
   "metadata": {},
   "source": [
    "Modifying an Attribute’s Value Through a Method"
   ]
  },
  {
   "cell_type": "code",
   "execution_count": 64,
   "id": "20f8e7d0",
   "metadata": {},
   "outputs": [
    {
     "name": "stdout",
     "output_type": "stream",
     "text": [
      "2021 Merc A-Class\n",
      "This car has 27 mileage.\n"
     ]
    },
    {
     "data": {
      "text/plain": [
       "' \\nunderstanding :\\n\\nfirst i define read_mileage and then i add another instance calld\\nas update_odometer which takes in milage and then i apply odometer on this milage\\n\\n\\n'"
      ]
     },
     "execution_count": 64,
     "metadata": {},
     "output_type": "execute_result"
    }
   ],
   "source": [
    "class Car:\n",
    "    \"\"\" represent a car\"\"\"\n",
    "    \n",
    "    def __init__(self, make , model , year):\n",
    "        \"\"\"initialize the attributes to describe car\"\"\"\n",
    "        self.make = make\n",
    "        self.model = model\n",
    "        self.year = year\n",
    "        self.odometer = 0 # this is just initilizing value\n",
    "        # earlier i keep this as 0 and i could see that\n",
    "        # my car milege was 0 !\n",
    "        \n",
    "        \n",
    "    def get_description(self):\n",
    "        \"\"\"return a cool name\"\"\"\n",
    "        long_name = f\"{self.year} {self.make} {self.model}\"\n",
    "        return long_name.title()\n",
    "    \n",
    "    def read_mileage(self):\n",
    "        \"\"\" show the car's mileag\"\"\"\n",
    "        print(f\"This car has {self.odometer} mileage.\")\n",
    "        \n",
    "    def update_odometer(self,mileage):\n",
    "        \"\"\"read mileage and tell us\"\"\"\n",
    "        self.odometer = mileage # defining this newly\n",
    "\n",
    "\n",
    "my_car = Car('merc' , 'a-class' , 2021) # my_car is instance I created from the class Car\n",
    "print(my_car.get_description())\n",
    "\n",
    "my_car.update_odometer(27)\n",
    "\n",
    "my_car.read_mileage()\n",
    "\n",
    "\n",
    "''' \n",
    "understanding :\n",
    "\n",
    "first i define read_mileage and then i add another instance calld\n",
    "as update_odometer which takes in milage and then i apply odometer on this milage\n",
    "\n",
    "\n",
    "'''"
   ]
  },
  {
   "cell_type": "markdown",
   "id": "654deff3",
   "metadata": {},
   "source": [
    "### Incrementing an Attribute’s Value Through a Method"
   ]
  },
  {
   "cell_type": "code",
   "execution_count": 68,
   "id": "1ca8a0d4",
   "metadata": {},
   "outputs": [
    {
     "name": "stdout",
     "output_type": "stream",
     "text": [
      "2015 Merc Outback\n",
      "This car has 25 mileage.\n"
     ]
    },
    {
     "ename": "TypeError",
     "evalue": "unsupported operand type(s) for +=: 'method' and 'int'",
     "output_type": "error",
     "traceback": [
      "\u001b[1;31m---------------------------------------------------------------------------\u001b[0m",
      "\u001b[1;31mTypeError\u001b[0m                                 Traceback (most recent call last)",
      "\u001b[1;32m<ipython-input-68-d37a54f05bf8>\u001b[0m in \u001b[0;36m<module>\u001b[1;34m\u001b[0m\n\u001b[0;32m     35\u001b[0m \u001b[0mmy_car\u001b[0m\u001b[1;33m.\u001b[0m\u001b[0mread_mileage\u001b[0m\u001b[1;33m(\u001b[0m\u001b[1;33m)\u001b[0m\u001b[1;33m\u001b[0m\u001b[1;33m\u001b[0m\u001b[0m\n\u001b[0;32m     36\u001b[0m \u001b[1;33m\u001b[0m\u001b[0m\n\u001b[1;32m---> 37\u001b[1;33m \u001b[0mmy_car\u001b[0m\u001b[1;33m.\u001b[0m\u001b[0mincrement_odometer\u001b[0m\u001b[1;33m(\u001b[0m\u001b[1;36m29\u001b[0m\u001b[1;33m)\u001b[0m\u001b[1;33m\u001b[0m\u001b[1;33m\u001b[0m\u001b[0m\n\u001b[0m",
      "\u001b[1;32m<ipython-input-68-d37a54f05bf8>\u001b[0m in \u001b[0;36mincrement_odometer\u001b[1;34m(self, miles)\u001b[0m\n\u001b[0;32m     27\u001b[0m     \u001b[1;32mdef\u001b[0m \u001b[0mincrement_odometer\u001b[0m\u001b[1;33m(\u001b[0m\u001b[0mself\u001b[0m\u001b[1;33m,\u001b[0m \u001b[0mmiles\u001b[0m\u001b[1;33m)\u001b[0m\u001b[1;33m:\u001b[0m\u001b[1;33m\u001b[0m\u001b[1;33m\u001b[0m\u001b[0m\n\u001b[0;32m     28\u001b[0m         \u001b[1;34m\"\"\"add this given value to odometer reading that we earlier had\"\"\"\u001b[0m\u001b[1;33m\u001b[0m\u001b[1;33m\u001b[0m\u001b[0m\n\u001b[1;32m---> 29\u001b[1;33m         \u001b[0mself\u001b[0m\u001b[1;33m.\u001b[0m\u001b[0mread_mileage\u001b[0m \u001b[1;33m+=\u001b[0m \u001b[0mmiles\u001b[0m\u001b[1;33m\u001b[0m\u001b[1;33m\u001b[0m\u001b[0m\n\u001b[0m\u001b[0;32m     30\u001b[0m \u001b[1;33m\u001b[0m\u001b[0m\n\u001b[0;32m     31\u001b[0m \u001b[0mmy_car\u001b[0m \u001b[1;33m=\u001b[0m \u001b[0mCar\u001b[0m\u001b[1;33m(\u001b[0m\u001b[1;34m'merc'\u001b[0m \u001b[1;33m,\u001b[0m \u001b[1;34m'outback'\u001b[0m \u001b[1;33m,\u001b[0m \u001b[1;36m2015\u001b[0m\u001b[1;33m)\u001b[0m\u001b[1;33m\u001b[0m\u001b[1;33m\u001b[0m\u001b[0m\n",
      "\u001b[1;31mTypeError\u001b[0m: unsupported operand type(s) for +=: 'method' and 'int'"
     ]
    }
   ],
   "source": [
    "class Car:\n",
    "    \"\"\" represent a car\"\"\"\n",
    "    \n",
    "    def __init__(self, make , model , year):\n",
    "        \"\"\"initialize the attributes to describe car\"\"\"\n",
    "        self.make = make\n",
    "        self.model = model\n",
    "        self.year = year\n",
    "        self.odometer = 0 # this is just initilizing value\n",
    "        # earlier i keep this as 0 and i could see that\n",
    "        # my car milege was 0 !\n",
    "        \n",
    "        \n",
    "    def get_description(self):\n",
    "        \"\"\"return a cool name\"\"\"\n",
    "        long_name = f\"{self.year} {self.make} {self.model}\"\n",
    "        return long_name.title()\n",
    "    \n",
    "    def read_mileage(self):\n",
    "        \"\"\" show the car's mileag\"\"\"\n",
    "        print(f\"This car has {self.odometer} mileage.\")\n",
    "        \n",
    "    def update_odometer(self,mileage):\n",
    "        \"\"\"read mileage and tell us\"\"\"\n",
    "        self.odometer = mileage # defining this newly\n",
    "        \n",
    "    def increment_odometer(self, miles):\n",
    "        \"\"\"add this given value to odometer reading that we earlier had\"\"\"\n",
    "        self.miles += miles\n",
    "    \n",
    "my_car = Car('merc' , 'outback' , 2015)\n",
    "print(my_car.get_description())\n",
    "        \n",
    "my_car.update_odometer(25)\n",
    "my_car.read_mileage()\n",
    "\n",
    "my_car.increment_odometer(29)\n",
    "my_car.read_mileage()"
   ]
  },
  {
   "cell_type": "code",
   "execution_count": 70,
   "id": "6bb616de",
   "metadata": {},
   "outputs": [
    {
     "name": "stdout",
     "output_type": "stream",
     "text": [
      "2015 Merc Outback\n",
      "This car has 25 mileage.\n",
      "This car has 54 mileage.\n"
     ]
    }
   ],
   "source": [
    "class Car:\n",
    "    \"\"\" represent a car\"\"\"\n",
    "    \n",
    "    def __init__(self, make , model , year):\n",
    "        \"\"\"initialize the attributes to describe car\"\"\"\n",
    "        self.make = make\n",
    "        self.model = model\n",
    "        self.year = year\n",
    "        self.odometer = 0 # this is just initilizing value\n",
    "        # earlier i keep this as 0 and i could see that\n",
    "        # my car milege was 0 !\n",
    "        \n",
    "        \n",
    "    def get_description(self):\n",
    "        \"\"\"return a cool name\"\"\"\n",
    "        long_name = f\"{self.year} {self.make} {self.model}\"\n",
    "        return long_name.title()\n",
    "    \n",
    "    def read_mileage(self):\n",
    "        \"\"\" show the car's mileag\"\"\"\n",
    "        print(f\"This car has {self.odometer} mileage.\")\n",
    "        \n",
    "    def update_odometer(self,mileage):\n",
    "        \"\"\"read mileage and tell us\"\"\"\n",
    "        self.odometer = mileage # defining this newly\n",
    "        \n",
    "    def increment_odometer(self, miles):\n",
    "        \"\"\"add this given value to odometer reading that we earlier had\"\"\"\n",
    "        self.odometer += miles\n",
    "    \n",
    "my_car = Car('merc' , 'outback' , 2015)\n",
    "print(my_car.get_description())\n",
    "        \n",
    "my_car.update_odometer(25)\n",
    "my_car.read_mileage()\n",
    "\n",
    "my_car.increment_odometer(29)\n",
    "my_car.read_mileage()"
   ]
  },
  {
   "cell_type": "markdown",
   "id": "d8efbbc6",
   "metadata": {},
   "source": [
    "## Inheritance\n",
    "\n",
    "If the class you’re writing is a specialized version of another class you wrote, you can use inheritance. When one class inherits from another, it takes on the attributes and methods of the first class. The original class is called the parent class, and the new class is the child class. The child class can inherit any or all of the attributes and methods of its parent class, but it’s also free to define new attributes and methods of its own."
   ]
  },
  {
   "cell_type": "code",
   "execution_count": 72,
   "id": "8ab39ff0",
   "metadata": {},
   "outputs": [
    {
     "name": "stdout",
     "output_type": "stream",
     "text": [
      "2020 Tesla Model S\n"
     ]
    }
   ],
   "source": [
    "# call __init__() from parent class insie the child class so that the\n",
    "# child class will inherit those values which are defined in parent class.\n",
    "\n",
    "class ElectricCar(Car):\n",
    "    \"\"\"represent aspects of an car which are specific to Electric Car\"\"\"\n",
    "    def __init__(self, make , model , year):\n",
    "        \"\"\" initialize attributes of parent class which is : Car\"\"\"\n",
    "        super().__init__(make, model , year)\n",
    "\n",
    "my_new_car = ElectricCar('tesla' , 'model S' , 2020)\n",
    "print(my_new_car.get_description())\n",
    "\n",
    "\n",
    "#---- so here I used get_description() from parent class ---\n",
    "\n",
    "# parent class must appear before child class and name of \n",
    "# parent class must be included in parenthesis (Car)\n",
    "\n",
    "# super() function is used to call method from parent class.\n",
    "# This line tells Python to call the __init__() method from Car,\n",
    "# which gives an ElectricCar instance all the attributes defined in that \n",
    "# method. The name super comes from a convention of calling the parent \n",
    "# class a superclass and the child class a subclass."
   ]
  },
  {
   "cell_type": "code",
   "execution_count": 73,
   "id": "cd7c10f0",
   "metadata": {},
   "outputs": [
    {
     "name": "stdout",
     "output_type": "stream",
     "text": [
      "2020 Tesla Model S\n",
      "This car has 50-KWh battery.\n"
     ]
    }
   ],
   "source": [
    "class ElectricCar(Car):\n",
    "    \"\"\"represent aspects of an car which are specific to Electric Car\"\"\"\n",
    "    def __init__(self, make , model , year):\n",
    "        \"\"\" initialize attributes of parent class which is : Car\"\"\"\n",
    "        super().__init__(make, model , year)\n",
    "        # adding a attribute specific to electric car aka CHILD CLASS\n",
    "        self.battery_size = 50\n",
    "    \n",
    "    def describe_battery(self):\n",
    "        \"\"\"print info about battey\"\"\"\n",
    "        print(f\"This car has {self.battery_size}-KWh battery.\")\n",
    "    \n",
    "\n",
    "my_new_car = ElectricCar('tesla' , 'model S' , 2020)\n",
    "print(my_new_car.get_description())\n",
    "\n",
    "my_new_car.describe_battery()"
   ]
  },
  {
   "cell_type": "code",
   "execution_count": null,
   "id": "a7e008d2",
   "metadata": {},
   "outputs": [],
   "source": []
  }
 ],
 "metadata": {
  "kernelspec": {
   "display_name": "Python 3",
   "language": "python",
   "name": "python3"
  },
  "language_info": {
   "codemirror_mode": {
    "name": "ipython",
    "version": 3
   },
   "file_extension": ".py",
   "mimetype": "text/x-python",
   "name": "python",
   "nbconvert_exporter": "python",
   "pygments_lexer": "ipython3",
   "version": "3.8.8"
  }
 },
 "nbformat": 4,
 "nbformat_minor": 5
}
