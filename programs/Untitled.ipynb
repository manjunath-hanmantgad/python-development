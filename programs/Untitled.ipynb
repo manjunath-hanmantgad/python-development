{
 "cells": [
  {
   "cell_type": "code",
   "execution_count": 1,
   "id": "a7c09f59",
   "metadata": {},
   "outputs": [],
   "source": [
    "def greet_user():\n",
    "    \"\"\"function to greet a user\"\"\"\n",
    "    print(\"Hello there!\")\n",
    "\n"
   ]
  },
  {
   "cell_type": "code",
   "execution_count": 2,
   "id": "77065103",
   "metadata": {},
   "outputs": [
    {
     "data": {
      "text/plain": [
       "<function __main__.greet_user()>"
      ]
     },
     "execution_count": 2,
     "metadata": {},
     "output_type": "execute_result"
    }
   ],
   "source": [
    "# call the function\n",
    "greet_user"
   ]
  },
  {
   "cell_type": "code",
   "execution_count": 3,
   "id": "ea540617",
   "metadata": {},
   "outputs": [
    {
     "name": "stdout",
     "output_type": "stream",
     "text": [
      "Hello there!\n"
     ]
    }
   ],
   "source": [
    "greet_user()"
   ]
  },
  {
   "cell_type": "markdown",
   "id": "eb4e44f1",
   "metadata": {},
   "source": [
    "Inside the brackets after name of function --> this is used to define what information is required by function to do its job."
   ]
  },
  {
   "cell_type": "markdown",
   "id": "1ab12c1a",
   "metadata": {},
   "source": [
    "#### Passing information to function"
   ]
  },
  {
   "cell_type": "code",
   "execution_count": 7,
   "id": "d030e17a",
   "metadata": {},
   "outputs": [],
   "source": [
    "def greet_user(username):\n",
    "    \"\"\"provide a username and I will greet\"\"\"\n",
    "    print(f\"Hello there {username.title()}\")"
   ]
  },
  {
   "cell_type": "code",
   "execution_count": 8,
   "id": "486e0698",
   "metadata": {},
   "outputs": [
    {
     "ename": "NameError",
     "evalue": "name 'andy' is not defined",
     "output_type": "error",
     "traceback": [
      "\u001b[1;31m---------------------------------------------------------------------------\u001b[0m",
      "\u001b[1;31mNameError\u001b[0m                                 Traceback (most recent call last)",
      "\u001b[1;32m<ipython-input-8-145f769e48ba>\u001b[0m in \u001b[0;36m<module>\u001b[1;34m\u001b[0m\n\u001b[1;32m----> 1\u001b[1;33m \u001b[0mgreet_user\u001b[0m\u001b[1;33m(\u001b[0m\u001b[0mandy\u001b[0m\u001b[1;33m)\u001b[0m\u001b[1;33m\u001b[0m\u001b[1;33m\u001b[0m\u001b[0m\n\u001b[0m",
      "\u001b[1;31mNameError\u001b[0m: name 'andy' is not defined"
     ]
    }
   ],
   "source": [
    "greet_user(andy)"
   ]
  },
  {
   "cell_type": "code",
   "execution_count": 9,
   "id": "e1ac4845",
   "metadata": {},
   "outputs": [
    {
     "name": "stdout",
     "output_type": "stream",
     "text": [
      "Hello there Andy\n"
     ]
    }
   ],
   "source": [
    "greet_user('andy')"
   ]
  },
  {
   "cell_type": "markdown",
   "id": "0927edc6",
   "metadata": {},
   "source": [
    "#### Arguments and Parameters"
   ]
  },
  {
   "cell_type": "markdown",
   "id": "dca4ef98",
   "metadata": {},
   "source": [
    "Username in above greet_user() function is called as 'parameter'.\n",
    "An argument is a piece of information that’s passed from a function call to a function. When we call the function, we place the value we want the function to work with in parentheses. "
   ]
  },
  {
   "cell_type": "code",
   "execution_count": 10,
   "id": "c7d9d55f",
   "metadata": {},
   "outputs": [
    {
     "name": "stdout",
     "output_type": "stream",
     "text": [
      "I am learning functions in this chapter.\n"
     ]
    }
   ],
   "source": [
    "def display_message():\n",
    "    print(\"I am learning functions in this chapter.\")\n",
    "\n",
    "display_message()"
   ]
  },
  {
   "cell_type": "code",
   "execution_count": 11,
   "id": "1006ff99",
   "metadata": {},
   "outputs": [
    {
     "name": "stdout",
     "output_type": "stream",
     "text": [
      "My favorite book is titled as Alice In Wonderland\n"
     ]
    }
   ],
   "source": [
    "def favorite_book(title):\n",
    "    print(f\"My favorite book is titled as {title.title()}\")\n",
    "favorite_book('Alice in Wonderland')"
   ]
  },
  {
   "cell_type": "markdown",
   "id": "cbd3f4c5",
   "metadata": {},
   "source": [
    "#### Passing Arguments"
   ]
  },
  {
   "cell_type": "markdown",
   "id": "091bda1c",
   "metadata": {},
   "source": [
    "_1. Positional arguments_\n",
    "\n",
    "When you call a function, Python must match each argument in the function call with a parameter in the function definition. The simplest way to do this is based on the order of the arguments provided. Values matched up this way are called positional arguments."
   ]
  },
  {
   "cell_type": "code",
   "execution_count": 16,
   "id": "f87e1e79",
   "metadata": {},
   "outputs": [],
   "source": [
    "def describe_pet(animal_type,pet_name):\n",
    "    \"\"\"function to describe type of pet and its name\"\"\"\n",
    "    print(f\"\\nI have {animal_type} pet.\")\n",
    "    print(f\"\\nThe name of pet is {pet_name}\")"
   ]
  },
  {
   "cell_type": "code",
   "execution_count": 17,
   "id": "da911e0e",
   "metadata": {},
   "outputs": [
    {
     "ename": "TypeError",
     "evalue": "describe_pet() missing 1 required positional argument: 'pet_name'",
     "output_type": "error",
     "traceback": [
      "\u001b[1;31m---------------------------------------------------------------------------\u001b[0m",
      "\u001b[1;31mTypeError\u001b[0m                                 Traceback (most recent call last)",
      "\u001b[1;32m<ipython-input-17-f6a386e95c13>\u001b[0m in \u001b[0;36m<module>\u001b[1;34m\u001b[0m\n\u001b[1;32m----> 1\u001b[1;33m \u001b[0mdescribe_pet\u001b[0m\u001b[1;33m(\u001b[0m\u001b[1;34m'dog'\u001b[0m\u001b[1;33m)\u001b[0m\u001b[1;33m\u001b[0m\u001b[1;33m\u001b[0m\u001b[0m\n\u001b[0m",
      "\u001b[1;31mTypeError\u001b[0m: describe_pet() missing 1 required positional argument: 'pet_name'"
     ]
    }
   ],
   "source": [
    "describe_pet('dog')"
   ]
  },
  {
   "cell_type": "code",
   "execution_count": 18,
   "id": "b3516c7a",
   "metadata": {},
   "outputs": [
    {
     "name": "stdout",
     "output_type": "stream",
     "text": [
      "\n",
      "I have dog pet.\n",
      "\n",
      "The name of pet is harry\n"
     ]
    }
   ],
   "source": [
    "describe_pet('dog','harry')"
   ]
  },
  {
   "cell_type": "markdown",
   "id": "a1aa4f6a",
   "metadata": {},
   "source": [
    "#### Multiple function calls"
   ]
  },
  {
   "cell_type": "code",
   "execution_count": 19,
   "id": "3dd75673",
   "metadata": {},
   "outputs": [],
   "source": [
    "def describe_pet(animal_type,pet_name):\n",
    "    \"\"\"function to describe type of pet and its name\"\"\"\n",
    "    print(f\"\\nI have {animal_type} pet.\")\n",
    "    print(f\"\\nThe name of {animal_type} is {pet_name}\")"
   ]
  },
  {
   "cell_type": "code",
   "execution_count": 21,
   "id": "0febb2f6",
   "metadata": {},
   "outputs": [
    {
     "name": "stdout",
     "output_type": "stream",
     "text": [
      "\n",
      "I have cat pet.\n",
      "\n",
      "The name of cat is sally\n",
      "\n",
      "I have dog pet.\n",
      "\n",
      "The name of dog is harry\n"
     ]
    }
   ],
   "source": [
    "describe_pet('cat','sally')\n",
    "describe_pet('dog','harry')"
   ]
  },
  {
   "cell_type": "code",
   "execution_count": null,
   "id": "6c2648eb",
   "metadata": {},
   "outputs": [],
   "source": []
  }
 ],
 "metadata": {
  "kernelspec": {
   "display_name": "Python 3",
   "language": "python",
   "name": "python3"
  },
  "language_info": {
   "codemirror_mode": {
    "name": "ipython",
    "version": 3
   },
   "file_extension": ".py",
   "mimetype": "text/x-python",
   "name": "python",
   "nbconvert_exporter": "python",
   "pygments_lexer": "ipython3",
   "version": "3.8.8"
  }
 },
 "nbformat": 4,
 "nbformat_minor": 5
}
