{
 "cells": [
  {
   "cell_type": "code",
   "execution_count": 1,
   "id": "a83de721",
   "metadata": {},
   "outputs": [],
   "source": [
    "def greet_user():\n",
    "    \"\"\"function to greet a user\"\"\"\n",
    "    print(\"Hello there!\")\n",
    "\n"
   ]
  },
  {
   "cell_type": "code",
   "execution_count": 2,
   "id": "37ad5a46",
   "metadata": {},
   "outputs": [
    {
     "data": {
      "text/plain": [
       "<function __main__.greet_user()>"
      ]
     },
     "execution_count": 2,
     "metadata": {},
     "output_type": "execute_result"
    }
   ],
   "source": [
    "# call the function\n",
    "greet_user"
   ]
  },
  {
   "cell_type": "code",
   "execution_count": 3,
   "id": "604940be",
   "metadata": {},
   "outputs": [
    {
     "name": "stdout",
     "output_type": "stream",
     "text": [
      "Hello there!\n"
     ]
    }
   ],
   "source": [
    "greet_user()"
   ]
  },
  {
   "cell_type": "markdown",
   "id": "e3d0c2e1",
   "metadata": {},
   "source": [
    "Inside the brackets after name of function --> this is used to define what information is required by function to do its job."
   ]
  },
  {
   "cell_type": "markdown",
   "id": "37dfe11c",
   "metadata": {},
   "source": [
    "#### Passing information to function"
   ]
  },
  {
   "cell_type": "code",
   "execution_count": 7,
   "id": "36d22a94",
   "metadata": {},
   "outputs": [],
   "source": [
    "def greet_user(username):\n",
    "    \"\"\"provide a username and I will greet\"\"\"\n",
    "    print(f\"Hello there {username.title()}\")"
   ]
  },
  {
   "cell_type": "code",
   "execution_count": 8,
   "id": "cbd8dfec",
   "metadata": {},
   "outputs": [
    {
     "ename": "NameError",
     "evalue": "name 'andy' is not defined",
     "output_type": "error",
     "traceback": [
      "\u001b[1;31m---------------------------------------------------------------------------\u001b[0m",
      "\u001b[1;31mNameError\u001b[0m                                 Traceback (most recent call last)",
      "\u001b[1;32m<ipython-input-8-145f769e48ba>\u001b[0m in \u001b[0;36m<module>\u001b[1;34m\u001b[0m\n\u001b[1;32m----> 1\u001b[1;33m \u001b[0mgreet_user\u001b[0m\u001b[1;33m(\u001b[0m\u001b[0mandy\u001b[0m\u001b[1;33m)\u001b[0m\u001b[1;33m\u001b[0m\u001b[1;33m\u001b[0m\u001b[0m\n\u001b[0m",
      "\u001b[1;31mNameError\u001b[0m: name 'andy' is not defined"
     ]
    }
   ],
   "source": [
    "greet_user(andy)"
   ]
  },
  {
   "cell_type": "code",
   "execution_count": 9,
   "id": "91a3e58b",
   "metadata": {},
   "outputs": [
    {
     "name": "stdout",
     "output_type": "stream",
     "text": [
      "Hello there Andy\n"
     ]
    }
   ],
   "source": [
    "greet_user('andy')"
   ]
  },
  {
   "cell_type": "markdown",
   "id": "c0e79fa5",
   "metadata": {},
   "source": [
    "#### Arguments and Parameters"
   ]
  },
  {
   "cell_type": "markdown",
   "id": "71a7e8a0",
   "metadata": {},
   "source": [
    "Username in above greet_user() function is called as 'parameter'.\n",
    "An argument is a piece of information that’s passed from a function call to a function. When we call the function, we place the value we want the function to work with in parentheses. "
   ]
  },
  {
   "cell_type": "code",
   "execution_count": 10,
   "id": "4861a183",
   "metadata": {},
   "outputs": [
    {
     "name": "stdout",
     "output_type": "stream",
     "text": [
      "I am learning functions in this chapter.\n"
     ]
    }
   ],
   "source": [
    "def display_message():\n",
    "    print(\"I am learning functions in this chapter.\")\n",
    "\n",
    "display_message()"
   ]
  },
  {
   "cell_type": "code",
   "execution_count": 11,
   "id": "19b424da",
   "metadata": {},
   "outputs": [
    {
     "name": "stdout",
     "output_type": "stream",
     "text": [
      "My favorite book is titled as Alice In Wonderland\n"
     ]
    }
   ],
   "source": [
    "def favorite_book(title):\n",
    "    print(f\"My favorite book is titled as {title.title()}\")\n",
    "favorite_book('Alice in Wonderland')"
   ]
  },
  {
   "cell_type": "markdown",
   "id": "232a9452",
   "metadata": {},
   "source": [
    "#### Passing Arguments"
   ]
  },
  {
   "cell_type": "markdown",
   "id": "5aa3033d",
   "metadata": {},
   "source": [
    "_1. Positional arguments_\n",
    "\n",
    "When you call a function, Python must match each argument in the function call with a parameter in the function definition. The simplest way to do this is based on the order of the arguments provided. Values matched up this way are called positional arguments."
   ]
  },
  {
   "cell_type": "code",
   "execution_count": 16,
   "id": "466cc17f",
   "metadata": {},
   "outputs": [],
   "source": [
    "def describe_pet(animal_type,pet_name):\n",
    "    \"\"\"function to describe type of pet and its name\"\"\"\n",
    "    print(f\"\\nI have {animal_type} pet.\")\n",
    "    print(f\"\\nThe name of pet is {pet_name}\")"
   ]
  },
  {
   "cell_type": "code",
   "execution_count": 17,
   "id": "bdf5b18d",
   "metadata": {},
   "outputs": [
    {
     "ename": "TypeError",
     "evalue": "describe_pet() missing 1 required positional argument: 'pet_name'",
     "output_type": "error",
     "traceback": [
      "\u001b[1;31m---------------------------------------------------------------------------\u001b[0m",
      "\u001b[1;31mTypeError\u001b[0m                                 Traceback (most recent call last)",
      "\u001b[1;32m<ipython-input-17-f6a386e95c13>\u001b[0m in \u001b[0;36m<module>\u001b[1;34m\u001b[0m\n\u001b[1;32m----> 1\u001b[1;33m \u001b[0mdescribe_pet\u001b[0m\u001b[1;33m(\u001b[0m\u001b[1;34m'dog'\u001b[0m\u001b[1;33m)\u001b[0m\u001b[1;33m\u001b[0m\u001b[1;33m\u001b[0m\u001b[0m\n\u001b[0m",
      "\u001b[1;31mTypeError\u001b[0m: describe_pet() missing 1 required positional argument: 'pet_name'"
     ]
    }
   ],
   "source": [
    "describe_pet('dog')"
   ]
  },
  {
   "cell_type": "code",
   "execution_count": 18,
   "id": "1b6c2fc3",
   "metadata": {},
   "outputs": [
    {
     "name": "stdout",
     "output_type": "stream",
     "text": [
      "\n",
      "I have dog pet.\n",
      "\n",
      "The name of pet is harry\n"
     ]
    }
   ],
   "source": [
    "describe_pet('dog','harry')"
   ]
  },
  {
   "cell_type": "markdown",
   "id": "12a9d518",
   "metadata": {},
   "source": [
    "###### Multiple function calls"
   ]
  },
  {
   "cell_type": "code",
   "execution_count": 19,
   "id": "f4b03b19",
   "metadata": {},
   "outputs": [],
   "source": [
    "def describe_pet(animal_type,pet_name):\n",
    "    \"\"\"function to describe type of pet and its name\"\"\"\n",
    "    print(f\"\\nI have {animal_type} pet.\")\n",
    "    print(f\"\\nThe name of {animal_type} is {pet_name}\")"
   ]
  },
  {
   "cell_type": "code",
   "execution_count": 21,
   "id": "370a7df6",
   "metadata": {},
   "outputs": [
    {
     "name": "stdout",
     "output_type": "stream",
     "text": [
      "\n",
      "I have cat pet.\n",
      "\n",
      "The name of cat is sally\n",
      "\n",
      "I have dog pet.\n",
      "\n",
      "The name of dog is harry\n"
     ]
    }
   ],
   "source": [
    "describe_pet('cat','sally')\n",
    "describe_pet('dog','harry')"
   ]
  },
  {
   "cell_type": "markdown",
   "id": "7f6e78b3",
   "metadata": {},
   "source": [
    "*2. _Keyword Arguments_*\n",
    "\n",
    "A keyword argument is a name-value pair that you pass to a function. You directly associate the name and the value within the argument, so when you pass the argument to the function, there’s no confusion (you won’t end up with a harry named Hamster). Keyword arguments free you from having to worry about correctly ordering your arguments in the function call, and they clarify the role of each value in the function call."
   ]
  },
  {
   "cell_type": "code",
   "execution_count": null,
   "id": "1c2e1089",
   "metadata": {},
   "outputs": [],
   "source": []
  }
 ],
 "metadata": {
  "kernelspec": {
   "display_name": "Python 3",
   "language": "python",
   "name": "python3"
  },
  "language_info": {
   "codemirror_mode": {
    "name": "ipython",
    "version": 3
   },
   "file_extension": ".py",
   "mimetype": "text/x-python",
   "name": "python",
   "nbconvert_exporter": "python",
   "pygments_lexer": "ipython3",
   "version": "3.8.8"
  }
 },
 "nbformat": 4,
 "nbformat_minor": 5
}
