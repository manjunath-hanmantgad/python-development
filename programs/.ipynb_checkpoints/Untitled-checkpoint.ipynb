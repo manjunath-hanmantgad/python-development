{
 "cells": [
  {
   "cell_type": "code",
   "execution_count": 1,
   "id": "e1edd500",
   "metadata": {},
   "outputs": [],
   "source": [
    "def greet_user():\n",
    "    \"\"\"function to greet a user\"\"\"\n",
    "    print(\"Hello there!\")\n",
    "\n"
   ]
  },
  {
   "cell_type": "code",
   "execution_count": 2,
   "id": "354d9e8d",
   "metadata": {},
   "outputs": [
    {
     "data": {
      "text/plain": [
       "<function __main__.greet_user()>"
      ]
     },
     "execution_count": 2,
     "metadata": {},
     "output_type": "execute_result"
    }
   ],
   "source": [
    "# call the function\n",
    "greet_user"
   ]
  },
  {
   "cell_type": "code",
   "execution_count": 3,
   "id": "5365b598",
   "metadata": {},
   "outputs": [
    {
     "name": "stdout",
     "output_type": "stream",
     "text": [
      "Hello there!\n"
     ]
    }
   ],
   "source": [
    "greet_user()"
   ]
  },
  {
   "cell_type": "markdown",
   "id": "2b31e7d6",
   "metadata": {},
   "source": [
    "Inside the brackets after name of function --> this is used to define what information is required by function to do its job."
   ]
  },
  {
   "cell_type": "markdown",
   "id": "097e163d",
   "metadata": {},
   "source": [
    "#### Passing information to function"
   ]
  },
  {
   "cell_type": "code",
   "execution_count": 7,
   "id": "f57f37b8",
   "metadata": {},
   "outputs": [],
   "source": [
    "def greet_user(username):\n",
    "    \"\"\"provide a username and I will greet\"\"\"\n",
    "    print(f\"Hello there {username.title()}\")"
   ]
  },
  {
   "cell_type": "code",
   "execution_count": 8,
   "id": "08a6f5bf",
   "metadata": {},
   "outputs": [
    {
     "ename": "NameError",
     "evalue": "name 'andy' is not defined",
     "output_type": "error",
     "traceback": [
      "\u001b[1;31m---------------------------------------------------------------------------\u001b[0m",
      "\u001b[1;31mNameError\u001b[0m                                 Traceback (most recent call last)",
      "\u001b[1;32m<ipython-input-8-145f769e48ba>\u001b[0m in \u001b[0;36m<module>\u001b[1;34m\u001b[0m\n\u001b[1;32m----> 1\u001b[1;33m \u001b[0mgreet_user\u001b[0m\u001b[1;33m(\u001b[0m\u001b[0mandy\u001b[0m\u001b[1;33m)\u001b[0m\u001b[1;33m\u001b[0m\u001b[1;33m\u001b[0m\u001b[0m\n\u001b[0m",
      "\u001b[1;31mNameError\u001b[0m: name 'andy' is not defined"
     ]
    }
   ],
   "source": [
    "greet_user(andy)"
   ]
  },
  {
   "cell_type": "code",
   "execution_count": 9,
   "id": "8cf856a9",
   "metadata": {},
   "outputs": [
    {
     "name": "stdout",
     "output_type": "stream",
     "text": [
      "Hello there Andy\n"
     ]
    }
   ],
   "source": [
    "greet_user('andy')"
   ]
  },
  {
   "cell_type": "markdown",
   "id": "5b16a6ae",
   "metadata": {},
   "source": [
    "#### Arguments and Parameters"
   ]
  },
  {
   "cell_type": "markdown",
   "id": "f2509693",
   "metadata": {},
   "source": [
    "Username in above greet_user() function is called as 'parameter'.\n",
    "An argument is a piece of information that’s passed from a function call to a function. When we call the function, we place the value we want the function to work with in parentheses. "
   ]
  },
  {
   "cell_type": "code",
   "execution_count": 10,
   "id": "653fdfb2",
   "metadata": {},
   "outputs": [
    {
     "name": "stdout",
     "output_type": "stream",
     "text": [
      "I am learning functions in this chapter.\n"
     ]
    }
   ],
   "source": [
    "def display_message():\n",
    "    print(\"I am learning functions in this chapter.\")\n",
    "\n",
    "display_message()"
   ]
  },
  {
   "cell_type": "code",
   "execution_count": 11,
   "id": "b9d3293f",
   "metadata": {},
   "outputs": [
    {
     "name": "stdout",
     "output_type": "stream",
     "text": [
      "My favorite book is titled as Alice In Wonderland\n"
     ]
    }
   ],
   "source": [
    "def favorite_book(title):\n",
    "    print(f\"My favorite book is titled as {title.title()}\")\n",
    "favorite_book('Alice in Wonderland')"
   ]
  },
  {
   "cell_type": "code",
   "execution_count": null,
   "id": "d357277b",
   "metadata": {},
   "outputs": [],
   "source": []
  }
 ],
 "metadata": {
  "kernelspec": {
   "display_name": "Python 3",
   "language": "python",
   "name": "python3"
  },
  "language_info": {
   "codemirror_mode": {
    "name": "ipython",
    "version": 3
   },
   "file_extension": ".py",
   "mimetype": "text/x-python",
   "name": "python",
   "nbconvert_exporter": "python",
   "pygments_lexer": "ipython3",
   "version": "3.8.8"
  }
 },
 "nbformat": 4,
 "nbformat_minor": 5
}
