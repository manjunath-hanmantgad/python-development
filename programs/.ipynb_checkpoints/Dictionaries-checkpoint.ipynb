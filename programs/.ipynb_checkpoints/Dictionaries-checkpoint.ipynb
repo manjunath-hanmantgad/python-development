{
 "cells": [
  {
   "cell_type": "code",
   "execution_count": 1,
   "id": "e890a91c",
   "metadata": {},
   "outputs": [],
   "source": [
    "alien_0 = {'color':'green', 'points':5}\n"
   ]
  },
  {
   "cell_type": "code",
   "execution_count": 2,
   "id": "d6a543fc",
   "metadata": {},
   "outputs": [
    {
     "data": {
      "text/plain": [
       "'green'"
      ]
     },
     "execution_count": 2,
     "metadata": {},
     "output_type": "execute_result"
    }
   ],
   "source": [
    "alien_0['color']"
   ]
  },
  {
   "cell_type": "code",
   "execution_count": 3,
   "id": "e803018f",
   "metadata": {},
   "outputs": [
    {
     "data": {
      "text/plain": [
       "5"
      ]
     },
     "execution_count": 3,
     "metadata": {},
     "output_type": "execute_result"
    }
   ],
   "source": [
    "#Accessing Values in a Dictionary\n",
    "\n",
    "alien_0['points']"
   ]
  },
  {
   "cell_type": "code",
   "execution_count": 8,
   "id": "420925ea",
   "metadata": {},
   "outputs": [
    {
     "name": "stdout",
     "output_type": "stream",
     "text": [
      "You choose green ,SO, You just earned 5 points!\n"
     ]
    }
   ],
   "source": [
    "new_points = alien_0['points']\n",
    "new_color = alien_0['color']\n",
    "print(f\"You choose {new_color} ,SO, You just earned {new_points} points!\")"
   ]
  },
  {
   "cell_type": "code",
   "execution_count": 9,
   "id": "00cc8914",
   "metadata": {},
   "outputs": [
    {
     "data": {
      "text/plain": [
       "{'color': 'green', 'points': 5, 'x_position': 0, 'y_position': 25}"
      ]
     },
     "execution_count": 9,
     "metadata": {},
     "output_type": "execute_result"
    }
   ],
   "source": [
    "#Adding New Key-Value Pairs\n",
    "\n",
    "alien_0['x_position'] = 0 # new key = x_position ; value = 0\n",
    "alien_0['y_position'] = 25 # new key = y_position ; value = 25\n",
    "\n",
    "alien_0"
   ]
  },
  {
   "cell_type": "code",
   "execution_count": 12,
   "id": "dc91dbe0",
   "metadata": {},
   "outputs": [
    {
     "data": {
      "text/plain": [
       "{'color': 'yellow', 'points': 10}"
      ]
     },
     "execution_count": 12,
     "metadata": {},
     "output_type": "execute_result"
    }
   ],
   "source": [
    "#Starting with an Empty Dictionary\n",
    "#alien_0 = [] # this is a list\n",
    "alien_0 = {} # this is dictionary\n",
    "alien_0['color'] ='yellow'\n",
    "alien_0['points'] = 10\n",
    "alien_0"
   ]
  },
  {
   "cell_type": "code",
   "execution_count": 20,
   "id": "b377fb35",
   "metadata": {},
   "outputs": [
    {
     "name": "stdout",
     "output_type": "stream",
     "text": [
      "alien is  red color\n",
      "\n",
      "alien color is now changed to yellow color\n",
      "\n"
     ]
    }
   ],
   "source": [
    "#Modifying Values in a Dictionary\n",
    "\n",
    "alien_0 = {'color':'red'}\n",
    "print(f\"alien is  {alien_0['color']} color\\n\")\n",
    "      \n",
    "alien_0['color'] = 'yellow'\n",
    "print(f\"alien color is now changed to {alien_0['color']} color\\n\")\n",
    "      \n"
   ]
  },
  {
   "cell_type": "code",
   "execution_count": 24,
   "id": "fc9c095d",
   "metadata": {},
   "outputs": [
    {
     "name": "stdout",
     "output_type": "stream",
     "text": [
      "Original position of alien is 0\n",
      "New position of alien is 2\n"
     ]
    }
   ],
   "source": [
    "alien_0 = {'x_position': 0, 'y_position': 25, 'speed': 'medium'}\n",
    "print(f\"Original position of alien is {alien_0['x_position']}\")\n",
    "\n",
    "# move alien to right base don speed\n",
    "if alien_0['speed'] == 'slow':\n",
    "    x_increment = 1\n",
    "elif alien_0['speed'] == 'medium':\n",
    "    x_increment = 2\n",
    "else:\n",
    "    # this can be fast alien\n",
    "    x_increment = 3\n",
    "# get new position\n",
    "alien_0['x_position'] = alien_0['x_position'] + x_increment\n",
    "print(f\"New position of alien is {alien_0['x_position']}\")"
   ]
  },
  {
   "cell_type": "code",
   "execution_count": 27,
   "id": "ab0bcef5",
   "metadata": {},
   "outputs": [
    {
     "name": "stdout",
     "output_type": "stream",
     "text": [
      "Phils favorite language is python\n"
     ]
    }
   ],
   "source": [
    "#A Dictionary of Similar Objects\n",
    "\n",
    "favorite_languages = {\n",
    "    'jen': 'python',\n",
    "    'sarah': 'c',\n",
    "    'edward': 'rust',\n",
    "    'phil': 'python',\n",
    "    }\n",
    "language = favorite_languages['phil']\n",
    "print(f\"Phils favorite language is {language}\")"
   ]
  },
  {
   "cell_type": "code",
   "execution_count": 29,
   "id": "cebe2b94",
   "metadata": {},
   "outputs": [
    {
     "name": "stdout",
     "output_type": "stream",
     "text": [
      "M\n",
      "N\n",
      "P\n"
     ]
    }
   ],
   "source": [
    "person = {\n",
    "    'fname': 'M',\n",
    "    'lname': 'N',\n",
    "    'city': 'P',\n",
    "}\n",
    "print(person['fname'])\n",
    "print(person['lname'])\n",
    "print(person['city'])"
   ]
  },
  {
   "cell_type": "code",
   "execution_count": 31,
   "id": "ac644565",
   "metadata": {},
   "outputs": [
    {
     "name": "stdout",
     "output_type": "stream",
     "text": [
      "favorite number of first friend is: 1\n",
      "favorite number of second friend is: 2\n",
      "favorite number of third friend is: 3\n"
     ]
    }
   ],
   "source": [
    "fav_number = {\n",
    "    'aa':1,\n",
    "    'bb':2,\n",
    "    'cc':3,\n",
    "}\n",
    "print(f\"favorite number of first friend is: {fav_number['aa']}\")\n",
    "print(f\"favorite number of second friend is: {fav_number['bb']}\")\n",
    "print(f\"favorite number of third friend is: {fav_number['cc']}\")"
   ]
  },
  {
   "cell_type": "code",
   "execution_count": 33,
   "id": "5d7713bb",
   "metadata": {},
   "outputs": [
    {
     "name": "stdout",
     "output_type": "stream",
     "text": [
      "\n",
      "Key : username\n",
      "\n",
      "Value: efermi\n",
      "\n",
      "Key : first_name\n",
      "\n",
      "Value: enrico\n",
      "\n",
      "Key : last_name\n",
      "\n",
      "Value: fermi\n"
     ]
    }
   ],
   "source": [
    "#Looping Through a Dictionary\n",
    "user_0 = {\n",
    "    'username': 'efermi',\n",
    "    'first_name': 'enrico',\n",
    "    'last_name': 'fermi',\n",
    "    }\n",
    "\n",
    "for key,value in user_0.items():\n",
    "    print(f\"\\nKey : {key}\")\n",
    "    print(f\"\\nValue: {value}\")\n",
    "          "
   ]
  },
  {
   "cell_type": "code",
   "execution_count": 34,
   "id": "de669693",
   "metadata": {},
   "outputs": [
    {
     "name": "stdout",
     "output_type": "stream",
     "text": [
      "Favorite language of Jen is PYTHON\n",
      "Favorite language of Sarah is C\n",
      "Favorite language of Edward is RUST\n",
      "Favorite language of Phil is PYTHON\n"
     ]
    }
   ],
   "source": [
    "# To write a for loop for a dictionary, you create names for the two variables that will hold the key and value in each key-value pair.\n",
    "'''\n",
    "for k,v in dict.items()\n",
    "'''\n",
    "favorite_languages = {\n",
    "    'jen': 'python',\n",
    "    'sarah': 'c',\n",
    "    'edward': 'rust',\n",
    "    'phil': 'python',\n",
    "    }\n",
    "\n",
    "for name, language in favorite_languages.items():\n",
    "    print(f\"Favorite language of {name.title()} is {language.upper()}\")"
   ]
  },
  {
   "cell_type": "code",
   "execution_count": null,
   "id": "da9c8f18",
   "metadata": {},
   "outputs": [],
   "source": []
  }
 ],
 "metadata": {
  "kernelspec": {
   "display_name": "Python 3",
   "language": "python",
   "name": "python3"
  },
  "language_info": {
   "codemirror_mode": {
    "name": "ipython",
    "version": 3
   },
   "file_extension": ".py",
   "mimetype": "text/x-python",
   "name": "python",
   "nbconvert_exporter": "python",
   "pygments_lexer": "ipython3",
   "version": "3.8.8"
  }
 },
 "nbformat": 4,
 "nbformat_minor": 5
}
