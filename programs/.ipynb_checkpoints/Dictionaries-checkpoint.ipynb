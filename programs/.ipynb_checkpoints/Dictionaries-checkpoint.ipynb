{
 "cells": [
  {
   "cell_type": "code",
   "execution_count": 1,
   "id": "72caeee1",
   "metadata": {},
   "outputs": [],
   "source": [
    "alien_0 = {'color':'green', 'points':5}\n"
   ]
  },
  {
   "cell_type": "code",
   "execution_count": 2,
   "id": "b230cadc",
   "metadata": {},
   "outputs": [
    {
     "data": {
      "text/plain": [
       "'green'"
      ]
     },
     "execution_count": 2,
     "metadata": {},
     "output_type": "execute_result"
    }
   ],
   "source": [
    "alien_0['color']"
   ]
  },
  {
   "cell_type": "code",
   "execution_count": 3,
   "id": "f33fda63",
   "metadata": {},
   "outputs": [
    {
     "data": {
      "text/plain": [
       "5"
      ]
     },
     "execution_count": 3,
     "metadata": {},
     "output_type": "execute_result"
    }
   ],
   "source": [
    "#Accessing Values in a Dictionary\n",
    "\n",
    "alien_0['points']"
   ]
  },
  {
   "cell_type": "code",
   "execution_count": 8,
   "id": "2b40a06e",
   "metadata": {},
   "outputs": [
    {
     "name": "stdout",
     "output_type": "stream",
     "text": [
      "You choose green ,SO, You just earned 5 points!\n"
     ]
    }
   ],
   "source": [
    "new_points = alien_0['points']\n",
    "new_color = alien_0['color']\n",
    "print(f\"You choose {new_color} ,SO, You just earned {new_points} points!\")"
   ]
  },
  {
   "cell_type": "code",
   "execution_count": null,
   "id": "99284489",
   "metadata": {},
   "outputs": [],
   "source": []
  }
 ],
 "metadata": {
  "kernelspec": {
   "display_name": "Python 3",
   "language": "python",
   "name": "python3"
  },
  "language_info": {
   "codemirror_mode": {
    "name": "ipython",
    "version": 3
   },
   "file_extension": ".py",
   "mimetype": "text/x-python",
   "name": "python",
   "nbconvert_exporter": "python",
   "pygments_lexer": "ipython3",
   "version": "3.8.8"
  }
 },
 "nbformat": 4,
 "nbformat_minor": 5
}
