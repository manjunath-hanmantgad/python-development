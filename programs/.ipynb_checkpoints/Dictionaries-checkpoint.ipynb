{
 "cells": [
  {
   "cell_type": "code",
   "execution_count": 1,
   "id": "b6054aae",
   "metadata": {},
   "outputs": [],
   "source": [
    "alien_0 = {'color':'green', 'points':5}\n"
   ]
  },
  {
   "cell_type": "code",
   "execution_count": 2,
   "id": "8b3d5063",
   "metadata": {},
   "outputs": [
    {
     "data": {
      "text/plain": [
       "'green'"
      ]
     },
     "execution_count": 2,
     "metadata": {},
     "output_type": "execute_result"
    }
   ],
   "source": [
    "alien_0['color']"
   ]
  },
  {
   "cell_type": "code",
   "execution_count": 3,
   "id": "4ceadbc5",
   "metadata": {},
   "outputs": [
    {
     "data": {
      "text/plain": [
       "5"
      ]
     },
     "execution_count": 3,
     "metadata": {},
     "output_type": "execute_result"
    }
   ],
   "source": [
    "#Accessing Values in a Dictionary\n",
    "\n",
    "alien_0['points']"
   ]
  },
  {
   "cell_type": "code",
   "execution_count": 8,
   "id": "15967eec",
   "metadata": {},
   "outputs": [
    {
     "name": "stdout",
     "output_type": "stream",
     "text": [
      "You choose green ,SO, You just earned 5 points!\n"
     ]
    }
   ],
   "source": [
    "new_points = alien_0['points']\n",
    "new_color = alien_0['color']\n",
    "print(f\"You choose {new_color} ,SO, You just earned {new_points} points!\")"
   ]
  },
  {
   "cell_type": "code",
   "execution_count": 9,
   "id": "6e63b6b5",
   "metadata": {},
   "outputs": [
    {
     "data": {
      "text/plain": [
       "{'color': 'green', 'points': 5, 'x_position': 0, 'y_position': 25}"
      ]
     },
     "execution_count": 9,
     "metadata": {},
     "output_type": "execute_result"
    }
   ],
   "source": [
    "#Adding New Key-Value Pairs\n",
    "\n",
    "alien_0['x_position'] = 0 # new key = x_position ; value = 0\n",
    "alien_0['y_position'] = 25 # new key = y_position ; value = 25\n",
    "\n",
    "alien_0"
   ]
  },
  {
   "cell_type": "code",
   "execution_count": 12,
   "id": "358edeb5",
   "metadata": {},
   "outputs": [
    {
     "data": {
      "text/plain": [
       "{'color': 'yellow', 'points': 10}"
      ]
     },
     "execution_count": 12,
     "metadata": {},
     "output_type": "execute_result"
    }
   ],
   "source": [
    "#Starting with an Empty Dictionary\n",
    "#alien_0 = [] # this is a list\n",
    "alien_0 = {} # this is dictionary\n",
    "alien_0['color'] ='yellow'\n",
    "alien_0['points'] = 10\n",
    "alien_0"
   ]
  },
  {
   "cell_type": "code",
   "execution_count": 20,
   "id": "63c695e4",
   "metadata": {},
   "outputs": [
    {
     "name": "stdout",
     "output_type": "stream",
     "text": [
      "alien is  red color\n",
      "\n",
      "alien color is now changed to yellow color\n",
      "\n"
     ]
    }
   ],
   "source": [
    "#Modifying Values in a Dictionary\n",
    "\n",
    "alien_0 = {'color':'red'}\n",
    "print(f\"alien is  {alien_0['color']} color\\n\")\n",
    "      \n",
    "alien_0['color'] = 'yellow'\n",
    "print(f\"alien color is now changed to {alien_0['color']} color\\n\")\n",
    "      \n"
   ]
  },
  {
   "cell_type": "code",
   "execution_count": 24,
   "id": "152d152c",
   "metadata": {},
   "outputs": [
    {
     "name": "stdout",
     "output_type": "stream",
     "text": [
      "Original position of alien is 0\n",
      "New position of alien is 2\n"
     ]
    }
   ],
   "source": [
    "alien_0 = {'x_position': 0, 'y_position': 25, 'speed': 'medium'}\n",
    "print(f\"Original position of alien is {alien_0['x_position']}\")\n",
    "\n",
    "# move alien to right base don speed\n",
    "if alien_0['speed'] == 'slow':\n",
    "    x_increment = 1\n",
    "elif alien_0['speed'] == 'medium':\n",
    "    x_increment = 2\n",
    "else:\n",
    "    # this can be fast alien\n",
    "    x_increment = 3\n",
    "# get new position\n",
    "alien_0['x_position'] = alien_0['x_position'] + x_increment\n",
    "print(f\"New position of alien is {alien_0['x_position']}\")"
   ]
  },
  {
   "cell_type": "code",
   "execution_count": 27,
   "id": "40a40025",
   "metadata": {},
   "outputs": [
    {
     "name": "stdout",
     "output_type": "stream",
     "text": [
      "Phils favorite language is python\n"
     ]
    }
   ],
   "source": [
    "#A Dictionary of Similar Objects\n",
    "\n",
    "favorite_languages = {\n",
    "    'jen': 'python',\n",
    "    'sarah': 'c',\n",
    "    'edward': 'rust',\n",
    "    'phil': 'python',\n",
    "    }\n",
    "language = favorite_languages['phil']\n",
    "print(f\"Phils favorite language is {language}\")"
   ]
  },
  {
   "cell_type": "code",
   "execution_count": 29,
   "id": "40fecfab",
   "metadata": {},
   "outputs": [
    {
     "name": "stdout",
     "output_type": "stream",
     "text": [
      "M\n",
      "N\n",
      "P\n"
     ]
    }
   ],
   "source": [
    "person = {\n",
    "    'fname': 'M',\n",
    "    'lname': 'N',\n",
    "    'city': 'P',\n",
    "}\n",
    "print(person['fname'])\n",
    "print(person['lname'])\n",
    "print(person['city'])"
   ]
  },
  {
   "cell_type": "code",
   "execution_count": 31,
   "id": "416b4eb8",
   "metadata": {},
   "outputs": [
    {
     "name": "stdout",
     "output_type": "stream",
     "text": [
      "favorite number of first friend is: 1\n",
      "favorite number of second friend is: 2\n",
      "favorite number of third friend is: 3\n"
     ]
    }
   ],
   "source": [
    "fav_number = {\n",
    "    'aa':1,\n",
    "    'bb':2,\n",
    "    'cc':3,\n",
    "}\n",
    "print(f\"favorite number of first friend is: {fav_number['aa']}\")\n",
    "print(f\"favorite number of second friend is: {fav_number['bb']}\")\n",
    "print(f\"favorite number of third friend is: {fav_number['cc']}\")"
   ]
  },
  {
   "cell_type": "code",
   "execution_count": 33,
   "id": "21d852b6",
   "metadata": {},
   "outputs": [
    {
     "name": "stdout",
     "output_type": "stream",
     "text": [
      "\n",
      "Key : username\n",
      "\n",
      "Value: efermi\n",
      "\n",
      "Key : first_name\n",
      "\n",
      "Value: enrico\n",
      "\n",
      "Key : last_name\n",
      "\n",
      "Value: fermi\n"
     ]
    }
   ],
   "source": [
    "#Looping Through a Dictionary\n",
    "user_0 = {\n",
    "    'username': 'efermi',\n",
    "    'first_name': 'enrico',\n",
    "    'last_name': 'fermi',\n",
    "    }\n",
    "\n",
    "for key,value in user_0.items():\n",
    "    print(f\"\\nKey : {key}\")\n",
    "    print(f\"\\nValue: {value}\")\n",
    "          "
   ]
  },
  {
   "cell_type": "code",
   "execution_count": 34,
   "id": "730a8e29",
   "metadata": {},
   "outputs": [
    {
     "name": "stdout",
     "output_type": "stream",
     "text": [
      "Favorite language of Jen is PYTHON\n",
      "Favorite language of Sarah is C\n",
      "Favorite language of Edward is RUST\n",
      "Favorite language of Phil is PYTHON\n"
     ]
    }
   ],
   "source": [
    "# To write a for loop for a dictionary, you create names for the two variables that will hold the key and value in each key-value pair.\n",
    "'''\n",
    "for k,v in dict.items()\n",
    "'''\n",
    "favorite_languages = {\n",
    "    'jen': 'python',\n",
    "    'sarah': 'c',\n",
    "    'edward': 'rust',\n",
    "    'phil': 'python',\n",
    "    }\n",
    "\n",
    "for name, language in favorite_languages.items():\n",
    "    print(f\"Favorite language of {name.title()} is {language.upper()}\")"
   ]
  },
  {
   "cell_type": "code",
   "execution_count": 35,
   "id": "3055d2a5",
   "metadata": {},
   "outputs": [
    {
     "name": "stdout",
     "output_type": "stream",
     "text": [
      "Edward. I see!\n",
      "Jen. I see!\n",
      "Phil. I see!\n",
      "Sarah. I see!\n"
     ]
    }
   ],
   "source": [
    "#Looping Through a Dictionary’s Keys in a Particular Order\n",
    "\n",
    "for name in sorted(favorite_languages.keys()):\n",
    "    print(f\"{name.title()}. I see!\")"
   ]
  },
  {
   "cell_type": "code",
   "execution_count": 36,
   "id": "2398b2bb",
   "metadata": {},
   "outputs": [
    {
     "name": "stdout",
     "output_type": "stream",
     "text": [
      "The Nile river runs in the country EGYPT \n",
      "The Amazon river runs in the country BRAZIL \n",
      "The Mythical river runs in the country MYSTERY \n"
     ]
    }
   ],
   "source": [
    "rivers = {\n",
    "    'nile':'egypt',\n",
    "    'amazon':'brazil',\n",
    "    'mythical':'mystery', \n",
    "}\n",
    "for river,name in rivers.items():\n",
    "    print(f\"The {river.title()} river runs in the country {name.upper()} \")"
   ]
  },
  {
   "cell_type": "code",
   "execution_count": 37,
   "id": "dfa8bfca",
   "metadata": {},
   "outputs": [
    {
     "name": "stdout",
     "output_type": "stream",
     "text": [
      "nile\n",
      "amazon\n",
      "mythical\n"
     ]
    }
   ],
   "source": [
    "# name of each river\n",
    "for river in rivers.keys():\n",
    "    print(river)"
   ]
  },
  {
   "cell_type": "code",
   "execution_count": 39,
   "id": "806592a1",
   "metadata": {},
   "outputs": [
    {
     "name": "stdout",
     "output_type": "stream",
     "text": [
      "EGYPT\n",
      "BRAZIL\n",
      "MYSTERY\n"
     ]
    }
   ],
   "source": [
    "# name of each country\n",
    "for name in rivers.values():\n",
    "    print(name.upper())"
   ]
  },
  {
   "cell_type": "markdown",
   "id": "91d8775e",
   "metadata": {},
   "source": [
    "#### Nesting"
   ]
  },
  {
   "cell_type": "code",
   "execution_count": 46,
   "id": "9ff9adda",
   "metadata": {},
   "outputs": [
    {
     "data": {
      "text/plain": [
       "[{'color': 'green', 'points': 5},\n",
       " {'color': 'yellow', 'points': 10},\n",
       " {'color': 'red', 'points': 15}]"
      ]
     },
     "execution_count": 46,
     "metadata": {},
     "output_type": "execute_result"
    }
   ],
   "source": [
    "# list of dictionaries\n",
    "alien_0 = {'color': 'green', 'points': 5}\n",
    "alien_1 = {'color': 'yellow', 'points': 10}\n",
    "alien_2 = {'color': 'red', 'points': 15}\n",
    "\n",
    "aliens = [alien_0,alien_1,alien_2]\n",
    "#aliens = [[alien_0,alien_1,alien_2]]\n",
    "aliens"
   ]
  },
  {
   "cell_type": "code",
   "execution_count": 48,
   "id": "6eb3b3f6",
   "metadata": {},
   "outputs": [],
   "source": [
    "# create 30 aliens automatically\n",
    "\n",
    "aliens = []\n",
    "\n",
    "# make 30 green aliens\n",
    "\n",
    "for alien_number in range(30):\n",
    "    new_alien = {'color':'green', 'points': 5, 'speed':'slow'}\n",
    "    aliens.append(new_alien)"
   ]
  },
  {
   "cell_type": "code",
   "execution_count": 49,
   "id": "fae47455",
   "metadata": {},
   "outputs": [
    {
     "data": {
      "text/plain": [
       "[{'color': 'green', 'points': 5, 'speed': 'slow'},\n",
       " {'color': 'green', 'points': 5, 'speed': 'slow'},\n",
       " {'color': 'green', 'points': 5, 'speed': 'slow'},\n",
       " {'color': 'green', 'points': 5, 'speed': 'slow'},\n",
       " {'color': 'green', 'points': 5, 'speed': 'slow'}]"
      ]
     },
     "execution_count": 49,
     "metadata": {},
     "output_type": "execute_result"
    }
   ],
   "source": [
    "aliens[:5] # first 5 aliens"
   ]
  },
  {
   "cell_type": "code",
   "execution_count": 51,
   "id": "fe19b4bd",
   "metadata": {},
   "outputs": [
    {
     "name": "stdout",
     "output_type": "stream",
     "text": [
      "Total number of aliens cretaed are : 30\n"
     ]
    }
   ],
   "source": [
    "print(f\"Total number of aliens cretaed are : {len(aliens)}\")"
   ]
  },
  {
   "cell_type": "code",
   "execution_count": 53,
   "id": "99694e31",
   "metadata": {},
   "outputs": [
    {
     "data": {
      "text/plain": [
       "[{'color': 'yellow', 'points': 10, 'speed': 'medium'},\n",
       " {'color': 'yellow', 'points': 10, 'speed': 'medium'},\n",
       " {'color': 'yellow', 'points': 10, 'speed': 'medium'}]"
      ]
     },
     "execution_count": 53,
     "metadata": {},
     "output_type": "execute_result"
    }
   ],
   "source": [
    "#For example, to change the first three aliens to yellow, medium-speed aliens worth 10 points each, we could do this\n",
    "\n",
    "for alien in aliens[:3]:\n",
    "    if alien['color'] == 'green':\n",
    "        alien['color'] = 'yellow' # dont use '==' ; instead use '=' as Im assigning a new value!\n",
    "        alien['points'] = 10\n",
    "        alien['speed'] = 'medium'\n",
    "aliens[:3]"
   ]
  },
  {
   "cell_type": "code",
   "execution_count": 55,
   "id": "56511058",
   "metadata": {},
   "outputs": [
    {
     "data": {
      "text/plain": [
       "[{'color': 'yellow', 'points': 10, 'speed': 'medium'},\n",
       " {'color': 'yellow', 'points': 10, 'speed': 'medium'},\n",
       " {'color': 'yellow', 'points': 10, 'speed': 'medium'},\n",
       " {'color': 'green', 'points': 5, 'speed': 'slow'},\n",
       " {'color': 'green', 'points': 5, 'speed': 'slow'},\n",
       " {'color': 'green', 'points': 5, 'speed': 'slow'},\n",
       " {'color': 'green', 'points': 5, 'speed': 'slow'},\n",
       " {'color': 'green', 'points': 5, 'speed': 'slow'},\n",
       " {'color': 'green', 'points': 5, 'speed': 'slow'},\n",
       " {'color': 'green', 'points': 5, 'speed': 'slow'}]"
      ]
     },
     "execution_count": 55,
     "metadata": {},
     "output_type": "execute_result"
    }
   ],
   "source": [
    "aliens[:10] # notice the first 3 aliens"
   ]
  },
  {
   "cell_type": "code",
   "execution_count": 56,
   "id": "adfe9f76",
   "metadata": {},
   "outputs": [],
   "source": [
    "# yellow aliens to red and speed to fast\n",
    "for alien in aliens[:3]:\n",
    "    if alien['color'] == 'green':\n",
    "        alien['color'] = 'yellow' # dont use '==' ; instead use '=' as Im assigning a new value!\n",
    "        alien['points'] = 10\n",
    "        alien['speed'] = 'medium'\n",
    "    elif alien['color'] =='yellow':\n",
    "        alien['color'] = 'red'\n",
    "        alien['speed'] = 'fast'\n",
    "        alien['points'] = 15\n",
    "    "
   ]
  },
  {
   "cell_type": "code",
   "execution_count": 57,
   "id": "f9ac8ef8",
   "metadata": {},
   "outputs": [
    {
     "data": {
      "text/plain": [
       "[{'color': 'red', 'points': 15, 'speed': 'fast'},\n",
       " {'color': 'red', 'points': 15, 'speed': 'fast'},\n",
       " {'color': 'red', 'points': 15, 'speed': 'fast'},\n",
       " {'color': 'green', 'points': 5, 'speed': 'slow'},\n",
       " {'color': 'green', 'points': 5, 'speed': 'slow'},\n",
       " {'color': 'green', 'points': 5, 'speed': 'slow'},\n",
       " {'color': 'green', 'points': 5, 'speed': 'slow'},\n",
       " {'color': 'green', 'points': 5, 'speed': 'slow'},\n",
       " {'color': 'green', 'points': 5, 'speed': 'slow'},\n",
       " {'color': 'green', 'points': 5, 'speed': 'slow'}]"
      ]
     },
     "execution_count": 57,
     "metadata": {},
     "output_type": "execute_result"
    }
   ],
   "source": [
    "aliens[:10] # notice yellow truned to red!"
   ]
  },
  {
   "cell_type": "code",
   "execution_count": 63,
   "id": "57db883f",
   "metadata": {},
   "outputs": [
    {
     "name": "stdout",
     "output_type": "stream",
     "text": [
      "You ordered a pizza with thick crust and with following ['corn', 'cheese', 'pepper', 'salt'] toppings! \n"
     ]
    }
   ],
   "source": [
    "# List within a dictionary\n",
    "\n",
    "pizza = {\n",
    "    'crust':'thick',\n",
    "    'toppings': ['corn', 'cheese','pepper','salt'],\n",
    "}\n",
    "\n",
    "# summarize order\n",
    "print(f\"You ordered a pizza with {pizza['crust']} crust and with following {pizza['toppings']} toppings! \")"
   ]
  },
  {
   "cell_type": "code",
   "execution_count": 66,
   "id": "74c13418",
   "metadata": {},
   "outputs": [
    {
     "name": "stdout",
     "output_type": "stream",
     "text": [
      "Jen's favorite languages are:\n",
      "\tPYTHON\n",
      "\tRUST\n",
      "Sarah's favorite languages are:\n",
      "\tC\n",
      "Edward's favorite languages are:\n",
      "\tRUST\n",
      "\tGO\n",
      "Phil's favorite languages are:\n",
      "\tPYTHON\n",
      "\tHASKELL\n"
     ]
    }
   ],
   "source": [
    "favorite_languages = {\n",
    "    'jen': ['python', 'rust'],\n",
    "    'sarah': ['c'],\n",
    "    'edward': ['rust', 'go'],\n",
    "    'phil': ['python', 'haskell'],\n",
    "    }\n",
    "for name , language in favorite_languages.items():\n",
    "    print(f\"{name.title()}'s favorite languages are:\")\n",
    "    for language in language:\n",
    "        print(f\"\\t{language.upper()}\")"
   ]
  },
  {
   "cell_type": "code",
   "execution_count": 69,
   "id": "c2935606",
   "metadata": {},
   "outputs": [
    {
     "name": "stdout",
     "output_type": "stream",
     "text": [
      "Username is : user_1\n",
      "\tFull name is : Albert * Einstein\n",
      "\tLocation is : USA\n",
      "Username is : user_2\n",
      "\tFull name is : Stephen * Hawking\n",
      "\tLocation is : LONDON\n"
     ]
    }
   ],
   "source": [
    "#A Dictionary in a Dictionary\n",
    "\n",
    "#In the following listing, we store three pieces of information about each user: their first name, last name, and location. We’ll access this information by looping through the usernames and the dictionary of information associated with each username:\n",
    "\n",
    "users = {\n",
    "    # create first user here:\n",
    "    'user_1':{\n",
    "        'fname':'albert',\n",
    "        'lname':'einstein',\n",
    "        'location':'usa',\n",
    "    },\n",
    "    # create second user here:\n",
    "    'user_2':{\n",
    "        'fname':'stephen',\n",
    "        'lname':'hawking',\n",
    "        'location':'london',\n",
    "    }\n",
    "}\n",
    "\n",
    "# print username\n",
    "for username, user_info in users.items():\n",
    "    print(f\"Username is : {username}\")\n",
    "    # define the 2 variables for full name and location\n",
    "    full_name = f\"{user_info['fname']} * {user_info['lname']}\"\n",
    "    location = user_info['location']\n",
    "    \n",
    "    print(f\"\\tFull name is : {full_name.title()}\")\n",
    "    print(f\"\\tLocation is : {location.upper()}\")\n"
   ]
  },
  {
   "cell_type": "code",
   "execution_count": 74,
   "id": "b8709128",
   "metadata": {},
   "outputs": [
    {
     "name": "stdout",
     "output_type": "stream",
     "text": [
      "I know the following info about dog\n",
      "\tanimal:dog\n",
      "\towner:she\n",
      "I know the following info about cat\n",
      "\tanimal:cat\n",
      "\towner:he\n"
     ]
    }
   ],
   "source": [
    "pets = []\n",
    "\n",
    "# make individual pet and store in dictionary\n",
    "\n",
    "pet = {\n",
    "    'animal':'dog',\n",
    "    'owner':'she',\n",
    "}\n",
    "pets.append(pet)\n",
    "\n",
    "pet = {\n",
    "    'animal':'cat',\n",
    "    'owner':'he',\n",
    "}\n",
    "pets.append(pet)\n",
    "\n",
    "# pets # [{'animal': 'dog', 'owner': 'she'}, {'animal': 'cat', 'owner': 'he'}]\n",
    "\n",
    "# info about each pet\n",
    "\n",
    "for pet in pets:\n",
    "    print(f\"I know the following info about \" + pet['animal'])\n",
    "    for key,value in pet.items():\n",
    "        print(\"\\t\" + key + \":\" + str(value))"
   ]
  },
  {
   "cell_type": "code",
   "execution_count": null,
   "id": "207f79cf",
   "metadata": {},
   "outputs": [],
   "source": []
  }
 ],
 "metadata": {
  "kernelspec": {
   "display_name": "Python 3",
   "language": "python",
   "name": "python3"
  },
  "language_info": {
   "codemirror_mode": {
    "name": "ipython",
    "version": 3
   },
   "file_extension": ".py",
   "mimetype": "text/x-python",
   "name": "python",
   "nbconvert_exporter": "python",
   "pygments_lexer": "ipython3",
   "version": "3.8.8"
  }
 },
 "nbformat": 4,
 "nbformat_minor": 5
}
