{
 "cells": [
  {
   "cell_type": "code",
   "execution_count": 2,
   "id": "4df97999",
   "metadata": {},
   "outputs": [
    {
     "name": "stdout",
     "output_type": "stream",
     "text": [
      "Tell me something and I will repeat it.a\n"
     ]
    },
    {
     "data": {
      "text/plain": [
       "'a'"
      ]
     },
     "execution_count": 2,
     "metadata": {},
     "output_type": "execute_result"
    }
   ],
   "source": [
    "message = input(\"Tell me something and I will repeat it.\")\n",
    "message"
   ]
  },
  {
   "cell_type": "code",
   "execution_count": 4,
   "id": "34b0b4db",
   "metadata": {},
   "outputs": [
    {
     "name": "stdout",
     "output_type": "stream",
     "text": [
      "Enter name here:hh\n",
      "\n",
      "Hello, hh!\n"
     ]
    }
   ],
   "source": [
    "name  = input(\"Enter name here:\")\n",
    "print(f\"\\nHello, {name}!\")"
   ]
  },
  {
   "cell_type": "code",
   "execution_count": 5,
   "id": "4e4da372",
   "metadata": {},
   "outputs": [
    {
     "name": "stdout",
     "output_type": "stream",
     "text": [
      "If you share with me , we can personalise it.\n",
      "What is your first name? aa\n",
      "\n",
      "Hello , aa!\n"
     ]
    }
   ],
   "source": [
    "prompt = \"If you share with me , we can personalise it.\"\n",
    "prompt += \"\\nWhat is your first name? \"\n",
    "\n",
    "name = input(prompt)\n",
    "print(f\"\\nHello , {name}!\")"
   ]
  },
  {
   "cell_type": "markdown",
   "id": "fc838c1e",
   "metadata": {},
   "source": [
    "##### TypeError: '>=' not supported between instances of 'str' and 'int'"
   ]
  },
  {
   "cell_type": "code",
   "execution_count": 6,
   "id": "8d8c6ddf",
   "metadata": {},
   "outputs": [
    {
     "name": "stdout",
     "output_type": "stream",
     "text": [
      "How old are you? 22\n"
     ]
    },
    {
     "data": {
      "text/plain": [
       "'22'"
      ]
     },
     "execution_count": 6,
     "metadata": {},
     "output_type": "execute_result"
    }
   ],
   "source": [
    "age = input(\"How old are you? \")\n",
    "age"
   ]
  },
  {
   "cell_type": "code",
   "execution_count": 7,
   "id": "3ad11dc7",
   "metadata": {},
   "outputs": [
    {
     "ename": "TypeError",
     "evalue": "'>=' not supported between instances of 'str' and 'int'",
     "output_type": "error",
     "traceback": [
      "\u001b[1;31m---------------------------------------------------------------------------\u001b[0m",
      "\u001b[1;31mTypeError\u001b[0m                                 Traceback (most recent call last)",
      "\u001b[1;32m<ipython-input-7-f1971258b52d>\u001b[0m in \u001b[0;36m<module>\u001b[1;34m\u001b[0m\n\u001b[1;32m----> 1\u001b[1;33m \u001b[0mage\u001b[0m \u001b[1;33m>=\u001b[0m\u001b[1;36m18\u001b[0m\u001b[1;33m\u001b[0m\u001b[1;33m\u001b[0m\u001b[0m\n\u001b[0m",
      "\u001b[1;31mTypeError\u001b[0m: '>=' not supported between instances of 'str' and 'int'"
     ]
    }
   ],
   "source": [
    "age >=18"
   ]
  },
  {
   "cell_type": "markdown",
   "id": "7cef8d85",
   "metadata": {},
   "source": [
    "This is because age we get is as string and not as integer, so we must first convert this into int for any numerical type comparison."
   ]
  },
  {
   "cell_type": "code",
   "execution_count": 8,
   "id": "2c1e449e",
   "metadata": {},
   "outputs": [
    {
     "name": "stdout",
     "output_type": "stream",
     "text": [
      "How old are you? 22\n"
     ]
    }
   ],
   "source": [
    "age = input(\"How old are you? \")\n",
    "age = int(age) # keeping the age as int\n"
   ]
  },
  {
   "cell_type": "code",
   "execution_count": 9,
   "id": "22fe5b1a",
   "metadata": {},
   "outputs": [
    {
     "data": {
      "text/plain": [
       "True"
      ]
     },
     "execution_count": 9,
     "metadata": {},
     "output_type": "execute_result"
    }
   ],
   "source": [
    "age >=18"
   ]
  },
  {
   "cell_type": "markdown",
   "id": "4e41924a",
   "metadata": {},
   "source": [
    "After converting to integer this works fine.!!"
   ]
  },
  {
   "cell_type": "code",
   "execution_count": 10,
   "id": "c37fb821",
   "metadata": {},
   "outputs": [
    {
     "name": "stdout",
     "output_type": "stream",
     "text": [
      "How tall are you , in inches ? 22\n",
      "\n",
      "You are not tall enough!\n"
     ]
    }
   ],
   "source": [
    "height = input(\"How tall are you , in inches ? \")\n",
    "height = int(height)\n",
    "\n",
    "if height >= 50:\n",
    "    print(\"f\\nYes you can ride\")\n",
    "else:\n",
    "    print(\"\\nYou are not tall enough!\")"
   ]
  },
  {
   "cell_type": "code",
   "execution_count": 13,
   "id": "54ec20c8",
   "metadata": {},
   "outputs": [
    {
     "name": "stdout",
     "output_type": "stream",
     "text": [
      "How tall are you , in inches ? 55\n",
      "\n",
      "Yes you can ride\n"
     ]
    }
   ],
   "source": [
    "height = input(\"How tall are you , in inches ? \")\n",
    "height = int(height)\n",
    "\n",
    "if height >= 50:\n",
    "    print(\"\\nYes you can ride\")\n",
    "else:\n",
    "    print(\"\\nYou are not tall enough!\")"
   ]
  },
  {
   "cell_type": "code",
   "execution_count": 14,
   "id": "d08eb0af",
   "metadata": {},
   "outputs": [
    {
     "data": {
      "text/plain": [
       "1"
      ]
     },
     "execution_count": 14,
     "metadata": {},
     "output_type": "execute_result"
    }
   ],
   "source": [
    "4%3"
   ]
  },
  {
   "cell_type": "code",
   "execution_count": 15,
   "id": "679c5d1b",
   "metadata": {},
   "outputs": [
    {
     "data": {
      "text/plain": [
       "0"
      ]
     },
     "execution_count": 15,
     "metadata": {},
     "output_type": "execute_result"
    }
   ],
   "source": [
    "2%2"
   ]
  },
  {
   "cell_type": "markdown",
   "id": "ccfa334e",
   "metadata": {},
   "source": [
    "The modulo operator doesn’t tell you how many times one number fits into another; it only tells you what the remainder is.\n",
    "\n",
    "When one number is divisible by another number, the remainder is 0, so the modulo operator always returns 0. You can use this fact to determine if a number is even or odd:"
   ]
  },
  {
   "cell_type": "code",
   "execution_count": 16,
   "id": "622f3f2d",
   "metadata": {},
   "outputs": [
    {
     "name": "stdout",
     "output_type": "stream",
     "text": [
      "Enter a number: 22\n",
      "\n",
      "22 is Even number!\n"
     ]
    }
   ],
   "source": [
    "number = input(\"Enter a number: \")\n",
    "number = int(number)\n",
    "\n",
    "if number %2 == 0:\n",
    "    print(f\"\\n{number} is Even number!\")\n",
    "else:\n",
    "    print(f\"\\n{number} is Odd number!\")"
   ]
  },
  {
   "cell_type": "code",
   "execution_count": 17,
   "id": "2e987bb5",
   "metadata": {},
   "outputs": [
    {
     "name": "stdout",
     "output_type": "stream",
     "text": [
      "Enter a number: 9\n",
      "\n",
      "9 is Odd number!\n"
     ]
    }
   ],
   "source": [
    "number = input(\"Enter a number: \")\n",
    "number = int(number)\n",
    "\n",
    "if number %2 == 0:\n",
    "    print(f\"\\n{number} is Even number!\")\n",
    "else:\n",
    "    print(f\"\\n{number} is Odd number!\")"
   ]
  },
  {
   "cell_type": "code",
   "execution_count": 19,
   "id": "c3284b2a",
   "metadata": {},
   "outputs": [
    {
     "name": "stdout",
     "output_type": "stream",
     "text": [
      "what type of car you need ?Subaru\n",
      "\n",
      "Let me see if I can find you a Subaru\n"
     ]
    }
   ],
   "source": [
    "car = input(\"what type of car you need ?\")\n",
    "print(f\"\\nLet me see if I can find you a {car}\")"
   ]
  },
  {
   "cell_type": "code",
   "execution_count": 20,
   "id": "05acc1e6",
   "metadata": {},
   "outputs": [
    {
     "name": "stdout",
     "output_type": "stream",
     "text": [
      "How many people are your group ? 4\n",
      "\n",
      "The table is ready.\n"
     ]
    }
   ],
   "source": [
    "number = input(\"How many people are your group ? \")\n",
    "number = int(number)\n",
    "\n",
    "if number >8 :\n",
    "    print(\"\\nYou will have to wait for the table to get ready.\")\n",
    "else:\n",
    "    print(\"\\nThe table is ready.\")"
   ]
  },
  {
   "cell_type": "code",
   "execution_count": 21,
   "id": "ea566999",
   "metadata": {},
   "outputs": [
    {
     "name": "stdout",
     "output_type": "stream",
     "text": [
      "How many people are your group ? 9\n",
      "\n",
      "You will have to wait for the table to get ready.\n"
     ]
    }
   ],
   "source": [
    "number = input(\"How many people are your group ? \")\n",
    "number = int(number)\n",
    "\n",
    "if number >8 :\n",
    "    print(\"\\nYou will have to wait for the table to get ready.\")\n",
    "else:\n",
    "    print(\"\\nThe table is ready.\")"
   ]
  },
  {
   "cell_type": "code",
   "execution_count": 24,
   "id": "72811dc8",
   "metadata": {},
   "outputs": [
    {
     "name": "stdout",
     "output_type": "stream",
     "text": [
      "enter a number: 10\n",
      "\n",
      "10 is multiple of 10\n"
     ]
    }
   ],
   "source": [
    "number = input(\"enter a number: \")\n",
    "number = int(number)\n",
    "if number % 10 == 0:\n",
    "    print(f\"\\n{number} is multiple of 10\")\n",
    "else:\n",
    "    print(f\"\\n{number} is not multiple of 10\")"
   ]
  },
  {
   "cell_type": "code",
   "execution_count": 25,
   "id": "08cde582",
   "metadata": {},
   "outputs": [
    {
     "name": "stdout",
     "output_type": "stream",
     "text": [
      "enter a number: 6\n",
      "\n",
      "6 is not multiple of 10\n"
     ]
    }
   ],
   "source": [
    "number = input(\"enter a number: \")\n",
    "number = int(number)\n",
    "if number % 10 == 0:\n",
    "    print(f\"\\n{number} is multiple of 10\")\n",
    "else:\n",
    "    print(f\"\\n{number} is not multiple of 10\")"
   ]
  },
  {
   "cell_type": "code",
   "execution_count": 31,
   "id": "70d04250",
   "metadata": {},
   "outputs": [
    {
     "name": "stdout",
     "output_type": "stream",
     "text": [
      "1\n",
      "2\n",
      "3\n",
      "4\n",
      "5\n"
     ]
    }
   ],
   "source": [
    "number = 1\n",
    "while number <= 5:\n",
    "    print(number)\n",
    "    number += 1"
   ]
  },
  {
   "cell_type": "code",
   "execution_count": 32,
   "id": "b39fcbf7",
   "metadata": {},
   "outputs": [
    {
     "name": "stdout",
     "output_type": "stream",
     "text": [
      "\n",
      "Tell me something and I will repeat it. \n",
      "Enter 'quit' to end the program.hi\n",
      "hi\n",
      "\n",
      "Tell me something and I will repeat it. \n",
      "Enter 'quit' to end the program.f\n",
      "f\n",
      "\n",
      "Tell me something and I will repeat it. \n",
      "Enter 'quit' to end the program.g\n",
      "g\n",
      "\n",
      "Tell me something and I will repeat it. \n",
      "Enter 'quit' to end the program.h\n",
      "h\n",
      "\n",
      "Tell me something and I will repeat it. \n",
      "Enter 'quit' to end the program.t\n",
      "t\n",
      "\n",
      "Tell me something and I will repeat it. \n",
      "Enter 'quit' to end the program.u\n",
      "u\n",
      "\n",
      "Tell me something and I will repeat it. \n",
      "Enter 'quit' to end the program.q\n",
      "q\n",
      "\n",
      "Tell me something and I will repeat it. \n",
      "Enter 'quit' to end the program.qui\n",
      "qui\n",
      "\n",
      "Tell me something and I will repeat it. \n",
      "Enter 'quit' to end the program.qit\n",
      "qit\n",
      "\n",
      "Tell me something and I will repeat it. \n",
      "Enter 'quit' to end the program.quit\n",
      "quit\n"
     ]
    }
   ],
   "source": [
    "prompt = \"\\nTell me something and I will repeat it. \"\n",
    "prompt += \"\\nEnter 'quit' to end the program.\"\n",
    "\n",
    "message = \"\"\n",
    "# We define message as an empty string, \"\",\n",
    "# so Python has something to check the first time it reaches the \n",
    "# while line. The first time the program runs and Python reaches \n",
    "# the while statement, it needs to compare the value of message \n",
    "# to 'quit', \n",
    "# but no user input has been entered yet. \n",
    "while message != 'quit':\n",
    "    message = input(prompt)\n",
    "    print(message)"
   ]
  },
  {
   "cell_type": "markdown",
   "id": "5685b24d",
   "metadata": {},
   "source": [
    "##### Since the code prints the 'quit' as well , what if we dont want to see the word 'quit' printed out and want our code just to terminate after it sees the word 'quit'.\n"
   ]
  },
  {
   "cell_type": "code",
   "execution_count": 34,
   "id": "731c2ff8",
   "metadata": {},
   "outputs": [
    {
     "name": "stdout",
     "output_type": "stream",
     "text": [
      "\n",
      "Tell me something and I will repeat it. \n",
      "Enter 'quit' to end the program.ee\n",
      "ee\n",
      "\n",
      "Tell me something and I will repeat it. \n",
      "Enter 'quit' to end the program.rr\n",
      "rr\n",
      "\n",
      "Tell me something and I will repeat it. \n",
      "Enter 'quit' to end the program.tt\n",
      "tt\n",
      "\n",
      "Tell me something and I will repeat it. \n",
      "Enter 'quit' to end the program.quit\n"
     ]
    }
   ],
   "source": [
    "prompt = \"\\nTell me something and I will repeat it. \"\n",
    "prompt += \"\\nEnter 'quit' to end the program.\"\n",
    "\n",
    "message = \"\"\n",
    "# We define message as an empty string, \"\",\n",
    "# so Python has something to check the first time it reaches the \n",
    "# while line. The first time the program runs and Python reaches \n",
    "# the while statement, it needs to compare the value of message \n",
    "# to 'quit', \n",
    "# but no user input has been entered yet. \n",
    "while message != 'quit':\n",
    "    message = input(prompt)\n",
    "    \n",
    "    if message != 'quit':\n",
    "        print(message)"
   ]
  },
  {
   "cell_type": "markdown",
   "id": "1c3eb34e",
   "metadata": {},
   "source": [
    "### FLAG\n",
    "\n",
    "##### For a program that should run only as long as many conditions are true, you can define one variable that determines whether or not the entire program is active. This variable, called a flag, acts as a signal to the program. We can write our programs so they run while the flag is set to True and stop running when any of several events sets the value of the flag to False. As a result, our overall while statement needs to check only one condition: whether the flag is currently True."
   ]
  },
  {
   "cell_type": "code",
   "execution_count": 36,
   "id": "b0410da8",
   "metadata": {},
   "outputs": [
    {
     "name": "stdout",
     "output_type": "stream",
     "text": [
      "\n",
      "Tell me something and I will repeat it! \n",
      "Enter 'quit' to exit program. uu\n",
      "uu\n",
      "\n",
      "Tell me something and I will repeat it! \n",
      "Enter 'quit' to exit program. rr\n",
      "rr\n",
      "\n",
      "Tell me something and I will repeat it! \n",
      "Enter 'quit' to exit program. qq\n",
      "qq\n",
      "\n",
      "Tell me something and I will repeat it! \n",
      "Enter 'quit' to exit program. aa\n",
      "aa\n",
      "\n",
      "Tell me something and I will repeat it! \n",
      "Enter 'quit' to exit program. quit\n"
     ]
    }
   ],
   "source": [
    "prompt = \"\\nTell me something and I will repeat it! \"\n",
    "prompt += \"\\nEnter 'quit' to exit program. \"\n",
    "\n",
    "# define the flag here\n",
    "active = True # name of flag = active\n",
    "while active:\n",
    "    message = input(prompt)\n",
    "    \n",
    "    if message == 'quit':\n",
    "        active = False # works when flag is not true\n",
    "    else:\n",
    "        print(message)"
   ]
  },
  {
   "cell_type": "markdown",
   "id": "67f86a41",
   "metadata": {},
   "source": [
    "#### Using Break"
   ]
  },
  {
   "cell_type": "code",
   "execution_count": 37,
   "id": "17a3cc53",
   "metadata": {},
   "outputs": [
    {
     "name": "stdout",
     "output_type": "stream",
     "text": [
      "\n",
      "Please enter the name of city to visit\n",
      "(Enter 'quit' when you are finished. )qi\n",
      "\n",
      "I will love to visit the qi !\n",
      "\n",
      "Please enter the name of city to visit\n",
      "(Enter 'quit' when you are finished. )quit\n"
     ]
    }
   ],
   "source": [
    "prompt = \"\\nPlease enter the name of city to visit\"\n",
    "prompt += \"\\n(Enter 'quit' when you are finished. )\"\n",
    "\n",
    "while True:\n",
    "    city = input(prompt)\n",
    "    \n",
    "    if city == 'quit':\n",
    "        break\n",
    "    else:\n",
    "        print(f\"\\nI will love to visit the {city} !\")"
   ]
  },
  {
   "cell_type": "markdown",
   "id": "81398a01",
   "metadata": {},
   "source": [
    "#### Using Continue"
   ]
  },
  {
   "cell_type": "code",
   "execution_count": 38,
   "id": "77972bc6",
   "metadata": {},
   "outputs": [
    {
     "name": "stdout",
     "output_type": "stream",
     "text": [
      "1\n",
      "3\n",
      "5\n",
      "7\n",
      "9\n"
     ]
    }
   ],
   "source": [
    "number = 0\n",
    "while number < 10:\n",
    "    number += 1\n",
    "    if number % 2 == 0:\n",
    "        continue # this checks that if numbers are even then simply continue the loop\n",
    "        # and if the number % 2 ! ==0 then print that number.\n",
    "    print(number)"
   ]
  },
  {
   "cell_type": "code",
   "execution_count": 39,
   "id": "ecf28218",
   "metadata": {},
   "outputs": [
    {
     "name": "stdout",
     "output_type": "stream",
     "text": [
      "\n",
      "Please enter the toppings you want to add to your pizza\n",
      "(Enter 'quit' when you are finished. )mushroom\n",
      "\n",
      "Added the mushroom to the piiza.!\n",
      "\n",
      "Please enter the toppings you want to add to your pizza\n",
      "(Enter 'quit' when you are finished. )macroni\n",
      "\n",
      "Added the macroni to the piiza.!\n",
      "\n",
      "Please enter the toppings you want to add to your pizza\n",
      "(Enter 'quit' when you are finished. )quit\n"
     ]
    }
   ],
   "source": [
    "prompt = \"\\nPlease enter the toppings you want to add to your pizza\"\n",
    "prompt += \"\\n(Enter 'quit' when you are finished. )\"\n",
    "\n",
    "while True:\n",
    "    toppings = input(prompt)\n",
    "    \n",
    "    if toppings == 'quit':\n",
    "        break\n",
    "    else:\n",
    "        print(f\"\\nAdded the {toppings} to the piiza.!\")"
   ]
  },
  {
   "cell_type": "code",
   "execution_count": 40,
   "id": "c1f06e98",
   "metadata": {},
   "outputs": [
    {
     "name": "stdout",
     "output_type": "stream",
     "text": [
      "\n",
      "Please enter the toppings you want to add to your pizza\n",
      "(Enter 'quit' when you are finished. )mushroom\n",
      "\n",
      " I will add the mushroom to your pizza. \n",
      "\n",
      "Please enter the toppings you want to add to your pizza\n",
      "(Enter 'quit' when you are finished. )mac\n",
      "\n",
      " I will add the mac to your pizza. \n",
      "\n",
      "Please enter the toppings you want to add to your pizza\n",
      "(Enter 'quit' when you are finished. )quit\n"
     ]
    }
   ],
   "source": [
    "prompt = \"\\nPlease enter the toppings you want to add to your pizza\"\n",
    "prompt += \"\\n(Enter 'quit' when you are finished. )\"\n",
    "\n",
    "while True:\n",
    "    topping = input(prompt)\n",
    "    if topping != 'quit':\n",
    "        print(f\"\\n I will add the {topping} to your pizza. \")\n",
    "    else:\n",
    "        break"
   ]
  },
  {
   "cell_type": "code",
   "execution_count": 41,
   "id": "45d01839",
   "metadata": {},
   "outputs": [
    {
     "name": "stdout",
     "output_type": "stream",
     "text": [
      "\n",
      "How old are you ?\n",
      "Enter 'quit' when you are finished.2\n",
      "You are free to get in. \n",
      "\n",
      "How old are you ?\n",
      "Enter 'quit' when you are finished.11\n",
      "You will be charged Rs 10\n",
      "\n",
      "How old are you ?\n",
      "Enter 'quit' when you are finished.33\n",
      "You will be charged Rs 20\n",
      "\n",
      "How old are you ?\n",
      "Enter 'quit' when you are finished.quit\n"
     ]
    }
   ],
   "source": [
    "prompt = \"\\nHow old are you ?\"\n",
    "prompt += \"\\nEnter 'quit' when you are finished.\"\n",
    "\n",
    "while True:\n",
    "    age = input(prompt)\n",
    "    if age == 'quit':\n",
    "        break\n",
    "    age = int(age)\n",
    "    \n",
    "    if age < 3:\n",
    "        print(\"You are free to get in. \")\n",
    "    elif age < 13:\n",
    "        print(\"You will be charged Rs 10\")\n",
    "    else:\n",
    "        print(\"You will be charged Rs 20\")"
   ]
  },
  {
   "cell_type": "code",
   "execution_count": 46,
   "id": "363c54b3",
   "metadata": {},
   "outputs": [
    {
     "name": "stdout",
     "output_type": "stream",
     "text": [
      "\n",
      "I am working on your veg grilled sandwich.\n",
      "\n",
      "I am working on your cheese sandwich.\n",
      "\n",
      "I am working on your veg toast sandwich.\n",
      "\n",
      "I am working on your club sandwich.\n",
      "\n",
      "\n",
      "\n",
      "Your veg grilled sandwich is ready! \n",
      "\n",
      "Your cheese sandwich is ready! \n",
      "\n",
      "Your veg toast sandwich is ready! \n",
      "\n",
      "Your club sandwich is ready! \n"
     ]
    }
   ],
   "source": [
    "sandwich_orders = [\"club\",\"veg toast\",\"cheese\",\"veg grilled\"]\n",
    "finished_sandwiches = [] # so that completed sandwich orders will be pushed to this list.\n",
    "\n",
    "while sandwich_orders:\n",
    "    current_sandwich = sandwich_orders.pop()\n",
    "    print(f\"\\nI am working on your {current_sandwich} sandwich.\")\n",
    "    finished_sandwiches.append(current_sandwich)\n",
    "print(\"\\n\")\n",
    "\n",
    "for sandwich in finished_sandwiches:\n",
    "    print(f\"\\nYour {sandwich} sandwich is ready! \")"
   ]
  },
  {
   "cell_type": "code",
   "execution_count": 48,
   "id": "72fb26dc",
   "metadata": {},
   "outputs": [
    {
     "name": "stdout",
     "output_type": "stream",
     "text": [
      "We are out of pastrami today!\n",
      "\n",
      "\n",
      "\n",
      "I am working on your veg grilled sandwich.\n",
      "\n",
      "I am working on your cheese sandwich.\n",
      "\n",
      "I am working on your veg toast sandwich.\n",
      "\n",
      "I am working on your club sandwich.\n",
      "\n",
      "\n",
      "\n",
      "Your veg grilled sandwich is ready! \n",
      "\n",
      "Your cheese sandwich is ready! \n",
      "\n",
      "Your veg toast sandwich is ready! \n",
      "\n",
      "Your club sandwich is ready! \n"
     ]
    }
   ],
   "source": [
    "sandwich_orders = [\"club\",\"veg toast\",\"cheese\",\"veg grilled\",\"pastrami\",\"pastrami\",\"pastrami\"]\n",
    "finished_sandwiches = [] # so that completed sandwich orders will be pushed to this list.\n",
    "\n",
    "print(\"We are out of pastrami today!\")\n",
    "while 'pastrami' in sandwich_orders:\n",
    "    sandwich_orders.remove('pastrami')\n",
    "print(\"\\n\")\n",
    "while sandwich_orders:\n",
    "    current_sandwich = sandwich_orders.pop()\n",
    "    print(f\"\\nI am working on your {current_sandwich} sandwich.\")\n",
    "    finished_sandwiches.append(current_sandwich)\n",
    "print(\"\\n\")\n",
    "\n",
    "for sandwich in finished_sandwiches:\n",
    "    print(f\"\\nYour {sandwich} sandwich is ready! \")"
   ]
  },
  {
   "cell_type": "code",
   "execution_count": 52,
   "id": "58df0b53",
   "metadata": {},
   "outputs": [
    {
     "name": "stdout",
     "output_type": "stream",
     "text": [
      "\n",
      "What is your name? aa\n",
      "Tell me one you will like to visit... pune\n",
      "\n",
      " Would you like to continue the poll ? (yes/no)no\n",
      "\n",
      "------Results of Survey --------\n",
      "\n",
      "Aa would like to visit the city Pune.\n"
     ]
    }
   ],
   "source": [
    "name = \"\\nWhat is your name? \"\n",
    "place = \"Tell me one you will like to visit... \"\n",
    "continue_prompt = \"\\n Would you like to continue the poll ? (yes/no)\"\n",
    "\n",
    "# store the responses\n",
    "\n",
    "responses = {}\n",
    "\n",
    "while True:\n",
    "    name = input(name)\n",
    "    place = input(place)\n",
    "    \n",
    "    # store the response\n",
    "    responses[name] = place # store the place of the given name in responses.\n",
    "    \n",
    "    # ask if you want to continue\n",
    "    repeat = input(continue_prompt)\n",
    "    #if repeat == 'yes':\n",
    "    if repeat != 'yes':    \n",
    "        break\n",
    "    \n",
    "# show results\n",
    "\n",
    "print(\"\\n------Results of Survey --------\")\n",
    "\n",
    "for name, place in responses.items():\n",
    "    print(f\"\\n{name.title()} would like to visit the city {place.title()}.\")"
   ]
  },
  {
   "cell_type": "code",
   "execution_count": 53,
   "id": "1bd437c1",
   "metadata": {},
   "outputs": [
    {
     "name": "stdout",
     "output_type": "stream",
     "text": [
      "enter name: aa\n",
      "enter age here: 22\n",
      "Do you want to continue? (yes/no)no\n",
      "[{'Name': 'aa', 'Age': '22'}]\n"
     ]
    }
   ],
   "source": [
    "student_data = []\n",
    "Name = input(\"enter name: \")\n",
    "Age = input(\"enter age here: \")\n",
    "repeat = input(\"Do you want to continue? (yes/no)\")\n",
    "\n",
    "# enter new student details hete and append to student_data list\n",
    "while True:\n",
    "    student_data.append(\n",
    "    {\n",
    "        \"Name\":Name,\n",
    "        \"Age\": Age,\n",
    "    })\n",
    "    if repeat == 'no':\n",
    "        break\n",
    "print(student_data)"
   ]
  },
  {
   "cell_type": "markdown",
   "id": "7429084c",
   "metadata": {},
   "source": [
    "#### Using a while Loop with Lists and Dictionaries"
   ]
  },
  {
   "cell_type": "markdown",
   "id": "75952d46",
   "metadata": {},
   "source": [
    "A for loop is effective for looping through a list, but you shouldn’t modify a list inside a for loop because Python will have trouble keeping track of the items in the list. To modify a list as you work through it, use a while loop. Using while loops with lists and dictionaries allows you to collect, store, and organize lots of input to examine and report on later."
   ]
  },
  {
   "cell_type": "code",
   "execution_count": 57,
   "id": "017a8853",
   "metadata": {},
   "outputs": [
    {
     "name": "stdout",
     "output_type": "stream",
     "text": [
      "Verifying the user: Cc\n",
      "Verifying the user: Bb\n",
      "Verifying the user: Aa\n",
      "\n",
      "The following users are now confirmed!\n",
      "\n",
      "Cc\n",
      "\n",
      "Bb\n",
      "\n",
      "Aa\n"
     ]
    }
   ],
   "source": [
    "# start with users that need to verify\n",
    "unconfirmed_users = ['aa','bb','cc']\n",
    "# create a empty list of confirmed users to add to this later \n",
    "# after verification\n",
    "confirmed_users = [] # empty list\n",
    "\n",
    "# move user to confirmed user after verification\n",
    "while unconfirmed_users:\n",
    "    user = unconfirmed_users.pop()\n",
    "    \n",
    "    print(f\"Verifying the user: {user.title()}\")\n",
    "    confirmed_users.append(user)\n",
    "\n",
    "# display all confirmed users\n",
    "print(\"\\nThe following users are now confirmed!\")\n",
    "for user in confirmed_users:\n",
    "    print(f\"\\n{user.title()}\")"
   ]
  },
  {
   "cell_type": "markdown",
   "id": "69b95c15",
   "metadata": {},
   "source": [
    "#### Because CC is last in the unconfirmed_users list, her name will be the first to be removed, assigned to current_user, and added to the confirmed_users list."
   ]
  },
  {
   "cell_type": "code",
   "execution_count": 60,
   "id": "81398251",
   "metadata": {},
   "outputs": [
    {
     "name": "stdout",
     "output_type": "stream",
     "text": [
      "['dogs', 'cat', 'cat', 'cat', 'dog', 'horse']\n",
      "['dogs', 'dog', 'horse']\n"
     ]
    }
   ],
   "source": [
    "pets = ['dogs','cat','cat','cat','dog','horse']\n",
    "print(pets)\n",
    "\n",
    "while 'cat' in pets:\n",
    "    pets.remove('cat') # .remove('what u want to remove?')\n",
    "print(pets)"
   ]
  },
  {
   "cell_type": "markdown",
   "id": "86122801",
   "metadata": {},
   "source": [
    "#### Filling a Dictionary with User Input"
   ]
  },
  {
   "cell_type": "code",
   "execution_count": 62,
   "id": "caedb94d",
   "metadata": {},
   "outputs": [
    {
     "name": "stdout",
     "output_type": "stream",
     "text": [
      "\n",
      "Enter your name: aa\n",
      "\n",
      "Which place to visit? Pune\n",
      "Would like to continue ? (yes/no)no\n",
      "\n",
      "----Polling Complete---\n",
      "aa likes the place Pune\n"
     ]
    }
   ],
   "source": [
    "responses = {}\n",
    "\n",
    "# set the flag\n",
    "polling = True\n",
    "\n",
    "# while condition\n",
    "\n",
    "while polling:\n",
    "    name = input(\"\\nEnter your name: \")\n",
    "    response = input(\"\\nWhich place to visit? \")\n",
    "    \n",
    "    # store response in dictionary\n",
    "    # Let’s make a polling program in which each pass \n",
    "    # through the loop prompts for the participant’s name and \n",
    "    # response. \n",
    "    # We’ll store the data we gather in a dictionary, \n",
    "    # because we want to connect each response with a \n",
    "    # particular user:\n",
    "    responses[name] = response\n",
    "    \n",
    "    # check if poll to be continued ?\n",
    "    repeat = input(\"Would like to continue ? (yes/no)\")\n",
    "    if repeat == 'no':\n",
    "        polling = False\n",
    "\n",
    "# polling complete\n",
    "print(\"\\n----Polling Complete---\")\n",
    "for name , response in responses.items():\n",
    "    print(f\"{name} likes the place {place.title()}\")\n",
    "    "
   ]
  },
  {
   "cell_type": "code",
   "execution_count": null,
   "id": "63d9277c",
   "metadata": {},
   "outputs": [],
   "source": []
  }
 ],
 "metadata": {
  "kernelspec": {
   "display_name": "Python 3",
   "language": "python",
   "name": "python3"
  },
  "language_info": {
   "codemirror_mode": {
    "name": "ipython",
    "version": 3
   },
   "file_extension": ".py",
   "mimetype": "text/x-python",
   "name": "python",
   "nbconvert_exporter": "python",
   "pygments_lexer": "ipython3",
   "version": "3.8.8"
  }
 },
 "nbformat": 4,
 "nbformat_minor": 5
}
