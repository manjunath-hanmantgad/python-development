{
 "cells": [
  {
   "cell_type": "code",
   "execution_count": 1,
   "id": "ccdde070",
   "metadata": {},
   "outputs": [],
   "source": [
    "alien_0 = {'color':'green', 'points':5}\n"
   ]
  },
  {
   "cell_type": "code",
   "execution_count": 2,
   "id": "274f29ce",
   "metadata": {},
   "outputs": [
    {
     "data": {
      "text/plain": [
       "'green'"
      ]
     },
     "execution_count": 2,
     "metadata": {},
     "output_type": "execute_result"
    }
   ],
   "source": [
    "alien_0['color']"
   ]
  },
  {
   "cell_type": "code",
   "execution_count": 3,
   "id": "e0481a60",
   "metadata": {},
   "outputs": [
    {
     "data": {
      "text/plain": [
       "5"
      ]
     },
     "execution_count": 3,
     "metadata": {},
     "output_type": "execute_result"
    }
   ],
   "source": [
    "#Accessing Values in a Dictionary\n",
    "\n",
    "alien_0['points']"
   ]
  },
  {
   "cell_type": "code",
   "execution_count": 8,
   "id": "06b1b72c",
   "metadata": {},
   "outputs": [
    {
     "name": "stdout",
     "output_type": "stream",
     "text": [
      "You choose green ,SO, You just earned 5 points!\n"
     ]
    }
   ],
   "source": [
    "new_points = alien_0['points']\n",
    "new_color = alien_0['color']\n",
    "print(f\"You choose {new_color} ,SO, You just earned {new_points} points!\")"
   ]
  },
  {
   "cell_type": "code",
   "execution_count": 9,
   "id": "365c5c65",
   "metadata": {},
   "outputs": [
    {
     "data": {
      "text/plain": [
       "{'color': 'green', 'points': 5, 'x_position': 0, 'y_position': 25}"
      ]
     },
     "execution_count": 9,
     "metadata": {},
     "output_type": "execute_result"
    }
   ],
   "source": [
    "#Adding New Key-Value Pairs\n",
    "\n",
    "alien_0['x_position'] = 0 # new key = x_position ; value = 0\n",
    "alien_0['y_position'] = 25 # new key = y_position ; value = 25\n",
    "\n",
    "alien_0"
   ]
  },
  {
   "cell_type": "code",
   "execution_count": 12,
   "id": "7678c742",
   "metadata": {},
   "outputs": [
    {
     "data": {
      "text/plain": [
       "{'color': 'yellow', 'points': 10}"
      ]
     },
     "execution_count": 12,
     "metadata": {},
     "output_type": "execute_result"
    }
   ],
   "source": [
    "#Starting with an Empty Dictionary\n",
    "#alien_0 = [] # this is a list\n",
    "alien_0 = {} # this is dictionary\n",
    "alien_0['color'] ='yellow'\n",
    "alien_0['points'] = 10\n",
    "alien_0"
   ]
  },
  {
   "cell_type": "code",
   "execution_count": null,
   "id": "52624a58",
   "metadata": {},
   "outputs": [],
   "source": [
    "#Modifying Values in a Dictionary\n"
   ]
  }
 ],
 "metadata": {
  "kernelspec": {
   "display_name": "Python 3",
   "language": "python",
   "name": "python3"
  },
  "language_info": {
   "codemirror_mode": {
    "name": "ipython",
    "version": 3
   },
   "file_extension": ".py",
   "mimetype": "text/x-python",
   "name": "python",
   "nbconvert_exporter": "python",
   "pygments_lexer": "ipython3",
   "version": "3.8.8"
  }
 },
 "nbformat": 4,
 "nbformat_minor": 5
}
