{
 "cells": [
  {
   "cell_type": "code",
   "execution_count": 2,
   "id": "9ed58114",
   "metadata": {},
   "outputs": [
    {
     "name": "stdout",
     "output_type": "stream",
     "text": [
      "Tell me something and I will repeat it.a\n"
     ]
    },
    {
     "data": {
      "text/plain": [
       "'a'"
      ]
     },
     "execution_count": 2,
     "metadata": {},
     "output_type": "execute_result"
    }
   ],
   "source": [
    "message = input(\"Tell me something and I will repeat it.\")\n",
    "message"
   ]
  },
  {
   "cell_type": "code",
   "execution_count": 4,
   "id": "264f7db8",
   "metadata": {},
   "outputs": [
    {
     "name": "stdout",
     "output_type": "stream",
     "text": [
      "Enter name here:hh\n",
      "\n",
      "Hello, hh!\n"
     ]
    }
   ],
   "source": [
    "name  = input(\"Enter name here:\")\n",
    "print(f\"\\nHello, {name}!\")"
   ]
  },
  {
   "cell_type": "code",
   "execution_count": 5,
   "id": "fbed400a",
   "metadata": {},
   "outputs": [
    {
     "name": "stdout",
     "output_type": "stream",
     "text": [
      "If you share with me , we can personalise it.\n",
      "What is your first name? aa\n",
      "\n",
      "Hello , aa!\n"
     ]
    }
   ],
   "source": [
    "prompt = \"If you share with me , we can personalise it.\"\n",
    "prompt += \"\\nWhat is your first name? \"\n",
    "\n",
    "name = input(prompt)\n",
    "print(f\"\\nHello , {name}!\")"
   ]
  },
  {
   "cell_type": "markdown",
   "id": "489115bd",
   "metadata": {},
   "source": [
    "##### TypeError: '>=' not supported between instances of 'str' and 'int'"
   ]
  },
  {
   "cell_type": "code",
   "execution_count": 6,
   "id": "cb21151a",
   "metadata": {},
   "outputs": [
    {
     "name": "stdout",
     "output_type": "stream",
     "text": [
      "How old are you? 22\n"
     ]
    },
    {
     "data": {
      "text/plain": [
       "'22'"
      ]
     },
     "execution_count": 6,
     "metadata": {},
     "output_type": "execute_result"
    }
   ],
   "source": [
    "age = input(\"How old are you? \")\n",
    "age"
   ]
  },
  {
   "cell_type": "code",
   "execution_count": 7,
   "id": "2a17e46d",
   "metadata": {},
   "outputs": [
    {
     "ename": "TypeError",
     "evalue": "'>=' not supported between instances of 'str' and 'int'",
     "output_type": "error",
     "traceback": [
      "\u001b[1;31m---------------------------------------------------------------------------\u001b[0m",
      "\u001b[1;31mTypeError\u001b[0m                                 Traceback (most recent call last)",
      "\u001b[1;32m<ipython-input-7-f1971258b52d>\u001b[0m in \u001b[0;36m<module>\u001b[1;34m\u001b[0m\n\u001b[1;32m----> 1\u001b[1;33m \u001b[0mage\u001b[0m \u001b[1;33m>=\u001b[0m\u001b[1;36m18\u001b[0m\u001b[1;33m\u001b[0m\u001b[1;33m\u001b[0m\u001b[0m\n\u001b[0m",
      "\u001b[1;31mTypeError\u001b[0m: '>=' not supported between instances of 'str' and 'int'"
     ]
    }
   ],
   "source": [
    "age >=18"
   ]
  },
  {
   "cell_type": "markdown",
   "id": "451066f6",
   "metadata": {},
   "source": [
    "This is because age we get is as string and not as integer, so we must first convert this into int for any numerical type comparison."
   ]
  },
  {
   "cell_type": "code",
   "execution_count": 8,
   "id": "0b3b3142",
   "metadata": {},
   "outputs": [
    {
     "name": "stdout",
     "output_type": "stream",
     "text": [
      "How old are you? 22\n"
     ]
    }
   ],
   "source": [
    "age = input(\"How old are you? \")\n",
    "age = int(age) # keeping the age as int\n"
   ]
  },
  {
   "cell_type": "code",
   "execution_count": 9,
   "id": "640c5b63",
   "metadata": {},
   "outputs": [
    {
     "data": {
      "text/plain": [
       "True"
      ]
     },
     "execution_count": 9,
     "metadata": {},
     "output_type": "execute_result"
    }
   ],
   "source": [
    "age >=18"
   ]
  },
  {
   "cell_type": "markdown",
   "id": "4019328a",
   "metadata": {},
   "source": [
    "After converting to integer this works fine.!!"
   ]
  },
  {
   "cell_type": "code",
   "execution_count": 10,
   "id": "f455a339",
   "metadata": {},
   "outputs": [
    {
     "name": "stdout",
     "output_type": "stream",
     "text": [
      "How tall are you , in inches ? 22\n",
      "\n",
      "You are not tall enough!\n"
     ]
    }
   ],
   "source": [
    "height = input(\"How tall are you , in inches ? \")\n",
    "height = int(height)\n",
    "\n",
    "if height >= 50:\n",
    "    print(\"f\\nYes you can ride\")\n",
    "else:\n",
    "    print(\"\\nYou are not tall enough!\")"
   ]
  },
  {
   "cell_type": "code",
   "execution_count": 13,
   "id": "71558653",
   "metadata": {},
   "outputs": [
    {
     "name": "stdout",
     "output_type": "stream",
     "text": [
      "How tall are you , in inches ? 55\n",
      "\n",
      "Yes you can ride\n"
     ]
    }
   ],
   "source": [
    "height = input(\"How tall are you , in inches ? \")\n",
    "height = int(height)\n",
    "\n",
    "if height >= 50:\n",
    "    print(\"\\nYes you can ride\")\n",
    "else:\n",
    "    print(\"\\nYou are not tall enough!\")"
   ]
  },
  {
   "cell_type": "code",
   "execution_count": 14,
   "id": "a3780192",
   "metadata": {},
   "outputs": [
    {
     "data": {
      "text/plain": [
       "1"
      ]
     },
     "execution_count": 14,
     "metadata": {},
     "output_type": "execute_result"
    }
   ],
   "source": [
    "4%3"
   ]
  },
  {
   "cell_type": "code",
   "execution_count": 15,
   "id": "ec927807",
   "metadata": {},
   "outputs": [
    {
     "data": {
      "text/plain": [
       "0"
      ]
     },
     "execution_count": 15,
     "metadata": {},
     "output_type": "execute_result"
    }
   ],
   "source": [
    "2%2"
   ]
  },
  {
   "cell_type": "markdown",
   "id": "b85db08c",
   "metadata": {},
   "source": [
    "The modulo operator doesn’t tell you how many times one number fits into another; it only tells you what the remainder is.\n",
    "\n",
    "When one number is divisible by another number, the remainder is 0, so the modulo operator always returns 0. You can use this fact to determine if a number is even or odd:"
   ]
  },
  {
   "cell_type": "code",
   "execution_count": 16,
   "id": "80c1c3ef",
   "metadata": {},
   "outputs": [
    {
     "name": "stdout",
     "output_type": "stream",
     "text": [
      "Enter a number: 22\n",
      "\n",
      "22 is Even number!\n"
     ]
    }
   ],
   "source": [
    "number = input(\"Enter a number: \")\n",
    "number = int(number)\n",
    "\n",
    "if number %2 == 0:\n",
    "    print(f\"\\n{number} is Even number!\")\n",
    "else:\n",
    "    print(f\"\\n{number} is Odd number!\")"
   ]
  },
  {
   "cell_type": "code",
   "execution_count": 17,
   "id": "cdcdda79",
   "metadata": {},
   "outputs": [
    {
     "name": "stdout",
     "output_type": "stream",
     "text": [
      "Enter a number: 9\n",
      "\n",
      "9 is Odd number!\n"
     ]
    }
   ],
   "source": [
    "number = input(\"Enter a number: \")\n",
    "number = int(number)\n",
    "\n",
    "if number %2 == 0:\n",
    "    print(f\"\\n{number} is Even number!\")\n",
    "else:\n",
    "    print(f\"\\n{number} is Odd number!\")"
   ]
  },
  {
   "cell_type": "code",
   "execution_count": 19,
   "id": "a0ec728d",
   "metadata": {},
   "outputs": [
    {
     "name": "stdout",
     "output_type": "stream",
     "text": [
      "what type of car you need ?Subaru\n",
      "\n",
      "Let me see if I can find you a Subaru\n"
     ]
    }
   ],
   "source": [
    "car = input(\"what type of car you need ?\")\n",
    "print(f\"\\nLet me see if I can find you a {car}\")"
   ]
  },
  {
   "cell_type": "code",
   "execution_count": 20,
   "id": "511e80ac",
   "metadata": {},
   "outputs": [
    {
     "name": "stdout",
     "output_type": "stream",
     "text": [
      "How many people are your group ? 4\n",
      "\n",
      "The table is ready.\n"
     ]
    }
   ],
   "source": [
    "number = input(\"How many people are your group ? \")\n",
    "number = int(number)\n",
    "\n",
    "if number >8 :\n",
    "    print(\"\\nYou will have to wait for the table to get ready.\")\n",
    "else:\n",
    "    print(\"\\nThe table is ready.\")"
   ]
  },
  {
   "cell_type": "code",
   "execution_count": 21,
   "id": "dc661ac3",
   "metadata": {},
   "outputs": [
    {
     "name": "stdout",
     "output_type": "stream",
     "text": [
      "How many people are your group ? 9\n",
      "\n",
      "You will have to wait for the table to get ready.\n"
     ]
    }
   ],
   "source": [
    "number = input(\"How many people are your group ? \")\n",
    "number = int(number)\n",
    "\n",
    "if number >8 :\n",
    "    print(\"\\nYou will have to wait for the table to get ready.\")\n",
    "else:\n",
    "    print(\"\\nThe table is ready.\")"
   ]
  },
  {
   "cell_type": "code",
   "execution_count": 24,
   "id": "cd76009e",
   "metadata": {},
   "outputs": [
    {
     "name": "stdout",
     "output_type": "stream",
     "text": [
      "enter a number: 10\n",
      "\n",
      "10 is multiple of 10\n"
     ]
    }
   ],
   "source": [
    "number = input(\"enter a number: \")\n",
    "number = int(number)\n",
    "if number % 10 == 0:\n",
    "    print(f\"\\n{number} is multiple of 10\")\n",
    "else:\n",
    "    print(f\"\\n{number} is not multiple of 10\")"
   ]
  },
  {
   "cell_type": "code",
   "execution_count": 25,
   "id": "9fe3f4d3",
   "metadata": {},
   "outputs": [
    {
     "name": "stdout",
     "output_type": "stream",
     "text": [
      "enter a number: 6\n",
      "\n",
      "6 is not multiple of 10\n"
     ]
    }
   ],
   "source": [
    "number = input(\"enter a number: \")\n",
    "number = int(number)\n",
    "if number % 10 == 0:\n",
    "    print(f\"\\n{number} is multiple of 10\")\n",
    "else:\n",
    "    print(f\"\\n{number} is not multiple of 10\")"
   ]
  },
  {
   "cell_type": "code",
   "execution_count": 31,
   "id": "4cee612d",
   "metadata": {},
   "outputs": [
    {
     "name": "stdout",
     "output_type": "stream",
     "text": [
      "1\n",
      "2\n",
      "3\n",
      "4\n",
      "5\n"
     ]
    }
   ],
   "source": [
    "number = 1\n",
    "while number <= 5:\n",
    "    print(number)\n",
    "    number += 1"
   ]
  },
  {
   "cell_type": "code",
   "execution_count": null,
   "id": "1508ea21",
   "metadata": {},
   "outputs": [],
   "source": []
  },
  {
   "cell_type": "code",
   "execution_count": null,
   "id": "83dd9121",
   "metadata": {},
   "outputs": [],
   "source": []
  }
 ],
 "metadata": {
  "kernelspec": {
   "display_name": "Python 3",
   "language": "python",
   "name": "python3"
  },
  "language_info": {
   "codemirror_mode": {
    "name": "ipython",
    "version": 3
   },
   "file_extension": ".py",
   "mimetype": "text/x-python",
   "name": "python",
   "nbconvert_exporter": "python",
   "pygments_lexer": "ipython3",
   "version": "3.8.8"
  }
 },
 "nbformat": 4,
 "nbformat_minor": 5
}
