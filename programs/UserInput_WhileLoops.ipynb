{
 "cells": [
  {
   "cell_type": "code",
   "execution_count": 2,
   "id": "cc375610",
   "metadata": {},
   "outputs": [
    {
     "name": "stdout",
     "output_type": "stream",
     "text": [
      "Tell me something and I will repeat it.a\n"
     ]
    },
    {
     "data": {
      "text/plain": [
       "'a'"
      ]
     },
     "execution_count": 2,
     "metadata": {},
     "output_type": "execute_result"
    }
   ],
   "source": [
    "message = input(\"Tell me something and I will repeat it.\")\n",
    "message"
   ]
  },
  {
   "cell_type": "code",
   "execution_count": 4,
   "id": "688ad950",
   "metadata": {},
   "outputs": [
    {
     "name": "stdout",
     "output_type": "stream",
     "text": [
      "Enter name here:hh\n",
      "\n",
      "Hello, hh!\n"
     ]
    }
   ],
   "source": [
    "name  = input(\"Enter name here:\")\n",
    "print(f\"\\nHello, {name}!\")"
   ]
  },
  {
   "cell_type": "code",
   "execution_count": 5,
   "id": "6bb12d16",
   "metadata": {},
   "outputs": [
    {
     "name": "stdout",
     "output_type": "stream",
     "text": [
      "If you share with me , we can personalise it.\n",
      "What is your first name? aa\n",
      "\n",
      "Hello , aa!\n"
     ]
    }
   ],
   "source": [
    "prompt = \"If you share with me , we can personalise it.\"\n",
    "prompt += \"\\nWhat is your first name? \"\n",
    "\n",
    "name = input(prompt)\n",
    "print(f\"\\nHello , {name}!\")"
   ]
  },
  {
   "cell_type": "markdown",
   "id": "e0c0e0f4",
   "metadata": {},
   "source": [
    "##### TypeError: '>=' not supported between instances of 'str' and 'int'"
   ]
  },
  {
   "cell_type": "code",
   "execution_count": 6,
   "id": "e394820e",
   "metadata": {},
   "outputs": [
    {
     "name": "stdout",
     "output_type": "stream",
     "text": [
      "How old are you? 22\n"
     ]
    },
    {
     "data": {
      "text/plain": [
       "'22'"
      ]
     },
     "execution_count": 6,
     "metadata": {},
     "output_type": "execute_result"
    }
   ],
   "source": [
    "age = input(\"How old are you? \")\n",
    "age"
   ]
  },
  {
   "cell_type": "code",
   "execution_count": 7,
   "id": "8a16edfa",
   "metadata": {},
   "outputs": [
    {
     "ename": "TypeError",
     "evalue": "'>=' not supported between instances of 'str' and 'int'",
     "output_type": "error",
     "traceback": [
      "\u001b[1;31m---------------------------------------------------------------------------\u001b[0m",
      "\u001b[1;31mTypeError\u001b[0m                                 Traceback (most recent call last)",
      "\u001b[1;32m<ipython-input-7-f1971258b52d>\u001b[0m in \u001b[0;36m<module>\u001b[1;34m\u001b[0m\n\u001b[1;32m----> 1\u001b[1;33m \u001b[0mage\u001b[0m \u001b[1;33m>=\u001b[0m\u001b[1;36m18\u001b[0m\u001b[1;33m\u001b[0m\u001b[1;33m\u001b[0m\u001b[0m\n\u001b[0m",
      "\u001b[1;31mTypeError\u001b[0m: '>=' not supported between instances of 'str' and 'int'"
     ]
    }
   ],
   "source": [
    "age >=18"
   ]
  },
  {
   "cell_type": "markdown",
   "id": "a645df8e",
   "metadata": {},
   "source": [
    "This is because age we get is as string and not as integer, so we must first convert this into int for any numerical type comparison."
   ]
  },
  {
   "cell_type": "code",
   "execution_count": 8,
   "id": "ed213491",
   "metadata": {},
   "outputs": [
    {
     "name": "stdout",
     "output_type": "stream",
     "text": [
      "How old are you? 22\n"
     ]
    }
   ],
   "source": [
    "age = input(\"How old are you? \")\n",
    "age = int(age) # keeping the age as int\n"
   ]
  },
  {
   "cell_type": "code",
   "execution_count": 9,
   "id": "8b4f2e34",
   "metadata": {},
   "outputs": [
    {
     "data": {
      "text/plain": [
       "True"
      ]
     },
     "execution_count": 9,
     "metadata": {},
     "output_type": "execute_result"
    }
   ],
   "source": [
    "age >=18"
   ]
  },
  {
   "cell_type": "markdown",
   "id": "1b01c43e",
   "metadata": {},
   "source": [
    "After converting to integer this works fine.!!"
   ]
  },
  {
   "cell_type": "code",
   "execution_count": 10,
   "id": "fd13244c",
   "metadata": {},
   "outputs": [
    {
     "name": "stdout",
     "output_type": "stream",
     "text": [
      "How tall are you , in inches ? 22\n",
      "\n",
      "You are not tall enough!\n"
     ]
    }
   ],
   "source": [
    "height = input(\"How tall are you , in inches ? \")\n",
    "height = int(height)\n",
    "\n",
    "if height >= 50:\n",
    "    print(\"f\\nYes you can ride\")\n",
    "else:\n",
    "    print(\"\\nYou are not tall enough!\")"
   ]
  },
  {
   "cell_type": "code",
   "execution_count": 13,
   "id": "6221ea05",
   "metadata": {},
   "outputs": [
    {
     "name": "stdout",
     "output_type": "stream",
     "text": [
      "How tall are you , in inches ? 55\n",
      "\n",
      "Yes you can ride\n"
     ]
    }
   ],
   "source": [
    "height = input(\"How tall are you , in inches ? \")\n",
    "height = int(height)\n",
    "\n",
    "if height >= 50:\n",
    "    print(\"\\nYes you can ride\")\n",
    "else:\n",
    "    print(\"\\nYou are not tall enough!\")"
   ]
  },
  {
   "cell_type": "code",
   "execution_count": 14,
   "id": "5ce95060",
   "metadata": {},
   "outputs": [
    {
     "data": {
      "text/plain": [
       "1"
      ]
     },
     "execution_count": 14,
     "metadata": {},
     "output_type": "execute_result"
    }
   ],
   "source": [
    "4%3"
   ]
  },
  {
   "cell_type": "code",
   "execution_count": 15,
   "id": "1d562243",
   "metadata": {},
   "outputs": [
    {
     "data": {
      "text/plain": [
       "0"
      ]
     },
     "execution_count": 15,
     "metadata": {},
     "output_type": "execute_result"
    }
   ],
   "source": [
    "2%2"
   ]
  },
  {
   "cell_type": "markdown",
   "id": "1df3216f",
   "metadata": {},
   "source": [
    "The modulo operator doesn’t tell you how many times one number fits into another; it only tells you what the remainder is.\n",
    "\n",
    "When one number is divisible by another number, the remainder is 0, so the modulo operator always returns 0. You can use this fact to determine if a number is even or odd:"
   ]
  },
  {
   "cell_type": "code",
   "execution_count": 16,
   "id": "a020130b",
   "metadata": {},
   "outputs": [
    {
     "name": "stdout",
     "output_type": "stream",
     "text": [
      "Enter a number: 22\n",
      "\n",
      "22 is Even number!\n"
     ]
    }
   ],
   "source": [
    "number = input(\"Enter a number: \")\n",
    "number = int(number)\n",
    "\n",
    "if number %2 == 0:\n",
    "    print(f\"\\n{number} is Even number!\")\n",
    "else:\n",
    "    print(f\"\\n{number} is Odd number!\")"
   ]
  },
  {
   "cell_type": "code",
   "execution_count": 17,
   "id": "9c1e1fe0",
   "metadata": {},
   "outputs": [
    {
     "name": "stdout",
     "output_type": "stream",
     "text": [
      "Enter a number: 9\n",
      "\n",
      "9 is Odd number!\n"
     ]
    }
   ],
   "source": [
    "number = input(\"Enter a number: \")\n",
    "number = int(number)\n",
    "\n",
    "if number %2 == 0:\n",
    "    print(f\"\\n{number} is Even number!\")\n",
    "else:\n",
    "    print(f\"\\n{number} is Odd number!\")"
   ]
  },
  {
   "cell_type": "code",
   "execution_count": 19,
   "id": "c4e241ac",
   "metadata": {},
   "outputs": [
    {
     "name": "stdout",
     "output_type": "stream",
     "text": [
      "what type of car you need ?Subaru\n",
      "\n",
      "Let me see if I can find you a Subaru\n"
     ]
    }
   ],
   "source": [
    "car = input(\"what type of car you need ?\")\n",
    "print(f\"\\nLet me see if I can find you a {car}\")"
   ]
  },
  {
   "cell_type": "code",
   "execution_count": 20,
   "id": "696a8a96",
   "metadata": {},
   "outputs": [
    {
     "name": "stdout",
     "output_type": "stream",
     "text": [
      "How many people are your group ? 4\n",
      "\n",
      "The table is ready.\n"
     ]
    }
   ],
   "source": [
    "number = input(\"How many people are your group ? \")\n",
    "number = int(number)\n",
    "\n",
    "if number >8 :\n",
    "    print(\"\\nYou will have to wait for the table to get ready.\")\n",
    "else:\n",
    "    print(\"\\nThe table is ready.\")"
   ]
  },
  {
   "cell_type": "code",
   "execution_count": 21,
   "id": "b1c7fa1f",
   "metadata": {},
   "outputs": [
    {
     "name": "stdout",
     "output_type": "stream",
     "text": [
      "How many people are your group ? 9\n",
      "\n",
      "You will have to wait for the table to get ready.\n"
     ]
    }
   ],
   "source": [
    "number = input(\"How many people are your group ? \")\n",
    "number = int(number)\n",
    "\n",
    "if number >8 :\n",
    "    print(\"\\nYou will have to wait for the table to get ready.\")\n",
    "else:\n",
    "    print(\"\\nThe table is ready.\")"
   ]
  },
  {
   "cell_type": "code",
   "execution_count": 24,
   "id": "c3e16710",
   "metadata": {},
   "outputs": [
    {
     "name": "stdout",
     "output_type": "stream",
     "text": [
      "enter a number: 10\n",
      "\n",
      "10 is multiple of 10\n"
     ]
    }
   ],
   "source": [
    "number = input(\"enter a number: \")\n",
    "number = int(number)\n",
    "if number % 10 == 0:\n",
    "    print(f\"\\n{number} is multiple of 10\")\n",
    "else:\n",
    "    print(f\"\\n{number} is not multiple of 10\")"
   ]
  },
  {
   "cell_type": "code",
   "execution_count": 25,
   "id": "7be536a2",
   "metadata": {},
   "outputs": [
    {
     "name": "stdout",
     "output_type": "stream",
     "text": [
      "enter a number: 6\n",
      "\n",
      "6 is not multiple of 10\n"
     ]
    }
   ],
   "source": [
    "number = input(\"enter a number: \")\n",
    "number = int(number)\n",
    "if number % 10 == 0:\n",
    "    print(f\"\\n{number} is multiple of 10\")\n",
    "else:\n",
    "    print(f\"\\n{number} is not multiple of 10\")"
   ]
  },
  {
   "cell_type": "code",
   "execution_count": 31,
   "id": "56485c42",
   "metadata": {},
   "outputs": [
    {
     "name": "stdout",
     "output_type": "stream",
     "text": [
      "1\n",
      "2\n",
      "3\n",
      "4\n",
      "5\n"
     ]
    }
   ],
   "source": [
    "number = 1\n",
    "while number <= 5:\n",
    "    print(number)\n",
    "    number += 1"
   ]
  },
  {
   "cell_type": "code",
   "execution_count": 32,
   "id": "0746c011",
   "metadata": {},
   "outputs": [
    {
     "name": "stdout",
     "output_type": "stream",
     "text": [
      "\n",
      "Tell me something and I will repeat it. \n",
      "Enter 'quit' to end the program.hi\n",
      "hi\n",
      "\n",
      "Tell me something and I will repeat it. \n",
      "Enter 'quit' to end the program.f\n",
      "f\n",
      "\n",
      "Tell me something and I will repeat it. \n",
      "Enter 'quit' to end the program.g\n",
      "g\n",
      "\n",
      "Tell me something and I will repeat it. \n",
      "Enter 'quit' to end the program.h\n",
      "h\n",
      "\n",
      "Tell me something and I will repeat it. \n",
      "Enter 'quit' to end the program.t\n",
      "t\n",
      "\n",
      "Tell me something and I will repeat it. \n",
      "Enter 'quit' to end the program.u\n",
      "u\n",
      "\n",
      "Tell me something and I will repeat it. \n",
      "Enter 'quit' to end the program.q\n",
      "q\n",
      "\n",
      "Tell me something and I will repeat it. \n",
      "Enter 'quit' to end the program.qui\n",
      "qui\n",
      "\n",
      "Tell me something and I will repeat it. \n",
      "Enter 'quit' to end the program.qit\n",
      "qit\n",
      "\n",
      "Tell me something and I will repeat it. \n",
      "Enter 'quit' to end the program.quit\n",
      "quit\n"
     ]
    }
   ],
   "source": [
    "prompt = \"\\nTell me something and I will repeat it. \"\n",
    "prompt += \"\\nEnter 'quit' to end the program.\"\n",
    "\n",
    "message = \"\"\n",
    "# We define message as an empty string, \"\",\n",
    "# so Python has something to check the first time it reaches the \n",
    "# while line. The first time the program runs and Python reaches \n",
    "# the while statement, it needs to compare the value of message \n",
    "# to 'quit', \n",
    "# but no user input has been entered yet. \n",
    "while message != 'quit':\n",
    "    message = input(prompt)\n",
    "    print(message)"
   ]
  },
  {
   "cell_type": "markdown",
   "id": "2d632d43",
   "metadata": {},
   "source": [
    "##### Since the code prints the 'quit' as well , what if we dont want to see the word 'quit' printed out and want our code just to terminate after it sees the word 'quit'.\n"
   ]
  },
  {
   "cell_type": "code",
   "execution_count": 34,
   "id": "22109e13",
   "metadata": {},
   "outputs": [
    {
     "name": "stdout",
     "output_type": "stream",
     "text": [
      "\n",
      "Tell me something and I will repeat it. \n",
      "Enter 'quit' to end the program.ee\n",
      "ee\n",
      "\n",
      "Tell me something and I will repeat it. \n",
      "Enter 'quit' to end the program.rr\n",
      "rr\n",
      "\n",
      "Tell me something and I will repeat it. \n",
      "Enter 'quit' to end the program.tt\n",
      "tt\n",
      "\n",
      "Tell me something and I will repeat it. \n",
      "Enter 'quit' to end the program.quit\n"
     ]
    }
   ],
   "source": [
    "prompt = \"\\nTell me something and I will repeat it. \"\n",
    "prompt += \"\\nEnter 'quit' to end the program.\"\n",
    "\n",
    "message = \"\"\n",
    "# We define message as an empty string, \"\",\n",
    "# so Python has something to check the first time it reaches the \n",
    "# while line. The first time the program runs and Python reaches \n",
    "# the while statement, it needs to compare the value of message \n",
    "# to 'quit', \n",
    "# but no user input has been entered yet. \n",
    "while message != 'quit':\n",
    "    message = input(prompt)\n",
    "    \n",
    "    if message != 'quit':\n",
    "        print(message)"
   ]
  },
  {
   "cell_type": "markdown",
   "id": "46ddf160",
   "metadata": {},
   "source": [
    "### FLAG\n",
    "\n",
    "##### For a program that should run only as long as many conditions are true, you can define one variable that determines whether or not the entire program is active. This variable, called a flag, acts as a signal to the program. We can write our programs so they run while the flag is set to True and stop running when any of several events sets the value of the flag to False. As a result, our overall while statement needs to check only one condition: whether the flag is currently True."
   ]
  },
  {
   "cell_type": "code",
   "execution_count": 36,
   "id": "7d53c9b7",
   "metadata": {},
   "outputs": [
    {
     "name": "stdout",
     "output_type": "stream",
     "text": [
      "\n",
      "Tell me something and I will repeat it! \n",
      "Enter 'quit' to exit program. uu\n",
      "uu\n",
      "\n",
      "Tell me something and I will repeat it! \n",
      "Enter 'quit' to exit program. rr\n",
      "rr\n",
      "\n",
      "Tell me something and I will repeat it! \n",
      "Enter 'quit' to exit program. qq\n",
      "qq\n",
      "\n",
      "Tell me something and I will repeat it! \n",
      "Enter 'quit' to exit program. aa\n",
      "aa\n",
      "\n",
      "Tell me something and I will repeat it! \n",
      "Enter 'quit' to exit program. quit\n"
     ]
    }
   ],
   "source": [
    "prompt = \"\\nTell me something and I will repeat it! \"\n",
    "prompt += \"\\nEnter 'quit' to exit program. \"\n",
    "\n",
    "# define the flag here\n",
    "active = True # name of flag = active\n",
    "while active:\n",
    "    message = input(prompt)\n",
    "    \n",
    "    if message == 'quit':\n",
    "        active = False # works when flag is not true\n",
    "    else:\n",
    "        print(message)"
   ]
  },
  {
   "cell_type": "code",
   "execution_count": null,
   "id": "c392009a",
   "metadata": {},
   "outputs": [],
   "source": []
  }
 ],
 "metadata": {
  "kernelspec": {
   "display_name": "Python 3",
   "language": "python",
   "name": "python3"
  },
  "language_info": {
   "codemirror_mode": {
    "name": "ipython",
    "version": 3
   },
   "file_extension": ".py",
   "mimetype": "text/x-python",
   "name": "python",
   "nbconvert_exporter": "python",
   "pygments_lexer": "ipython3",
   "version": "3.8.8"
  }
 },
 "nbformat": 4,
 "nbformat_minor": 5
}
