{
 "cells": [
  {
   "cell_type": "code",
   "execution_count": 2,
   "id": "27a3aa0e",
   "metadata": {},
   "outputs": [
    {
     "name": "stdout",
     "output_type": "stream",
     "text": [
      "Tell me something and I will repeat it.a\n"
     ]
    },
    {
     "data": {
      "text/plain": [
       "'a'"
      ]
     },
     "execution_count": 2,
     "metadata": {},
     "output_type": "execute_result"
    }
   ],
   "source": [
    "message = input(\"Tell me something and I will repeat it.\")\n",
    "message"
   ]
  },
  {
   "cell_type": "code",
   "execution_count": 4,
   "id": "c54fd98b",
   "metadata": {},
   "outputs": [
    {
     "name": "stdout",
     "output_type": "stream",
     "text": [
      "Enter name here:hh\n",
      "\n",
      "Hello, hh!\n"
     ]
    }
   ],
   "source": [
    "name  = input(\"Enter name here:\")\n",
    "print(f\"\\nHello, {name}!\")"
   ]
  },
  {
   "cell_type": "code",
   "execution_count": 5,
   "id": "ebe55570",
   "metadata": {},
   "outputs": [
    {
     "name": "stdout",
     "output_type": "stream",
     "text": [
      "If you share with me , we can personalise it.\n",
      "What is your first name? aa\n",
      "\n",
      "Hello , aa!\n"
     ]
    }
   ],
   "source": [
    "prompt = \"If you share with me , we can personalise it.\"\n",
    "prompt += \"\\nWhat is your first name? \"\n",
    "\n",
    "name = input(prompt)\n",
    "print(f\"\\nHello , {name}!\")"
   ]
  },
  {
   "cell_type": "markdown",
   "id": "202c3332",
   "metadata": {},
   "source": [
    "##### TypeError: '>=' not supported between instances of 'str' and 'int'"
   ]
  },
  {
   "cell_type": "code",
   "execution_count": 6,
   "id": "c455e45f",
   "metadata": {},
   "outputs": [
    {
     "name": "stdout",
     "output_type": "stream",
     "text": [
      "How old are you? 22\n"
     ]
    },
    {
     "data": {
      "text/plain": [
       "'22'"
      ]
     },
     "execution_count": 6,
     "metadata": {},
     "output_type": "execute_result"
    }
   ],
   "source": [
    "age = input(\"How old are you? \")\n",
    "age"
   ]
  },
  {
   "cell_type": "code",
   "execution_count": 7,
   "id": "8df7b149",
   "metadata": {},
   "outputs": [
    {
     "ename": "TypeError",
     "evalue": "'>=' not supported between instances of 'str' and 'int'",
     "output_type": "error",
     "traceback": [
      "\u001b[1;31m---------------------------------------------------------------------------\u001b[0m",
      "\u001b[1;31mTypeError\u001b[0m                                 Traceback (most recent call last)",
      "\u001b[1;32m<ipython-input-7-f1971258b52d>\u001b[0m in \u001b[0;36m<module>\u001b[1;34m\u001b[0m\n\u001b[1;32m----> 1\u001b[1;33m \u001b[0mage\u001b[0m \u001b[1;33m>=\u001b[0m\u001b[1;36m18\u001b[0m\u001b[1;33m\u001b[0m\u001b[1;33m\u001b[0m\u001b[0m\n\u001b[0m",
      "\u001b[1;31mTypeError\u001b[0m: '>=' not supported between instances of 'str' and 'int'"
     ]
    }
   ],
   "source": [
    "age >=18"
   ]
  },
  {
   "cell_type": "markdown",
   "id": "7b20da4f",
   "metadata": {},
   "source": [
    "This is because age we get is as string and not as integer, so we must first convert this into int for any numerical type comparison."
   ]
  },
  {
   "cell_type": "code",
   "execution_count": 8,
   "id": "22ea6244",
   "metadata": {},
   "outputs": [
    {
     "name": "stdout",
     "output_type": "stream",
     "text": [
      "How old are you? 22\n"
     ]
    }
   ],
   "source": [
    "age = input(\"How old are you? \")\n",
    "age = int(age) # keeping the age as int\n"
   ]
  },
  {
   "cell_type": "code",
   "execution_count": 9,
   "id": "d67740bd",
   "metadata": {},
   "outputs": [
    {
     "data": {
      "text/plain": [
       "True"
      ]
     },
     "execution_count": 9,
     "metadata": {},
     "output_type": "execute_result"
    }
   ],
   "source": [
    "age >=18"
   ]
  },
  {
   "cell_type": "markdown",
   "id": "4009643e",
   "metadata": {},
   "source": [
    "After converting to integer this works fine.!!"
   ]
  },
  {
   "cell_type": "code",
   "execution_count": 10,
   "id": "ba5555a3",
   "metadata": {},
   "outputs": [
    {
     "name": "stdout",
     "output_type": "stream",
     "text": [
      "How tall are you , in inches ? 22\n",
      "\n",
      "You are not tall enough!\n"
     ]
    }
   ],
   "source": [
    "height = input(\"How tall are you , in inches ? \")\n",
    "height = int(height)\n",
    "\n",
    "if height >= 50:\n",
    "    print(\"f\\nYes you can ride\")\n",
    "else:\n",
    "    print(\"\\nYou are not tall enough!\")"
   ]
  },
  {
   "cell_type": "code",
   "execution_count": 13,
   "id": "5dc563a3",
   "metadata": {},
   "outputs": [
    {
     "name": "stdout",
     "output_type": "stream",
     "text": [
      "How tall are you , in inches ? 55\n",
      "\n",
      "Yes you can ride\n"
     ]
    }
   ],
   "source": [
    "height = input(\"How tall are you , in inches ? \")\n",
    "height = int(height)\n",
    "\n",
    "if height >= 50:\n",
    "    print(\"\\nYes you can ride\")\n",
    "else:\n",
    "    print(\"\\nYou are not tall enough!\")"
   ]
  },
  {
   "cell_type": "code",
   "execution_count": null,
   "id": "7c5447ae",
   "metadata": {},
   "outputs": [],
   "source": []
  }
 ],
 "metadata": {
  "kernelspec": {
   "display_name": "Python 3",
   "language": "python",
   "name": "python3"
  },
  "language_info": {
   "codemirror_mode": {
    "name": "ipython",
    "version": 3
   },
   "file_extension": ".py",
   "mimetype": "text/x-python",
   "name": "python",
   "nbconvert_exporter": "python",
   "pygments_lexer": "ipython3",
   "version": "3.8.8"
  }
 },
 "nbformat": 4,
 "nbformat_minor": 5
}
