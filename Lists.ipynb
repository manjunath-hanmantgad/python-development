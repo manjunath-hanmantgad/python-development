{
 "cells": [
  {
   "cell_type": "code",
   "execution_count": 1,
   "metadata": {},
   "outputs": [
    {
     "name": "stdout",
     "output_type": "stream",
     "text": [
      "['apple', 'mango', 'banana', 'orange']\n"
     ]
    }
   ],
   "source": [
    "my_list = ['apple','mango','banana','orange']\n",
    "print(my_list)"
   ]
  },
  {
   "cell_type": "code",
   "execution_count": 2,
   "metadata": {},
   "outputs": [
    {
     "name": "stdout",
     "output_type": "stream",
     "text": [
      "mango\n"
     ]
    }
   ],
   "source": [
    "print(my_list[1])"
   ]
  },
  {
   "cell_type": "code",
   "execution_count": 4,
   "metadata": {},
   "outputs": [
    {
     "name": "stdout",
     "output_type": "stream",
     "text": [
      "My favorite fruit is orange.\n"
     ]
    }
   ],
   "source": [
    "message = \"My favorite fruit is \" + my_list[3] + \".\"\n",
    "print(message)"
   ]
  },
  {
   "cell_type": "code",
   "execution_count": 10,
   "metadata": {},
   "outputs": [],
   "source": [
    "message = \"I ate \" + my_list[1] + \" \" + \"today for breakfast\" + \" \" + \"and I will eat\" + my_list[2] + \" for lunch today\" + \".\""
   ]
  },
  {
   "cell_type": "code",
   "execution_count": 11,
   "metadata": {},
   "outputs": [
    {
     "name": "stdout",
     "output_type": "stream",
     "text": [
      "I ate mango today for breakfast and I will eatbanana for lunch today.\n"
     ]
    }
   ],
   "source": [
    " print(message)"
   ]
  },
  {
   "cell_type": "code",
   "execution_count": 12,
   "metadata": {},
   "outputs": [],
   "source": [
    "message = my_list[1] + \" \" + \" is a good fruit\" + \" \" + \" but \" + \" \" + my_list[3] + \" \" + \" is a better one\" "
   ]
  },
  {
   "cell_type": "code",
   "execution_count": 13,
   "metadata": {},
   "outputs": [
    {
     "name": "stdout",
     "output_type": "stream",
     "text": [
      "mango  is a good fruit  but  orange  is a better one\n"
     ]
    }
   ],
   "source": [
    "print(message)"
   ]
  },
  {
   "cell_type": "code",
   "execution_count": 16,
   "metadata": {},
   "outputs": [
    {
     "name": "stdout",
     "output_type": "stream",
     "text": [
      " today I will eat banana.\n",
      " tomorow I will eat orange.\n"
     ]
    }
   ],
   "source": [
    "message1 = \" today I will eat\" + \" \" + my_list[2] + \".\"\n",
    "message2 = \" tomorow I will eat\" + \" \" + my_list[3] + \".\"\n",
    "\n",
    "print(message1)\n",
    "print(message2)"
   ]
  },
  {
   "cell_type": "code",
   "execution_count": 17,
   "metadata": {},
   "outputs": [
    {
     "name": "stdout",
     "output_type": "stream",
     "text": [
      "['apple', 'mango', 'banana', 'orange']\n"
     ]
    }
   ],
   "source": [
    "# modify the lists\n",
    "\n",
    "print(my_list)"
   ]
  },
  {
   "cell_type": "code",
   "execution_count": 21,
   "metadata": {},
   "outputs": [
    {
     "name": "stdout",
     "output_type": "stream",
     "text": [
      "['apple', 'green apple', 'banana', 'orange']\n",
      "['apple', 'green apple', 'banana', 'orange']\n"
     ]
    }
   ],
   "source": [
    "my_list1 = ['apple','mango','banana','orange']\n",
    "my_list1[1] = 'green apple'\n",
    "print(my_list1)\n",
    "print(my_list)"
   ]
  },
  {
   "cell_type": "code",
   "execution_count": 22,
   "metadata": {},
   "outputs": [
    {
     "data": {
      "text/plain": [
       "['apple', 'green apple', 'banana', 'orange']"
      ]
     },
     "execution_count": 22,
     "metadata": {},
     "output_type": "execute_result"
    }
   ],
   "source": [
    "my_list"
   ]
  },
  {
   "cell_type": "code",
   "execution_count": 23,
   "metadata": {},
   "outputs": [],
   "source": [
    "my_list.append('black apple')"
   ]
  },
  {
   "cell_type": "code",
   "execution_count": 24,
   "metadata": {},
   "outputs": [
    {
     "data": {
      "text/plain": [
       "['apple', 'green apple', 'banana', 'orange', 'black apple']"
      ]
     },
     "execution_count": 24,
     "metadata": {},
     "output_type": "execute_result"
    }
   ],
   "source": [
    "my_list"
   ]
  },
  {
   "cell_type": "code",
   "execution_count": 26,
   "metadata": {},
   "outputs": [],
   "source": [
    "my_list = [] # empty list"
   ]
  },
  {
   "cell_type": "code",
   "execution_count": 27,
   "metadata": {},
   "outputs": [
    {
     "data": {
      "text/plain": [
       "[]"
      ]
     },
     "execution_count": 27,
     "metadata": {},
     "output_type": "execute_result"
    }
   ],
   "source": [
    "my_list # print empty list"
   ]
  },
  {
   "cell_type": "code",
   "execution_count": 28,
   "metadata": {},
   "outputs": [],
   "source": [
    "my_list.append('apple')\n",
    "my_list.append('orange')\n",
    "# appending 2 values inside empty list"
   ]
  },
  {
   "cell_type": "code",
   "execution_count": 29,
   "metadata": {},
   "outputs": [
    {
     "data": {
      "text/plain": [
       "['apple', 'orange']"
      ]
     },
     "execution_count": 29,
     "metadata": {},
     "output_type": "execute_result"
    }
   ],
   "source": [
    "my_list # printing newly appended list"
   ]
  },
  {
   "cell_type": "code",
   "execution_count": 30,
   "metadata": {},
   "outputs": [],
   "source": [
    "# insert VS append\n",
    "# insert can add element in any position\n",
    "\n",
    "my_list.insert(1,'green apple') # but it will not replace it.\n",
    "# its same like append but we can specify position of element."
   ]
  },
  {
   "cell_type": "code",
   "execution_count": 31,
   "metadata": {},
   "outputs": [
    {
     "data": {
      "text/plain": [
       "['apple', 'green apple', 'orange']"
      ]
     },
     "execution_count": 31,
     "metadata": {},
     "output_type": "execute_result"
    }
   ],
   "source": [
    "my_list"
   ]
  },
  {
   "cell_type": "code",
   "execution_count": 32,
   "metadata": {},
   "outputs": [
    {
     "data": {
      "text/plain": [
       "['apple', 'green apple', 'orange', 'to remove']"
      ]
     },
     "execution_count": 32,
     "metadata": {},
     "output_type": "execute_result"
    }
   ],
   "source": [
    "# removing the element\n",
    "\n",
    "my_list.append('to remove') # adding new element to be removed / deleted.\n",
    "my_list"
   ]
  },
  {
   "cell_type": "code",
   "execution_count": 33,
   "metadata": {},
   "outputs": [
    {
     "data": {
      "text/plain": [
       "['apple', 'green apple', 'orange']"
      ]
     },
     "execution_count": 33,
     "metadata": {},
     "output_type": "execute_result"
    }
   ],
   "source": [
    "del my_list[3] # will remove the element at index #3\n",
    "my_list\n",
    "\n",
    "# del will permanently delete the element"
   ]
  },
  {
   "cell_type": "code",
   "execution_count": 36,
   "metadata": {},
   "outputs": [
    {
     "name": "stdout",
     "output_type": "stream",
     "text": [
      "['apple', 'green apple']\n",
      "green apple\n"
     ]
    }
   ],
   "source": [
    "# now what if we need that removed / deleted element back agai ?\n",
    "\n",
    "# use pop() method\n",
    "\n",
    "my_list\n",
    "print(my_list)\n",
    "popped_fruit = my_list.pop()\n",
    "print(popped_fruit)"
   ]
  },
  {
   "cell_type": "code",
   "execution_count": 40,
   "metadata": {},
   "outputs": [
    {
     "name": "stdout",
     "output_type": "stream",
     "text": [
      "['apple', 'orange', 'banana', 'orange', 'orange', 'banana']\n",
      "banana\n",
      "I think I will take the  banana  today for dinner\n"
     ]
    }
   ],
   "source": [
    "my_list.append('orange') # append only takes one value\n",
    "my_list.append('banana')\n",
    "print(my_list)\n",
    "\n",
    "popped_fruit = my_list.pop()\n",
    "print(popped_fruit)\n",
    "print(\"I think I will take the \" + \" \" + popped_fruit + \" \" + \" today for dinner\")"
   ]
  },
  {
   "cell_type": "code",
   "execution_count": 41,
   "metadata": {},
   "outputs": [
    {
     "name": "stdout",
     "output_type": "stream",
     "text": [
      "['apple', 'orange', 'banana', 'orange', 'orange']\n"
     ]
    }
   ],
   "source": [
    "# removing an element by its name\n",
    "\n",
    "my_list\n",
    "print(my_list)"
   ]
  },
  {
   "cell_type": "code",
   "execution_count": 43,
   "metadata": {},
   "outputs": [],
   "source": [
    "del my_list[3]"
   ]
  },
  {
   "cell_type": "code",
   "execution_count": 46,
   "metadata": {},
   "outputs": [
    {
     "name": "stdout",
     "output_type": "stream",
     "text": [
      "['apple', 'orange', 'banana', 'orange']\n",
      "['apple', 'orange', 'banana']\n"
     ]
    }
   ],
   "source": [
    "my_list\n",
    "print(my_list)\n",
    "\n",
    "del my_list[3]\n",
    "print(my_list)"
   ]
  },
  {
   "cell_type": "code",
   "execution_count": 49,
   "metadata": {},
   "outputs": [
    {
     "name": "stdout",
     "output_type": "stream",
     "text": [
      "['apple', 'banana', 'orange']\n",
      "['apple', 'banana', 'orange']\n",
      "['orange', 'banana', 'apple']\n"
     ]
    }
   ],
   "source": [
    "# oraganize the list using sort()\n",
    "\n",
    "my_list\n",
    "print(my_list)\n",
    "\n",
    "my_list.sort()\n",
    "print(my_list)\n",
    "\n",
    "my_list.sort(reverse=True)\n",
    "print(my_list)\n",
    "\n",
    "\n",
    "# all above will change order of list permanently\n",
    "# but what if we want for temporary reasons only ? use sorted() function"
   ]
  },
  {
   "cell_type": "code",
   "execution_count": 59,
   "metadata": {},
   "outputs": [
    {
     "name": "stdout",
     "output_type": "stream",
     "text": [
      "['apple', 'banana', 'orange']\n",
      "['orange', 'banana', 'apple']\n",
      "['apple', 'banana', 'orange']\n",
      "['orange', 'banana', 'apple']\n"
     ]
    }
   ],
   "source": [
    "my_list.sort()\n",
    "print(my_list)\n",
    "\n",
    "my_list.sort(reverse = True)\n",
    "print (my_list)\n",
    "print(sorted (my_list)) # this is temporary\n",
    "\n",
    "print(my_list) # see !! this is permanent!!\n"
   ]
  },
  {
   "cell_type": "code",
   "execution_count": 60,
   "metadata": {},
   "outputs": [
    {
     "name": "stdout",
     "output_type": "stream",
     "text": [
      "['orange', 'banana', 'apple']\n"
     ]
    },
    {
     "data": {
      "text/plain": [
       "3"
      ]
     },
     "execution_count": 60,
     "metadata": {},
     "output_type": "execute_result"
    }
   ],
   "source": [
    "print(my_list)\n",
    "len(my_list)"
   ]
  },
  {
   "cell_type": "code",
   "execution_count": 65,
   "metadata": {},
   "outputs": [
    {
     "name": "stdout",
     "output_type": "stream",
     "text": [
      "['orange', 'banana', 'apple']\n",
      "['orange', 'banana']\n"
     ]
    }
   ],
   "source": [
    "print(my_list)\n",
    "print(my_list[:-1]) # prints all elements till last\n",
    "#print(my_list[-1:])# prints last element"
   ]
  },
  {
   "cell_type": "code",
   "execution_count": 67,
   "metadata": {},
   "outputs": [
    {
     "name": "stdout",
     "output_type": "stream",
     "text": [
      "['orange', 'banana', 'apple']\n",
      "['apple', 'banana', 'orange']\n"
     ]
    }
   ],
   "source": [
    "print(my_list)\n",
    "my_list.sort()\n",
    "print(my_list)"
   ]
  },
  {
   "cell_type": "code",
   "execution_count": 68,
   "metadata": {},
   "outputs": [
    {
     "name": "stdout",
     "output_type": "stream",
     "text": [
      "apple\n",
      "banana\n",
      "orange\n"
     ]
    }
   ],
   "source": [
    "my_list1 = ['apple', 'banana', 'orange']\n",
    "for fruits in my_list1: # this line tells to pull a name of fruit from my_list1 and print it using the variable fruit.\n",
    "    print(fruits)\n",
    "    \n",
    "# translation of this line : for every fruit in my_list1 list print out its name one by one."
   ]
  },
  {
   "cell_type": "code",
   "execution_count": 96,
   "metadata": {
    "scrolled": true
   },
   "outputs": [
    {
     "name": "stdout",
     "output_type": "stream",
     "text": [
      " I ate  apple today in breakfast.\n",
      "\n",
      " I ate  apple today in breakfast.\n",
      "\n",
      " I ate  apple today in breakfast.\n",
      "\n",
      "I ate apple  today in lunch.\n",
      "\n",
      " My favorite fruit is apple today.\n",
      "\n",
      "I ate banana  today in lunch.\n",
      "\n",
      " My favorite fruit is banana today.\n",
      "\n",
      "I ate orange  today in lunch.\n",
      "\n",
      " My favorite fruit is orange today.\n",
      "\n",
      " I think I ate too much HAHAHAHAHA.Still apple  is my favorite fruit \n"
     ]
    }
   ],
   "source": [
    "my_list1 = ['apple', 'banana', 'orange']\n",
    "for fruits in my_list1:\n",
    "    print(\" I ate \" + \" \" + my_list1[0] + \" \" + \"today in breakfast\" + \".\\n\")\n",
    "    \n",
    "# look what happened! \n",
    "# by definition of loop , my for loop repeated itself 3 times becuase there are 3 items in my list.\n",
    "\n",
    "# now I want to print each line with all my fruits.\n",
    "\n",
    "#print(\" Now this is how I do it \\n\")\n",
    "\n",
    "my_list2 = ['apple', 'banana', 'orange']\n",
    "for fruits in my_list2:\n",
    "    print(\"I ate\" + \" \" + fruits + \" \" + \" today in lunch\" + \".\\n\") # so here I printed the variable fruits and did not call my_list!!!\n",
    "    # adding one more line\n",
    "    print(\" My favorite fruit is\" + \" \" + fruits + \" \" + \"today\" + \".\\n\") # notice here second print statement executed and then again for loop started with second element.\n",
    "    # so it finished with apple and only then it went to banana.\n",
    "print(\" I think I ate too much HAHAHAHAHA.\" + \"Still\" + \" \" + my_list1[0] + \" \" + \" is my favorite fruit \") \n",
    "# see here last line did not print 3 times but only once because it was outside for loop.\n",
    "    "
   ]
  },
  {
   "cell_type": "code",
   "execution_count": 103,
   "metadata": {
    "scrolled": false
   },
   "outputs": [
    {
     "name": "stdout",
     "output_type": "stream",
     "text": [
      "1\n",
      "2\n",
      "3\n",
      "4\n",
      "5\n",
      "6\n",
      "7\n",
      "8\n",
      "9\n",
      "[1, 2, 3, 4, 5, 6, 7, 8, 9]\n",
      "[2, 4, 6, 8]\n"
     ]
    }
   ],
   "source": [
    "# range function\n",
    "\n",
    "for numbers in range(1,10):\n",
    "    print(numbers)\n",
    "    \n",
    "# now convert range to list\n",
    "\n",
    "number1 = list(range(1,10))\n",
    "print(number1)\n",
    "\n",
    "# print even numbers\n",
    "\n",
    "even_number = list(range(2,10,2)) # start with 2 , keep adding 2 until 10.\n",
    "print(even_number)\n"
   ]
  },
  {
   "cell_type": "code",
   "execution_count": 104,
   "metadata": {},
   "outputs": [
    {
     "name": "stdout",
     "output_type": "stream",
     "text": [
      "100\n"
     ]
    }
   ],
   "source": [
    "# to find sqaure and cube of number\n",
    "sqaure = []\n",
    "for number in range(1,11):\n",
    "    sqaure = number ** 2\n",
    "print(sqaure)\n",
    "# this will print only last number sqaure which is 10 . so 10 sqaure = 100\n",
    "\n"
   ]
  },
  {
   "cell_type": "code",
   "execution_count": 108,
   "metadata": {},
   "outputs": [
    {
     "name": "stdout",
     "output_type": "stream",
     "text": [
      "[1, 4, 9, 16, 25, 36, 49, 64, 81, 100]\n",
      "[1, 8, 27, 64, 125, 216, 343, 512, 729, 1000]\n"
     ]
    }
   ],
   "source": [
    "# print list of numbers sqaure from 1-10\n",
    "\n",
    "sqaures = []\n",
    "for number in range(1,11):\n",
    "    #sqaure = number ** 2\n",
    "    sqaures.append(number ** 2) # appending square of number  in sqaures\n",
    "print(sqaures)\n",
    "\n",
    "# now cubes \n",
    "\n",
    "cubes = []\n",
    "for number in range(1,11):\n",
    "    #cube = number ** 3\n",
    "    cubes.append(number ** 3) # appending cube of number in cubes\n",
    "print(cubes)"
   ]
  },
  {
   "cell_type": "code",
   "execution_count": 110,
   "metadata": {},
   "outputs": [
    {
     "name": "stdout",
     "output_type": "stream",
     "text": [
      "1\n",
      "9\n",
      "45\n"
     ]
    }
   ],
   "source": [
    "my_numbers = [1,2,3,4,5,6,7,8,9]\n",
    "print(min(my_numbers))\n",
    "print(max(my_numbers))\n",
    "print(sum(my_numbers))\n"
   ]
  },
  {
   "cell_type": "code",
   "execution_count": 113,
   "metadata": {},
   "outputs": [
    {
     "name": "stdout",
     "output_type": "stream",
     "text": [
      "[1, 4, 9, 16, 25, 36, 49, 64, 81, 100]\n",
      "[1, 8, 27, 64, 125, 216, 343, 512, 729, 1000]\n"
     ]
    }
   ],
   "source": [
    "# using list comprehensions \n",
    "# means instead of 3/4 lines of for loop get work done in 1 line of for loop \n",
    "\n",
    "sqaures = [number ** 2 for number in range(1,11)]\n",
    "print(sqaures)\n",
    "\n",
    "cubes = [number ** 3 for number in range(1,11)]\n",
    "print(cubes)"
   ]
  },
  {
   "cell_type": "code",
   "execution_count": 119,
   "metadata": {},
   "outputs": [
    {
     "name": "stdout",
     "output_type": "stream",
     "text": [
      "['apple', 'banana', 'orange', 'mango']\n",
      "['apple']\n",
      "['apple', 'banana', 'orange']\n",
      "['orange', 'mango']\n",
      "['apple', 'banana', 'orange']\n",
      "['mango']\n"
     ]
    }
   ],
   "source": [
    "# back to my fruits\n",
    "\n",
    "my_list = ['apple','banana','orange','mango']\n",
    "print(my_list)\n",
    "\n",
    "print(my_list[:1])# prints 0 to 1 range elements.\n",
    "print(my_list[:3]) # prints 0 to 3 range elements\n",
    "print(my_list[2:4]) # starts from 2 and end before 4.\n",
    "print(my_list[:-1]) # prints last but 1\n",
    "print(my_list[-1:]) # prints last one."
   ]
  },
  {
   "cell_type": "code",
   "execution_count": 126,
   "metadata": {},
   "outputs": [
    {
     "name": "stdout",
     "output_type": "stream",
     "text": [
      " Today I will eat only :\n",
      "apple\n",
      "banana\n",
      "orange\n"
     ]
    }
   ],
   "source": [
    "my_list = ['apple','banana','orange','mango']\n",
    "print(\" Today I will eat only :\")\n",
    "for fruit in my_list[:-1]:\n",
    "        print(fruit) # for looping to take effect print the variable not the name of list!!\n",
    "        "
   ]
  },
  {
   "cell_type": "code",
   "execution_count": 127,
   "metadata": {},
   "outputs": [
    {
     "name": "stdout",
     "output_type": "stream",
     "text": [
      " Today I will eat in lunch only :\n",
      "mango\n"
     ]
    }
   ],
   "source": [
    "my_list = ['apple','banana','orange','mango']\n",
    "print(\" Today I will eat in lunch only :\")\n",
    "for fruit in my_list[-1:]:\n",
    "        print(fruit)"
   ]
  },
  {
   "cell_type": "code",
   "execution_count": 131,
   "metadata": {},
   "outputs": [
    {
     "name": "stdout",
     "output_type": "stream",
     "text": [
      "('apple', 'banana')\n"
     ]
    },
    {
     "ename": "TypeError",
     "evalue": "'tuple' object does not support item assignment",
     "output_type": "error",
     "traceback": [
      "\u001b[0;31m---------------------------------------------------------------------------\u001b[0m",
      "\u001b[0;31mTypeError\u001b[0m                                 Traceback (most recent call last)",
      "\u001b[0;32m<ipython-input-131-c26645142517>\u001b[0m in \u001b[0;36m<module>\u001b[0;34m\u001b[0m\n\u001b[1;32m      4\u001b[0m \u001b[0mprint\u001b[0m\u001b[0;34m(\u001b[0m\u001b[0mmy_list\u001b[0m\u001b[0;34m)\u001b[0m\u001b[0;34m\u001b[0m\u001b[0;34m\u001b[0m\u001b[0m\n\u001b[1;32m      5\u001b[0m \u001b[0;34m\u001b[0m\u001b[0m\n\u001b[0;32m----> 6\u001b[0;31m \u001b[0mmy_list\u001b[0m\u001b[0;34m[\u001b[0m\u001b[0;36m0\u001b[0m\u001b[0;34m]\u001b[0m \u001b[0;34m=\u001b[0m \u001b[0;34m(\u001b[0m\u001b[0;34m'mango'\u001b[0m\u001b[0;34m)\u001b[0m\u001b[0;34m\u001b[0m\u001b[0;34m\u001b[0m\u001b[0m\n\u001b[0m\u001b[1;32m      7\u001b[0m \u001b[0mprint\u001b[0m\u001b[0;34m(\u001b[0m\u001b[0mmy_list\u001b[0m\u001b[0;34m)\u001b[0m\u001b[0;34m\u001b[0m\u001b[0;34m\u001b[0m\u001b[0m\n",
      "\u001b[0;31mTypeError\u001b[0m: 'tuple' object does not support item assignment"
     ]
    }
   ],
   "source": [
    "# tuples are immutable\n",
    "\n",
    "my_list = ('apple' , 'banana') # tuple has () and not []\n",
    "print(my_list)\n",
    "\n",
    "my_list[0] = ('mango')\n",
    "print(my_list) # TypeError: 'tuple' object does not support item assignment\n",
    "\n",
    "# so we cant change value in tuple !!"
   ]
  },
  {
   "cell_type": "code",
   "execution_count": 134,
   "metadata": {},
   "outputs": [
    {
     "name": "stdout",
     "output_type": "stream",
     "text": [
      "('apple', 'banana')\n",
      "apple\n",
      "banana\n",
      "('orange', 'mango')\n",
      "orange\n",
      "mango\n"
     ]
    }
   ],
   "source": [
    "# modifying tuple\n",
    "\n",
    "my_list = ('apple','banana')\n",
    "print(my_list)\n",
    "for fruit in my_list:\n",
    "    print(fruit) # 1 tuple\n",
    "my_list = ('orange','mango')\n",
    "print(my_list)\n",
    "for fruit in my_list:\n",
    "    print(fruit) # 2 tuple"
   ]
  },
  {
   "cell_type": "code",
   "execution_count": null,
   "metadata": {},
   "outputs": [],
   "source": []
  }
 ],
 "metadata": {
  "kernelspec": {
   "display_name": "Python 3",
   "language": "python",
   "name": "python3"
  },
  "language_info": {
   "codemirror_mode": {
    "name": "ipython",
    "version": 3
   },
   "file_extension": ".py",
   "mimetype": "text/x-python",
   "name": "python",
   "nbconvert_exporter": "python",
   "pygments_lexer": "ipython3",
   "version": "3.7.4"
  }
 },
 "nbformat": 4,
 "nbformat_minor": 2
}
