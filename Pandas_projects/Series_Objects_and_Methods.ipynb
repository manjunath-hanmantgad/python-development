{
 "cells": [
  {
   "cell_type": "code",
   "execution_count": 1,
   "id": "33623bc7",
   "metadata": {},
   "outputs": [],
   "source": [
    "import pandas as pd"
   ]
  },
  {
   "cell_type": "code",
   "execution_count": 2,
   "id": "b01464b1",
   "metadata": {},
   "outputs": [
    {
     "data": {
      "text/plain": [
       "'1.4.4'"
      ]
     },
     "execution_count": 2,
     "metadata": {},
     "output_type": "execute_result"
    }
   ],
   "source": [
    "pd.__version__"
   ]
  },
  {
   "cell_type": "code",
   "execution_count": 3,
   "id": "362d738a",
   "metadata": {},
   "outputs": [
    {
     "data": {
      "text/plain": [
       "'C:\\\\Users\\\\Manjunath\\\\Desktop\\\\interview_prep_documents\\\\python-development\\\\Pandas_projects'"
      ]
     },
     "execution_count": 3,
     "metadata": {},
     "output_type": "execute_result"
    }
   ],
   "source": [
    "pwd"
   ]
  },
  {
   "cell_type": "code",
   "execution_count": 4,
   "id": "ac067fec",
   "metadata": {},
   "outputs": [
    {
     "name": "stdout",
     "output_type": "stream",
     "text": [
      " Volume in drive C is Windows\n",
      " Volume Serial Number is 4257-F064\n",
      "\n",
      " Directory of C:\\Users\\Manjunath\\Desktop\\interview_prep_documents\\python-development\\Pandas_projects\n",
      "\n",
      "19-10-2022  17:43    <DIR>          .\n",
      "19-10-2022  11:41    <DIR>          ..\n",
      "19-10-2022  15:24    <DIR>          .idea\n",
      "19-10-2022  17:31    <DIR>          .ipynb_checkpoints\n",
      "19-10-2022  17:43    <DIR>          datasets\n",
      "19-10-2022  11:42                25 README.txt\n",
      "19-10-2022  17:39             1,114 Untitled.ipynb\n",
      "19-10-2022  12:43    <DIR>          venv\n",
      "               2 File(s)          1,139 bytes\n",
      "               6 Dir(s)   9,157,513,216 bytes free\n"
     ]
    }
   ],
   "source": [
    "ls"
   ]
  },
  {
   "cell_type": "code",
   "execution_count": null,
   "id": "38cd4f15",
   "metadata": {},
   "outputs": [],
   "source": []
  }
 ],
 "metadata": {
  "kernelspec": {
   "display_name": "Python [conda env:pandas_project] *",
   "language": "python",
   "name": "conda-env-pandas_project-py"
  },
  "language_info": {
   "codemirror_mode": {
    "name": "ipython",
    "version": 3
   },
   "file_extension": ".py",
   "mimetype": "text/x-python",
   "name": "python",
   "nbconvert_exporter": "python",
   "pygments_lexer": "ipython3",
   "version": "3.10.6"
  }
 },
 "nbformat": 4,
 "nbformat_minor": 5
}
