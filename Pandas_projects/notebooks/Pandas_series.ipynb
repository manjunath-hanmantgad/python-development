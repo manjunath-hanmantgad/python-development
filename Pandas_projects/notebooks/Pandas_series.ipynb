{
 "cells": [
  {
   "cell_type": "code",
   "execution_count": 1,
   "id": "bae15bc7",
   "metadata": {},
   "outputs": [],
   "source": [
    "import pandas as pd \n",
    "import numpy as np\n"
   ]
  },
  {
   "cell_type": "code",
   "execution_count": 2,
   "id": "f7212c46",
   "metadata": {},
   "outputs": [
    {
     "name": "stderr",
     "output_type": "stream",
     "text": [
      "<ipython-input-2-4b856f8d32c4>:3: FutureWarning: The default dtype for empty Series will be 'object' instead of 'float64' in a future version. Specify a dtype explicitly to silence this warning.\n",
      "  pd.Series()\n"
     ]
    },
    {
     "data": {
      "text/plain": [
       "Series([], dtype: float64)"
      ]
     },
     "execution_count": 2,
     "metadata": {},
     "output_type": "execute_result"
    }
   ],
   "source": [
    "#classes and instances\n",
    "\n",
    "pd.Series()"
   ]
  },
  {
   "cell_type": "code",
   "execution_count": 3,
   "id": "ad8a3d24",
   "metadata": {},
   "outputs": [
    {
     "data": {
      "text/plain": [
       "0      choc\n",
       "1       van\n",
       "2    butter\n",
       "dtype: object"
      ]
     },
     "execution_count": 3,
     "metadata": {},
     "output_type": "execute_result"
    }
   ],
   "source": [
    "# giving values to series\n",
    "# series is a constructor which will create a Series object\n",
    "# first argument to series is a iterable object\n",
    "# as an input we can pass in lists , dictionaries, numpy arrays,tuples\n",
    "\n",
    "# create a Series from python list\n",
    "\n",
    "ice_cream = [\n",
    "    \"choc\",\n",
    "    \"van\",\n",
    "    \"butter\",\n",
    "    \n",
    "]\n",
    "pd.Series(ice_cream)"
   ]
  },
  {
   "cell_type": "code",
   "execution_count": 4,
   "id": "4de429f2",
   "metadata": {},
   "outputs": [
    {
     "data": {
      "text/plain": [
       "Mon      choc\n",
       "Tue       van\n",
       "Wed    butter\n",
       "dtype: object"
      ]
     },
     "execution_count": 4,
     "metadata": {},
     "output_type": "execute_result"
    }
   ],
   "source": [
    "# series with custom index\n",
    "ice_cream = [\n",
    "    \"choc\",\n",
    "    \"van\",\n",
    "    \"butter\",\n",
    "    \n",
    "]\n",
    "\n",
    "days = (\"Mon\",\"Tue\",\"Wed\")\n",
    "\n",
    "pd.Series(ice_cream, index=days)\n",
    "# here data = ice_cream and index = days"
   ]
  },
  {
   "cell_type": "code",
   "execution_count": 8,
   "id": "367c9a7a",
   "metadata": {},
   "outputs": [
    {
     "data": {
      "text/plain": [
       "choc      Mon\n",
       "van       Tue\n",
       "butter    Wed\n",
       "dtype: object"
      ]
     },
     "execution_count": 8,
     "metadata": {},
     "output_type": "execute_result"
    }
   ],
   "source": [
    "# its possible to interchange data and index positions\n",
    "ice_cream = [\n",
    "    \"choc\",\n",
    "    \"van\",\n",
    "    \"butter\",\n",
    "    \n",
    "]\n",
    "\n",
    "days = (\"Mon\",\"Tue\",\"Wed\")\n",
    "\n",
    "pd.Series(days, index=ice_cream)"
   ]
  },
  {
   "cell_type": "code",
   "execution_count": 9,
   "id": "415ea5df",
   "metadata": {},
   "outputs": [],
   "source": [
    "# load data\n",
    "\n",
    "df = pd.read_csv('../data/movies.csv')\n"
   ]
  },
  {
   "cell_type": "code",
   "execution_count": 10,
   "id": "d4095e79",
   "metadata": {},
   "outputs": [],
   "source": [
    "columns = df.columns"
   ]
  },
  {
   "cell_type": "code",
   "execution_count": 11,
   "id": "6a63eb02",
   "metadata": {},
   "outputs": [],
   "source": [
    "index = df.index"
   ]
  },
  {
   "cell_type": "code",
   "execution_count": 12,
   "id": "d530b677",
   "metadata": {},
   "outputs": [],
   "source": [
    "data = df.to_numpy()"
   ]
  },
  {
   "cell_type": "code",
   "execution_count": 13,
   "id": "b54a2d08",
   "metadata": {},
   "outputs": [
    {
     "data": {
      "text/plain": [
       "array([[1, 'Avengers: Endgame', 'Buena Vista', '$2,796.30 ', 2019],\n",
       "       [2, 'Avatar', 'Fox', '$2,789.70 ', 2009],\n",
       "       [3, 'Titanic', 'Paramount', '$2,187.50 ', 1997],\n",
       "       ...,\n",
       "       [780, 'Cats & Dogs', 'Warner Brothers', '$200.70 ', 2001],\n",
       "       [781, 'The Hunt for Red October', 'Paramount', '$200.50 ', 1990],\n",
       "       [782, 'Valkyrie', 'MGM', '$200.30 ', 2008]], dtype=object)"
      ]
     },
     "execution_count": 13,
     "metadata": {},
     "output_type": "execute_result"
    }
   ],
   "source": [
    "columns\n",
    "index\n",
    "data"
   ]
  },
  {
   "cell_type": "code",
   "execution_count": 14,
   "id": "604b443c",
   "metadata": {},
   "outputs": [
    {
     "data": {
      "text/plain": [
       "Index(['Rank', 'Title', 'Studio', 'Gross', 'Year'], dtype='object')"
      ]
     },
     "execution_count": 14,
     "metadata": {},
     "output_type": "execute_result"
    }
   ],
   "source": [
    "columns"
   ]
  },
  {
   "cell_type": "code",
   "execution_count": 15,
   "id": "ec17df27",
   "metadata": {},
   "outputs": [
    {
     "data": {
      "text/plain": [
       "RangeIndex(start=0, stop=782, step=1)"
      ]
     },
     "execution_count": 15,
     "metadata": {},
     "output_type": "execute_result"
    }
   ],
   "source": [
    "index"
   ]
  },
  {
   "cell_type": "code",
   "execution_count": 16,
   "id": "5be5de94",
   "metadata": {},
   "outputs": [
    {
     "data": {
      "text/plain": [
       "Rank  Title                   Studio           Gross       Year\n",
       "1     Avengers: Endgame       Buena Vista      $2,796.30   2019    1\n",
       "538   Exodus: Gods and Kings  Fox              $268.20     2014    1\n",
       "516   XXX                     SonR             $277.40     2002    1\n",
       "517   Spirited Away           Buena Vista      $277.30     2002    1\n",
       "518   The Bourne Legacy       Universal        $276.10     2012    1\n",
       "                                                                  ..\n",
       "264   The Matrix Revolutions  Warner Brothers  $427.30     2003    1\n",
       "265   The Intouchables        Weinstein        $426.60     2012    1\n",
       "266   Django Unchained        Weinstein        $425.40     2012    1\n",
       "267   Beauty and the Beast    Buena Vista      $425.00     1991    1\n",
       "782   Valkyrie                MGM              $200.30     2008    1\n",
       "Length: 782, dtype: int64"
      ]
     },
     "execution_count": 16,
     "metadata": {},
     "output_type": "execute_result"
    }
   ],
   "source": [
    "df.value_counts()"
   ]
  },
  {
   "cell_type": "code",
   "execution_count": 17,
   "id": "bb1fb763",
   "metadata": {},
   "outputs": [
    {
     "data": {
      "text/plain": [
       "object    3\n",
       "int64     2\n",
       "dtype: int64"
      ]
     },
     "execution_count": 17,
     "metadata": {},
     "output_type": "execute_result"
    }
   ],
   "source": [
    "df.dtypes.value_counts()"
   ]
  },
  {
   "cell_type": "code",
   "execution_count": 18,
   "id": "254ee4a3",
   "metadata": {},
   "outputs": [
    {
     "name": "stdout",
     "output_type": "stream",
     "text": [
      "<class 'pandas.core.frame.DataFrame'>\n",
      "RangeIndex: 782 entries, 0 to 781\n",
      "Data columns (total 5 columns):\n",
      " #   Column  Non-Null Count  Dtype \n",
      "---  ------  --------------  ----- \n",
      " 0   Rank    782 non-null    int64 \n",
      " 1   Title   782 non-null    object\n",
      " 2   Studio  782 non-null    object\n",
      " 3   Gross   782 non-null    object\n",
      " 4   Year    782 non-null    int64 \n",
      "dtypes: int64(2), object(3)\n",
      "memory usage: 30.7+ KB\n"
     ]
    }
   ],
   "source": [
    "df.info()"
   ]
  },
  {
   "cell_type": "code",
   "execution_count": 19,
   "id": "a00bccb3",
   "metadata": {},
   "outputs": [
    {
     "data": {
      "text/plain": [
       "Index(['Rank', 'Title', 'Studio', 'Gross', 'Year'], dtype='object')"
      ]
     },
     "execution_count": 19,
     "metadata": {},
     "output_type": "execute_result"
    }
   ],
   "source": [
    "# selecting a column\n",
    "# using index and attribute access (dot notation)\n",
    "\n",
    "df.columns"
   ]
  },
  {
   "cell_type": "code",
   "execution_count": 21,
   "id": "7a2f6038",
   "metadata": {},
   "outputs": [
    {
     "data": {
      "text/plain": [
       "0          Buena Vista\n",
       "1                  Fox\n",
       "2            Paramount\n",
       "3          Buena Vista\n",
       "4          Buena Vista\n",
       "            ...       \n",
       "777    Warner Brothers\n",
       "778                Fox\n",
       "779    Warner Brothers\n",
       "780          Paramount\n",
       "781                MGM\n",
       "Name: Studio, Length: 782, dtype: object"
      ]
     },
     "execution_count": 21,
     "metadata": {},
     "output_type": "execute_result"
    }
   ],
   "source": [
    "df[\"Studio\"]"
   ]
  },
  {
   "cell_type": "code",
   "execution_count": 22,
   "id": "e32e90ec",
   "metadata": {},
   "outputs": [
    {
     "data": {
      "text/plain": [
       "0          Buena Vista\n",
       "1                  Fox\n",
       "2            Paramount\n",
       "3          Buena Vista\n",
       "4          Buena Vista\n",
       "            ...       \n",
       "777    Warner Brothers\n",
       "778                Fox\n",
       "779    Warner Brothers\n",
       "780          Paramount\n",
       "781                MGM\n",
       "Name: Studio, Length: 782, dtype: object"
      ]
     },
     "execution_count": 22,
     "metadata": {},
     "output_type": "execute_result"
    }
   ],
   "source": [
    "df.Studio # line # 21 and 22 are same"
   ]
  },
  {
   "cell_type": "code",
   "execution_count": 23,
   "id": "0691dfa1",
   "metadata": {},
   "outputs": [
    {
     "data": {
      "text/plain": [
       "0                 Avengers: Endgame\n",
       "1                            Avatar\n",
       "2                           Titanic\n",
       "3      Star Wars: The Force Awakens\n",
       "4            Avengers: Infinity War\n",
       "                   ...             \n",
       "777                       Yogi Bear\n",
       "778             Garfield: The Movie\n",
       "779                     Cats & Dogs\n",
       "780        The Hunt for Red October\n",
       "781                        Valkyrie\n",
       "Name: Title, Length: 782, dtype: object"
      ]
     },
     "execution_count": 23,
     "metadata": {},
     "output_type": "execute_result"
    }
   ],
   "source": [
    "# .iloc and .loc will output a series\n",
    "# .loc pulls out by columns\n",
    "# .iloc pulls out by index position\n",
    "\n",
    "# using loc\n",
    "\n",
    "df.loc[:, \"Title\"]"
   ]
  },
  {
   "cell_type": "code",
   "execution_count": 24,
   "id": "9425b979",
   "metadata": {},
   "outputs": [
    {
     "data": {
      "text/plain": [
       "0                 Avengers: Endgame\n",
       "1                            Avatar\n",
       "2                           Titanic\n",
       "3      Star Wars: The Force Awakens\n",
       "4            Avengers: Infinity War\n",
       "                   ...             \n",
       "777                       Yogi Bear\n",
       "778             Garfield: The Movie\n",
       "779                     Cats & Dogs\n",
       "780        The Hunt for Red October\n",
       "781                        Valkyrie\n",
       "Name: Title, Length: 782, dtype: object"
      ]
     },
     "execution_count": 24,
     "metadata": {},
     "output_type": "execute_result"
    }
   ],
   "source": [
    "df.iloc[:,1]"
   ]
  },
  {
   "cell_type": "markdown",
   "id": "26a1c79a",
   "metadata": {},
   "source": [
    "Above cells mean the same because in df.columns we have Title at index poistion 1"
   ]
  },
  {
   "cell_type": "code",
   "execution_count": 25,
   "id": "0f0b5a03",
   "metadata": {},
   "outputs": [
    {
     "data": {
      "text/plain": [
       "pandas.core.series.Series"
      ]
     },
     "execution_count": 25,
     "metadata": {},
     "output_type": "execute_result"
    }
   ],
   "source": [
    "type(df.iloc[:,1])"
   ]
  },
  {
   "cell_type": "code",
   "execution_count": 26,
   "id": "67adb93e",
   "metadata": {},
   "outputs": [
    {
     "data": {
      "text/plain": [
       "422"
      ]
     },
     "execution_count": 26,
     "metadata": {},
     "output_type": "execute_result"
    }
   ],
   "source": [
    "# using dir function we can list out all methods in series object in pandas\n",
    "series_attr_methods = set(dir(pd.Series))\n",
    "len(series_attr_methods)"
   ]
  },
  {
   "cell_type": "code",
   "execution_count": 27,
   "id": "6908198c",
   "metadata": {},
   "outputs": [
    {
     "data": {
      "text/plain": [
       "434"
      ]
     },
     "execution_count": 27,
     "metadata": {},
     "output_type": "execute_result"
    }
   ],
   "source": [
    "dataframe_attr_methods = set(dir(pd.DataFrame))\n",
    "len(dataframe_attr_methods)"
   ]
  },
  {
   "cell_type": "code",
   "execution_count": 28,
   "id": "f9024312",
   "metadata": {},
   "outputs": [
    {
     "data": {
      "text/plain": [
       "367"
      ]
     },
     "execution_count": 28,
     "metadata": {},
     "output_type": "execute_result"
    }
   ],
   "source": [
    "len(series_attr_methods & dataframe_attr_methods)"
   ]
  },
  {
   "cell_type": "code",
   "execution_count": 30,
   "id": "33cda247",
   "metadata": {},
   "outputs": [
    {
     "data": {
      "text/html": [
       "<div>\n",
       "<style scoped>\n",
       "    .dataframe tbody tr th:only-of-type {\n",
       "        vertical-align: middle;\n",
       "    }\n",
       "\n",
       "    .dataframe tbody tr th {\n",
       "        vertical-align: top;\n",
       "    }\n",
       "\n",
       "    .dataframe thead th {\n",
       "        text-align: right;\n",
       "    }\n",
       "</style>\n",
       "<table border=\"1\" class=\"dataframe\">\n",
       "  <thead>\n",
       "    <tr style=\"text-align: right;\">\n",
       "      <th></th>\n",
       "      <th>Rank</th>\n",
       "      <th>Title</th>\n",
       "      <th>Studio</th>\n",
       "      <th>Gross</th>\n",
       "      <th>Year</th>\n",
       "    </tr>\n",
       "  </thead>\n",
       "  <tbody>\n",
       "    <tr>\n",
       "      <th>0</th>\n",
       "      <td>1</td>\n",
       "      <td>Avengers: Endgame</td>\n",
       "      <td>Buena Vista</td>\n",
       "      <td>$2,796.30</td>\n",
       "      <td>2019</td>\n",
       "    </tr>\n",
       "    <tr>\n",
       "      <th>1</th>\n",
       "      <td>2</td>\n",
       "      <td>Avatar</td>\n",
       "      <td>Fox</td>\n",
       "      <td>$2,789.70</td>\n",
       "      <td>2009</td>\n",
       "    </tr>\n",
       "    <tr>\n",
       "      <th>2</th>\n",
       "      <td>3</td>\n",
       "      <td>Titanic</td>\n",
       "      <td>Paramount</td>\n",
       "      <td>$2,187.50</td>\n",
       "      <td>1997</td>\n",
       "    </tr>\n",
       "    <tr>\n",
       "      <th>3</th>\n",
       "      <td>4</td>\n",
       "      <td>Star Wars: The Force Awakens</td>\n",
       "      <td>Buena Vista</td>\n",
       "      <td>$2,068.20</td>\n",
       "      <td>2015</td>\n",
       "    </tr>\n",
       "    <tr>\n",
       "      <th>4</th>\n",
       "      <td>5</td>\n",
       "      <td>Avengers: Infinity War</td>\n",
       "      <td>Buena Vista</td>\n",
       "      <td>$2,048.40</td>\n",
       "      <td>2018</td>\n",
       "    </tr>\n",
       "    <tr>\n",
       "      <th>...</th>\n",
       "      <td>...</td>\n",
       "      <td>...</td>\n",
       "      <td>...</td>\n",
       "      <td>...</td>\n",
       "      <td>...</td>\n",
       "    </tr>\n",
       "    <tr>\n",
       "      <th>777</th>\n",
       "      <td>778</td>\n",
       "      <td>Yogi Bear</td>\n",
       "      <td>Warner Brothers</td>\n",
       "      <td>$201.60</td>\n",
       "      <td>2010</td>\n",
       "    </tr>\n",
       "    <tr>\n",
       "      <th>778</th>\n",
       "      <td>779</td>\n",
       "      <td>Garfield: The Movie</td>\n",
       "      <td>Fox</td>\n",
       "      <td>$200.80</td>\n",
       "      <td>2004</td>\n",
       "    </tr>\n",
       "    <tr>\n",
       "      <th>779</th>\n",
       "      <td>780</td>\n",
       "      <td>Cats &amp; Dogs</td>\n",
       "      <td>Warner Brothers</td>\n",
       "      <td>$200.70</td>\n",
       "      <td>2001</td>\n",
       "    </tr>\n",
       "    <tr>\n",
       "      <th>780</th>\n",
       "      <td>781</td>\n",
       "      <td>The Hunt for Red October</td>\n",
       "      <td>Paramount</td>\n",
       "      <td>$200.50</td>\n",
       "      <td>1990</td>\n",
       "    </tr>\n",
       "    <tr>\n",
       "      <th>781</th>\n",
       "      <td>782</td>\n",
       "      <td>Valkyrie</td>\n",
       "      <td>MGM</td>\n",
       "      <td>$200.30</td>\n",
       "      <td>2008</td>\n",
       "    </tr>\n",
       "  </tbody>\n",
       "</table>\n",
       "<p>782 rows × 5 columns</p>\n",
       "</div>"
      ],
      "text/plain": [
       "     Rank                         Title           Studio       Gross  Year\n",
       "0       1             Avengers: Endgame      Buena Vista  $2,796.30   2019\n",
       "1       2                        Avatar              Fox  $2,789.70   2009\n",
       "2       3                       Titanic        Paramount  $2,187.50   1997\n",
       "3       4  Star Wars: The Force Awakens      Buena Vista  $2,068.20   2015\n",
       "4       5        Avengers: Infinity War      Buena Vista  $2,048.40   2018\n",
       "..    ...                           ...              ...         ...   ...\n",
       "777   778                     Yogi Bear  Warner Brothers    $201.60   2010\n",
       "778   779           Garfield: The Movie              Fox    $200.80   2004\n",
       "779   780                   Cats & Dogs  Warner Brothers    $200.70   2001\n",
       "780   781      The Hunt for Red October        Paramount    $200.50   1990\n",
       "781   782                      Valkyrie              MGM    $200.30   2008\n",
       "\n",
       "[782 rows x 5 columns]"
      ]
     },
     "execution_count": 30,
     "metadata": {},
     "output_type": "execute_result"
    }
   ],
   "source": [
    "df"
   ]
  },
  {
   "cell_type": "code",
   "execution_count": 31,
   "id": "0bb10f53",
   "metadata": {},
   "outputs": [],
   "source": [
    "rank = df[\"Rank\"]\n",
    "title = df[\"Title\"]"
   ]
  },
  {
   "cell_type": "code",
   "execution_count": 32,
   "id": "c342efac",
   "metadata": {},
   "outputs": [
    {
     "data": {
      "text/plain": [
       "dtype('int64')"
      ]
     },
     "execution_count": 32,
     "metadata": {},
     "output_type": "execute_result"
    }
   ],
   "source": [
    "rank.dtype"
   ]
  },
  {
   "cell_type": "code",
   "execution_count": 33,
   "id": "8b293e98",
   "metadata": {},
   "outputs": [
    {
     "data": {
      "text/plain": [
       "dtype('O')"
      ]
     },
     "execution_count": 33,
     "metadata": {},
     "output_type": "execute_result"
    }
   ],
   "source": [
    "title.dtype"
   ]
  },
  {
   "cell_type": "code",
   "execution_count": 35,
   "id": "102aacb2",
   "metadata": {},
   "outputs": [
    {
     "data": {
      "text/plain": [
       "Beauty and the Beast                        2\n",
       "Godzilla                                    2\n",
       "The Jungle Book                             2\n",
       "The Mummy                                   2\n",
       "Teenage Mutant Ninja Turtles                2\n",
       "                                           ..\n",
       "The Intouchables                            1\n",
       "Django Unchained                            1\n",
       "Dances with Wolves                          1\n",
       "The Chronicles of Narnia: Prince Caspian    1\n",
       "Valkyrie                                    1\n",
       "Name: Title, Length: 773, dtype: int64"
      ]
     },
     "execution_count": 35,
     "metadata": {},
     "output_type": "execute_result"
    }
   ],
   "source": [
    "title.value_counts()"
   ]
  },
  {
   "cell_type": "code",
   "execution_count": 39,
   "id": "437915c9",
   "metadata": {
    "collapsed": true
   },
   "outputs": [
    {
     "data": {
      "text/plain": [
       "array(['Avengers: Endgame', 'Avatar', 'Titanic',\n",
       "       'Star Wars: The Force Awakens', 'Avengers: Infinity War',\n",
       "       'Jurassic World', \"Marvel's The Avengers\", 'Furious 7',\n",
       "       'Avengers: Age of Ultron', 'Black Panther',\n",
       "       'Harry Potter and the Deathly Hallows Part 2',\n",
       "       'Star Wars: The Last Jedi', 'Jurassic World: Fallen Kingdom',\n",
       "       'Frozen', 'Beauty and the Beast', 'Incredibles 2',\n",
       "       'The Fate of the Furious', 'Iron Man 3', 'Minions',\n",
       "       'Captain America: Civil War', 'Aquaman', 'Captain Marvel',\n",
       "       'Transformers: Dark of the Moon',\n",
       "       'The Lord of the Rings: The Return of the King', 'Skyfall',\n",
       "       'Transformers: Age of Extinction', 'The Dark Knight Rises',\n",
       "       'Toy Story 3', \"Pirates of the Caribbean: Dead Man's Chest\",\n",
       "       'Rogue One: A Star Wars Story',\n",
       "       'Pirates of the Caribbean: On Stranger Tides', 'Despicable Me 3',\n",
       "       'Jurassic Park', 'Finding Dory',\n",
       "       'Star Wars: Episode I - The Phantom Menace', 'Alice in Wonderland',\n",
       "       'Zootopia', 'The Hobbit: An Unexpected Journey', 'The Dark Knight',\n",
       "       \"Harry Potter and the Sorcerer's Stone\", 'Despicable Me 2',\n",
       "       'The Lion King', 'The Jungle Book',\n",
       "       \"Pirates of the Caribbean: At World's End\",\n",
       "       'Jumanji: Welcome to the Jungle',\n",
       "       'Harry Potter and the Deathly Hallows Part 1',\n",
       "       'The Hobbit: The Desolation of Smaug',\n",
       "       'The Hobbit: The Battle of the Five Armies', 'Finding Nemo',\n",
       "       'Harry Potter and the Order of the Phoenix',\n",
       "       'Harry Potter and the Half-Blood Prince',\n",
       "       'The Lord of the Rings: The Two Towers', 'Shrek 2',\n",
       "       'Bohemian Rhapsody', 'Harry Potter and the Goblet of Fire',\n",
       "       'Spider-Man 3', 'Ice Age: Dawn of the Dinosaurs', 'Spectre',\n",
       "       'Aladdin', 'Spider-Man: Homecoming',\n",
       "       'Harry Potter and the Chamber of Secrets',\n",
       "       'Ice Age: Continental Drift', 'The Secret Life of Pets',\n",
       "       'Batman v Superman: Dawn of Justice',\n",
       "       'The Lord of the Rings: The Fellowship of the Ring',\n",
       "       'Wolf Warrior 2', 'The Hunger Games: Catching Fire',\n",
       "       'Guardians of the Galaxy Vol. 2', 'Inside Out', 'Venom',\n",
       "       'Thor: Ragnarok', 'Star Wars: Episode III - Revenge of the Sith',\n",
       "       'Transformers: Revenge of the Fallen',\n",
       "       'The Twilight Saga: Breaking Dawn Part 2', 'Inception',\n",
       "       'Wonder Woman', 'Spider-Man', 'Independence Day',\n",
       "       'Fantastic Beasts and Where To Find Them', 'Coco',\n",
       "       'Shrek the Third', 'Harry Potter and the Prisoner of Azkaban',\n",
       "       'Pirates of the Caribbean: Dead Men Tell No Tales',\n",
       "       'E.T.: The Extra-Terrestrial', 'Mission: Impossible - Fallout',\n",
       "       'Fast & Furious 6',\n",
       "       'Indiana Jones and the Kingdom of the Crystal Skull', 'Deadpool 2',\n",
       "       'Spider-Man 2', 'Deadpool', 'Star Wars', 'Guardians of the Galaxy',\n",
       "       '2012', 'Maleficent', 'The Da Vinci Code',\n",
       "       'The Amazing Spider-Man', 'The Hunger Games: Mockingjay - Part 1',\n",
       "       'Shrek Forever After', 'X-Men: Days of Future Past',\n",
       "       \"Madagascar 3: Europe's Most Wanted\", 'Suicide Squad',\n",
       "       'The Chronicles of Narnia: The Lion, the Witch and the Wardrobe',\n",
       "       'Monsters University', 'The Matrix Reloaded', 'Up', 'Gravity',\n",
       "       'Captain America: The Winter Soldier',\n",
       "       'The Twilight Saga: Breaking Dawn Part 1',\n",
       "       'Dawn of the Planet of the Apes', 'The Twilight Saga: New Moon',\n",
       "       'Transformers', 'The Amazing Spider-Man 2', 'It',\n",
       "       'The Wandering Earth', 'The Twilight Saga: Eclipse',\n",
       "       'Mission: Impossible - Ghost Protocol', 'The Hunger Games',\n",
       "       'Mission: Impossible - Rogue Nation', 'Forrest Gump',\n",
       "       'Doctor Strange', 'Interstellar', 'The Sixth Sense',\n",
       "       'Man of Steel', 'Kung Fu Panda 2', 'Ice Age: The Meltdown',\n",
       "       'Justice League', 'Big Hero 6',\n",
       "       'Pirates of the Caribbean: The Curse of the Black Pearl',\n",
       "       'Fantastic Beasts: The Crimes of Grindelwald',\n",
       "       'The Hunger Games: Mockingjay - Part 2',\n",
       "       'Star Wars: Episode II - Attack of the Clones',\n",
       "       'Thor: The Dark World', 'Moana', 'Sing', 'The Incredibles',\n",
       "       'Kung Fu Panda', 'The Martian', 'Fast Five', 'Hancock', 'MIB 3',\n",
       "       'Iron Man 2', 'Ant-Man and the Wasp', 'How to Train Your Dragon 2',\n",
       "       'Ratatouille', 'Logan', 'The Lost World: Jurassic Park',\n",
       "       'The Passion of the Christ', 'Mamma Mia!', 'Life of Pi',\n",
       "       'Transformers: The Last Knight', 'Madagascar: Escape 2 Africa',\n",
       "       'Casino Royale', 'Tangled', 'War of the Worlds', 'Men in Black',\n",
       "       'The Croods', 'The Hangover Part II', 'Quantum of Solace',\n",
       "       'I Am Legend', 'Iron Man', 'Ready Player One', 'Operation Red Sea',\n",
       "       'Monsters, Inc.', 'Night at the Museum', 'Fifty Shades of Grey',\n",
       "       'Kong: Skull Island', 'The Smurfs', 'Cars 2', 'Puss in Boots',\n",
       "       'The Mermaid (Mei ren yu)', 'Armageddon', 'King Kong', 'Ted',\n",
       "       'American Sniper', 'Mission: Impossible II',\n",
       "       'Sherlock Holmes: A Game of Shadows', 'The Day After Tomorrow',\n",
       "       'Detective Chinatown 2', 'X-Men: Apocalypse', 'Cinderella',\n",
       "       'Despicable Me', 'Brave', 'World War Z', 'The Empire Strikes Back',\n",
       "       'WALL-E', 'The Revenant', 'Madagascar', 'The Meg',\n",
       "       'Ralph Breaks the Internet', 'Godzilla',\n",
       "       'Hotel Transylvania 3: Summer Vacation', 'The Boss Baby',\n",
       "       'The Simpsons Movie', 'Dunkirk', 'Sherlock Holmes',\n",
       "       'Kung Fu Panda 3', 'Terminator 2: Judgment Day', 'Toy Story 4',\n",
       "       'How to Train Your Dragon: The Hidden World', 'Ant-Man',\n",
       "       'Meet the Fockers', \"Dr. Seuss' The Grinch\", 'Ghost', 'Rio 2',\n",
       "       'Troy', 'Toy Story 2', 'How to Train Your Dragon', 'Twister',\n",
       "       'Teenage Mutant Ninja Turtles', 'Oz The Great and Powerful',\n",
       "       'Clash of the Titans', 'War for the Planet of the Apes',\n",
       "       'Angels & Demons', 'Rio', 'Bruce Almighty', 'Shrek',\n",
       "       'Saving Private Ryan', 'Rise of the Planet of the Apes',\n",
       "       'Mr. & Mrs. Smith', 'Home Alone', 'Return of the Jedi',\n",
       "       'Charlie and the Chocolate Factory', 'Hotel Transylvania 2',\n",
       "       'Indiana Jones and the Last Crusade', 'San Andreas',\n",
       "       'Wreck-It Ralph', 'Jaws', 'The LEGO Movie', 'Bumblebee',\n",
       "       'The Hangover', 'Star Trek Into Darkness', 'The Matrix',\n",
       "       'Pretty Woman', 'Lucy', 'Cars', 'Gladiator',\n",
       "       'X-Men: The Last Stand', 'Mission: Impossible',\n",
       "       'National Treasure: Book of Secrets', 'The Last Samurai', '300',\n",
       "       \"Ocean's Eleven\", 'Thor', 'Pearl Harbor', 'Tarzan', 'La La Land',\n",
       "       'Alvin and the Chipmunks: The Squeakquel', 'The Bourne Ultimatum',\n",
       "       'Men in Black II', 'Les Miserables', 'The Exorcist',\n",
       "       'Mrs. Doubtfire', 'Terminator: Genisys', 'The Greatest Showman',\n",
       "       'A Star is Born', 'Warcraft', 'Terminator 3: Rise of the Machines',\n",
       "       'The Mummy Returns', 'Die Another Day', 'Cast Away', 'Rampage',\n",
       "       'Pokemon Detective Pikachu', 'The Matrix Revolutions',\n",
       "       'The Intouchables', 'Django Unchained', 'Dances with Wolves',\n",
       "       'The Chronicles of Narnia: Prince Caspian', 'The Mummy',\n",
       "       'The Chronicles of Narnia: The Voyage of the Dawn Treader',\n",
       "       'Jason Bourne', 'Sex and the City', 'The Wolverine',\n",
       "       'Kingsman: The Secret Service', \"The King's Speech\",\n",
       "       'Night at the Museum: Battle of the Smithsonian', 'Batman',\n",
       "       'The Bodyguard', 'Pacific Rim', 'Kingsman: The Golden Circle',\n",
       "       'Ice Age: Collision Course', 'Signs', 'X2: X-Men United',\n",
       "       'Alita: Battle Angel', 'Prometheus', 'Gone with the Wind',\n",
       "       'The Mummy: Tomb of the Dragon Emperor', 'Tron Legacy',\n",
       "       'Mission: Impossible III', 'Snow White and the Huntsman', 'Grease',\n",
       "       'Mamma Mia! Here We Go Again', 'Twilight',\n",
       "       'Solo: A Star Wars Story', 'The Wolf of Wall Street',\n",
       "       'Superman Returns', 'Robin Hood: Prince of Thieves',\n",
       "       'Raiders of the Lost Ark', 'Independence Day: Resurgence', 'Home',\n",
       "       'Star Trek', 'Monster Hunt', 'Happy Feet', 'Cars 3',\n",
       "       'Live Free or Die Hard', 'Ice Age', 'Fifty Shades Darker',\n",
       "       'Monsters Vs. Aliens', 'Back to the Future', 'True Lies',\n",
       "       'Mad Max: Fury Road', 'Godzilla: King of the Monsters',\n",
       "       'Slumdog Millionaire', 'Taken 2', 'G.I. Joe: Retaliation',\n",
       "       'Spider-Man: Into The Spider-Verse', 'Batman Begins',\n",
       "       'What Women Want', 'The Adventures of Tintin', 'Toy Story',\n",
       "       'X-Men Origins: Wolverine', 'Penguins of Madagascar',\n",
       "       'The Golden Compass', 'Fifty Shades Freed', 'Terminator Salvation',\n",
       "       'Captain America: The First Avenger', 'Edge of Tomorrow',\n",
       "       \"There's Something About Mary\", 'Gone Girl', 'The Fugitive',\n",
       "       'Jurassic Park III', 'My Big Fat Greek Wedding', 'Hitch',\n",
       "       'Shark Tale', 'Die Hard: With A Vengeance', 'The Nun', 'Shazam!',\n",
       "       'Notting Hill', \"A Bug's Life\",\n",
       "       'Night at the Museum: Secret of the Tomb', 'Fast and Furious',\n",
       "       \"Ocean's Twelve\", 'Noah', 'Planet of the Apes',\n",
       "       'The Hangover Part III', 'The World Is Not Enough',\n",
       "       'Monster Hunt 2', 'Alvin and the Chipmunks', 'The Karate Kid',\n",
       "       'Home Alone 2: Lost in New York', 'Hotel Transylvania',\n",
       "       'Minority Report', 'Your Name.', 'Top Gun', 'The Legend of Tarzan',\n",
       "       'American Beauty', 'Apollo 13', 'Rain Man', 'The Great Gatsby',\n",
       "       'X-Men: First Class', 'Basic Instinct',\n",
       "       'Murder on the Orient Express', 'The Angry Birds Movie',\n",
       "       'GoldenEye', 'Catch Me If You Can', 'Dumbo', 'Now You See Me',\n",
       "       'Hannibal', 'The Mask', 'Peter Rabbit', 'Speed', 'Dinosaur',\n",
       "       'Mary Poppins Returns', 'Deep Impact', \"Dr. Seuss' The Lorax\",\n",
       "       'The Maze Runner', 'The Smurfs 2', 'National Treasure',\n",
       "       'Rush Hour 2', 'I, Robot', 'Trolls',\n",
       "       'xXx: The Return of Xander Cage', 'Pocahontas',\n",
       "       'How the Grinch Stole Christmas', 'Star Trek Beyond',\n",
       "       'Alvin and the Chipmunks: Chipwrecked', 'The Flintstones',\n",
       "       'Wanted', 'A Quiet Place', 'Enchanted', '300: Rise of An Empire',\n",
       "       'Batman Forever', 'Prince of Persia: The Sands of Time',\n",
       "       'Over the Hedge', 'Journey 2: The Mysterious Island', 'The Rock',\n",
       "       'The Great Wall', 'Now You See Me 2',\n",
       "       'The Curious Case of Benjamin Button',\n",
       "       'Indiana Jones and the Temple of Doom', 'Tomorrow Never Dies',\n",
       "       'The Good Dinosaur', 'Back to the Future Part II',\n",
       "       '22 Jump Street', 'Fantastic Four', 'Meet the Parents',\n",
       "       'Who Framed Roger Rabbit', 'Black Swan', 'The Perfect Storm',\n",
       "       'Crocodile Dundee', 'Seven', 'The Devil Wears Prada', 'Taken 3',\n",
       "       'The Hunchback of Notre Dame', 'A Christmas Carol',\n",
       "       'The SpongeBob Movie: Sponge Out of Water', \"Schindler's List\",\n",
       "       'Megamind', 'Lethal Weapon 3', 'Robin Hood',\n",
       "       'Inglourious Basterds', '101 Dalmatians', 'The Conjuring 2',\n",
       "       'Green Book', 'Fatal Attraction', 'The Last Airbender',\n",
       "       'The Conjuring', 'The Proposal', 'Beverly Hills Cop',\n",
       "       'Air Force One', 'The Expendables 2', 'Chicken Little',\n",
       "       'As Good as It Gets', 'A Beautiful Mind',\n",
       "       'Maze Runner: The Scorch Trials',\n",
       "       'Resident Evil: The Final Chapter',\n",
       "       'Austin Powers: The Spy Who Shagged Me', 'The LEGO Batman Movie',\n",
       "       'The Polar Express', \"Ocean's Thirteen\", 'Little Fockers', 'Bolt',\n",
       "       'Ransom', 'Runaway Bride', 'The Blind Side',\n",
       "       'The Fault in our Stars', 'The Pursuit of Happyness',\n",
       "       'Rise of the Guardians', 'Close Encounters of the Third Kind',\n",
       "       'Chicago', 'Annabelle: Creation', 'Wonder', 'Wrath of the Titans',\n",
       "       'Skyscraper', 'John Wick: Chapter 3 - Parabellum',\n",
       "       'A Good Day to Die Hard', 'Mulan', 'Passengers', 'Battleship',\n",
       "       'Dangal', 'Liar Liar', 'G.I. Joe: The Rise of Cobra', 'Hook',\n",
       "       'Rocky IV', 'Superman', 'Rambo: First Blood Part II',\n",
       "       'Van Helsing', 'Resident Evil: Afterlife', 'Stuart Little',\n",
       "       'Beverly Hills Cop II', 'Alice Through the Looking Glass',\n",
       "       \"My Best Friend's Wedding\", 'Real Steel', \"Ocean's 8\",\n",
       "       'The Divergent Series: Insurgent',\n",
       "       \"Dr. Seuss' Horton Hears a Who!\", \"Look Who's Talking\",\n",
       "       'Austin Powers in Goldmember',\n",
       "       \"Miss Peregrine's Home for Peculiar Children\", 'X-Men',\n",
       "       'Ferdinand', 'Ghostbusters', 'Shutter Island', 'Doctor Dolittle',\n",
       "       'Salt', 'G-Force', 'The Departed', 'What Lies Beneath',\n",
       "       'Pacific Rim Uprising', 'Shakespeare in Love',\n",
       "       'Fantastic Four: Rise of the Silver Surfer', 'Divergent',\n",
       "       'Coming to America', 'The Bourne Supremacy', 'Bridesmaids',\n",
       "       'Sex and the City 2', 'Maze Runner: The Death Cure', 'Casper',\n",
       "       'Bee Movie', 'American Pie 2', 'Pitch Perfect 2', 'The Green Mile',\n",
       "       'Oblivion', 'Elysium', 'Lethal Weapon 4', 'Wedding Crashers',\n",
       "       'John Carter', 'Turbo', \"Bridget Jones's Diary\", 'Split',\n",
       "       'The Tourist', 'Scary Movie', 'XXX', 'Spirited Away',\n",
       "       'The Bourne Legacy', 'Mr. Peabody & Sherman', 'Scooby-Doo',\n",
       "       'Lincoln', 'Lara Croft: Tomb Raider', 'Tomb Raider',\n",
       "       'The Expendables', 'Cloudy with a Chance of Meatballs 2',\n",
       "       'The Nutty Professor', 'Jerry Maguire', 'Bad Boys II',\n",
       "       'Lilo & Stitch', 'The Silence of the Lambs', 'Grown Ups',\n",
       "       'Neighbors', 'The Firm', \"We're the Millers\", 'Gran Torino',\n",
       "       '10,000 B.C.', 'Epic', 'Exodus: Gods and Kings', 'Paddington',\n",
       "       'Bambi', 'The Princess and the Frog', 'Batman Returns',\n",
       "       \"Something's Gotta Give\", 'Indecent Proposal', 'American Gangster',\n",
       "       'Waterworld', 'The Truman Show', \"Charlie's Angels\",\n",
       "       'The Fifth Element', 'The Incredible Hulk', 'Jumanji',\n",
       "       'Bridget Jones: The Edge of Reason', 'Knight & Day',\n",
       "       'Borat: Cultural Learnings of America for Make Benefit Glorious Nation of Kazakhstan',\n",
       "       'Total Recall', \"Michael Jackson's This Is It\", 'Robots',\n",
       "       'The Lone Ranger', 'Super 8', 'Mojin: The Lost Legend',\n",
       "       'Blade Runner 2049', \"Charlie's Angels: Full Throttle\",\n",
       "       'Rush Hour 3', 'The Full Monty', 'Annabelle', 'The Village',\n",
       "       'Lost in Hong Kong', 'Erin Brockovich', 'Halloween', 'Get Out',\n",
       "       'Cliffhanger', 'Us', 'Kung Fu Yoga', 'Baahubali 2: The Conclusion',\n",
       "       'Babe', 'Wild Hogs', 'High School Musical 3: Senior Year',\n",
       "       'Hercules', 'True Grit', 'Bean', 'American Hustle',\n",
       "       \"You've Got Mail\", 'Enemy of the State', 'Brother Bear',\n",
       "       'The Mask of Zorro', 'Eragon', 'The Ring',\n",
       "       'The Blair Witch Project', 'Unbreakable', 'Dumb and Dumber',\n",
       "       'Glass', 'Grown Ups 2', 'Love Actually',\n",
       "       'Journey to the West: The Demons Strike Back', 'The Peanuts Movie',\n",
       "       'Rango', 'Four Weddings and a Funeral', 'Face/Off',\n",
       "       'Teenage Mutant Ninja Turtles: Out of the Shadows', 'Dark Shadows',\n",
       "       'Hulk', \"Bienvenue chez les Ch'tis\", 'Dark Phoenix',\n",
       "       'The Godfather', 'Pixels', 'Back to the Future Part III',\n",
       "       'Rush Hour', 'After Earth', 'A Few Good Men',\n",
       "       'Cloudy with a Chance of Meatballs', '8 Mile', \"Daddy's Home\",\n",
       "       'Marley and Me', 'RoboCop', 'Eraser',\n",
       "       'Journey to the Center of the Earth', \"Assassin's Creed\",\n",
       "       'Alien: Covenant', 'Sully', 'Die Hard 2: Die Harder',\n",
       "       'Resident Evil: Retribution', 'Crocodile Dundee II', 'Planes',\n",
       "       'Crazy Rich Asians', 'Batman and Robin', 'Click',\n",
       "       \"Gulliver's Travels\", 'Gone in 60 Seconds', 'Saturday Night Fever',\n",
       "       'Silver Linings Playbook', '2 Fast 2 Furious',\n",
       "       \"Howl's Moving Castle\", 'Hidden Figures',\n",
       "       'A.I. Artificial Intelligence', 'Dead Poets Society', 'Spy',\n",
       "       'American Pie', 'American Reunion', 'Big Daddy',\n",
       "       'Alvin and the Chipmunks: The Road Chip', 'The Imitation Game',\n",
       "       'The Day the Earth Stood Still', 'The Girl with the Dragon Tattoo',\n",
       "       'Argo', 'The English Patient', 'Sister Act', 'American Wedding',\n",
       "       'Juno', 'Constantine', 'Get Smart', 'Space Jam', 'The Heat',\n",
       "       \"Mr. Bean's Holiday\", 'Life Is Beautiful', 'Ghost Rider',\n",
       "       'Goodbye Mr. Loser', 'Sleepless in Seattle', 'Lethal Weapon 2',\n",
       "       'The Green Hornet', 'Out of Africa', 'Paddington 2', 'Baby Driver',\n",
       "       'Immortals', 'Taken',\n",
       "       'Percy Jackson & The Olympians: The Lightning Thief',\n",
       "       'Hansel and Gretel: Witch Hunters', 'Good Will Hunting',\n",
       "       'The Secret Life of Pets 2',\n",
       "       'Valerian and the City of a Thousand Planets',\n",
       "       'The Social Network', 'Chicken Run', 'Con Air',\n",
       "       'Interview with the Vampire', 'Flightplan', 'Yes Man', 'Non-Stop',\n",
       "       'Honey, I Shrunk the Kids', 'Fahrenheit 9/11', 'Jumper',\n",
       "       'Wild Wild West', 'Geostorm', 'Presumed Innocent', 'Elf',\n",
       "       'Men in Black International', 'Scary Movie 3', 'Inferno',\n",
       "       'Green Lantern', 'The Terminal', 'What Happens in Vegas',\n",
       "       \"It's Complicated\", 'Knocked Up', 'Captain Phillips',\n",
       "       'The Prince of Egypt', 'Jack Reacher', 'The Emoji Movie',\n",
       "       'Collateral', 'Dracula Untold', 'Central Intelligence',\n",
       "       'Million Dollar Baby', 'Ted 2', 'The Help', 'Twins',\n",
       "       \"Valentine's Day\", 'Bad Teacher', 'Clear and Present Danger',\n",
       "       \"Bram Stoker's Dracula\", 'Vertical Limit', 'Ghostbusters II',\n",
       "       'The Patriot', \"The Sorcerer's Apprentice\", 'Just Go With It',\n",
       "       'The Expendables 3', 'Dirty Dancing', 'Smallfoot', 'Creed II',\n",
       "       'Public Enemies', 'The Bourne Identity', 'Disclosure',\n",
       "       'Pulp Fiction', 'The Aviator', 'Crouching Tiger, Hidden Dragon',\n",
       "       'Braveheart', 'Into the Woods', 'Bedtime Stories',\n",
       "       'Miss Congeniality', 'Entrapment',\n",
       "       'Ace Ventura: When Nature Calls',\n",
       "       'Master and Commander: The Far Side of the World', 'End of Days',\n",
       "       \"Bridget Jones's Baby\", 'Battle: Los Angeles', 'Fury', 'Due Date',\n",
       "       'Kingdom of Heaven', 'The Little Mermaid', 'Australia',\n",
       "       'District 9', 'Moonraker', 'The Others', 'Horrible Bosses',\n",
       "       'Red Dragon', 'Tomorrowland',\n",
       "       \"Lemony Snicket's A Series of Unfortunate Events\", 'Me Before You',\n",
       "       'Safe House', 'S.W.A.T.', 'Traffic', 'The Fast and the Furious',\n",
       "       'Paranormal Activity 3', 'Philadelphia', 'Sleepy Hollow',\n",
       "       'London Has Fallen', 'Journey to the West', 'JFK',\n",
       "       'White House Down', 'The Ugly Truth', 'The Holiday',\n",
       "       \"A Dog's Purpose\", 'The Break-Up', 'Eat Pray Love', 'King Arthur',\n",
       "       'Everest', 'Vanilla Sky', 'Arrival', 'Need for Speed', 'Hairspray',\n",
       "       'Ponyo', 'Patch Adams', 'Fun with Dick and Jane',\n",
       "       'Kindergarten Cop', 'Straight Outta Compton', '21 Jump Street',\n",
       "       'Yogi Bear', 'Garfield: The Movie', 'Cats & Dogs',\n",
       "       'The Hunt for Red October', 'Valkyrie'], dtype=object)"
      ]
     },
     "execution_count": 39,
     "metadata": {},
     "output_type": "execute_result"
    }
   ],
   "source": [
    "title.unique()"
   ]
  },
  {
   "cell_type": "code",
   "execution_count": 40,
   "id": "29f822b0",
   "metadata": {},
   "outputs": [
    {
     "data": {
      "text/plain": [
       "782"
      ]
     },
     "execution_count": 40,
     "metadata": {},
     "output_type": "execute_result"
    }
   ],
   "source": [
    "title.count()"
   ]
  },
  {
   "cell_type": "code",
   "execution_count": 41,
   "id": "a0d71ac9",
   "metadata": {},
   "outputs": [
    {
     "data": {
      "text/plain": [
       "<bound method NDFrame._add_numeric_operations.<locals>.median of 0                 Avengers: Endgame\n",
       "1                            Avatar\n",
       "2                           Titanic\n",
       "3      Star Wars: The Force Awakens\n",
       "4            Avengers: Infinity War\n",
       "                   ...             \n",
       "777                       Yogi Bear\n",
       "778             Garfield: The Movie\n",
       "779                     Cats & Dogs\n",
       "780        The Hunt for Red October\n",
       "781                        Valkyrie\n",
       "Name: Title, Length: 782, dtype: object>"
      ]
     },
     "execution_count": 41,
     "metadata": {},
     "output_type": "execute_result"
    }
   ],
   "source": [
    "title.median"
   ]
  },
  {
   "cell_type": "code",
   "execution_count": 46,
   "id": "9ed23263",
   "metadata": {},
   "outputs": [
    {
     "data": {
      "text/plain": [
       "pandas.core.series.Series"
      ]
     },
     "execution_count": 46,
     "metadata": {},
     "output_type": "execute_result"
    }
   ],
   "source": [
    "gross = df[\"Gross\"]\n",
    "type(gross)"
   ]
  },
  {
   "cell_type": "code",
   "execution_count": 47,
   "id": "d145be02",
   "metadata": {},
   "outputs": [
    {
     "data": {
      "text/plain": [
       "count          782\n",
       "unique         701\n",
       "top       $225.90 \n",
       "freq             3\n",
       "Name: Gross, dtype: object"
      ]
     },
     "execution_count": 47,
     "metadata": {},
     "output_type": "execute_result"
    }
   ],
   "source": [
    "gross.describe()"
   ]
  },
  {
   "cell_type": "code",
   "execution_count": 48,
   "id": "b398173f",
   "metadata": {},
   "outputs": [
    {
     "data": {
      "text/plain": [
       "0      False\n",
       "1      False\n",
       "2      False\n",
       "3      False\n",
       "4      False\n",
       "       ...  \n",
       "777    False\n",
       "778    False\n",
       "779    False\n",
       "780    False\n",
       "781    False\n",
       "Name: Gross, Length: 782, dtype: bool"
      ]
     },
     "execution_count": 48,
     "metadata": {},
     "output_type": "execute_result"
    }
   ],
   "source": [
    "# find null values\n",
    "\n",
    "gross.isnull()"
   ]
  },
  {
   "cell_type": "code",
   "execution_count": 50,
   "id": "2043ee47",
   "metadata": {},
   "outputs": [],
   "source": [
    "# chaining series methods\n",
    "\n",
    "# Consider the sentence: A person drives to the store to buy food, then drives home and prepares, cooks, serves, and eats the food before cleaning the dishes.\n",
    "\n",
    "# chanined method will look like:\n",
    "\n",
    "# (person.drive('store')\n",
    "#        .buy('food')\n",
    "#        .drive('home')\n",
    "#        .prepare('food')\n",
    "#        .cook('food')\n",
    "#        .serve('food')\n",
    "#        .eat('food')\n",
    "#        .cleanup('dishes')\n",
    "# )\n",
    "\n"
   ]
  },
  {
   "cell_type": "code",
   "execution_count": 52,
   "id": "05fc600d",
   "metadata": {},
   "outputs": [
    {
     "data": {
      "text/plain": [
       "Beauty and the Beast            2\n",
       "Godzilla                        2\n",
       "The Jungle Book                 2\n",
       "The Mummy                       2\n",
       "Teenage Mutant Ninja Turtles    2\n",
       "Name: Title, dtype: int64"
      ]
     },
     "execution_count": 52,
     "metadata": {},
     "output_type": "execute_result"
    }
   ],
   "source": [
    "title.value_counts().head()"
   ]
  },
  {
   "cell_type": "code",
   "execution_count": 56,
   "id": "805272ec",
   "metadata": {},
   "outputs": [
    {
     "data": {
      "text/html": [
       "<div>\n",
       "<style scoped>\n",
       "    .dataframe tbody tr th:only-of-type {\n",
       "        vertical-align: middle;\n",
       "    }\n",
       "\n",
       "    .dataframe tbody tr th {\n",
       "        vertical-align: top;\n",
       "    }\n",
       "\n",
       "    .dataframe thead th {\n",
       "        text-align: right;\n",
       "    }\n",
       "</style>\n",
       "<table border=\"1\" class=\"dataframe\">\n",
       "  <thead>\n",
       "    <tr style=\"text-align: right;\">\n",
       "      <th></th>\n",
       "      <th>rank_of_movie</th>\n",
       "      <th>title_of_movie</th>\n",
       "      <th>Studio</th>\n",
       "      <th>Gross</th>\n",
       "      <th>Year</th>\n",
       "    </tr>\n",
       "  </thead>\n",
       "  <tbody>\n",
       "    <tr>\n",
       "      <th>0</th>\n",
       "      <td>1</td>\n",
       "      <td>Avengers: Endgame</td>\n",
       "      <td>Buena Vista</td>\n",
       "      <td>$2,796.30</td>\n",
       "      <td>2019</td>\n",
       "    </tr>\n",
       "    <tr>\n",
       "      <th>1</th>\n",
       "      <td>2</td>\n",
       "      <td>Avatar</td>\n",
       "      <td>Fox</td>\n",
       "      <td>$2,789.70</td>\n",
       "      <td>2009</td>\n",
       "    </tr>\n",
       "    <tr>\n",
       "      <th>2</th>\n",
       "      <td>3</td>\n",
       "      <td>Titanic</td>\n",
       "      <td>Paramount</td>\n",
       "      <td>$2,187.50</td>\n",
       "      <td>1997</td>\n",
       "    </tr>\n",
       "    <tr>\n",
       "      <th>3</th>\n",
       "      <td>4</td>\n",
       "      <td>Star Wars: The Force Awakens</td>\n",
       "      <td>Buena Vista</td>\n",
       "      <td>$2,068.20</td>\n",
       "      <td>2015</td>\n",
       "    </tr>\n",
       "    <tr>\n",
       "      <th>4</th>\n",
       "      <td>5</td>\n",
       "      <td>Avengers: Infinity War</td>\n",
       "      <td>Buena Vista</td>\n",
       "      <td>$2,048.40</td>\n",
       "      <td>2018</td>\n",
       "    </tr>\n",
       "  </tbody>\n",
       "</table>\n",
       "</div>"
      ],
      "text/plain": [
       "   rank_of_movie                title_of_movie       Studio       Gross  Year\n",
       "0              1             Avengers: Endgame  Buena Vista  $2,796.30   2019\n",
       "1              2                        Avatar          Fox  $2,789.70   2009\n",
       "2              3                       Titanic    Paramount  $2,187.50   1997\n",
       "3              4  Star Wars: The Force Awakens  Buena Vista  $2,068.20   2015\n",
       "4              5        Avengers: Infinity War  Buena Vista  $2,048.40   2018"
      ]
     },
     "execution_count": 56,
     "metadata": {},
     "output_type": "execute_result"
    }
   ],
   "source": [
    "# renaming column names\n",
    "\n",
    "df.columns # ['Rank', 'Title', 'Studio', 'Gross', 'Year']\n",
    "column_mapping = {\n",
    "    \"Rank\":\"rank_of_movie\",\n",
    "    \"Title\": \"title_of_movie\"\n",
    "}\n",
    "#column_mapping\n",
    "df.rename(columns=column_mapping).head()"
   ]
  },
  {
   "cell_type": "code",
   "execution_count": 57,
   "id": "08146680",
   "metadata": {},
   "outputs": [
    {
     "data": {
      "text/html": [
       "<div>\n",
       "<style scoped>\n",
       "    .dataframe tbody tr th:only-of-type {\n",
       "        vertical-align: middle;\n",
       "    }\n",
       "\n",
       "    .dataframe tbody tr th {\n",
       "        vertical-align: top;\n",
       "    }\n",
       "\n",
       "    .dataframe thead th {\n",
       "        text-align: right;\n",
       "    }\n",
       "</style>\n",
       "<table border=\"1\" class=\"dataframe\">\n",
       "  <thead>\n",
       "    <tr style=\"text-align: right;\">\n",
       "      <th></th>\n",
       "      <th>Rank</th>\n",
       "      <th>Title</th>\n",
       "      <th>Studio</th>\n",
       "      <th>Gross</th>\n",
       "      <th>Year</th>\n",
       "      <th>has_seen</th>\n",
       "    </tr>\n",
       "  </thead>\n",
       "  <tbody>\n",
       "    <tr>\n",
       "      <th>0</th>\n",
       "      <td>1</td>\n",
       "      <td>Avengers: Endgame</td>\n",
       "      <td>Buena Vista</td>\n",
       "      <td>$2,796.30</td>\n",
       "      <td>2019</td>\n",
       "      <td>0</td>\n",
       "    </tr>\n",
       "    <tr>\n",
       "      <th>1</th>\n",
       "      <td>2</td>\n",
       "      <td>Avatar</td>\n",
       "      <td>Fox</td>\n",
       "      <td>$2,789.70</td>\n",
       "      <td>2009</td>\n",
       "      <td>0</td>\n",
       "    </tr>\n",
       "    <tr>\n",
       "      <th>2</th>\n",
       "      <td>3</td>\n",
       "      <td>Titanic</td>\n",
       "      <td>Paramount</td>\n",
       "      <td>$2,187.50</td>\n",
       "      <td>1997</td>\n",
       "      <td>0</td>\n",
       "    </tr>\n",
       "    <tr>\n",
       "      <th>3</th>\n",
       "      <td>4</td>\n",
       "      <td>Star Wars: The Force Awakens</td>\n",
       "      <td>Buena Vista</td>\n",
       "      <td>$2,068.20</td>\n",
       "      <td>2015</td>\n",
       "      <td>0</td>\n",
       "    </tr>\n",
       "    <tr>\n",
       "      <th>4</th>\n",
       "      <td>5</td>\n",
       "      <td>Avengers: Infinity War</td>\n",
       "      <td>Buena Vista</td>\n",
       "      <td>$2,048.40</td>\n",
       "      <td>2018</td>\n",
       "      <td>0</td>\n",
       "    </tr>\n",
       "    <tr>\n",
       "      <th>...</th>\n",
       "      <td>...</td>\n",
       "      <td>...</td>\n",
       "      <td>...</td>\n",
       "      <td>...</td>\n",
       "      <td>...</td>\n",
       "      <td>...</td>\n",
       "    </tr>\n",
       "    <tr>\n",
       "      <th>777</th>\n",
       "      <td>778</td>\n",
       "      <td>Yogi Bear</td>\n",
       "      <td>Warner Brothers</td>\n",
       "      <td>$201.60</td>\n",
       "      <td>2010</td>\n",
       "      <td>0</td>\n",
       "    </tr>\n",
       "    <tr>\n",
       "      <th>778</th>\n",
       "      <td>779</td>\n",
       "      <td>Garfield: The Movie</td>\n",
       "      <td>Fox</td>\n",
       "      <td>$200.80</td>\n",
       "      <td>2004</td>\n",
       "      <td>0</td>\n",
       "    </tr>\n",
       "    <tr>\n",
       "      <th>779</th>\n",
       "      <td>780</td>\n",
       "      <td>Cats &amp; Dogs</td>\n",
       "      <td>Warner Brothers</td>\n",
       "      <td>$200.70</td>\n",
       "      <td>2001</td>\n",
       "      <td>0</td>\n",
       "    </tr>\n",
       "    <tr>\n",
       "      <th>780</th>\n",
       "      <td>781</td>\n",
       "      <td>The Hunt for Red October</td>\n",
       "      <td>Paramount</td>\n",
       "      <td>$200.50</td>\n",
       "      <td>1990</td>\n",
       "      <td>0</td>\n",
       "    </tr>\n",
       "    <tr>\n",
       "      <th>781</th>\n",
       "      <td>782</td>\n",
       "      <td>Valkyrie</td>\n",
       "      <td>MGM</td>\n",
       "      <td>$200.30</td>\n",
       "      <td>2008</td>\n",
       "      <td>0</td>\n",
       "    </tr>\n",
       "  </tbody>\n",
       "</table>\n",
       "<p>782 rows × 6 columns</p>\n",
       "</div>"
      ],
      "text/plain": [
       "     Rank                         Title           Studio       Gross  Year  \\\n",
       "0       1             Avengers: Endgame      Buena Vista  $2,796.30   2019   \n",
       "1       2                        Avatar              Fox  $2,789.70   2009   \n",
       "2       3                       Titanic        Paramount  $2,187.50   1997   \n",
       "3       4  Star Wars: The Force Awakens      Buena Vista  $2,068.20   2015   \n",
       "4       5        Avengers: Infinity War      Buena Vista  $2,048.40   2018   \n",
       "..    ...                           ...              ...         ...   ...   \n",
       "777   778                     Yogi Bear  Warner Brothers    $201.60   2010   \n",
       "778   779           Garfield: The Movie              Fox    $200.80   2004   \n",
       "779   780                   Cats & Dogs  Warner Brothers    $200.70   2001   \n",
       "780   781      The Hunt for Red October        Paramount    $200.50   1990   \n",
       "781   782                      Valkyrie              MGM    $200.30   2008   \n",
       "\n",
       "     has_seen  \n",
       "0           0  \n",
       "1           0  \n",
       "2           0  \n",
       "3           0  \n",
       "4           0  \n",
       "..        ...  \n",
       "777         0  \n",
       "778         0  \n",
       "779         0  \n",
       "780         0  \n",
       "781         0  \n",
       "\n",
       "[782 rows x 6 columns]"
      ]
     },
     "execution_count": 57,
     "metadata": {},
     "output_type": "execute_result"
    }
   ],
   "source": [
    "# creating and deleting columns\n",
    "df[\"has_seen\"] = 0 # by default value is 0 \n",
    "df"
   ]
  },
  {
   "cell_type": "code",
   "execution_count": null,
   "id": "ded2593c",
   "metadata": {},
   "outputs": [],
   "source": []
  }
 ],
 "metadata": {
  "kernelspec": {
   "display_name": "Python 3",
   "language": "python",
   "name": "python3"
  },
  "language_info": {
   "codemirror_mode": {
    "name": "ipython",
    "version": 3
   },
   "file_extension": ".py",
   "mimetype": "text/x-python",
   "name": "python",
   "nbconvert_exporter": "python",
   "pygments_lexer": "ipython3",
   "version": "3.8.8"
  }
 },
 "nbformat": 4,
 "nbformat_minor": 5
}
