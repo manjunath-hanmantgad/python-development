{
 "cells": [
  {
   "cell_type": "code",
   "execution_count": 1,
   "id": "ba6c0b44",
   "metadata": {},
   "outputs": [],
   "source": [
    "import pandas as pd"
   ]
  },
  {
   "cell_type": "code",
   "execution_count": 3,
   "id": "e754722d",
   "metadata": {},
   "outputs": [],
   "source": [
    "#pd.__version__"
   ]
  },
  {
   "cell_type": "markdown",
   "id": "72a8f1ee",
   "metadata": {},
   "source": [
    "#### Series object from python list"
   ]
  },
  {
   "cell_type": "code",
   "execution_count": 4,
   "id": "f795be98",
   "metadata": {},
   "outputs": [
    {
     "data": {
      "text/plain": [
       "0      choclate\n",
       "1       vanilla\n",
       "2    strawberry\n",
       "3        raisin\n",
       "dtype: object"
      ]
     },
     "execution_count": 4,
     "metadata": {},
     "output_type": "execute_result"
    }
   ],
   "source": [
    "ice_cream = [\"choclate\",\"vanilla\",\"strawberry\",\"raisin\"]\n",
    "# convert to series\n",
    "# series is a class\n",
    "pd.Series(ice_cream) # series takes in data source"
   ]
  },
  {
   "cell_type": "code",
   "execution_count": 5,
   "id": "0b724165",
   "metadata": {},
   "outputs": [
    {
     "data": {
      "text/plain": [
       "list"
      ]
     },
     "execution_count": 5,
     "metadata": {},
     "output_type": "execute_result"
    }
   ],
   "source": [
    "type(ice_cream)"
   ]
  },
  {
   "cell_type": "code",
   "execution_count": 6,
   "id": "45631139",
   "metadata": {},
   "outputs": [
    {
     "data": {
      "text/plain": [
       "0    1\n",
       "1    2\n",
       "2    3\n",
       "3    4\n",
       "4    5\n",
       "5    6\n",
       "dtype: int64"
      ]
     },
     "execution_count": 6,
     "metadata": {},
     "output_type": "execute_result"
    }
   ],
   "source": [
    "lottery = [1,2,3,4,5,6]\n",
    "pd.Series(lottery)"
   ]
  },
  {
   "cell_type": "code",
   "execution_count": 7,
   "id": "22b72356",
   "metadata": {},
   "outputs": [
    {
     "data": {
      "text/plain": [
       "0    1.0\n",
       "1    2.0\n",
       "2    3.0\n",
       "3    4.0\n",
       "4    5.0\n",
       "5    6.0\n",
       "dtype: float64"
      ]
     },
     "execution_count": 7,
     "metadata": {},
     "output_type": "execute_result"
    }
   ],
   "source": [
    "lottery_1 = [1.0,2.0,3,4,5,6]\n",
    "pd.Series(lottery_1)"
   ]
  },
  {
   "cell_type": "markdown",
   "id": "2db9a0e7",
   "metadata": {},
   "source": [
    "#### Series from python dictionary"
   ]
  },
  {
   "cell_type": "code",
   "execution_count": 8,
   "id": "bfd4a677",
   "metadata": {},
   "outputs": [
    {
     "data": {
      "text/plain": [
       "salmon    orange\n",
       "tuna         red\n",
       "eel        brown\n",
       "dtype: object"
      ]
     },
     "execution_count": 8,
     "metadata": {},
     "output_type": "execute_result"
    }
   ],
   "source": [
    "dict_1 = {\n",
    "    \"salmon\":\"orange\",\n",
    "    \"tuna\":\"red\",\n",
    "    \"eel\":\"brown\"\n",
    "\n",
    "}\n",
    "pd.Series(dict_1)"
   ]
  },
  {
   "cell_type": "code",
   "execution_count": 11,
   "id": "a9aac705",
   "metadata": {},
   "outputs": [
    {
     "data": {
      "text/plain": [
       "dict"
      ]
     },
     "execution_count": 11,
     "metadata": {},
     "output_type": "execute_result"
    }
   ],
   "source": [
    "type(dict_1)"
   ]
  },
  {
   "cell_type": "code",
   "execution_count": 10,
   "id": "1da9ef11",
   "metadata": {},
   "outputs": [
    {
     "data": {
      "text/plain": [
       "salmon    1\n",
       "tuna      2\n",
       "eel       3\n",
       "dtype: int64"
      ]
     },
     "execution_count": 10,
     "metadata": {},
     "output_type": "execute_result"
    }
   ],
   "source": [
    "dict_2 = {\n",
    "    \"salmon\":1,\n",
    "    \"tuna\":2,\n",
    "    \"eel\":3\n",
    "\n",
    "}\n",
    "pd.Series(dict_2)"
   ]
  },
  {
   "cell_type": "code",
   "execution_count": 12,
   "id": "651b4633",
   "metadata": {},
   "outputs": [
    {
     "data": {
      "text/plain": [
       "dict"
      ]
     },
     "execution_count": 12,
     "metadata": {},
     "output_type": "execute_result"
    }
   ],
   "source": [
    "type(dict_2)"
   ]
  },
  {
   "cell_type": "code",
   "execution_count": 13,
   "id": "d587da28",
   "metadata": {},
   "outputs": [
    {
     "data": {
      "text/plain": [
       "'C:\\\\Users\\\\Manjunath\\\\Desktop\\\\interview_prep_documents\\\\python-development\\\\Pandas_projects'"
      ]
     },
     "execution_count": 13,
     "metadata": {},
     "output_type": "execute_result"
    }
   ],
   "source": [
    "#pwd"
   ]
  },
  {
   "cell_type": "code",
   "execution_count": 15,
   "id": "571dd8a2",
   "metadata": {},
   "outputs": [
    {
     "data": {
      "text/plain": [
       "0    United States\n",
       "1           France\n",
       "2          Germany\n",
       "3            Italy\n",
       "dtype: object"
      ]
     },
     "execution_count": 15,
     "metadata": {},
     "output_type": "execute_result"
    }
   ],
   "source": [
    "sample = [\"United States\", \"France\", \"Germany\", \"Italy\"]\n",
    "countries = pd.Series(sample)\n",
    "countries"
   ]
  },
  {
   "cell_type": "code",
   "execution_count": 17,
   "id": "79c5d816",
   "metadata": {},
   "outputs": [
    {
     "data": {
      "text/plain": [
       "0    United States\n",
       "1           France\n",
       "2          Germany\n",
       "3            Italy\n",
       "dtype: object"
      ]
     },
     "execution_count": 17,
     "metadata": {},
     "output_type": "execute_result"
    }
   ],
   "source": [
    "# this can directly be written as:\n",
    "\n",
    "countries = pd.Series([\"United States\", \"France\", \"Germany\", \"Italy\"])\n",
    "countries"
   ]
  },
  {
   "cell_type": "code",
   "execution_count": 16,
   "id": "7d97663e",
   "metadata": {},
   "outputs": [
    {
     "data": {
      "text/plain": [
       "Flour     True\n",
       "Sugar     True\n",
       "Salt     False\n",
       "dtype: bool"
      ]
     },
     "execution_count": 16,
     "metadata": {},
     "output_type": "execute_result"
    }
   ],
   "source": [
    "recipe = {\n",
    "  \"Flour\": True,\n",
    "  \"Sugar\": True,\n",
    "  \"Salt\": False\n",
    "}\n",
    "series_dict = pd.Series(recipe)\n",
    "series_dict"
   ]
  },
  {
   "cell_type": "code",
   "execution_count": 18,
   "id": "123de4b4",
   "metadata": {},
   "outputs": [
    {
     "ename": "TypeError",
     "evalue": "__init__() got an unexpected keyword argument 'recipe'",
     "output_type": "error",
     "traceback": [
      "\u001b[1;31m---------------------------------------------------------------------------\u001b[0m",
      "\u001b[1;31mTypeError\u001b[0m                                 Traceback (most recent call last)",
      "\u001b[1;32m<ipython-input-18-2f864c151606>\u001b[0m in \u001b[0;36m<module>\u001b[1;34m\u001b[0m\n\u001b[1;32m----> 1\u001b[1;33m series_dict_1 = pd.Series(recipe = {\n\u001b[0m\u001b[0;32m      2\u001b[0m   \u001b[1;34m\"Flour\"\u001b[0m\u001b[1;33m:\u001b[0m \u001b[1;32mTrue\u001b[0m\u001b[1;33m,\u001b[0m\u001b[1;33m\u001b[0m\u001b[1;33m\u001b[0m\u001b[0m\n\u001b[0;32m      3\u001b[0m   \u001b[1;34m\"Sugar\"\u001b[0m\u001b[1;33m:\u001b[0m \u001b[1;32mTrue\u001b[0m\u001b[1;33m,\u001b[0m\u001b[1;33m\u001b[0m\u001b[1;33m\u001b[0m\u001b[0m\n\u001b[0;32m      4\u001b[0m   \u001b[1;34m\"Salt\"\u001b[0m\u001b[1;33m:\u001b[0m \u001b[1;32mFalse\u001b[0m\u001b[1;33m\u001b[0m\u001b[1;33m\u001b[0m\u001b[0m\n\u001b[0;32m      5\u001b[0m })\n",
      "\u001b[1;31mTypeError\u001b[0m: __init__() got an unexpected keyword argument 'recipe'"
     ]
    }
   ],
   "source": [
    "series_dict_1 = pd.Series(recipe = {\n",
    "  \"Flour\": True,\n",
    "  \"Sugar\": True,\n",
    "  \"Salt\": False\n",
    "})\n",
    "series_dict_1"
   ]
  },
  {
   "cell_type": "markdown",
   "id": "6fe050e6",
   "metadata": {},
   "source": [
    "bcz __init__ doesnt take the input.It only takes self and temp."
   ]
  },
  {
   "cell_type": "markdown",
   "id": "94dc0d29",
   "metadata": {},
   "source": [
    "#### Methods on Series objects"
   ]
  },
  {
   "cell_type": "code",
   "execution_count": 22,
   "id": "b242a1ea",
   "metadata": {},
   "outputs": [
    {
     "data": {
      "text/plain": [
       "0    1\n",
       "1    2\n",
       "2    3\n",
       "3    4\n",
       "dtype: int64"
      ]
     },
     "execution_count": 22,
     "metadata": {},
     "output_type": "execute_result"
    }
   ],
   "source": [
    "prices = pd.Series([1,2,3,4])\n",
    "prices"
   ]
  },
  {
   "cell_type": "code",
   "execution_count": 23,
   "id": "37401cb3",
   "metadata": {},
   "outputs": [
    {
     "name": "stderr",
     "output_type": "stream",
     "text": [
      "<ipython-input-23-7ff9d6162c68>:1: FutureWarning: The series.append method is deprecated and will be removed from pandas in a future version. Use pandas.concat instead.\n",
      "  prices.append(5)\n"
     ]
    },
    {
     "ename": "TypeError",
     "evalue": "cannot concatenate object of type '<class 'int'>'; only Series and DataFrame objs are valid",
     "output_type": "error",
     "traceback": [
      "\u001b[1;31m---------------------------------------------------------------------------\u001b[0m",
      "\u001b[1;31mTypeError\u001b[0m                                 Traceback (most recent call last)",
      "\u001b[1;32m<ipython-input-23-7ff9d6162c68>\u001b[0m in \u001b[0;36m<module>\u001b[1;34m\u001b[0m\n\u001b[1;32m----> 1\u001b[1;33m \u001b[0mprices\u001b[0m\u001b[1;33m.\u001b[0m\u001b[0mappend\u001b[0m\u001b[1;33m(\u001b[0m\u001b[1;36m5\u001b[0m\u001b[1;33m)\u001b[0m\u001b[1;33m\u001b[0m\u001b[1;33m\u001b[0m\u001b[0m\n\u001b[0m\u001b[0;32m      2\u001b[0m \u001b[0mprices\u001b[0m\u001b[1;33m\u001b[0m\u001b[1;33m\u001b[0m\u001b[0m\n",
      "\u001b[1;32m~\\anaconda3\\lib\\site-packages\\pandas\\core\\series.py\u001b[0m in \u001b[0;36mappend\u001b[1;34m(self, to_append, ignore_index, verify_integrity)\u001b[0m\n\u001b[0;32m   2935\u001b[0m         )\n\u001b[0;32m   2936\u001b[0m \u001b[1;33m\u001b[0m\u001b[0m\n\u001b[1;32m-> 2937\u001b[1;33m         \u001b[1;32mreturn\u001b[0m \u001b[0mself\u001b[0m\u001b[1;33m.\u001b[0m\u001b[0m_append\u001b[0m\u001b[1;33m(\u001b[0m\u001b[0mto_append\u001b[0m\u001b[1;33m,\u001b[0m \u001b[0mignore_index\u001b[0m\u001b[1;33m,\u001b[0m \u001b[0mverify_integrity\u001b[0m\u001b[1;33m)\u001b[0m\u001b[1;33m\u001b[0m\u001b[1;33m\u001b[0m\u001b[0m\n\u001b[0m\u001b[0;32m   2938\u001b[0m \u001b[1;33m\u001b[0m\u001b[0m\n\u001b[0;32m   2939\u001b[0m     def _append(\n",
      "\u001b[1;32m~\\anaconda3\\lib\\site-packages\\pandas\\core\\series.py\u001b[0m in \u001b[0;36m_append\u001b[1;34m(self, to_append, ignore_index, verify_integrity)\u001b[0m\n\u001b[0;32m   2950\u001b[0m             \u001b[0mmsg\u001b[0m \u001b[1;33m=\u001b[0m \u001b[1;34m\"to_append should be a Series or list/tuple of Series, got DataFrame\"\u001b[0m\u001b[1;33m\u001b[0m\u001b[1;33m\u001b[0m\u001b[0m\n\u001b[0;32m   2951\u001b[0m             \u001b[1;32mraise\u001b[0m \u001b[0mTypeError\u001b[0m\u001b[1;33m(\u001b[0m\u001b[0mmsg\u001b[0m\u001b[1;33m)\u001b[0m\u001b[1;33m\u001b[0m\u001b[1;33m\u001b[0m\u001b[0m\n\u001b[1;32m-> 2952\u001b[1;33m         return concat(\n\u001b[0m\u001b[0;32m   2953\u001b[0m             \u001b[0mto_concat\u001b[0m\u001b[1;33m,\u001b[0m \u001b[0mignore_index\u001b[0m\u001b[1;33m=\u001b[0m\u001b[0mignore_index\u001b[0m\u001b[1;33m,\u001b[0m \u001b[0mverify_integrity\u001b[0m\u001b[1;33m=\u001b[0m\u001b[0mverify_integrity\u001b[0m\u001b[1;33m\u001b[0m\u001b[1;33m\u001b[0m\u001b[0m\n\u001b[0;32m   2954\u001b[0m         )\n",
      "\u001b[1;32m~\\anaconda3\\lib\\site-packages\\pandas\\util\\_decorators.py\u001b[0m in \u001b[0;36mwrapper\u001b[1;34m(*args, **kwargs)\u001b[0m\n\u001b[0;32m    309\u001b[0m                     \u001b[0mstacklevel\u001b[0m\u001b[1;33m=\u001b[0m\u001b[0mstacklevel\u001b[0m\u001b[1;33m,\u001b[0m\u001b[1;33m\u001b[0m\u001b[1;33m\u001b[0m\u001b[0m\n\u001b[0;32m    310\u001b[0m                 )\n\u001b[1;32m--> 311\u001b[1;33m             \u001b[1;32mreturn\u001b[0m \u001b[0mfunc\u001b[0m\u001b[1;33m(\u001b[0m\u001b[1;33m*\u001b[0m\u001b[0margs\u001b[0m\u001b[1;33m,\u001b[0m \u001b[1;33m**\u001b[0m\u001b[0mkwargs\u001b[0m\u001b[1;33m)\u001b[0m\u001b[1;33m\u001b[0m\u001b[1;33m\u001b[0m\u001b[0m\n\u001b[0m\u001b[0;32m    312\u001b[0m \u001b[1;33m\u001b[0m\u001b[0m\n\u001b[0;32m    313\u001b[0m         \u001b[1;32mreturn\u001b[0m \u001b[0mwrapper\u001b[0m\u001b[1;33m\u001b[0m\u001b[1;33m\u001b[0m\u001b[0m\n",
      "\u001b[1;32m~\\anaconda3\\lib\\site-packages\\pandas\\core\\reshape\\concat.py\u001b[0m in \u001b[0;36mconcat\u001b[1;34m(objs, axis, join, ignore_index, keys, levels, names, verify_integrity, sort, copy)\u001b[0m\n\u001b[0;32m    344\u001b[0m     \u001b[0mValueError\u001b[0m\u001b[1;33m:\u001b[0m \u001b[0mIndexes\u001b[0m \u001b[0mhave\u001b[0m \u001b[0moverlapping\u001b[0m \u001b[0mvalues\u001b[0m\u001b[1;33m:\u001b[0m \u001b[1;33m[\u001b[0m\u001b[1;34m'a'\u001b[0m\u001b[1;33m]\u001b[0m\u001b[1;33m\u001b[0m\u001b[1;33m\u001b[0m\u001b[0m\n\u001b[0;32m    345\u001b[0m     \"\"\"\n\u001b[1;32m--> 346\u001b[1;33m     op = _Concatenator(\n\u001b[0m\u001b[0;32m    347\u001b[0m         \u001b[0mobjs\u001b[0m\u001b[1;33m,\u001b[0m\u001b[1;33m\u001b[0m\u001b[1;33m\u001b[0m\u001b[0m\n\u001b[0;32m    348\u001b[0m         \u001b[0maxis\u001b[0m\u001b[1;33m=\u001b[0m\u001b[0maxis\u001b[0m\u001b[1;33m,\u001b[0m\u001b[1;33m\u001b[0m\u001b[1;33m\u001b[0m\u001b[0m\n",
      "\u001b[1;32m~\\anaconda3\\lib\\site-packages\\pandas\\core\\reshape\\concat.py\u001b[0m in \u001b[0;36m__init__\u001b[1;34m(self, objs, axis, join, keys, levels, names, ignore_index, verify_integrity, copy, sort)\u001b[0m\n\u001b[0;32m    434\u001b[0m                     \u001b[1;34m\"only Series and DataFrame objs are valid\"\u001b[0m\u001b[1;33m\u001b[0m\u001b[1;33m\u001b[0m\u001b[0m\n\u001b[0;32m    435\u001b[0m                 )\n\u001b[1;32m--> 436\u001b[1;33m                 \u001b[1;32mraise\u001b[0m \u001b[0mTypeError\u001b[0m\u001b[1;33m(\u001b[0m\u001b[0mmsg\u001b[0m\u001b[1;33m)\u001b[0m\u001b[1;33m\u001b[0m\u001b[1;33m\u001b[0m\u001b[0m\n\u001b[0m\u001b[0;32m    437\u001b[0m \u001b[1;33m\u001b[0m\u001b[0m\n\u001b[0;32m    438\u001b[0m             \u001b[0mndims\u001b[0m\u001b[1;33m.\u001b[0m\u001b[0madd\u001b[0m\u001b[1;33m(\u001b[0m\u001b[0mobj\u001b[0m\u001b[1;33m.\u001b[0m\u001b[0mndim\u001b[0m\u001b[1;33m)\u001b[0m\u001b[1;33m\u001b[0m\u001b[1;33m\u001b[0m\u001b[0m\n",
      "\u001b[1;31mTypeError\u001b[0m: cannot concatenate object of type '<class 'int'>'; only Series and DataFrame objs are valid"
     ]
    }
   ],
   "source": [
    "prices.append(5)\n",
    "prices"
   ]
  },
  {
   "cell_type": "code",
   "execution_count": 24,
   "id": "e8ae77e0",
   "metadata": {},
   "outputs": [
    {
     "name": "stderr",
     "output_type": "stream",
     "text": [
      "<ipython-input-24-a7d9d30e3692>:2: FutureWarning: The series.append method is deprecated and will be removed from pandas in a future version. Use pandas.concat instead.\n",
      "  prices.append(5)\n"
     ]
    },
    {
     "ename": "TypeError",
     "evalue": "cannot concatenate object of type '<class 'int'>'; only Series and DataFrame objs are valid",
     "output_type": "error",
     "traceback": [
      "\u001b[1;31m---------------------------------------------------------------------------\u001b[0m",
      "\u001b[1;31mTypeError\u001b[0m                                 Traceback (most recent call last)",
      "\u001b[1;32m<ipython-input-24-a7d9d30e3692>\u001b[0m in \u001b[0;36m<module>\u001b[1;34m\u001b[0m\n\u001b[0;32m      1\u001b[0m \u001b[0mprices\u001b[0m \u001b[1;33m=\u001b[0m \u001b[0mpd\u001b[0m\u001b[1;33m.\u001b[0m\u001b[0mSeries\u001b[0m\u001b[1;33m(\u001b[0m\u001b[1;33m[\u001b[0m\u001b[1;36m1\u001b[0m\u001b[1;33m,\u001b[0m\u001b[1;36m2\u001b[0m\u001b[1;33m,\u001b[0m\u001b[1;36m3\u001b[0m\u001b[1;33m,\u001b[0m\u001b[1;36m4\u001b[0m\u001b[1;33m]\u001b[0m\u001b[1;33m)\u001b[0m\u001b[1;33m\u001b[0m\u001b[1;33m\u001b[0m\u001b[0m\n\u001b[1;32m----> 2\u001b[1;33m \u001b[0mprices\u001b[0m\u001b[1;33m.\u001b[0m\u001b[0mappend\u001b[0m\u001b[1;33m(\u001b[0m\u001b[1;36m5\u001b[0m\u001b[1;33m)\u001b[0m\u001b[1;33m\u001b[0m\u001b[1;33m\u001b[0m\u001b[0m\n\u001b[0m\u001b[0;32m      3\u001b[0m \u001b[0mprices\u001b[0m\u001b[1;33m\u001b[0m\u001b[1;33m\u001b[0m\u001b[0m\n",
      "\u001b[1;32m~\\anaconda3\\lib\\site-packages\\pandas\\core\\series.py\u001b[0m in \u001b[0;36mappend\u001b[1;34m(self, to_append, ignore_index, verify_integrity)\u001b[0m\n\u001b[0;32m   2935\u001b[0m         )\n\u001b[0;32m   2936\u001b[0m \u001b[1;33m\u001b[0m\u001b[0m\n\u001b[1;32m-> 2937\u001b[1;33m         \u001b[1;32mreturn\u001b[0m \u001b[0mself\u001b[0m\u001b[1;33m.\u001b[0m\u001b[0m_append\u001b[0m\u001b[1;33m(\u001b[0m\u001b[0mto_append\u001b[0m\u001b[1;33m,\u001b[0m \u001b[0mignore_index\u001b[0m\u001b[1;33m,\u001b[0m \u001b[0mverify_integrity\u001b[0m\u001b[1;33m)\u001b[0m\u001b[1;33m\u001b[0m\u001b[1;33m\u001b[0m\u001b[0m\n\u001b[0m\u001b[0;32m   2938\u001b[0m \u001b[1;33m\u001b[0m\u001b[0m\n\u001b[0;32m   2939\u001b[0m     def _append(\n",
      "\u001b[1;32m~\\anaconda3\\lib\\site-packages\\pandas\\core\\series.py\u001b[0m in \u001b[0;36m_append\u001b[1;34m(self, to_append, ignore_index, verify_integrity)\u001b[0m\n\u001b[0;32m   2950\u001b[0m             \u001b[0mmsg\u001b[0m \u001b[1;33m=\u001b[0m \u001b[1;34m\"to_append should be a Series or list/tuple of Series, got DataFrame\"\u001b[0m\u001b[1;33m\u001b[0m\u001b[1;33m\u001b[0m\u001b[0m\n\u001b[0;32m   2951\u001b[0m             \u001b[1;32mraise\u001b[0m \u001b[0mTypeError\u001b[0m\u001b[1;33m(\u001b[0m\u001b[0mmsg\u001b[0m\u001b[1;33m)\u001b[0m\u001b[1;33m\u001b[0m\u001b[1;33m\u001b[0m\u001b[0m\n\u001b[1;32m-> 2952\u001b[1;33m         return concat(\n\u001b[0m\u001b[0;32m   2953\u001b[0m             \u001b[0mto_concat\u001b[0m\u001b[1;33m,\u001b[0m \u001b[0mignore_index\u001b[0m\u001b[1;33m=\u001b[0m\u001b[0mignore_index\u001b[0m\u001b[1;33m,\u001b[0m \u001b[0mverify_integrity\u001b[0m\u001b[1;33m=\u001b[0m\u001b[0mverify_integrity\u001b[0m\u001b[1;33m\u001b[0m\u001b[1;33m\u001b[0m\u001b[0m\n\u001b[0;32m   2954\u001b[0m         )\n",
      "\u001b[1;32m~\\anaconda3\\lib\\site-packages\\pandas\\util\\_decorators.py\u001b[0m in \u001b[0;36mwrapper\u001b[1;34m(*args, **kwargs)\u001b[0m\n\u001b[0;32m    309\u001b[0m                     \u001b[0mstacklevel\u001b[0m\u001b[1;33m=\u001b[0m\u001b[0mstacklevel\u001b[0m\u001b[1;33m,\u001b[0m\u001b[1;33m\u001b[0m\u001b[1;33m\u001b[0m\u001b[0m\n\u001b[0;32m    310\u001b[0m                 )\n\u001b[1;32m--> 311\u001b[1;33m             \u001b[1;32mreturn\u001b[0m \u001b[0mfunc\u001b[0m\u001b[1;33m(\u001b[0m\u001b[1;33m*\u001b[0m\u001b[0margs\u001b[0m\u001b[1;33m,\u001b[0m \u001b[1;33m**\u001b[0m\u001b[0mkwargs\u001b[0m\u001b[1;33m)\u001b[0m\u001b[1;33m\u001b[0m\u001b[1;33m\u001b[0m\u001b[0m\n\u001b[0m\u001b[0;32m    312\u001b[0m \u001b[1;33m\u001b[0m\u001b[0m\n\u001b[0;32m    313\u001b[0m         \u001b[1;32mreturn\u001b[0m \u001b[0mwrapper\u001b[0m\u001b[1;33m\u001b[0m\u001b[1;33m\u001b[0m\u001b[0m\n",
      "\u001b[1;32m~\\anaconda3\\lib\\site-packages\\pandas\\core\\reshape\\concat.py\u001b[0m in \u001b[0;36mconcat\u001b[1;34m(objs, axis, join, ignore_index, keys, levels, names, verify_integrity, sort, copy)\u001b[0m\n\u001b[0;32m    344\u001b[0m     \u001b[0mValueError\u001b[0m\u001b[1;33m:\u001b[0m \u001b[0mIndexes\u001b[0m \u001b[0mhave\u001b[0m \u001b[0moverlapping\u001b[0m \u001b[0mvalues\u001b[0m\u001b[1;33m:\u001b[0m \u001b[1;33m[\u001b[0m\u001b[1;34m'a'\u001b[0m\u001b[1;33m]\u001b[0m\u001b[1;33m\u001b[0m\u001b[1;33m\u001b[0m\u001b[0m\n\u001b[0;32m    345\u001b[0m     \"\"\"\n\u001b[1;32m--> 346\u001b[1;33m     op = _Concatenator(\n\u001b[0m\u001b[0;32m    347\u001b[0m         \u001b[0mobjs\u001b[0m\u001b[1;33m,\u001b[0m\u001b[1;33m\u001b[0m\u001b[1;33m\u001b[0m\u001b[0m\n\u001b[0;32m    348\u001b[0m         \u001b[0maxis\u001b[0m\u001b[1;33m=\u001b[0m\u001b[0maxis\u001b[0m\u001b[1;33m,\u001b[0m\u001b[1;33m\u001b[0m\u001b[1;33m\u001b[0m\u001b[0m\n",
      "\u001b[1;32m~\\anaconda3\\lib\\site-packages\\pandas\\core\\reshape\\concat.py\u001b[0m in \u001b[0;36m__init__\u001b[1;34m(self, objs, axis, join, keys, levels, names, ignore_index, verify_integrity, copy, sort)\u001b[0m\n\u001b[0;32m    434\u001b[0m                     \u001b[1;34m\"only Series and DataFrame objs are valid\"\u001b[0m\u001b[1;33m\u001b[0m\u001b[1;33m\u001b[0m\u001b[0m\n\u001b[0;32m    435\u001b[0m                 )\n\u001b[1;32m--> 436\u001b[1;33m                 \u001b[1;32mraise\u001b[0m \u001b[0mTypeError\u001b[0m\u001b[1;33m(\u001b[0m\u001b[0mmsg\u001b[0m\u001b[1;33m)\u001b[0m\u001b[1;33m\u001b[0m\u001b[1;33m\u001b[0m\u001b[0m\n\u001b[0m\u001b[0;32m    437\u001b[0m \u001b[1;33m\u001b[0m\u001b[0m\n\u001b[0;32m    438\u001b[0m             \u001b[0mndims\u001b[0m\u001b[1;33m.\u001b[0m\u001b[0madd\u001b[0m\u001b[1;33m(\u001b[0m\u001b[0mobj\u001b[0m\u001b[1;33m.\u001b[0m\u001b[0mndim\u001b[0m\u001b[1;33m)\u001b[0m\u001b[1;33m\u001b[0m\u001b[1;33m\u001b[0m\u001b[0m\n",
      "\u001b[1;31mTypeError\u001b[0m: cannot concatenate object of type '<class 'int'>'; only Series and DataFrame objs are valid"
     ]
    }
   ],
   "source": [
    "prices = pd.Series([1,2,3,4])\n",
    "prices.append(5)\n",
    "prices"
   ]
  },
  {
   "cell_type": "code",
   "execution_count": 34,
   "id": "3e7c4d8f",
   "metadata": {},
   "outputs": [],
   "source": [
    "# prices = pd.Series([1.0,2.0,3.0,4.0])\n",
    "# #prices = [1,2,3,4]\n",
    "# prices.append(5)\n",
    "# prices"
   ]
  },
  {
   "cell_type": "code",
   "execution_count": 29,
   "id": "61902514",
   "metadata": {},
   "outputs": [
    {
     "data": {
      "text/plain": [
       "[1, 2, 3, 4, 5]"
      ]
     },
     "execution_count": 29,
     "metadata": {},
     "output_type": "execute_result"
    }
   ],
   "source": [
    "#prices = pd.Series([1.0,2.0,3.0,4.0])\n",
    "prices = [1,2,3,4]\n",
    "prices.append(5)\n",
    "prices"
   ]
  },
  {
   "cell_type": "markdown",
   "id": "b6413e34",
   "metadata": {},
   "source": [
    "Meaning Series object can not use append method on list."
   ]
  },
  {
   "cell_type": "code",
   "execution_count": 31,
   "id": "3f1ff272",
   "metadata": {},
   "outputs": [
    {
     "data": {
      "text/plain": [
       "10.0"
      ]
     },
     "execution_count": 31,
     "metadata": {},
     "output_type": "execute_result"
    }
   ],
   "source": [
    "prices = pd.Series([1.0,2.0,3.0,4.0])\n",
    "#prices = [1,2,3,4]\n",
    "prices.sum()"
   ]
  },
  {
   "cell_type": "markdown",
   "id": "f36324ff",
   "metadata": {},
   "source": [
    "#### Attributes"
   ]
  },
  {
   "cell_type": "code",
   "execution_count": null,
   "id": "cf98e71c",
   "metadata": {},
   "outputs": [],
   "source": [
    "# attributes will not have () unlike methods."
   ]
  },
  {
   "cell_type": "code",
   "execution_count": 43,
   "id": "2269de82",
   "metadata": {},
   "outputs": [
    {
     "data": {
      "text/plain": [
       "0     good\n",
       "1      bad\n",
       "2     ugly\n",
       "3    beast\n",
       "dtype: object"
      ]
     },
     "execution_count": 43,
     "metadata": {},
     "output_type": "execute_result"
    }
   ],
   "source": [
    "adjectives = pd.Series([\"good\",\"bad\",\"ugly\",\"beast\"])\n",
    "adjectives\n",
    "#print(type(adjectives))"
   ]
  },
  {
   "cell_type": "code",
   "execution_count": 36,
   "id": "91a9f540",
   "metadata": {},
   "outputs": [
    {
     "data": {
      "text/plain": [
       "4"
      ]
     },
     "execution_count": 36,
     "metadata": {},
     "output_type": "execute_result"
    }
   ],
   "source": [
    "adjectives.size # see here there is no ()"
   ]
  },
  {
   "cell_type": "code",
   "execution_count": 38,
   "id": "f33fa98b",
   "metadata": {},
   "outputs": [
    {
     "data": {
      "text/plain": [
       "True"
      ]
     },
     "execution_count": 38,
     "metadata": {},
     "output_type": "execute_result"
    }
   ],
   "source": [
    "adjectives.is_unique"
   ]
  },
  {
   "cell_type": "code",
   "execution_count": 41,
   "id": "b5af6937",
   "metadata": {},
   "outputs": [
    {
     "data": {
      "text/plain": [
       "bool"
      ]
     },
     "execution_count": 41,
     "metadata": {},
     "output_type": "execute_result"
    }
   ],
   "source": [
    "type(adjectives.is_unique)"
   ]
  },
  {
   "cell_type": "code",
   "execution_count": 39,
   "id": "7d298324",
   "metadata": {},
   "outputs": [
    {
     "data": {
      "text/plain": [
       "array(['good', 'bad', 'ugly', 'beast'], dtype=object)"
      ]
     },
     "execution_count": 39,
     "metadata": {},
     "output_type": "execute_result"
    }
   ],
   "source": [
    "adjectives.values"
   ]
  },
  {
   "cell_type": "code",
   "execution_count": 40,
   "id": "8e93cc06",
   "metadata": {},
   "outputs": [
    {
     "data": {
      "text/plain": [
       "numpy.ndarray"
      ]
     },
     "execution_count": 40,
     "metadata": {},
     "output_type": "execute_result"
    }
   ],
   "source": [
    "type(adjectives.values)"
   ]
  },
  {
   "cell_type": "code",
   "execution_count": 44,
   "id": "ffc1662d",
   "metadata": {},
   "outputs": [
    {
     "data": {
      "text/plain": [
       "RangeIndex(start=0, stop=4, step=1)"
      ]
     },
     "execution_count": 44,
     "metadata": {},
     "output_type": "execute_result"
    }
   ],
   "source": [
    "adjectives.index"
   ]
  },
  {
   "cell_type": "code",
   "execution_count": 45,
   "id": "4718b1bc",
   "metadata": {},
   "outputs": [
    {
     "data": {
      "text/plain": [
       "pandas.core.indexes.range.RangeIndex"
      ]
     },
     "execution_count": 45,
     "metadata": {},
     "output_type": "execute_result"
    }
   ],
   "source": [
    "type(adjectives.index)"
   ]
  },
  {
   "cell_type": "code",
   "execution_count": 46,
   "id": "fc36d406",
   "metadata": {},
   "outputs": [
    {
     "data": {
      "text/plain": [
       "dtype('O')"
      ]
     },
     "execution_count": 46,
     "metadata": {},
     "output_type": "execute_result"
    }
   ],
   "source": [
    "adjectives.dtype"
   ]
  },
  {
   "cell_type": "code",
   "execution_count": 49,
   "id": "17b86555",
   "metadata": {},
   "outputs": [
    {
     "ename": "TypeError",
     "evalue": "'numpy.dtype' object is not callable",
     "output_type": "error",
     "traceback": [
      "\u001b[1;31m---------------------------------------------------------------------------\u001b[0m",
      "\u001b[1;31mTypeError\u001b[0m                                 Traceback (most recent call last)",
      "\u001b[1;32m<ipython-input-49-56362811f406>\u001b[0m in \u001b[0;36m<module>\u001b[1;34m\u001b[0m\n\u001b[1;32m----> 1\u001b[1;33m \u001b[0madjectives\u001b[0m\u001b[1;33m.\u001b[0m\u001b[0mdtype\u001b[0m\u001b[1;33m(\u001b[0m\u001b[1;33m)\u001b[0m\u001b[1;33m\u001b[0m\u001b[1;33m\u001b[0m\u001b[0m\n\u001b[0m",
      "\u001b[1;31mTypeError\u001b[0m: 'numpy.dtype' object is not callable"
     ]
    }
   ],
   "source": [
    "adjectives.dtype()"
   ]
  },
  {
   "cell_type": "code",
   "execution_count": 48,
   "id": "c04737d7",
   "metadata": {},
   "outputs": [
    {
     "ename": "TypeError",
     "evalue": "'numpy.dtype' object is not callable",
     "output_type": "error",
     "traceback": [
      "\u001b[1;31m---------------------------------------------------------------------------\u001b[0m",
      "\u001b[1;31mTypeError\u001b[0m                                 Traceback (most recent call last)",
      "\u001b[1;32m<ipython-input-48-ea5d22eaee89>\u001b[0m in \u001b[0;36m<module>\u001b[1;34m\u001b[0m\n\u001b[1;32m----> 1\u001b[1;33m \u001b[0madjectives\u001b[0m\u001b[1;33m.\u001b[0m\u001b[0mdtypes\u001b[0m\u001b[1;33m(\u001b[0m\u001b[1;33m)\u001b[0m\u001b[1;33m\u001b[0m\u001b[1;33m\u001b[0m\u001b[0m\n\u001b[0m",
      "\u001b[1;31mTypeError\u001b[0m: 'numpy.dtype' object is not callable"
     ]
    }
   ],
   "source": [
    "adjectives.dtypes()"
   ]
  },
  {
   "cell_type": "markdown",
   "id": "28632f5c",
   "metadata": {},
   "source": [
    "The error TypeError: 'numpy.ndarray' object is not callable means that you tried to call a numpy array as a function."
   ]
  },
  {
   "cell_type": "code",
   "execution_count": 56,
   "id": "809a4248",
   "metadata": {},
   "outputs": [
    {
     "data": {
      "text/plain": [
       "4.25"
      ]
     },
     "execution_count": 56,
     "metadata": {},
     "output_type": "execute_result"
    }
   ],
   "source": [
    "#import pandas as pd\n",
    "\n",
    "# The Series below stores the number of home runs\n",
    "# that a baseball player hit per game\n",
    "home_runs = pd.Series([3, 4, 8, 2])\n",
    "\n",
    "# Find the total number of home runs (i.e. the sum) and assign it\n",
    "# to the total_home_runs variable below\n",
    "total_home_runs = home_runs.sum()\n",
    "total_home_runs\n",
    "\n",
    "# Find the average number of home runs and assign it\n",
    "# to the average_home_runs variable below\n",
    "average_home_runs = home_runs.mean()\n",
    "average_home_runs"
   ]
  },
  {
   "cell_type": "markdown",
   "id": "e6ea4e5e",
   "metadata": {},
   "source": [
    "#### Parameters and Arguments"
   ]
  },
  {
   "cell_type": "code",
   "execution_count": 58,
   "id": "6cf12381",
   "metadata": {},
   "outputs": [
    {
     "data": {
      "text/plain": [
       "' \\nex:\\n\\ndifficulty - Easy , medium , hard\\n\\nhere difficulty is parameter \\nand easy,medium , hard is argument \\n'"
      ]
     },
     "execution_count": 58,
     "metadata": {},
     "output_type": "execute_result"
    }
   ],
   "source": [
    "# parameter - name we give to expected input\n",
    "# argument - value we provide to a parameter\n",
    "\n",
    "''' \n",
    "ex:\n",
    "\n",
    "difficulty - Easy , medium , hard\n",
    "\n",
    "here difficulty is parameter \n",
    "and easy,medium , hard is argument \n",
    "'''"
   ]
  },
  {
   "cell_type": "code",
   "execution_count": 59,
   "id": "ffaa0077",
   "metadata": {},
   "outputs": [
    {
     "data": {
      "text/plain": [
       "\" \\ndata=None,\\n    index=None,\\n    dtype: 'Dtype | None' = None,\\n    name=None,\\n    copy: 'bool' = False,\\n    fastpath: 'bool' = False,\\n\""
      ]
     },
     "execution_count": 59,
     "metadata": {},
     "output_type": "execute_result"
    }
   ],
   "source": [
    "fruits = [\"apple\",\"plum\",\"orange\"]\n",
    "days = [\"mon\",\"tue\",\"wed\"]\n",
    "#pd.Series()\n",
    "''' \n",
    "data=None,\n",
    "    index=None,\n",
    "    dtype: 'Dtype | None' = None,\n",
    "    name=None,\n",
    "    copy: 'bool' = False,\n",
    "    fastpath: 'bool' = False,\n",
    "'''\n",
    "# data , index, dtype etc are parameters\n",
    "# None , and etc are arguments\n",
    "\n"
   ]
  },
  {
   "cell_type": "code",
   "execution_count": 60,
   "id": "bd302fe2",
   "metadata": {},
   "outputs": [
    {
     "data": {
      "text/plain": [
       "0     apple\n",
       "1      plum\n",
       "2    orange\n",
       "dtype: object"
      ]
     },
     "execution_count": 60,
     "metadata": {},
     "output_type": "execute_result"
    }
   ],
   "source": [
    "pd.Series(fruits)\n"
   ]
  },
  {
   "cell_type": "code",
   "execution_count": 61,
   "id": "58754d37",
   "metadata": {},
   "outputs": [
    {
     "data": {
      "text/plain": [
       "pandas.core.series.Series"
      ]
     },
     "execution_count": 61,
     "metadata": {},
     "output_type": "execute_result"
    }
   ],
   "source": [
    "type(pd.Series(fruits))"
   ]
  },
  {
   "cell_type": "code",
   "execution_count": 63,
   "id": "78f3b641",
   "metadata": {},
   "outputs": [
    {
     "data": {
      "text/plain": [
       "mon     apple\n",
       "tue      plum\n",
       "wed    orange\n",
       "dtype: object"
      ]
     },
     "execution_count": 63,
     "metadata": {},
     "output_type": "execute_result"
    }
   ],
   "source": [
    "pd.Series(fruits,days)"
   ]
  },
  {
   "cell_type": "code",
   "execution_count": 64,
   "id": "44cbacb9",
   "metadata": {},
   "outputs": [
    {
     "data": {
      "text/plain": [
       "pandas.core.series.Series"
      ]
     },
     "execution_count": 64,
     "metadata": {},
     "output_type": "execute_result"
    }
   ],
   "source": [
    "type(pd.Series(fruits,days))"
   ]
  },
  {
   "cell_type": "code",
   "execution_count": 66,
   "id": "36454cf7",
   "metadata": {},
   "outputs": [
    {
     "data": {
      "text/plain": [
       "apple     mon\n",
       "plum      tue\n",
       "orange    wed\n",
       "dtype: object"
      ]
     },
     "execution_count": 66,
     "metadata": {},
     "output_type": "execute_result"
    }
   ],
   "source": [
    "pd.Series(days,fruits) # as second argment is of 'index'"
   ]
  },
  {
   "cell_type": "code",
   "execution_count": 67,
   "id": "feb77972",
   "metadata": {},
   "outputs": [
    {
     "data": {
      "text/plain": [
       "apple      apple\n",
       "plum        plum\n",
       "orange    orange\n",
       "dtype: object"
      ]
     },
     "execution_count": 67,
     "metadata": {},
     "output_type": "execute_result"
    }
   ],
   "source": [
    "pd.Series(fruits, index=fruits)"
   ]
  },
  {
   "cell_type": "code",
   "execution_count": 68,
   "id": "cf5ba840",
   "metadata": {},
   "outputs": [],
   "source": [
    "# data and index must have equal range"
   ]
  },
  {
   "cell_type": "code",
   "execution_count": 69,
   "id": "37e6ab36",
   "metadata": {},
   "outputs": [],
   "source": [
    "# If you see a test failure when checking your solution,\n",
    "# note that [left] refers to YOUR code while [right]\n",
    "# refers to the correct code that the computer is comparing\n",
    "# to your work\n",
    "\n",
    "# The code below defines a list of delicious foods\n",
    "# and some dipping sauces to dip them in\n",
    "#import pandas as pd\n",
    "\n",
    "foods = [\"French Fries\", \"Chicken Nuggets\", \"Celery\", \"Carrots\"]\n",
    "dipping_sauces = [\"BBQ\", \"Honey Mustard\", \"Ranch\", \"Sriracha\"]\n",
    "\n",
    "# Create a Series and assign it to the s1 variable below. \n",
    "# Assign the foods list as the data source\n",
    "# and the dipping_sauces list as the Series index \n",
    "# For this solution, use positional arguments (i.e. feed in the arguments sequentially)\n",
    "s1 = pd.Series(data=foods, index=dipping_sauces)\n",
    "\n",
    "\n",
    "# Create a Series and assign it to the s2 variable below. \n",
    "# Assign the dipping_sauces list as the data source\n",
    "# and the foods list as the Series index \n",
    "# For this solution, use keyword arguments (i.e. provide the parameter names\n",
    "# alongside the arguments)\n",
    "s2 = pd.Series(data=dipping_sauces, index=foods)"
   ]
  },
  {
   "cell_type": "code",
   "execution_count": 70,
   "id": "bc448341",
   "metadata": {},
   "outputs": [
    {
     "data": {
      "text/plain": [
       "BBQ                 French Fries\n",
       "Honey Mustard    Chicken Nuggets\n",
       "Ranch                     Celery\n",
       "Sriracha                 Carrots\n",
       "dtype: object"
      ]
     },
     "execution_count": 70,
     "metadata": {},
     "output_type": "execute_result"
    }
   ],
   "source": [
    "s1"
   ]
  },
  {
   "cell_type": "code",
   "execution_count": 71,
   "id": "fdbf8fd4",
   "metadata": {},
   "outputs": [
    {
     "data": {
      "text/plain": [
       "French Fries                 BBQ\n",
       "Chicken Nuggets    Honey Mustard\n",
       "Celery                     Ranch\n",
       "Carrots                 Sriracha\n",
       "dtype: object"
      ]
     },
     "execution_count": 71,
     "metadata": {},
     "output_type": "execute_result"
    }
   ],
   "source": [
    "s2"
   ]
  },
  {
   "cell_type": "markdown",
   "id": "0cc368cf",
   "metadata": {},
   "source": [
    "#### Importing series with read_csv function"
   ]
  },
  {
   "cell_type": "code",
   "execution_count": 73,
   "id": "b81e7630",
   "metadata": {},
   "outputs": [
    {
     "data": {
      "text/html": [
       "<div>\n",
       "<style scoped>\n",
       "    .dataframe tbody tr th:only-of-type {\n",
       "        vertical-align: middle;\n",
       "    }\n",
       "\n",
       "    .dataframe tbody tr th {\n",
       "        vertical-align: top;\n",
       "    }\n",
       "\n",
       "    .dataframe thead th {\n",
       "        text-align: right;\n",
       "    }\n",
       "</style>\n",
       "<table border=\"1\" class=\"dataframe\">\n",
       "  <thead>\n",
       "    <tr style=\"text-align: right;\">\n",
       "      <th></th>\n",
       "      <th>Pokemon</th>\n",
       "      <th>Type</th>\n",
       "    </tr>\n",
       "  </thead>\n",
       "  <tbody>\n",
       "    <tr>\n",
       "      <th>0</th>\n",
       "      <td>Bulbasaur</td>\n",
       "      <td>Grass</td>\n",
       "    </tr>\n",
       "    <tr>\n",
       "      <th>1</th>\n",
       "      <td>Ivysaur</td>\n",
       "      <td>Grass</td>\n",
       "    </tr>\n",
       "    <tr>\n",
       "      <th>2</th>\n",
       "      <td>Venusaur</td>\n",
       "      <td>Grass</td>\n",
       "    </tr>\n",
       "    <tr>\n",
       "      <th>3</th>\n",
       "      <td>Charmander</td>\n",
       "      <td>Fire</td>\n",
       "    </tr>\n",
       "    <tr>\n",
       "      <th>4</th>\n",
       "      <td>Charmeleon</td>\n",
       "      <td>Fire</td>\n",
       "    </tr>\n",
       "    <tr>\n",
       "      <th>...</th>\n",
       "      <td>...</td>\n",
       "      <td>...</td>\n",
       "    </tr>\n",
       "    <tr>\n",
       "      <th>716</th>\n",
       "      <td>Yveltal</td>\n",
       "      <td>Dark</td>\n",
       "    </tr>\n",
       "    <tr>\n",
       "      <th>717</th>\n",
       "      <td>Zygarde</td>\n",
       "      <td>Dragon</td>\n",
       "    </tr>\n",
       "    <tr>\n",
       "      <th>718</th>\n",
       "      <td>Diancie</td>\n",
       "      <td>Rock</td>\n",
       "    </tr>\n",
       "    <tr>\n",
       "      <th>719</th>\n",
       "      <td>Hoopa</td>\n",
       "      <td>Psychic</td>\n",
       "    </tr>\n",
       "    <tr>\n",
       "      <th>720</th>\n",
       "      <td>Volcanion</td>\n",
       "      <td>Fire</td>\n",
       "    </tr>\n",
       "  </tbody>\n",
       "</table>\n",
       "<p>721 rows × 2 columns</p>\n",
       "</div>"
      ],
      "text/plain": [
       "        Pokemon     Type\n",
       "0     Bulbasaur    Grass\n",
       "1       Ivysaur    Grass\n",
       "2      Venusaur    Grass\n",
       "3    Charmander     Fire\n",
       "4    Charmeleon     Fire\n",
       "..          ...      ...\n",
       "716     Yveltal     Dark\n",
       "717     Zygarde   Dragon\n",
       "718     Diancie     Rock\n",
       "719       Hoopa  Psychic\n",
       "720   Volcanion     Fire\n",
       "\n",
       "[721 rows x 2 columns]"
      ]
     },
     "execution_count": 73,
     "metadata": {},
     "output_type": "execute_result"
    }
   ],
   "source": [
    "# load dataset\n",
    "pd.read_csv('datasets/pokemon.csv')\n",
    "#usecols -> columns which we want to import"
   ]
  },
  {
   "cell_type": "code",
   "execution_count": 75,
   "id": "90b2c935",
   "metadata": {},
   "outputs": [
    {
     "data": {
      "text/html": [
       "<div>\n",
       "<style scoped>\n",
       "    .dataframe tbody tr th:only-of-type {\n",
       "        vertical-align: middle;\n",
       "    }\n",
       "\n",
       "    .dataframe tbody tr th {\n",
       "        vertical-align: top;\n",
       "    }\n",
       "\n",
       "    .dataframe thead th {\n",
       "        text-align: right;\n",
       "    }\n",
       "</style>\n",
       "<table border=\"1\" class=\"dataframe\">\n",
       "  <thead>\n",
       "    <tr style=\"text-align: right;\">\n",
       "      <th></th>\n",
       "      <th>Pokemon</th>\n",
       "    </tr>\n",
       "  </thead>\n",
       "  <tbody>\n",
       "    <tr>\n",
       "      <th>0</th>\n",
       "      <td>Bulbasaur</td>\n",
       "    </tr>\n",
       "    <tr>\n",
       "      <th>1</th>\n",
       "      <td>Ivysaur</td>\n",
       "    </tr>\n",
       "    <tr>\n",
       "      <th>2</th>\n",
       "      <td>Venusaur</td>\n",
       "    </tr>\n",
       "    <tr>\n",
       "      <th>3</th>\n",
       "      <td>Charmander</td>\n",
       "    </tr>\n",
       "    <tr>\n",
       "      <th>4</th>\n",
       "      <td>Charmeleon</td>\n",
       "    </tr>\n",
       "    <tr>\n",
       "      <th>...</th>\n",
       "      <td>...</td>\n",
       "    </tr>\n",
       "    <tr>\n",
       "      <th>716</th>\n",
       "      <td>Yveltal</td>\n",
       "    </tr>\n",
       "    <tr>\n",
       "      <th>717</th>\n",
       "      <td>Zygarde</td>\n",
       "    </tr>\n",
       "    <tr>\n",
       "      <th>718</th>\n",
       "      <td>Diancie</td>\n",
       "    </tr>\n",
       "    <tr>\n",
       "      <th>719</th>\n",
       "      <td>Hoopa</td>\n",
       "    </tr>\n",
       "    <tr>\n",
       "      <th>720</th>\n",
       "      <td>Volcanion</td>\n",
       "    </tr>\n",
       "  </tbody>\n",
       "</table>\n",
       "<p>721 rows × 1 columns</p>\n",
       "</div>"
      ],
      "text/plain": [
       "        Pokemon\n",
       "0     Bulbasaur\n",
       "1       Ivysaur\n",
       "2      Venusaur\n",
       "3    Charmander\n",
       "4    Charmeleon\n",
       "..          ...\n",
       "716     Yveltal\n",
       "717     Zygarde\n",
       "718     Diancie\n",
       "719       Hoopa\n",
       "720   Volcanion\n",
       "\n",
       "[721 rows x 1 columns]"
      ]
     },
     "execution_count": 75,
     "metadata": {},
     "output_type": "execute_result"
    }
   ],
   "source": [
    "pd.read_csv('datasets/pokemon.csv', usecols = ['Pokemon'])"
   ]
  },
  {
   "cell_type": "code",
   "execution_count": 77,
   "id": "6f6dcd0e",
   "metadata": {},
   "outputs": [
    {
     "data": {
      "text/plain": [
       "pandas.core.frame.DataFrame"
      ]
     },
     "execution_count": 77,
     "metadata": {},
     "output_type": "execute_result"
    }
   ],
   "source": [
    "type(pd.read_csv('datasets/pokemon.csv', usecols = ['Pokemon']))"
   ]
  },
  {
   "cell_type": "code",
   "execution_count": 76,
   "id": "f6559a2f",
   "metadata": {},
   "outputs": [
    {
     "data": {
      "text/plain": [
       "0       Bulbasaur\n",
       "1         Ivysaur\n",
       "2        Venusaur\n",
       "3      Charmander\n",
       "4      Charmeleon\n",
       "          ...    \n",
       "716       Yveltal\n",
       "717       Zygarde\n",
       "718       Diancie\n",
       "719         Hoopa\n",
       "720     Volcanion\n",
       "Name: Pokemon, Length: 721, dtype: object"
      ]
     },
     "execution_count": 76,
     "metadata": {},
     "output_type": "execute_result"
    }
   ],
   "source": [
    "pd.read_csv('datasets/pokemon.csv', usecols = ['Pokemon']).squeeze()"
   ]
  },
  {
   "cell_type": "code",
   "execution_count": 78,
   "id": "8bfce8a3",
   "metadata": {},
   "outputs": [
    {
     "data": {
      "text/plain": [
       "pandas.core.series.Series"
      ]
     },
     "execution_count": 78,
     "metadata": {},
     "output_type": "execute_result"
    }
   ],
   "source": [
    "type(pd.read_csv('datasets/pokemon.csv', usecols = ['Pokemon']).squeeze())"
   ]
  },
  {
   "cell_type": "code",
   "execution_count": 79,
   "id": "67463dc9",
   "metadata": {},
   "outputs": [],
   "source": [
    "# when we call squeeze it converts a pandas dataframe to a Series."
   ]
  },
  {
   "cell_type": "code",
   "execution_count": 80,
   "id": "b166ade0",
   "metadata": {},
   "outputs": [
    {
     "data": {
      "text/plain": [
       "0       Bulbasaur\n",
       "1         Ivysaur\n",
       "2        Venusaur\n",
       "3      Charmander\n",
       "4      Charmeleon\n",
       "          ...    \n",
       "716       Yveltal\n",
       "717       Zygarde\n",
       "718       Diancie\n",
       "719         Hoopa\n",
       "720     Volcanion\n",
       "Name: Pokemon, Length: 721, dtype: object"
      ]
     },
     "execution_count": 80,
     "metadata": {},
     "output_type": "execute_result"
    }
   ],
   "source": [
    "pokemon = pd.read_csv('datasets/pokemon.csv', usecols = ['Pokemon']).squeeze()\n",
    "pokemon"
   ]
  },
  {
   "cell_type": "code",
   "execution_count": 81,
   "id": "e6768597",
   "metadata": {},
   "outputs": [
    {
     "data": {
      "text/plain": [
       "pandas.core.series.Series"
      ]
     },
     "execution_count": 81,
     "metadata": {},
     "output_type": "execute_result"
    }
   ],
   "source": [
    "type(pokemon)"
   ]
  },
  {
   "cell_type": "code",
   "execution_count": 84,
   "id": "2ecd40c0",
   "metadata": {},
   "outputs": [
    {
     "data": {
      "text/html": [
       "<div>\n",
       "<style scoped>\n",
       "    .dataframe tbody tr th:only-of-type {\n",
       "        vertical-align: middle;\n",
       "    }\n",
       "\n",
       "    .dataframe tbody tr th {\n",
       "        vertical-align: top;\n",
       "    }\n",
       "\n",
       "    .dataframe thead th {\n",
       "        text-align: right;\n",
       "    }\n",
       "</style>\n",
       "<table border=\"1\" class=\"dataframe\">\n",
       "  <thead>\n",
       "    <tr style=\"text-align: right;\">\n",
       "      <th></th>\n",
       "      <th>Stock Price</th>\n",
       "    </tr>\n",
       "  </thead>\n",
       "  <tbody>\n",
       "    <tr>\n",
       "      <th>0</th>\n",
       "      <td>50.12</td>\n",
       "    </tr>\n",
       "    <tr>\n",
       "      <th>1</th>\n",
       "      <td>54.10</td>\n",
       "    </tr>\n",
       "    <tr>\n",
       "      <th>2</th>\n",
       "      <td>54.65</td>\n",
       "    </tr>\n",
       "    <tr>\n",
       "      <th>3</th>\n",
       "      <td>52.38</td>\n",
       "    </tr>\n",
       "    <tr>\n",
       "      <th>4</th>\n",
       "      <td>52.95</td>\n",
       "    </tr>\n",
       "    <tr>\n",
       "      <th>...</th>\n",
       "      <td>...</td>\n",
       "    </tr>\n",
       "    <tr>\n",
       "      <th>3007</th>\n",
       "      <td>772.88</td>\n",
       "    </tr>\n",
       "    <tr>\n",
       "      <th>3008</th>\n",
       "      <td>771.07</td>\n",
       "    </tr>\n",
       "    <tr>\n",
       "      <th>3009</th>\n",
       "      <td>773.18</td>\n",
       "    </tr>\n",
       "    <tr>\n",
       "      <th>3010</th>\n",
       "      <td>771.61</td>\n",
       "    </tr>\n",
       "    <tr>\n",
       "      <th>3011</th>\n",
       "      <td>782.22</td>\n",
       "    </tr>\n",
       "  </tbody>\n",
       "</table>\n",
       "<p>3012 rows × 1 columns</p>\n",
       "</div>"
      ],
      "text/plain": [
       "      Stock Price\n",
       "0           50.12\n",
       "1           54.10\n",
       "2           54.65\n",
       "3           52.38\n",
       "4           52.95\n",
       "...           ...\n",
       "3007       772.88\n",
       "3008       771.07\n",
       "3009       773.18\n",
       "3010       771.61\n",
       "3011       782.22\n",
       "\n",
       "[3012 rows x 1 columns]"
      ]
     },
     "execution_count": 84,
     "metadata": {},
     "output_type": "execute_result"
    }
   ],
   "source": [
    "stock = pd.read_csv('datasets/google_stock_price.csv')\n",
    "stock"
   ]
  },
  {
   "cell_type": "code",
   "execution_count": 85,
   "id": "956338ea",
   "metadata": {},
   "outputs": [
    {
     "data": {
      "text/plain": [
       "0        50.12\n",
       "1        54.10\n",
       "2        54.65\n",
       "3        52.38\n",
       "4        52.95\n",
       "         ...  \n",
       "3007    772.88\n",
       "3008    771.07\n",
       "3009    773.18\n",
       "3010    771.61\n",
       "3011    782.22\n",
       "Name: Stock Price, Length: 3012, dtype: float64"
      ]
     },
     "execution_count": 85,
     "metadata": {},
     "output_type": "execute_result"
    }
   ],
   "source": [
    "stock.squeeze()"
   ]
  },
  {
   "cell_type": "code",
   "execution_count": 87,
   "id": "b447d207",
   "metadata": {},
   "outputs": [
    {
     "data": {
      "text/plain": [
       "pandas.core.series.Series"
      ]
     },
     "execution_count": 87,
     "metadata": {},
     "output_type": "execute_result"
    }
   ],
   "source": [
    "type(stock.squeeze())"
   ]
  },
  {
   "cell_type": "code",
   "execution_count": 88,
   "id": "1803f576",
   "metadata": {},
   "outputs": [],
   "source": [
    "stock = stock.squeeze()"
   ]
  },
  {
   "cell_type": "code",
   "execution_count": 89,
   "id": "3148b7fe",
   "metadata": {},
   "outputs": [
    {
     "data": {
      "text/plain": [
       "pandas.core.series.Series"
      ]
     },
     "execution_count": 89,
     "metadata": {},
     "output_type": "execute_result"
    }
   ],
   "source": [
    "type(stock)"
   ]
  },
  {
   "cell_type": "code",
   "execution_count": null,
   "id": "e9b41318",
   "metadata": {},
   "outputs": [],
   "source": []
  }
 ],
 "metadata": {
  "kernelspec": {
   "display_name": "project_pandas",
   "language": "python",
   "name": "project_pandas"
  },
  "language_info": {
   "codemirror_mode": {
    "name": "ipython",
    "version": 3
   },
   "file_extension": ".py",
   "mimetype": "text/x-python",
   "name": "python",
   "nbconvert_exporter": "python",
   "pygments_lexer": "ipython3",
   "version": "3.8.8"
  }
 },
 "nbformat": 4,
 "nbformat_minor": 5
}
