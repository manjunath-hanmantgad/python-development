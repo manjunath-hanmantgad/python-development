{
 "cells": [
  {
   "cell_type": "code",
   "execution_count": 1,
   "metadata": {},
   "outputs": [
    {
     "name": "stdout",
     "output_type": "stream",
     "text": [
      "Hi there ! \n"
     ]
    }
   ],
   "source": [
    "# greeting function\n",
    "\n",
    "def greetings(): # def <> :: function definition . () => holds the information.\n",
    "    print(\"Hi there ! \")\n",
    "greetings()\n",
    "\n",
    "# here the task of greetings is to print Hi there !"
   ]
  },
  {
   "cell_type": "code",
   "execution_count": 3,
   "metadata": {},
   "outputs": [
    {
     "name": "stdout",
     "output_type": "stream",
     "text": [
      "Hello , Joker!\n"
     ]
    }
   ],
   "source": [
    "def greetings(username): # username becomes the variable.\n",
    "    print(\"Hello ,\" + \" \" + username + \"!\")\n",
    "greetings('Joker') # Joker becomes the argument."
   ]
  },
  {
   "cell_type": "code",
   "execution_count": 8,
   "metadata": {},
   "outputs": [
    {
     "name": "stdout",
     "output_type": "stream",
     "text": [
      "\n",
      "My favorite character in dc comics is:  Joker\n",
      "\n",
      "My favorite character in marvel universe is:  Thanos\n",
      "\n",
      "My favorite character in dc comics is:  Harley Quinn\n",
      "\n",
      "My favorite character in marvel universe is:  Lady Deathstrike\n"
     ]
    }
   ],
   "source": [
    "def fav_character(dc , marvel):\n",
    "    print(\"\\nMy favorite character in dc comics is: \" + \" \" + dc )\n",
    "    print(\"\\nMy favorite character in marvel universe is: \" + \" \" + marvel)\n",
    "    \n",
    "fav_character('Joker','Thanos')\n",
    "fav_character('Harley Quinn' , 'Lady Deathstrike')\n",
    "\n",
    "# callling same function \"fav_character\" multiple times."
   ]
  },
  {
   "cell_type": "code",
   "execution_count": 9,
   "metadata": {},
   "outputs": [
    {
     "name": "stdout",
     "output_type": "stream",
     "text": [
      "\n",
      "My favorite character in dc comics is:  Joker\n",
      "\n",
      "My favorite character in marvel universe is:  Thanos\n"
     ]
    }
   ],
   "source": [
    "# keyword argument : passing key-value pair to function.\n",
    "\n",
    "def fav_character(dc , marvel):\n",
    "    print(\"\\nMy favorite character in dc comics is: \" + \" \" + dc )\n",
    "    print(\"\\nMy favorite character in marvel universe is: \" + \" \" + marvel)\n",
    "    \n",
    "fav_character(dc = 'Joker',marvel ='Thanos') # key-value pair."
   ]
  },
  {
   "cell_type": "code",
   "execution_count": 10,
   "metadata": {},
   "outputs": [
    {
     "name": "stdout",
     "output_type": "stream",
     "text": [
      "\n",
      "My favorite character in dc comics is:  Joker\n",
      "\n",
      "My favorite character in marvel universe is:  Thanos\n"
     ]
    }
   ],
   "source": [
    "# default values.\n",
    "\n",
    "def fav_character(dc , marvel = 'Thanos'): # my fav in marvel is Thanos. SO Im going to declare it and make it default value for marvel.    \n",
    "    print(\"\\nMy favorite character in dc comics is: \" + \" \" + dc )\n",
    "    print(\"\\nMy favorite character in marvel universe is: \" + \" \" + marvel)\n",
    "    \n",
    "fav_character('Joker') # here I just passed Joker i.e dc . Still I got marvel and dc both. bcoz marvel default is Thanos.\n"
   ]
  },
  {
   "cell_type": "code",
   "execution_count": 13,
   "metadata": {},
   "outputs": [
    {
     "name": "stdout",
     "output_type": "stream",
     "text": [
      "Chris Martin\n"
     ]
    }
   ],
   "source": [
    "def musician(first_name , last_name):\n",
    "    full_name = first_name + \" \" + last_name\n",
    "    return full_name.title()\n",
    "artist = musician('Chris', 'Martin') # when you call a function that returns a value then store it in a variable and then call that variable.\n",
    "print(artist)\n",
    "\n",
    "# this could work with print(Chris MArtin) but what if there are many names."
   ]
  },
  {
   "cell_type": "code",
   "execution_count": 21,
   "metadata": {},
   "outputs": [
    {
     "name": "stdout",
     "output_type": "stream",
     "text": [
      "\n",
      "Please tell your name: \n",
      "(enter q anytime to quit)\n",
      "first_name: Chris\n",
      "last_name: Martin\n",
      "\n",
      "Hello Chris Martin!\n",
      "\n",
      "Please tell your name: \n",
      "(enter q anytime to quit)\n",
      "first_name: James\n",
      "last_name: Arthur\n",
      "\n",
      "Hello James Arthur!\n",
      "\n",
      "Please tell your name: \n",
      "(enter q anytime to quit)\n",
      "first_name: q\n"
     ]
    }
   ],
   "source": [
    "# loops inside function\n",
    "\n",
    "def musician(first_name, last_name):\n",
    "    full_name = first_name + \" \" + last_name\n",
    "    return full_name.title()\n",
    "\n",
    "while True:\n",
    "    print(\"\\nPlease tell your name: \")\n",
    "    print(\"(enter q anytime to quit)\")\n",
    "    \n",
    "    f_name = input('first_name: ')\n",
    "    if f_name == 'q':\n",
    "        break\n",
    "    l_name = input('last_name: ')\n",
    "    if l_name == 'q':\n",
    "            break\n",
    "    artist = musician(f_name,l_name)\n",
    "    print(\"\\nHello \" + artist + \"!\")"
   ]
  },
  {
   "cell_type": "code",
   "execution_count": 19,
   "metadata": {},
   "outputs": [
    {
     "name": "stdout",
     "output_type": "stream",
     "text": [
      "Hello , Joker!\n",
      "Hello , Thanos!\n",
      "Hello , Voldermot!\n"
     ]
    }
   ],
   "source": [
    "# passing data in list\n",
    "\n",
    "def greetings(names):\n",
    "    for name in names:\n",
    "        message = \"Hello ,\" + \" \" + name + \"!\"\n",
    "        print(message)\n",
    "users = ['Joker','Thanos','Voldermot']\n",
    "greetings(users)"
   ]
  },
  {
   "cell_type": "code",
   "execution_count": 20,
   "metadata": {},
   "outputs": [
    {
     "name": "stdout",
     "output_type": "stream",
     "text": [
      "Hello , Bruce!\n",
      "Hello , Tony!\n",
      "Hello , Harry!\n"
     ]
    }
   ],
   "source": [
    "users = ['Bruce','Tony','Harry']\n",
    "greetings(users)"
   ]
  },
  {
   "cell_type": "code",
   "execution_count": 25,
   "metadata": {},
   "outputs": [
    {
     "name": "stdout",
     "output_type": "stream",
     "text": [
      "Oh, removed :Harry\n",
      "Oh, removed :Tony\n",
      "Oh, removed :Bruce\n",
      "\n",
      "The following characters are now removed: \n",
      "Harry\n",
      "Tony\n",
      "Bruce\n"
     ]
    }
   ],
   "source": [
    "remove_list = ['Bruce','Tony','Harry']\n",
    "gone_list = []\n",
    "\n",
    "while remove_list:\n",
    "    current_list = remove_list.pop() # removing characters from list remove_list\n",
    "    print(\"Oh, removed :\" + current_list)\n",
    "    gone_list.append(current_list) # adding characters from remove_list to gone_list.\n",
    "    \n",
    "print(\"\\nThe following characters are now removed: \")\n",
    "for characters in gone_list: # here all characaters are now stored from remove_list to gone_list. Note that gone_list was initially empty.\n",
    "    print(characters)\n",
    "    \n",
    "# order is reversed because pop(). pop() is last in first out.lifo"
   ]
  },
  {
   "cell_type": "code",
   "execution_count": 29,
   "metadata": {},
   "outputs": [
    {
     "name": "stdout",
     "output_type": "stream",
     "text": [
      "('cheese',)\n",
      "('mushroom', 'jalapeno', 'olives')\n"
     ]
    }
   ],
   "source": [
    "# *args and **kwargs\n",
    "\n",
    "def make_pizza(*toppings):\n",
    "    print(toppings)\n",
    "    \n",
    "make_pizza ('cheese') # its a tuple\n",
    "make_pizza ('mushroom', 'jalapeno','olives')"
   ]
  },
  {
   "cell_type": "code",
   "execution_count": 30,
   "metadata": {},
   "outputs": [
    {
     "name": "stdout",
     "output_type": "stream",
     "text": [
      "\n",
      "Making pizza with toppings: \n",
      " - cheese\n",
      "\n",
      "Making pizza with toppings: \n",
      " - mushroom\n",
      " - jalapeno\n",
      " - olives\n"
     ]
    }
   ],
   "source": [
    "def make_pizza(*toppings):\n",
    "    print(\"\\nMaking pizza with toppings: \")\n",
    "    for topping in toppings:\n",
    "        print(\" - \" + topping)\n",
    "    \n",
    "make_pizza ('cheese') # its a tuple\n",
    "make_pizza ('mushroom', 'jalapeno','olives')"
   ]
  },
  {
   "cell_type": "code",
   "execution_count": 35,
   "metadata": {},
   "outputs": [
    {
     "name": "stdout",
     "output_type": "stream",
     "text": [
      "{'first_name': 'Thanos', 'last_name': 'Mad Titan', 'location': 'Titanians', 'task': 'destruction'}\n"
     ]
    }
   ],
   "source": [
    "# now use of **kwargs\n",
    "\n",
    "## use of ** is for arbitarty and N number of values.\n",
    "\n",
    "def build_profile(first,last,**user_info):\n",
    "    profile = {}\n",
    "    profile['first_name'] = first # first_name and last_name is 'key' and first and last is value.\n",
    "    profile['last_name'] = last\n",
    "    for key,value in user_info.items():\n",
    "        profile[key] = value\n",
    "    return profile\n",
    "\n",
    "user_profile = build_profile('Thanos','Mad Titan', location = 'Titanians', task='destruction')\n",
    "print(user_profile)\n",
    "    \n",
    "# location and task were newly added."
   ]
  },
  {
   "cell_type": "code",
   "execution_count": null,
   "metadata": {},
   "outputs": [],
   "source": []
  }
 ],
 "metadata": {
  "kernelspec": {
   "display_name": "Python 3",
   "language": "python",
   "name": "python3"
  },
  "language_info": {
   "codemirror_mode": {
    "name": "ipython",
    "version": 3
   },
   "file_extension": ".py",
   "mimetype": "text/x-python",
   "name": "python",
   "nbconvert_exporter": "python",
   "pygments_lexer": "ipython3",
   "version": "3.7.4"
  }
 },
 "nbformat": 4,
 "nbformat_minor": 2
}
