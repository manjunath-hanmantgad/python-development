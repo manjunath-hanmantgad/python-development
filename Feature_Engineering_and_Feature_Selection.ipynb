{
  "nbformat": 4,
  "nbformat_minor": 0,
  "metadata": {
    "colab": {
      "provenance": [],
      "authorship_tag": "ABX9TyPRH5oC3lw8ogEfBDkK3Qr7",
      "include_colab_link": true
    },
    "kernelspec": {
      "name": "python3",
      "display_name": "Python 3"
    },
    "language_info": {
      "name": "python"
    }
  },
  "cells": [
    {
      "cell_type": "markdown",
      "metadata": {
        "id": "view-in-github",
        "colab_type": "text"
      },
      "source": [
        "<a href=\"https://colab.research.google.com/github/manjunath-hanmantgad/python-development/blob/master/Feature_Engineering_and_Feature_Selection.ipynb\" target=\"_parent\"><img src=\"https://colab.research.google.com/assets/colab-badge.svg\" alt=\"Open In Colab\"/></a>"
      ]
    },
    {
      "cell_type": "code",
      "execution_count": null,
      "metadata": {
        "colab": {
          "base_uri": "https://localhost:8080/"
        },
        "id": "8vnkxKxR13ju",
        "outputId": "368f08c0-a79a-443c-e27b-5240151bfc38"
      },
      "outputs": [
        {
          "output_type": "stream",
          "name": "stdout",
          "text": [
            "Looking in indexes: https://pypi.org/simple, https://us-python.pkg.dev/colab-wheels/public/simple/\n",
            "Requirement already satisfied: kaggle in /usr/local/lib/python3.8/dist-packages (1.5.12)\n",
            "Requirement already satisfied: urllib3 in /usr/local/lib/python3.8/dist-packages (from kaggle) (1.24.3)\n",
            "Requirement already satisfied: certifi in /usr/local/lib/python3.8/dist-packages (from kaggle) (2022.12.7)\n",
            "Requirement already satisfied: requests in /usr/local/lib/python3.8/dist-packages (from kaggle) (2.25.1)\n",
            "Requirement already satisfied: python-dateutil in /usr/local/lib/python3.8/dist-packages (from kaggle) (2.8.2)\n",
            "Requirement already satisfied: tqdm in /usr/local/lib/python3.8/dist-packages (from kaggle) (4.64.1)\n",
            "Requirement already satisfied: python-slugify in /usr/local/lib/python3.8/dist-packages (from kaggle) (8.0.0)\n",
            "Requirement already satisfied: six>=1.10 in /usr/local/lib/python3.8/dist-packages (from kaggle) (1.15.0)\n",
            "Requirement already satisfied: text-unidecode>=1.3 in /usr/local/lib/python3.8/dist-packages (from python-slugify->kaggle) (1.3)\n",
            "Requirement already satisfied: idna<3,>=2.5 in /usr/local/lib/python3.8/dist-packages (from requests->kaggle) (2.10)\n",
            "Requirement already satisfied: chardet<5,>=3.0.2 in /usr/local/lib/python3.8/dist-packages (from requests->kaggle) (4.0.0)\n"
          ]
        }
      ],
      "source": [
        "! pip install kaggle"
      ]
    },
    {
      "cell_type": "code",
      "source": [
        "! mkdir ~/.kaggle"
      ],
      "metadata": {
        "id": "hqCO37kZ2Z_3"
      },
      "execution_count": null,
      "outputs": []
    },
    {
      "cell_type": "code",
      "source": [
        "! cp kaggle.json ~/.kaggle/"
      ],
      "metadata": {
        "id": "aBwNfSWb2aoo"
      },
      "execution_count": null,
      "outputs": []
    },
    {
      "cell_type": "code",
      "source": [
        "! chmod 600 ~/.kaggle/kaggle.json"
      ],
      "metadata": {
        "id": "-lc-vXg42dFH"
      },
      "execution_count": null,
      "outputs": []
    },
    {
      "cell_type": "code",
      "source": [
        "! kaggle competitions download -c two-sigma-connect-rental-listing-inquiries"
      ],
      "metadata": {
        "colab": {
          "base_uri": "https://localhost:8080/"
        },
        "id": "nt8-Lfak2mAg",
        "outputId": "30c330de-5f8d-4ceb-fcd4-3af53dd2bca2"
      },
      "execution_count": null,
      "outputs": [
        {
          "output_type": "stream",
          "name": "stdout",
          "text": [
            "Downloading two-sigma-connect-rental-listing-inquiries.zip to /content\n",
            " 90% 101M/112M [00:01<00:00, 100MB/s] \n",
            "100% 112M/112M [00:01<00:00, 81.0MB/s]\n"
          ]
        }
      ]
    },
    {
      "cell_type": "code",
      "source": [
        "! unzip /content/two-sigma-connect-rental-listing-inquiries.zip"
      ],
      "metadata": {
        "colab": {
          "base_uri": "https://localhost:8080/"
        },
        "id": "GcsgqY-H3CCM",
        "outputId": "46ee3890-a58a-4e84-d4d5-d5b2c3dcf867"
      },
      "execution_count": null,
      "outputs": [
        {
          "output_type": "stream",
          "name": "stdout",
          "text": [
            "Archive:  /content/two-sigma-connect-rental-listing-inquiries.zip\n",
            "  inflating: Kaggle-renthop.torrent  \n",
            "  inflating: images_sample.zip       \n",
            "  inflating: sample_submission.csv.zip  \n",
            "  inflating: test.json.zip           \n",
            "  inflating: train.json.zip          \n"
          ]
        }
      ]
    },
    {
      "cell_type": "code",
      "source": [
        "! ls"
      ],
      "metadata": {
        "colab": {
          "base_uri": "https://localhost:8080/"
        },
        "id": "ph2j7UJb31In",
        "outputId": "53f88fd3-7b5b-4df3-d440-d496e17457fb"
      },
      "execution_count": null,
      "outputs": [
        {
          "output_type": "stream",
          "name": "stdout",
          "text": [
            "images_sample.zip\tsample_submission.csv.zip\n",
            "kaggle.json\t\ttest.json.zip\n",
            "Kaggle-renthop.torrent\ttrain.json.zip\n",
            "sample_data\t\ttwo-sigma-connect-rental-listing-inquiries.zip\n"
          ]
        }
      ]
    },
    {
      "cell_type": "code",
      "source": [
        "! unzip train.json.zip"
      ],
      "metadata": {
        "colab": {
          "base_uri": "https://localhost:8080/"
        },
        "id": "SfKHrgI74NvE",
        "outputId": "3f56fb96-2e89-43ac-e6e3-2d9f5b5b9048"
      },
      "execution_count": null,
      "outputs": [
        {
          "output_type": "stream",
          "name": "stdout",
          "text": [
            "Archive:  train.json.zip\n",
            "  inflating: train.json              \n"
          ]
        }
      ]
    },
    {
      "cell_type": "code",
      "source": [
        "! unzip test.json.zip"
      ],
      "metadata": {
        "colab": {
          "base_uri": "https://localhost:8080/"
        },
        "id": "Xqh6KrM34YQy",
        "outputId": "750e24e5-f6ee-4fc3-d8d4-cb1c35488021"
      },
      "execution_count": null,
      "outputs": [
        {
          "output_type": "stream",
          "name": "stdout",
          "text": [
            "Archive:  test.json.zip\n",
            "  inflating: test.json               \n"
          ]
        }
      ]
    },
    {
      "cell_type": "code",
      "source": [],
      "metadata": {
        "id": "n45TRlZN4cX_"
      },
      "execution_count": null,
      "outputs": []
    },
    {
      "cell_type": "markdown",
      "source": [
        "### Now that data is downloaded start the process."
      ],
      "metadata": {
        "id": "TpkF3T5J4egO"
      }
    },
    {
      "cell_type": "code",
      "source": [
        "import json\n",
        "import pandas as pd \n",
        "\n",
        "with open('train.json' , 'r') as raw_data:\n",
        "  data = json.load(raw_data)\n",
        "  df = pd.DataFrame(data)\n",
        "\n",
        "df"
      ],
      "metadata": {
        "colab": {
          "base_uri": "https://localhost:8080/",
          "height": 1000
        },
        "id": "mp8TkPzd4hge",
        "outputId": "fb76f0b3-a779-4cdd-819e-8129965c03e2"
      },
      "execution_count": null,
      "outputs": [
        {
          "output_type": "execute_result",
          "data": {
            "text/plain": [
              "        bathrooms  bedrooms                       building_id  \\\n",
              "4             1.0         1  8579a0b0d54db803821a35a4a615e97a   \n",
              "6             1.0         2  b8e75fc949a6cd8225b455648a951712   \n",
              "9             1.0         2  cd759a988b8f23924b5a2058d5ab2b49   \n",
              "10            1.5         3  53a5b119ba8f7b61d4e010512e0dfc85   \n",
              "15            1.0         0  bfb9405149bfff42a92980b594c28234   \n",
              "...           ...       ...                               ...   \n",
              "124000        1.0         3  92bbbf38baadfde0576fc496bd41749c   \n",
              "124002        1.0         2  5565db9b7cba3603834c4aa6f2950960   \n",
              "124004        1.0         1  67997a128056ee1ed7d046bbb856e3c7   \n",
              "124008        1.0         2  3c0574a740154806c18bdf1fddd3d966   \n",
              "124009        1.0         3  d89f514c3ed0abaae52cba7017ac0701   \n",
              "\n",
              "                    created  \\\n",
              "4       2016-06-16 05:55:27   \n",
              "6       2016-06-01 05:44:33   \n",
              "9       2016-06-14 15:19:59   \n",
              "10      2016-06-24 07:54:24   \n",
              "15      2016-06-28 03:50:23   \n",
              "...                     ...   \n",
              "124000  2016-04-05 03:58:33   \n",
              "124002  2016-04-02 02:25:31   \n",
              "124004  2016-04-26 05:42:03   \n",
              "124008  2016-04-19 02:47:33   \n",
              "124009  2016-04-20 05:34:00   \n",
              "\n",
              "                                              description  \\\n",
              "4       Spacious 1 Bedroom 1 Bathroom in Williamsburg!...   \n",
              "6       BRAND NEW GUT RENOVATED TRUE 2 BEDROOMFind you...   \n",
              "9       **FLEX 2 BEDROOM WITH FULL PRESSURIZED WALL**L...   \n",
              "10      A Brand New 3 Bedroom 1.5 bath ApartmentEnjoy ...   \n",
              "15      Over-sized Studio w abundant closets. Availabl...   \n",
              "...                                                   ...   \n",
              "124000  There is 700 square feet of recently renovated...   \n",
              "124002  2 bedroom apartment with updated kitchen, rece...   \n",
              "124004  No Brokers Fee * Never Lived 1 Bedroom 1 Bathr...   \n",
              "124008  Wonderful Bright Chelsea 2 Bedroom apartment o...   \n",
              "124009  ***PRIME MIDTOWN EAST OFF PARK AVE***TRUE 3 BE...   \n",
              "\n",
              "             display_address  \\\n",
              "4        145 Borinquen Place   \n",
              "6                  East 44th   \n",
              "9           East 56th Street   \n",
              "10       Metropolitan Avenue   \n",
              "15          East 34th Street   \n",
              "...                      ...   \n",
              "124000          W 171 Street   \n",
              "124002              Broadway   \n",
              "124004  210 Brighton 15th St   \n",
              "124008      West 21st Street   \n",
              "124009             E 54th St   \n",
              "\n",
              "                                                 features  latitude  \\\n",
              "4       [Dining Room, Pre-War, Laundry in Building, Di...   40.7108   \n",
              "6       [Doorman, Elevator, Laundry in Building, Dishw...   40.7513   \n",
              "9       [Doorman, Elevator, Laundry in Building, Laund...   40.7575   \n",
              "10                                                     []   40.7145   \n",
              "15      [Doorman, Elevator, Fitness Center, Laundry in...   40.7439   \n",
              "...                                                   ...       ...   \n",
              "124000            [Elevator, Dishwasher, Hardwood Floors]   40.8433   \n",
              "124002  [Common Outdoor Space, Cats Allowed, Dogs Allo...   40.8198   \n",
              "124004  [Dining Room, Elevator, Pre-War, Laundry in Bu...   40.5765   \n",
              "124008  [Pre-War, Laundry in Unit, Dishwasher, No Fee,...   40.7448   \n",
              "124009  [Dining Room, Elevator, Laundry in Building, D...   40.7594   \n",
              "\n",
              "        listing_id  longitude                        manager_id  \\\n",
              "4          7170325   -73.9539  a10db4590843d78c784171a107bdacb4   \n",
              "6          7092344   -73.9722  955db33477af4f40004820b4aed804a0   \n",
              "9          7158677   -73.9625  c8b10a317b766204f08e613cef4ce7a0   \n",
              "10         7211212   -73.9425  5ba989232d0489da1b5f2c45f6688adc   \n",
              "15         7225292   -73.9743  2c3b41f588fbb5234d8a1e885a436cfa   \n",
              "...            ...        ...                               ...   \n",
              "124000     6824800   -73.9396  a61e21da3ba18c7a3d54cfdcc247e1f8   \n",
              "124002     6813268   -73.9578  8f90e5e10e8a2d7cf997f016d89230eb   \n",
              "124004     6927093   -73.9554  a10db4590843d78c784171a107bdacb4   \n",
              "124008     6892816   -74.0017  c3cd45f4381ac371507090e9ffabea80   \n",
              "124009     6901023   -73.9712  e90f2ded843cdb2efd65ef47d9fc8029   \n",
              "\n",
              "                                                   photos  price  \\\n",
              "4       [https://photos.renthop.com/2/7170325_3bb5ac84...   2400   \n",
              "6       [https://photos.renthop.com/2/7092344_7663c19a...   3800   \n",
              "9       [https://photos.renthop.com/2/7158677_c897a134...   3495   \n",
              "10      [https://photos.renthop.com/2/7211212_1ed4542e...   3000   \n",
              "15      [https://photos.renthop.com/2/7225292_901f1984...   2795   \n",
              "...                                                   ...    ...   \n",
              "124000  [https://photos.renthop.com/2/6824800_0682be16...   2800   \n",
              "124002  [https://photos.renthop.com/2/6813268_1e6fcc32...   2395   \n",
              "124004  [https://photos.renthop.com/2/6927093_93a52104...   1850   \n",
              "124008  [https://photos.renthop.com/2/6892816_1a8d087a...   4195   \n",
              "124009  [https://photos.renthop.com/2/6901023_02052d90...   4280   \n",
              "\n",
              "                 street_address interest_level  \n",
              "4           145 Borinquen Place         medium  \n",
              "6                 230 East 44th            low  \n",
              "9          405 East 56th Street         medium  \n",
              "10      792 Metropolitan Avenue         medium  \n",
              "15         340 East 34th Street            low  \n",
              "...                         ...            ...  \n",
              "124000         620 W 171 Street            low  \n",
              "124002            3333 Broadway         medium  \n",
              "124004     210 Brighton 15th St         medium  \n",
              "124008     350 West 21st Street         medium  \n",
              "124009            123 E 54th St           high  \n",
              "\n",
              "[49352 rows x 15 columns]"
            ],
            "text/html": [
              "\n",
              "  <div id=\"df-dea233ac-c670-418a-bcd4-396d4a729f51\">\n",
              "    <div class=\"colab-df-container\">\n",
              "      <div>\n",
              "<style scoped>\n",
              "    .dataframe tbody tr th:only-of-type {\n",
              "        vertical-align: middle;\n",
              "    }\n",
              "\n",
              "    .dataframe tbody tr th {\n",
              "        vertical-align: top;\n",
              "    }\n",
              "\n",
              "    .dataframe thead th {\n",
              "        text-align: right;\n",
              "    }\n",
              "</style>\n",
              "<table border=\"1\" class=\"dataframe\">\n",
              "  <thead>\n",
              "    <tr style=\"text-align: right;\">\n",
              "      <th></th>\n",
              "      <th>bathrooms</th>\n",
              "      <th>bedrooms</th>\n",
              "      <th>building_id</th>\n",
              "      <th>created</th>\n",
              "      <th>description</th>\n",
              "      <th>display_address</th>\n",
              "      <th>features</th>\n",
              "      <th>latitude</th>\n",
              "      <th>listing_id</th>\n",
              "      <th>longitude</th>\n",
              "      <th>manager_id</th>\n",
              "      <th>photos</th>\n",
              "      <th>price</th>\n",
              "      <th>street_address</th>\n",
              "      <th>interest_level</th>\n",
              "    </tr>\n",
              "  </thead>\n",
              "  <tbody>\n",
              "    <tr>\n",
              "      <th>4</th>\n",
              "      <td>1.0</td>\n",
              "      <td>1</td>\n",
              "      <td>8579a0b0d54db803821a35a4a615e97a</td>\n",
              "      <td>2016-06-16 05:55:27</td>\n",
              "      <td>Spacious 1 Bedroom 1 Bathroom in Williamsburg!...</td>\n",
              "      <td>145 Borinquen Place</td>\n",
              "      <td>[Dining Room, Pre-War, Laundry in Building, Di...</td>\n",
              "      <td>40.7108</td>\n",
              "      <td>7170325</td>\n",
              "      <td>-73.9539</td>\n",
              "      <td>a10db4590843d78c784171a107bdacb4</td>\n",
              "      <td>[https://photos.renthop.com/2/7170325_3bb5ac84...</td>\n",
              "      <td>2400</td>\n",
              "      <td>145 Borinquen Place</td>\n",
              "      <td>medium</td>\n",
              "    </tr>\n",
              "    <tr>\n",
              "      <th>6</th>\n",
              "      <td>1.0</td>\n",
              "      <td>2</td>\n",
              "      <td>b8e75fc949a6cd8225b455648a951712</td>\n",
              "      <td>2016-06-01 05:44:33</td>\n",
              "      <td>BRAND NEW GUT RENOVATED TRUE 2 BEDROOMFind you...</td>\n",
              "      <td>East 44th</td>\n",
              "      <td>[Doorman, Elevator, Laundry in Building, Dishw...</td>\n",
              "      <td>40.7513</td>\n",
              "      <td>7092344</td>\n",
              "      <td>-73.9722</td>\n",
              "      <td>955db33477af4f40004820b4aed804a0</td>\n",
              "      <td>[https://photos.renthop.com/2/7092344_7663c19a...</td>\n",
              "      <td>3800</td>\n",
              "      <td>230 East 44th</td>\n",
              "      <td>low</td>\n",
              "    </tr>\n",
              "    <tr>\n",
              "      <th>9</th>\n",
              "      <td>1.0</td>\n",
              "      <td>2</td>\n",
              "      <td>cd759a988b8f23924b5a2058d5ab2b49</td>\n",
              "      <td>2016-06-14 15:19:59</td>\n",
              "      <td>**FLEX 2 BEDROOM WITH FULL PRESSURIZED WALL**L...</td>\n",
              "      <td>East 56th Street</td>\n",
              "      <td>[Doorman, Elevator, Laundry in Building, Laund...</td>\n",
              "      <td>40.7575</td>\n",
              "      <td>7158677</td>\n",
              "      <td>-73.9625</td>\n",
              "      <td>c8b10a317b766204f08e613cef4ce7a0</td>\n",
              "      <td>[https://photos.renthop.com/2/7158677_c897a134...</td>\n",
              "      <td>3495</td>\n",
              "      <td>405 East 56th Street</td>\n",
              "      <td>medium</td>\n",
              "    </tr>\n",
              "    <tr>\n",
              "      <th>10</th>\n",
              "      <td>1.5</td>\n",
              "      <td>3</td>\n",
              "      <td>53a5b119ba8f7b61d4e010512e0dfc85</td>\n",
              "      <td>2016-06-24 07:54:24</td>\n",
              "      <td>A Brand New 3 Bedroom 1.5 bath ApartmentEnjoy ...</td>\n",
              "      <td>Metropolitan Avenue</td>\n",
              "      <td>[]</td>\n",
              "      <td>40.7145</td>\n",
              "      <td>7211212</td>\n",
              "      <td>-73.9425</td>\n",
              "      <td>5ba989232d0489da1b5f2c45f6688adc</td>\n",
              "      <td>[https://photos.renthop.com/2/7211212_1ed4542e...</td>\n",
              "      <td>3000</td>\n",
              "      <td>792 Metropolitan Avenue</td>\n",
              "      <td>medium</td>\n",
              "    </tr>\n",
              "    <tr>\n",
              "      <th>15</th>\n",
              "      <td>1.0</td>\n",
              "      <td>0</td>\n",
              "      <td>bfb9405149bfff42a92980b594c28234</td>\n",
              "      <td>2016-06-28 03:50:23</td>\n",
              "      <td>Over-sized Studio w abundant closets. Availabl...</td>\n",
              "      <td>East 34th Street</td>\n",
              "      <td>[Doorman, Elevator, Fitness Center, Laundry in...</td>\n",
              "      <td>40.7439</td>\n",
              "      <td>7225292</td>\n",
              "      <td>-73.9743</td>\n",
              "      <td>2c3b41f588fbb5234d8a1e885a436cfa</td>\n",
              "      <td>[https://photos.renthop.com/2/7225292_901f1984...</td>\n",
              "      <td>2795</td>\n",
              "      <td>340 East 34th Street</td>\n",
              "      <td>low</td>\n",
              "    </tr>\n",
              "    <tr>\n",
              "      <th>...</th>\n",
              "      <td>...</td>\n",
              "      <td>...</td>\n",
              "      <td>...</td>\n",
              "      <td>...</td>\n",
              "      <td>...</td>\n",
              "      <td>...</td>\n",
              "      <td>...</td>\n",
              "      <td>...</td>\n",
              "      <td>...</td>\n",
              "      <td>...</td>\n",
              "      <td>...</td>\n",
              "      <td>...</td>\n",
              "      <td>...</td>\n",
              "      <td>...</td>\n",
              "      <td>...</td>\n",
              "    </tr>\n",
              "    <tr>\n",
              "      <th>124000</th>\n",
              "      <td>1.0</td>\n",
              "      <td>3</td>\n",
              "      <td>92bbbf38baadfde0576fc496bd41749c</td>\n",
              "      <td>2016-04-05 03:58:33</td>\n",
              "      <td>There is 700 square feet of recently renovated...</td>\n",
              "      <td>W 171 Street</td>\n",
              "      <td>[Elevator, Dishwasher, Hardwood Floors]</td>\n",
              "      <td>40.8433</td>\n",
              "      <td>6824800</td>\n",
              "      <td>-73.9396</td>\n",
              "      <td>a61e21da3ba18c7a3d54cfdcc247e1f8</td>\n",
              "      <td>[https://photos.renthop.com/2/6824800_0682be16...</td>\n",
              "      <td>2800</td>\n",
              "      <td>620 W 171 Street</td>\n",
              "      <td>low</td>\n",
              "    </tr>\n",
              "    <tr>\n",
              "      <th>124002</th>\n",
              "      <td>1.0</td>\n",
              "      <td>2</td>\n",
              "      <td>5565db9b7cba3603834c4aa6f2950960</td>\n",
              "      <td>2016-04-02 02:25:31</td>\n",
              "      <td>2 bedroom apartment with updated kitchen, rece...</td>\n",
              "      <td>Broadway</td>\n",
              "      <td>[Common Outdoor Space, Cats Allowed, Dogs Allo...</td>\n",
              "      <td>40.8198</td>\n",
              "      <td>6813268</td>\n",
              "      <td>-73.9578</td>\n",
              "      <td>8f90e5e10e8a2d7cf997f016d89230eb</td>\n",
              "      <td>[https://photos.renthop.com/2/6813268_1e6fcc32...</td>\n",
              "      <td>2395</td>\n",
              "      <td>3333 Broadway</td>\n",
              "      <td>medium</td>\n",
              "    </tr>\n",
              "    <tr>\n",
              "      <th>124004</th>\n",
              "      <td>1.0</td>\n",
              "      <td>1</td>\n",
              "      <td>67997a128056ee1ed7d046bbb856e3c7</td>\n",
              "      <td>2016-04-26 05:42:03</td>\n",
              "      <td>No Brokers Fee * Never Lived 1 Bedroom 1 Bathr...</td>\n",
              "      <td>210 Brighton 15th St</td>\n",
              "      <td>[Dining Room, Elevator, Pre-War, Laundry in Bu...</td>\n",
              "      <td>40.5765</td>\n",
              "      <td>6927093</td>\n",
              "      <td>-73.9554</td>\n",
              "      <td>a10db4590843d78c784171a107bdacb4</td>\n",
              "      <td>[https://photos.renthop.com/2/6927093_93a52104...</td>\n",
              "      <td>1850</td>\n",
              "      <td>210 Brighton 15th St</td>\n",
              "      <td>medium</td>\n",
              "    </tr>\n",
              "    <tr>\n",
              "      <th>124008</th>\n",
              "      <td>1.0</td>\n",
              "      <td>2</td>\n",
              "      <td>3c0574a740154806c18bdf1fddd3d966</td>\n",
              "      <td>2016-04-19 02:47:33</td>\n",
              "      <td>Wonderful Bright Chelsea 2 Bedroom apartment o...</td>\n",
              "      <td>West 21st Street</td>\n",
              "      <td>[Pre-War, Laundry in Unit, Dishwasher, No Fee,...</td>\n",
              "      <td>40.7448</td>\n",
              "      <td>6892816</td>\n",
              "      <td>-74.0017</td>\n",
              "      <td>c3cd45f4381ac371507090e9ffabea80</td>\n",
              "      <td>[https://photos.renthop.com/2/6892816_1a8d087a...</td>\n",
              "      <td>4195</td>\n",
              "      <td>350 West 21st Street</td>\n",
              "      <td>medium</td>\n",
              "    </tr>\n",
              "    <tr>\n",
              "      <th>124009</th>\n",
              "      <td>1.0</td>\n",
              "      <td>3</td>\n",
              "      <td>d89f514c3ed0abaae52cba7017ac0701</td>\n",
              "      <td>2016-04-20 05:34:00</td>\n",
              "      <td>***PRIME MIDTOWN EAST OFF PARK AVE***TRUE 3 BE...</td>\n",
              "      <td>E 54th St</td>\n",
              "      <td>[Dining Room, Elevator, Laundry in Building, D...</td>\n",
              "      <td>40.7594</td>\n",
              "      <td>6901023</td>\n",
              "      <td>-73.9712</td>\n",
              "      <td>e90f2ded843cdb2efd65ef47d9fc8029</td>\n",
              "      <td>[https://photos.renthop.com/2/6901023_02052d90...</td>\n",
              "      <td>4280</td>\n",
              "      <td>123 E 54th St</td>\n",
              "      <td>high</td>\n",
              "    </tr>\n",
              "  </tbody>\n",
              "</table>\n",
              "<p>49352 rows × 15 columns</p>\n",
              "</div>\n",
              "      <button class=\"colab-df-convert\" onclick=\"convertToInteractive('df-dea233ac-c670-418a-bcd4-396d4a729f51')\"\n",
              "              title=\"Convert this dataframe to an interactive table.\"\n",
              "              style=\"display:none;\">\n",
              "        \n",
              "  <svg xmlns=\"http://www.w3.org/2000/svg\" height=\"24px\"viewBox=\"0 0 24 24\"\n",
              "       width=\"24px\">\n",
              "    <path d=\"M0 0h24v24H0V0z\" fill=\"none\"/>\n",
              "    <path d=\"M18.56 5.44l.94 2.06.94-2.06 2.06-.94-2.06-.94-.94-2.06-.94 2.06-2.06.94zm-11 1L8.5 8.5l.94-2.06 2.06-.94-2.06-.94L8.5 2.5l-.94 2.06-2.06.94zm10 10l.94 2.06.94-2.06 2.06-.94-2.06-.94-.94-2.06-.94 2.06-2.06.94z\"/><path d=\"M17.41 7.96l-1.37-1.37c-.4-.4-.92-.59-1.43-.59-.52 0-1.04.2-1.43.59L10.3 9.45l-7.72 7.72c-.78.78-.78 2.05 0 2.83L4 21.41c.39.39.9.59 1.41.59.51 0 1.02-.2 1.41-.59l7.78-7.78 2.81-2.81c.8-.78.8-2.07 0-2.86zM5.41 20L4 18.59l7.72-7.72 1.47 1.35L5.41 20z\"/>\n",
              "  </svg>\n",
              "      </button>\n",
              "      \n",
              "  <style>\n",
              "    .colab-df-container {\n",
              "      display:flex;\n",
              "      flex-wrap:wrap;\n",
              "      gap: 12px;\n",
              "    }\n",
              "\n",
              "    .colab-df-convert {\n",
              "      background-color: #E8F0FE;\n",
              "      border: none;\n",
              "      border-radius: 50%;\n",
              "      cursor: pointer;\n",
              "      display: none;\n",
              "      fill: #1967D2;\n",
              "      height: 32px;\n",
              "      padding: 0 0 0 0;\n",
              "      width: 32px;\n",
              "    }\n",
              "\n",
              "    .colab-df-convert:hover {\n",
              "      background-color: #E2EBFA;\n",
              "      box-shadow: 0px 1px 2px rgba(60, 64, 67, 0.3), 0px 1px 3px 1px rgba(60, 64, 67, 0.15);\n",
              "      fill: #174EA6;\n",
              "    }\n",
              "\n",
              "    [theme=dark] .colab-df-convert {\n",
              "      background-color: #3B4455;\n",
              "      fill: #D2E3FC;\n",
              "    }\n",
              "\n",
              "    [theme=dark] .colab-df-convert:hover {\n",
              "      background-color: #434B5C;\n",
              "      box-shadow: 0px 1px 3px 1px rgba(0, 0, 0, 0.15);\n",
              "      filter: drop-shadow(0px 1px 2px rgba(0, 0, 0, 0.3));\n",
              "      fill: #FFFFFF;\n",
              "    }\n",
              "  </style>\n",
              "\n",
              "      <script>\n",
              "        const buttonEl =\n",
              "          document.querySelector('#df-dea233ac-c670-418a-bcd4-396d4a729f51 button.colab-df-convert');\n",
              "        buttonEl.style.display =\n",
              "          google.colab.kernel.accessAllowed ? 'block' : 'none';\n",
              "\n",
              "        async function convertToInteractive(key) {\n",
              "          const element = document.querySelector('#df-dea233ac-c670-418a-bcd4-396d4a729f51');\n",
              "          const dataTable =\n",
              "            await google.colab.kernel.invokeFunction('convertToInteractive',\n",
              "                                                     [key], {});\n",
              "          if (!dataTable) return;\n",
              "\n",
              "          const docLinkHtml = 'Like what you see? Visit the ' +\n",
              "            '<a target=\"_blank\" href=https://colab.research.google.com/notebooks/data_table.ipynb>data table notebook</a>'\n",
              "            + ' to learn more about interactive tables.';\n",
              "          element.innerHTML = '';\n",
              "          dataTable['output_type'] = 'display_data';\n",
              "          await google.colab.output.renderOutput(dataTable, element);\n",
              "          const docLink = document.createElement('div');\n",
              "          docLink.innerHTML = docLinkHtml;\n",
              "          element.appendChild(docLink);\n",
              "        }\n",
              "      </script>\n",
              "    </div>\n",
              "  </div>\n",
              "  "
            ]
          },
          "metadata": {},
          "execution_count": 11
        },
        {
          "output_type": "stream",
          "name": "stdout",
          "text": [
            "Warning: total number of rows (49352) exceeds max_rows (20000). Limiting to first (20000) rows.\n"
          ]
        }
      ]
    },
    {
      "cell_type": "code",
      "source": [],
      "metadata": {
        "id": "tLpPjD8-5Cge"
      },
      "execution_count": null,
      "outputs": []
    },
    {
      "cell_type": "markdown",
      "source": [
        "## Feature Extraction\n",
        "\n",
        "\n",
        "\n",
        "1.   Texts\n",
        "2.   Images\n",
        "3.   Geospatial data\n",
        "4.   Date and time \n",
        "5.   Time series and web.\n",
        "\n"
      ],
      "metadata": {
        "id": "bdmKd-v45OOO"
      }
    },
    {
      "cell_type": "code",
      "source": [
        "# 1. Tokenise the text \n",
        "'''\n",
        "Split into tokens ( tokens = words)\n",
        "'''\n",
        "# 2. Normalize \n",
        "'''\n",
        "USe stemming and or lemmatisation\n",
        "'''\n",
        "\n",
        "# After this the document is now turned from words to vectors.\n",
        "# first using the Bag of words model.\n",
        "\n",
        "from functools import reduce \n",
        "import numpy as np\n",
        "\n",
        "texts = [['Hello', 'there'],\n",
        "         ['how', 'are', 'you'],\n",
        "         ['doing','on','this','day','?']]\n",
        "\n",
        "dict_1 = list(enumerate(set(list(reduce(lambda x, y: x + y, texts)))))\n",
        "\n",
        "def vectorize(text):\n",
        "\n",
        "  vector = np.zeros(len(dict_1))\n",
        "  for i , word in dict_1:\n",
        "    num = 0\n",
        "    for w in text:\n",
        "      if w == word:\n",
        "        num += 1\n",
        "    if num:\n",
        "      vector[i] = num \n",
        "  return vector\n",
        "\n",
        "  for t in texts:\n",
        "    print(vectorize(t))"
      ],
      "metadata": {
        "id": "J8Ib-Nys5bAc"
      },
      "execution_count": null,
      "outputs": []
    },
    {
      "cell_type": "code",
      "source": [],
      "metadata": {
        "id": "gYOjn8na8OYF"
      },
      "execution_count": null,
      "outputs": []
    },
    {
      "cell_type": "markdown",
      "source": [
        "### Dropping Missing values"
      ],
      "metadata": {
        "id": "YuE0Y-RH9-GV"
      }
    },
    {
      "cell_type": "code",
      "source": [
        "# dropping the missing values from the threshold\n",
        "\n",
        "threshold = 0.6\n",
        "# dropping columns higher than threshold \n",
        "data = data[data.columns[data.isnull().mean() < threshold]]\n",
        "\n",
        "# dropping rows higher than threshold\n",
        "#data = data[data.rows[data.isnull().mean() < threshold]]\n",
        "data = data.loc[data.isnull().mean(axis=1) < threshold]\n",
        "\n"
      ],
      "metadata": {
        "id": "jUBQC5DW9_X2"
      },
      "execution_count": null,
      "outputs": []
    },
    {
      "cell_type": "markdown",
      "source": [
        "### Imputation"
      ],
      "metadata": {
        "id": "KiNwnIFO-2M9"
      }
    },
    {
      "cell_type": "code",
      "source": [
        "# Numerical imputation\n",
        "\n",
        "# filling missing values with 0\n",
        "\n",
        "data = data.fillna(0) \n",
        "\n",
        "# filling missing values with medians \n",
        "\n",
        "data = data.fillna(data.median()) "
      ],
      "metadata": {
        "id": "c5tFgHS_-7_c"
      },
      "execution_count": null,
      "outputs": []
    },
    {
      "cell_type": "code",
      "source": [
        "# Categorical imputation \n",
        "data['column_name'].fillna(data['column_name']).value_counts()\n",
        "  .idxmax() , inplace=True)"
      ],
      "metadata": {
        "id": "Gq8s_nFK-63f"
      },
      "execution_count": null,
      "outputs": []
    },
    {
      "cell_type": "markdown",
      "source": [
        "### Handling Outliers"
      ],
      "metadata": {
        "id": "CnHw-xoSAig0"
      }
    },
    {
      "cell_type": "code",
      "source": [
        "# using standard deviation and percentiles ( quantile ranges)\n",
        "\n",
        "# with standard deviation \n",
        "\n",
        "'''\n",
        "If a value has a distance to the average higher than x * standard deviation, it can be assumed as an outlier. Then what x should be?\n",
        "'''\n",
        "\n",
        "factor = 3 # if  x = 3\n",
        "upper_lim = data['column'].mean() + data['column'].std() * factor \n",
        "lower_lim = data['column'].mean() - data['column'].std() * factor \n",
        "\n",
        "data = data[(data['column'] < upper_lim) & (data['column'] > lower_lim)]\n"
      ],
      "metadata": {
        "id": "M9R2F9D8Af0-"
      },
      "execution_count": null,
      "outputs": []
    },
    {
      "cell_type": "code",
      "source": [
        "# Detection with Percentiles \n",
        "\n",
        "'''\n",
        "if your data ranges from 0 to 100, your top 5% is not the values between 96 and 100. Top 5% means here the values that are out of the 95th percentile of data.\n",
        "'''\n",
        "\n",
        "# dropping rows with percentile \n",
        "\n",
        "upper_lim = data['column'].quantile(.95)\n",
        "lower_lim = data['column'].quantile(.05)\n",
        "\n",
        "data = data[(data['column'] < upper_lim) & (data['column'] > lower_lim)]\n",
        "\n"
      ],
      "metadata": {
        "id": "eUfCQtPRA05d"
      },
      "execution_count": null,
      "outputs": []
    },
    {
      "cell_type": "markdown",
      "source": [
        "### Binning"
      ],
      "metadata": {
        "id": "vLqTtHMvFu06"
      }
    },
    {
      "cell_type": "code",
      "source": [
        "# this helps in preventing overfitting\n",
        "\n",
        "data['bin'] = pd.cut(data['value'], bins=[0,30,70,100],\n",
        "                     labels = ['low','med','high'])\n",
        "\n",
        "# categorical binning \n",
        "\n",
        "conditions = [\n",
        "    data['Country'].str.contains('Spain'),\n",
        "    data['Country'].str.contains('Italy'),\n",
        "    data['Country'].str.contains('Chile'),\n",
        "    data['Country'].str.contains('Brazil')]\n",
        "\n",
        "choices = ['Europe', 'Europe', 'South America', 'South America']\n",
        "\n",
        "data['Continent'] = np.select(conditions, choices, default='Other')"
      ],
      "metadata": {
        "id": "-sR0SvWdFwKS"
      },
      "execution_count": null,
      "outputs": []
    },
    {
      "cell_type": "markdown",
      "source": [
        "### Log Transform"
      ],
      "metadata": {
        "id": "pSrnHcb1HUtx"
      }
    },
    {
      "cell_type": "code",
      "source": [
        "'''\n",
        "The data you apply log transform must have only positive values, otherwise you receive an error. Also, you can add 1 to your data before transform it. Thus, you ensure the output of the transformation to be positive.\n",
        "'''"
      ],
      "metadata": {
        "id": "CftpBdNkHWGo"
      },
      "execution_count": null,
      "outputs": []
    },
    {
      "cell_type": "markdown",
      "source": [
        "### Extracting Date"
      ],
      "metadata": {
        "id": "evdIj31_H4bF"
      }
    },
    {
      "cell_type": "code",
      "source": [
        "'''\n",
        "Extracting the parts of the date into different columns: Year, month, day, etc.\n",
        "Extracting the time period between the current date and columns in terms of years, months, days, etc.\n",
        "Extracting some specific features from the date: Name of the weekday, Weekend or not, holiday or not, etc.\n",
        "'''\n",
        "\n",
        "from datetime import date \n",
        "\n",
        "data = pd.DataFrame({'date':['01-01-2017',\n",
        "'04-12-2008',\n",
        "'23-06-1988',\n",
        "'25-08-1999',\n",
        "'20-02-1993']})\n",
        "\n"
      ],
      "metadata": {
        "id": "qqDNmYkoH514"
      },
      "execution_count": null,
      "outputs": []
    },
    {
      "cell_type": "code",
      "source": [
        "# transform string to date \n",
        "data['date'] = pd.to_datetime(data.date, format=\"%d-%m-%Y\")\n",
        "\n",
        "# extracting the year \n",
        "data['year'] = data['date'].dt.year\n",
        "\n",
        "# extracting month \n",
        "\n",
        "data['month'] = data['date'].dt.month \n",
        "\n",
        "# extracting passed years since the given date \n",
        "\n",
        "data['passed_year'] = date.today().year - data['date'].dt.year"
      ],
      "metadata": {
        "id": "oArVvky4ISYi"
      },
      "execution_count": null,
      "outputs": []
    },
    {
      "cell_type": "code",
      "source": [
        "# extracting passed months since the date \n",
        "\n",
        "data['passed_months'] = (date.today().year - data['date'].dt.year) * 12 + date.today().month - data['date'].dt.month\n",
        "print(data)"
      ],
      "metadata": {
        "colab": {
          "base_uri": "https://localhost:8080/"
        },
        "id": "PV8T7I5LIyvE",
        "outputId": "c258b23a-e68d-4096-eab4-896201fcfbdf"
      },
      "execution_count": null,
      "outputs": [
        {
          "output_type": "stream",
          "name": "stdout",
          "text": [
            "        date  year  month  passed_year  passed_months\n",
            "0 2017-01-01  2017      1            6             73\n",
            "1 2008-12-04  2008     12           15            170\n",
            "2 1988-06-23  1988      6           35            416\n",
            "3 1999-08-25  1999      8           24            282\n",
            "4 1993-02-20  1993      2           30            360\n"
          ]
        }
      ]
    },
    {
      "cell_type": "code",
      "source": [],
      "metadata": {
        "id": "7J9KB7OqJXro"
      },
      "execution_count": null,
      "outputs": []
    }
  ]
}